{
 "cells": [
  {
   "cell_type": "markdown",
   "metadata": {},
   "source": [
    "# DICE Model\n",
    "**Exercise Session Resource Economics (Spring Term 2025)** \\\n",
    "Raul Hochuli (raul.hochuli@unibas.ch)\n"
   ]
  },
  {
   "cell_type": "markdown",
   "metadata": {},
   "source": [
    "## Preamble"
   ]
  },
  {
   "cell_type": "markdown",
   "metadata": {},
   "source": [
    "The following code has been replicated and refactored for this course based on the inital material from [Hazem Krichene](https://github.com/hazem2410) in his public Github repository [PYDICE](https://github.com/hazem2410/PyDICE), which builds on the [DICE (Dynamic Integrated Climate Economy) Model of William D. Nordhaus](https://williamnordhaus.com/dicerice-models). \n",
    "\n",
    "### Naming convention table\n",
    "The following table tries to summarize all the parameters and (initial) stock variables used in the model to bridge the gap between lectre and exercise session naming conventions. "
   ]
  },
  {
   "cell_type": "markdown",
   "metadata": {},
   "source": [
    "| **Lecture**     | **Exercise Session**              | **Default Values**     | **Description**                                                                 |\n",
    "|-----------------|-----------------------------------|------------------------|---------------------------------------------------------------------------------|\n",
    "| $T$             | `T_end`                           | 100                    | Number of periods                                                               |\n",
    "|                 | `tstep`                           | 5                      | Time step size                                                                  |\n",
    "|                 | `scale1`                          | 0.0302455265681763     | Multiplicative scaling coefficient                                              |\n",
    "|                 | `scale2`                          | -10993.704             | Additive scaling coefficient                                                    |\n",
    "| $A$             | `TFPr`                            | exogenous              | Total factor productivity                                                       |\n",
    "| $L$             | `Labr`                            | exogenous              | World population (millions, 2015: 7403; 2050: 11500)                            |\n",
    "| $\\sigma$        | `Dcrb`                            | exogenous              | Decarbonization rate (GTC / trillion 2010 USD)                                  |\n",
    "| $\\theta_1$      | `cost1_Abat`                      | exogenous              | Abatement cost multiplicative term                                              |\n",
    "| $E_{Land}$      | `CEms_land`                       | exogenous              | Carbon emissions through land use (deforestation), GtC                          |\n",
    "| $S$             | `Savi`                            | decision variable      | Savings rate                                                                    |\n",
    "| $\\mu$           | `ECtr`                            | decision variable      | Emission control rate                                                           |\n",
    "| $\\alpha$        | `elast_mrg_cons_utility`          | 1.45                   | Elasticity of marginal utility of consumption                                   |\n",
    "| $\\gamma$        | `elast_capt_in_prod`              | 0.300                  | Elasticity of capital in production function                                    |\n",
    "| $\\rho$          | `social_time_pref_rate`           | 0.015                  | Initial rate of social time preference per year                                 |\n",
    "|                 | `depr_Capt`                       | 0.1                    | Depreciation rate on capital (per year)                                         |\n",
    "| $K$             | `Capt0`                           | 223.3                  | Initial world capital 2015 (trillion 2010 USD)                                  |\n",
    "| $F$             | `ncrb_RFor0`                      | 0.5                    | 2015 forcings of non-CO2 GHG (Wm-2)                                             |\n",
    "|                 | `ncrb_RFor1`                      | 1.0                    | 2100 forcings of non-CO2 GHG (Wm-2)                                             |\n",
    "|                 | `t_ncrb_RFor`                     | 18                     | Period when non-CO2 forcings switch                                             |\n",
    "|                 | `incr_RFor_dbl_crbn`              | 3.6813                 | Forcing from doubling CO2 (Wm-2) 2015                                           |\n",
    "|                 | `incr_temp_dbl_crb`               | 3.1                    | Equilibrium temperature impact (°C per doubling CO2)                            |\n",
    "| $\\pi_1$         | `a1`                              | 0                      | Damage function intercept                                                       |\n",
    "| $\\pi_2$         | `a2`                              | 0.00236                | Damage function quadratic term                                                  |\n",
    "|                 | `a3`                              | 2.00                   | Damage function exponent                                                        |\n",
    "| $\\theta_2$      | `cost2_Abat`                      | 2.6                    | Exponent of control cost function                                               |\n",
    "|                 | `decl_Bstp`                       | 0.025                  | Initial cost decline backstop cost per period                                   |\n",
    "|                 | `Bstp0`                           | 550                    | Cost of backstop technology 2010$ per ton CO2                                   |\n",
    "| $\\mu_0$         | `ECtr0`                           | 0.03                   | Initial emissions control rate 2015                                             |\n",
    "|                 | `ECtr_lim`                        | 1.2                    | Upper limit on control rate after 2150                                          |\n",
    "| $M_{AT}$        | `CStk_atmo0`                      | 851                    | Initial carbon stock in atmosphere 2015 (GtC)                                   |\n",
    "| $M_{AT}(1750)$  | `CStk_atmo1750`                   | 588                    | Initial carbon stock in 1750                                                    |\n",
    "| $M_{UP}$        | `CStk_ocup0`                      | 460                    | Initial carbon stock in upper strata 2015 (GtC)                                 |\n",
    "| $M_{LO}$        | `CStk_oclo0`                      | 1740                   | Initial carbon stock in lower strata 2015 (GtC)                                 |\n",
    "|                 | `CStk_atmo_eq`                    | 588                    | Equilibrium carbon stock atmosphere (GtC)                                       |\n",
    "|                 | `CStk_ocup_eq`                    | 360                    | Equilibrium carbon stock upper strata (GtC)                                     |\n",
    "|                 | `CStk_oclo_eq`                    | 1720                   | Equilibrium carbon stock lower strata (GtC)                                     |\n",
    "| $\\phi_{12}$     | `b12`                             | 0.12                   | Carbon cycle transition matrix                                                  |\n",
    "| $\\phi_{23}$     | `b23`                             | 0.007                  | Carbon cycle transition matrix                                                  |\n",
    "| $T_{AT}$        | `Temp_atmo0`                      | 0.85                   | Initial atmospheric temperature change (°C from 1900)                           |\n",
    "| $T_{LO}$        | `Temp_ocea0`                      | 0.0068                 | Initial lower ocean temperature change (°C from 1900)                           |\n",
    "| $\\xi_1$         | `c1`                              | 0.1005                 | Transfer coefficient climate equation atmoshpere temperature                    |\n",
    "| $\\xi_3$         | `c3`                              | 0.088                  | Transfer coefficient atmo-ocen difference                                       |\n",
    "| $\\xi_4$         | `c4`                              | 0.025                  | Transfer coefficient for lower ocean level                                      |"
   ]
  }
 ],
 "metadata": {
  "kernelspec": {
   "display_name": ".venv_resecon_master",
   "language": "python",
   "name": "python3"
  },
  "language_info": {
   "codemirror_mode": {
    "name": "ipython",
    "version": 3
   },
   "file_extension": ".py",
   "mimetype": "text/x-python",
   "name": "python",
   "nbconvert_exporter": "python",
   "pygments_lexer": "ipython3",
   "version": "3.11.11"
  }
 },
 "nbformat": 4,
 "nbformat_minor": 2
}
