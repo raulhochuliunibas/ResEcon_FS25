{
 "cells": [
  {
   "cell_type": "markdown",
   "id": "0911cc49",
   "metadata": {},
   "source": [
    "# Repetition + Self Study\n",
    "**Exercise Session Resource Economics (Spring Term 2025)** \\\n",
    "Raul Hochuli (raul.hochuli@unibas.ch)\\ \n",
    "\n",
    "--\n",
    "\n",
    "As discussed in class on Monday I created another notebook for you to do some repetition and self-studying. You will find quiz like \"fill in the blanks\" questions, which are quite different from the exercises I shared so far. I hope this exercise style will help you learn more efficiently and with less frustraitions. Solutions are also direclty uploaded so you can self-evaluate how well you understood the modeling part of the course so far. **Please don't try to solve this as a mock examn, but rather as an open-book repetition and use all the solution files from the previous exercise sessions**. The goal is that you develop solid understanding of what's happening in a model by reading the code, not that you can memorize code in your head. \n",
    "\n",
    "Should you have trouble understanding something after studying the solution file to this notebook, you can of course schedule a 1:1-session with me during office hours where we can close any remaining gaps. \n",
    "\n",
    "I hope you will find this notebook useful. \n",
    "\n",
    "Best regards and have a nice week\n",
    "Raul"
   ]
  },
  {
   "cell_type": "code",
   "execution_count": 11,
   "id": "8116ba12",
   "metadata": {},
   "outputs": [],
   "source": [
    "# Packages used in the notebook\n",
    "import numpy as np\n",
    "import pandas as pd\n",
    "import scipy.optimize as opt\n",
    "import plotly.graph_objects as go\n",
    "from plotly.subplots import make_subplots"
   ]
  },
  {
   "cell_type": "code",
   "execution_count": 12,
   "id": "fc342c47",
   "metadata": {},
   "outputs": [],
   "source": [
    "# This is a plotting function for easy visual representation of your results. You don't need to understand it to complete the exercises. \n",
    "# I added here to keep all \"unecessary code\" away from the exercises and keep the visualization at the end of each task as short as possible.\n",
    "\n",
    "def add_trace_1x3_subplot(fig, df, x_col, y_col_tupl, name):\n",
    "    for i, col in enumerate(y_col_tupl):\n",
    "        fig.add_trace(go.Scatter(x=df[x_col], \n",
    "                                 y=df[y_col_tupl[i]], \n",
    "                                 mode='lines', \n",
    "                                 name=f'{y_col_tupl[i]}{name}', \n",
    "                                 legendgroup=name,\n",
    "                                 ), row=1, col=i+1)"
   ]
  },
  {
   "cell_type": "markdown",
   "id": "eeb47354",
   "metadata": {},
   "source": [
    "## 1 Basics (Dataframes and Plots)\n",
    "\n"
   ]
  },
  {
   "cell_type": "markdown",
   "id": "d8d6d9d6",
   "metadata": {},
   "source": [
    "You have an array of $x$ and 3 functions $f_i$ defining $y_i$. \n",
    "Complete the code below to have a good visualization. \n",
    "\n",
    "$$\n",
    "\\begin{array}{l}\n",
    "x = 0, 1, 2, \\dots, 10 \\\\\n",
    "\\\\\n",
    "y_1 = f_1(x) = x^2 \\\\\n",
    "\\\\\n",
    "y_2 = f_2(x) = 0.01x^2 - 20x + 100 \\\\\n",
    "\\\\\n",
    "y_3 = f_3(x) = \\cos(x) \\cdot 20\n",
    "\\end{array}\n",
    "$$\n",
    "\n",
    "Hints for what to do step by step (marked by `<...>` in the code): \n",
    "\n",
    "**data frame handling**\n",
    "1. Define the missing functions $f_i$\n",
    "2. Use the $y$ arrays created to create a data frame (e.g. column 'x' containing the x values etc.)\n",
    "3. Print the sum of all columns of your result data frame in one print statement\n",
    "4. Print the max of all columns of your result data frame\n",
    "\n",
    "\n",
    "**plotting** \n",
    "\n",
    "5. `fig` is an empty plot. Add a traces for every column to visualize the results from your data frame\n",
    "6. Change the layout of the plot to add titles to the x and y axes and use the pretter `template='plotly_white'`.\n",
    "\n"
   ]
  },
  {
   "cell_type": "code",
   "execution_count": null,
   "id": "f8d92804",
   "metadata": {},
   "outputs": [
    {
     "name": "stdout",
     "output_type": "stream",
     "text": [
      "sum(x): 55  sum(y1): 385  sum(y2): 3.849999999999966  sum(y3): -8.348954929118115\n"
     ]
    },
    {
     "data": {
      "application/vnd.plotly.v1+json": {
       "config": {
        "plotlyServerURL": "https://plot.ly"
       },
       "data": [
        {
         "mode": "lines+markers",
         "name": "y1 = x^2",
         "type": "scatter",
         "x": [
          0,
          1,
          2,
          3,
          4,
          5,
          6,
          7,
          8,
          9,
          10
         ],
         "y": [
          0,
          1,
          4,
          9,
          16,
          25,
          36,
          49,
          64,
          81,
          100
         ]
        },
        {
         "mode": "lines+markers",
         "name": "y2 = ax^2 + bx + c",
         "type": "scatter",
         "x": [
          0,
          1,
          2,
          3,
          4,
          5,
          6,
          7,
          8,
          9,
          10
         ],
         "y": [
          100,
          80.01,
          60.04,
          40.09,
          20.159999999999997,
          0.25,
          -19.64,
          -39.50999999999999,
          -59.360000000000014,
          -79.19,
          -99
         ]
        },
        {
         "mode": "lines+markers",
         "name": "y3 = sin(x)",
         "type": "scatter",
         "x": [
          0,
          1,
          2,
          3,
          4,
          5,
          6,
          7,
          8,
          9,
          10
         ],
         "y": [
          20,
          10.806046117362795,
          -8.322936730942848,
          -19.799849932008907,
          -13.072872417272238,
          5.673243709264525,
          19.20340573300732,
          15.078045086866092,
          -2.9100006761722708,
          -18.22260523769354,
          -16.781430581529047
         ]
        }
       ],
       "layout": {
        "template": {
         "data": {
          "bar": [
           {
            "error_x": {
             "color": "#2a3f5f"
            },
            "error_y": {
             "color": "#2a3f5f"
            },
            "marker": {
             "line": {
              "color": "white",
              "width": 0.5
             },
             "pattern": {
              "fillmode": "overlay",
              "size": 10,
              "solidity": 0.2
             }
            },
            "type": "bar"
           }
          ],
          "barpolar": [
           {
            "marker": {
             "line": {
              "color": "white",
              "width": 0.5
             },
             "pattern": {
              "fillmode": "overlay",
              "size": 10,
              "solidity": 0.2
             }
            },
            "type": "barpolar"
           }
          ],
          "carpet": [
           {
            "aaxis": {
             "endlinecolor": "#2a3f5f",
             "gridcolor": "#C8D4E3",
             "linecolor": "#C8D4E3",
             "minorgridcolor": "#C8D4E3",
             "startlinecolor": "#2a3f5f"
            },
            "baxis": {
             "endlinecolor": "#2a3f5f",
             "gridcolor": "#C8D4E3",
             "linecolor": "#C8D4E3",
             "minorgridcolor": "#C8D4E3",
             "startlinecolor": "#2a3f5f"
            },
            "type": "carpet"
           }
          ],
          "choropleth": [
           {
            "colorbar": {
             "outlinewidth": 0,
             "ticks": ""
            },
            "type": "choropleth"
           }
          ],
          "contour": [
           {
            "colorbar": {
             "outlinewidth": 0,
             "ticks": ""
            },
            "colorscale": [
             [
              0,
              "#0d0887"
             ],
             [
              0.1111111111111111,
              "#46039f"
             ],
             [
              0.2222222222222222,
              "#7201a8"
             ],
             [
              0.3333333333333333,
              "#9c179e"
             ],
             [
              0.4444444444444444,
              "#bd3786"
             ],
             [
              0.5555555555555556,
              "#d8576b"
             ],
             [
              0.6666666666666666,
              "#ed7953"
             ],
             [
              0.7777777777777778,
              "#fb9f3a"
             ],
             [
              0.8888888888888888,
              "#fdca26"
             ],
             [
              1,
              "#f0f921"
             ]
            ],
            "type": "contour"
           }
          ],
          "contourcarpet": [
           {
            "colorbar": {
             "outlinewidth": 0,
             "ticks": ""
            },
            "type": "contourcarpet"
           }
          ],
          "heatmap": [
           {
            "colorbar": {
             "outlinewidth": 0,
             "ticks": ""
            },
            "colorscale": [
             [
              0,
              "#0d0887"
             ],
             [
              0.1111111111111111,
              "#46039f"
             ],
             [
              0.2222222222222222,
              "#7201a8"
             ],
             [
              0.3333333333333333,
              "#9c179e"
             ],
             [
              0.4444444444444444,
              "#bd3786"
             ],
             [
              0.5555555555555556,
              "#d8576b"
             ],
             [
              0.6666666666666666,
              "#ed7953"
             ],
             [
              0.7777777777777778,
              "#fb9f3a"
             ],
             [
              0.8888888888888888,
              "#fdca26"
             ],
             [
              1,
              "#f0f921"
             ]
            ],
            "type": "heatmap"
           }
          ],
          "heatmapgl": [
           {
            "colorbar": {
             "outlinewidth": 0,
             "ticks": ""
            },
            "colorscale": [
             [
              0,
              "#0d0887"
             ],
             [
              0.1111111111111111,
              "#46039f"
             ],
             [
              0.2222222222222222,
              "#7201a8"
             ],
             [
              0.3333333333333333,
              "#9c179e"
             ],
             [
              0.4444444444444444,
              "#bd3786"
             ],
             [
              0.5555555555555556,
              "#d8576b"
             ],
             [
              0.6666666666666666,
              "#ed7953"
             ],
             [
              0.7777777777777778,
              "#fb9f3a"
             ],
             [
              0.8888888888888888,
              "#fdca26"
             ],
             [
              1,
              "#f0f921"
             ]
            ],
            "type": "heatmapgl"
           }
          ],
          "histogram": [
           {
            "marker": {
             "pattern": {
              "fillmode": "overlay",
              "size": 10,
              "solidity": 0.2
             }
            },
            "type": "histogram"
           }
          ],
          "histogram2d": [
           {
            "colorbar": {
             "outlinewidth": 0,
             "ticks": ""
            },
            "colorscale": [
             [
              0,
              "#0d0887"
             ],
             [
              0.1111111111111111,
              "#46039f"
             ],
             [
              0.2222222222222222,
              "#7201a8"
             ],
             [
              0.3333333333333333,
              "#9c179e"
             ],
             [
              0.4444444444444444,
              "#bd3786"
             ],
             [
              0.5555555555555556,
              "#d8576b"
             ],
             [
              0.6666666666666666,
              "#ed7953"
             ],
             [
              0.7777777777777778,
              "#fb9f3a"
             ],
             [
              0.8888888888888888,
              "#fdca26"
             ],
             [
              1,
              "#f0f921"
             ]
            ],
            "type": "histogram2d"
           }
          ],
          "histogram2dcontour": [
           {
            "colorbar": {
             "outlinewidth": 0,
             "ticks": ""
            },
            "colorscale": [
             [
              0,
              "#0d0887"
             ],
             [
              0.1111111111111111,
              "#46039f"
             ],
             [
              0.2222222222222222,
              "#7201a8"
             ],
             [
              0.3333333333333333,
              "#9c179e"
             ],
             [
              0.4444444444444444,
              "#bd3786"
             ],
             [
              0.5555555555555556,
              "#d8576b"
             ],
             [
              0.6666666666666666,
              "#ed7953"
             ],
             [
              0.7777777777777778,
              "#fb9f3a"
             ],
             [
              0.8888888888888888,
              "#fdca26"
             ],
             [
              1,
              "#f0f921"
             ]
            ],
            "type": "histogram2dcontour"
           }
          ],
          "mesh3d": [
           {
            "colorbar": {
             "outlinewidth": 0,
             "ticks": ""
            },
            "type": "mesh3d"
           }
          ],
          "parcoords": [
           {
            "line": {
             "colorbar": {
              "outlinewidth": 0,
              "ticks": ""
             }
            },
            "type": "parcoords"
           }
          ],
          "pie": [
           {
            "automargin": true,
            "type": "pie"
           }
          ],
          "scatter": [
           {
            "fillpattern": {
             "fillmode": "overlay",
             "size": 10,
             "solidity": 0.2
            },
            "type": "scatter"
           }
          ],
          "scatter3d": [
           {
            "line": {
             "colorbar": {
              "outlinewidth": 0,
              "ticks": ""
             }
            },
            "marker": {
             "colorbar": {
              "outlinewidth": 0,
              "ticks": ""
             }
            },
            "type": "scatter3d"
           }
          ],
          "scattercarpet": [
           {
            "marker": {
             "colorbar": {
              "outlinewidth": 0,
              "ticks": ""
             }
            },
            "type": "scattercarpet"
           }
          ],
          "scattergeo": [
           {
            "marker": {
             "colorbar": {
              "outlinewidth": 0,
              "ticks": ""
             }
            },
            "type": "scattergeo"
           }
          ],
          "scattergl": [
           {
            "marker": {
             "colorbar": {
              "outlinewidth": 0,
              "ticks": ""
             }
            },
            "type": "scattergl"
           }
          ],
          "scattermapbox": [
           {
            "marker": {
             "colorbar": {
              "outlinewidth": 0,
              "ticks": ""
             }
            },
            "type": "scattermapbox"
           }
          ],
          "scatterpolar": [
           {
            "marker": {
             "colorbar": {
              "outlinewidth": 0,
              "ticks": ""
             }
            },
            "type": "scatterpolar"
           }
          ],
          "scatterpolargl": [
           {
            "marker": {
             "colorbar": {
              "outlinewidth": 0,
              "ticks": ""
             }
            },
            "type": "scatterpolargl"
           }
          ],
          "scatterternary": [
           {
            "marker": {
             "colorbar": {
              "outlinewidth": 0,
              "ticks": ""
             }
            },
            "type": "scatterternary"
           }
          ],
          "surface": [
           {
            "colorbar": {
             "outlinewidth": 0,
             "ticks": ""
            },
            "colorscale": [
             [
              0,
              "#0d0887"
             ],
             [
              0.1111111111111111,
              "#46039f"
             ],
             [
              0.2222222222222222,
              "#7201a8"
             ],
             [
              0.3333333333333333,
              "#9c179e"
             ],
             [
              0.4444444444444444,
              "#bd3786"
             ],
             [
              0.5555555555555556,
              "#d8576b"
             ],
             [
              0.6666666666666666,
              "#ed7953"
             ],
             [
              0.7777777777777778,
              "#fb9f3a"
             ],
             [
              0.8888888888888888,
              "#fdca26"
             ],
             [
              1,
              "#f0f921"
             ]
            ],
            "type": "surface"
           }
          ],
          "table": [
           {
            "cells": {
             "fill": {
              "color": "#EBF0F8"
             },
             "line": {
              "color": "white"
             }
            },
            "header": {
             "fill": {
              "color": "#C8D4E3"
             },
             "line": {
              "color": "white"
             }
            },
            "type": "table"
           }
          ]
         },
         "layout": {
          "annotationdefaults": {
           "arrowcolor": "#2a3f5f",
           "arrowhead": 0,
           "arrowwidth": 1
          },
          "autotypenumbers": "strict",
          "coloraxis": {
           "colorbar": {
            "outlinewidth": 0,
            "ticks": ""
           }
          },
          "colorscale": {
           "diverging": [
            [
             0,
             "#8e0152"
            ],
            [
             0.1,
             "#c51b7d"
            ],
            [
             0.2,
             "#de77ae"
            ],
            [
             0.3,
             "#f1b6da"
            ],
            [
             0.4,
             "#fde0ef"
            ],
            [
             0.5,
             "#f7f7f7"
            ],
            [
             0.6,
             "#e6f5d0"
            ],
            [
             0.7,
             "#b8e186"
            ],
            [
             0.8,
             "#7fbc41"
            ],
            [
             0.9,
             "#4d9221"
            ],
            [
             1,
             "#276419"
            ]
           ],
           "sequential": [
            [
             0,
             "#0d0887"
            ],
            [
             0.1111111111111111,
             "#46039f"
            ],
            [
             0.2222222222222222,
             "#7201a8"
            ],
            [
             0.3333333333333333,
             "#9c179e"
            ],
            [
             0.4444444444444444,
             "#bd3786"
            ],
            [
             0.5555555555555556,
             "#d8576b"
            ],
            [
             0.6666666666666666,
             "#ed7953"
            ],
            [
             0.7777777777777778,
             "#fb9f3a"
            ],
            [
             0.8888888888888888,
             "#fdca26"
            ],
            [
             1,
             "#f0f921"
            ]
           ],
           "sequentialminus": [
            [
             0,
             "#0d0887"
            ],
            [
             0.1111111111111111,
             "#46039f"
            ],
            [
             0.2222222222222222,
             "#7201a8"
            ],
            [
             0.3333333333333333,
             "#9c179e"
            ],
            [
             0.4444444444444444,
             "#bd3786"
            ],
            [
             0.5555555555555556,
             "#d8576b"
            ],
            [
             0.6666666666666666,
             "#ed7953"
            ],
            [
             0.7777777777777778,
             "#fb9f3a"
            ],
            [
             0.8888888888888888,
             "#fdca26"
            ],
            [
             1,
             "#f0f921"
            ]
           ]
          },
          "colorway": [
           "#636efa",
           "#EF553B",
           "#00cc96",
           "#ab63fa",
           "#FFA15A",
           "#19d3f3",
           "#FF6692",
           "#B6E880",
           "#FF97FF",
           "#FECB52"
          ],
          "font": {
           "color": "#2a3f5f"
          },
          "geo": {
           "bgcolor": "white",
           "lakecolor": "white",
           "landcolor": "white",
           "showlakes": true,
           "showland": true,
           "subunitcolor": "#C8D4E3"
          },
          "hoverlabel": {
           "align": "left"
          },
          "hovermode": "closest",
          "mapbox": {
           "style": "light"
          },
          "paper_bgcolor": "white",
          "plot_bgcolor": "white",
          "polar": {
           "angularaxis": {
            "gridcolor": "#EBF0F8",
            "linecolor": "#EBF0F8",
            "ticks": ""
           },
           "bgcolor": "white",
           "radialaxis": {
            "gridcolor": "#EBF0F8",
            "linecolor": "#EBF0F8",
            "ticks": ""
           }
          },
          "scene": {
           "xaxis": {
            "backgroundcolor": "white",
            "gridcolor": "#DFE8F3",
            "gridwidth": 2,
            "linecolor": "#EBF0F8",
            "showbackground": true,
            "ticks": "",
            "zerolinecolor": "#EBF0F8"
           },
           "yaxis": {
            "backgroundcolor": "white",
            "gridcolor": "#DFE8F3",
            "gridwidth": 2,
            "linecolor": "#EBF0F8",
            "showbackground": true,
            "ticks": "",
            "zerolinecolor": "#EBF0F8"
           },
           "zaxis": {
            "backgroundcolor": "white",
            "gridcolor": "#DFE8F3",
            "gridwidth": 2,
            "linecolor": "#EBF0F8",
            "showbackground": true,
            "ticks": "",
            "zerolinecolor": "#EBF0F8"
           }
          },
          "shapedefaults": {
           "line": {
            "color": "#2a3f5f"
           }
          },
          "ternary": {
           "aaxis": {
            "gridcolor": "#DFE8F3",
            "linecolor": "#A2B1C6",
            "ticks": ""
           },
           "baxis": {
            "gridcolor": "#DFE8F3",
            "linecolor": "#A2B1C6",
            "ticks": ""
           },
           "bgcolor": "white",
           "caxis": {
            "gridcolor": "#DFE8F3",
            "linecolor": "#A2B1C6",
            "ticks": ""
           }
          },
          "title": {
           "x": 0.05
          },
          "xaxis": {
           "automargin": true,
           "gridcolor": "#EBF0F8",
           "linecolor": "#EBF0F8",
           "ticks": "",
           "title": {
            "standoff": 15
           },
           "zerolinecolor": "#EBF0F8",
           "zerolinewidth": 2
          },
          "yaxis": {
           "automargin": true,
           "gridcolor": "#EBF0F8",
           "linecolor": "#EBF0F8",
           "ticks": "",
           "title": {
            "standoff": 15
           },
           "zerolinecolor": "#EBF0F8",
           "zerolinewidth": 2
          }
         }
        },
        "title": {
         "text": "Graphs of y1, y2 and y3"
        },
        "xaxis": {
         "title": {
          "text": "x"
         }
        },
        "yaxis": {
         "title": {
          "text": "y"
         }
        }
       }
      }
     },
     "metadata": {},
     "output_type": "display_data"
    }
   ],
   "source": [
    "\n",
    "x = np.arange(0, 10 + 1, 1)\n",
    "\n",
    "def f1(x):\n",
    "    return x**2\n",
    "\n",
    "def f2(x):\n",
    "    return 0.01*x**2 -20*x + 100\n",
    "\n",
    "def f3(x):\n",
    "    return np.cos(x) * 20\n",
    "\n",
    "y1 = f1(x)\n",
    "y2 = f2(x)\n",
    "y3 = f3(x)\n",
    "\n",
    "df = pd.DataFrame({\n",
    "    'x': x,\n",
    "    'y1': y1, \n",
    "    'y2': y2,\n",
    "    'y3': y3\n",
    "})\n",
    "\n",
    "print(f'sum(x): {df.x.sum()}  sum(y1): {df.y1.sum()}  sum(y2): {df.y2.sum()}  sum(y3): {df.y3.sum()}')  \n",
    "print(f'max(x): {df.x.max()}  max(y1): {df.y1.max()}  max(y2): {df.y2.max()}  max(y3): {df.y3.max()}')  \n",
    "\n",
    "fig = go.Figure()\n",
    "fig.add_trace(go.Scatter(x=df['x'], y=df['y1'], mode='lines+markers', name='y1 = x^2'))\n",
    "fig.add_trace(go.Scatter(x=df['x'], y=df['y2'], mode='lines+markers', name='y2 = ax^2 + bx + c'))\n",
    "fig.add_trace(go.Scatter(x=df['x'], y=df['y3'], mode='lines+markers', name='y3 = sin(x)'))\n",
    "fig.update_layout(title='Graphs of y1, y2 and y3', xaxis_title='x', yaxis_title='y', template='plotly_white')\n",
    "fig.show()"
   ]
  },
  {
   "cell_type": "markdown",
   "id": "7604f5b3",
   "metadata": {},
   "source": [
    "## 2 Optimal Depletion"
   ]
  },
  {
   "cell_type": "markdown",
   "id": "72d98cef",
   "metadata": {},
   "source": [
    "You have a finite resource oil $R$ which is extracted at $q_t$, with constant costs $c$ for every period $t$ with a constant discount rate $r$. Profit $\\pi_t$ is defined below, as well as the maximal extraction constraint. \n",
    "Complete the code below so that the optimization model runs with good results.  \n",
    "\n",
    "$$\n",
    "\\begin{array}{l}\n",
    "    \\pi_t = q_t ^{0.5} - c  \\\\\n",
    "    \\\\\n",
    "    R_t - q_{t} = R_{t+1}\\\\\n",
    "    \\\\\n",
    "    \\sum_0^{T} q_t \\overset{!}{\\leq} R_0\\\\\n",
    "    \\\\\n",
    "    \\rho^t = 1/(1+r)^t\\\\\n",
    "\\end{array}\n",
    "$$\n",
    "Hints for what to do step by step (marked by `<...>` in the code): \n",
    "1. Define the time varying parameter `rho`\n",
    "2. Complete the function defining the profit variable `f_profit`\n",
    "3. Apply the constraint function correctly\n",
    "4. Run the model again with $R_0 = 100$ and $r = 0.02$. \n",
    "5. Add the results of this second model run to the plot. "
   ]
  },
  {
   "cell_type": "code",
   "execution_count": 14,
   "id": "d210c8ef",
   "metadata": {},
   "outputs": [
    {
     "data": {
      "application/vnd.plotly.v1+json": {
       "config": {
        "plotlyServerURL": "https://plot.ly"
       },
       "data": [
        {
         "legendgroup": "_base",
         "mode": "lines",
         "name": "q_base",
         "type": "scatter",
         "x": [
          0,
          1,
          2,
          3,
          4,
          5,
          6,
          7,
          8,
          9,
          10,
          11,
          12,
          13,
          14,
          15,
          16,
          17,
          18,
          19,
          20
         ],
         "xaxis": "x",
         "y": [
          20.104025046146035,
          17.638247860423427,
          15.423608935846348,
          13.456000351151992,
          11.727458075196596,
          10.224461754622478,
          8.926728037188123,
          7.8073664965480285,
          6.835541673659816,
          5.981578263893446,
          5.22330872394288,
          4.5504706351480655,
          3.9630688627903647,
          3.4622138100540654,
          3.0365215049399747,
          2.6594343505294287,
          2.3118861598715057,
          2.009563248765618,
          1.773629216871822,
          1.5382623663898514,
          1.3466246260216592
         ],
         "yaxis": "y"
        },
        {
         "legendgroup": "_base",
         "mode": "lines",
         "name": "R_base",
         "type": "scatter",
         "x": [
          0,
          1,
          2,
          3,
          4,
          5,
          6,
          7,
          8,
          9,
          10,
          11,
          12,
          13,
          14,
          15,
          16,
          17,
          18,
          19,
          20
         ],
         "xaxis": "x2",
         "y": [
          150,
          129.89597495385397,
          112.25772709343053,
          96.83411815758419,
          83.37811780643219,
          71.65065973123559,
          61.42619797661311,
          52.49946993942498,
          44.692103442876956,
          37.85656176921714,
          31.87498350532369,
          26.651674781380812,
          22.101204146232746,
          18.13813528344238,
          14.675921473388316,
          11.639399968448341,
          8.979965617918912,
          6.668079458047407,
          4.658516209281789,
          2.884886992409967,
          1.3466246260201156
         ],
         "yaxis": "y2"
        },
        {
         "legendgroup": "_base",
         "mode": "lines",
         "name": "R2_base",
         "type": "scatter",
         "x": [
          0,
          1,
          2,
          3,
          4,
          5,
          6,
          7,
          8,
          9,
          10,
          11,
          12,
          13,
          14,
          15,
          16,
          17,
          18,
          19,
          20
         ],
         "xaxis": "x3",
         "y": [
          150,
          129.89597495385397,
          112.25772709343053,
          96.83411815758419,
          83.37811780643219,
          71.65065973123559,
          61.42619797661311,
          52.49946993942498,
          44.692103442876956,
          37.85656176921714,
          31.87498350532369,
          26.651674781380812,
          22.101204146232746,
          18.13813528344238,
          14.675921473388316,
          11.639399968448341,
          8.979965617918912,
          6.668079458047407,
          4.658516209281789,
          2.884886992409967,
          1.3466246260201156
         ],
         "yaxis": "y3"
        },
        {
         "legendgroup": "_R100_r002",
         "mode": "lines",
         "name": "q_R100_r002",
         "type": "scatter",
         "x": [
          0,
          1,
          2,
          3,
          4,
          5,
          6,
          7,
          8,
          9,
          10,
          11,
          12,
          13,
          14,
          15,
          16,
          17,
          18,
          19,
          20
         ],
         "xaxis": "x",
         "y": [
          6.870373170185245,
          6.608470468183563,
          6.354911364516616,
          6.109689573808271,
          5.872831352779549,
          5.644313437558555,
          5.424111063265781,
          5.212187109573275,
          5.008460755626648,
          4.812825984461304,
          4.625138646268298,
          4.44521856591979,
          4.272806465511919,
          4.107614901115694,
          3.949249549266791,
          3.7972547175716422,
          3.651075789741804,
          3.510053666293909,
          3.3734223696678733,
          3.2402938223994897,
          3.1096972262843625
         ],
         "yaxis": "y"
        },
        {
         "legendgroup": "_R100_r002",
         "mode": "lines",
         "name": "R_R100_r002",
         "type": "scatter",
         "x": [
          0,
          1,
          2,
          3,
          4,
          5,
          6,
          7,
          8,
          9,
          10,
          11,
          12,
          13,
          14,
          15,
          16,
          17,
          18,
          19,
          20
         ],
         "xaxis": "x2",
         "y": [
          100,
          93.12962682981475,
          86.52115636163118,
          80.16624499711457,
          74.0565554233063,
          68.18372407052675,
          62.5394106329682,
          57.115299569702415,
          51.90311246012914,
          46.894651704502486,
          42.08182572004118,
          37.45668707377288,
          33.011468507853095,
          28.738662042341176,
          24.63104714122548,
          20.681797591958688,
          16.884542874387044,
          13.233467084645241,
          9.723413418351331,
          6.349991048683458,
          3.1096972262839686
         ],
         "yaxis": "y2"
        },
        {
         "legendgroup": "_R100_r002",
         "mode": "lines",
         "name": "R2_R100_r002",
         "type": "scatter",
         "x": [
          0,
          1,
          2,
          3,
          4,
          5,
          6,
          7,
          8,
          9,
          10,
          11,
          12,
          13,
          14,
          15,
          16,
          17,
          18,
          19,
          20
         ],
         "xaxis": "x3",
         "y": [
          100,
          93.12962682981475,
          86.52115636163118,
          80.16624499711457,
          74.0565554233063,
          68.18372407052675,
          62.5394106329682,
          57.115299569702415,
          51.90311246012914,
          46.894651704502486,
          42.08182572004118,
          37.45668707377288,
          33.011468507853095,
          28.738662042341176,
          24.63104714122548,
          20.681797591958688,
          16.884542874387044,
          13.233467084645241,
          9.723413418351331,
          6.349991048683458,
          3.1096972262839686
         ],
         "yaxis": "y3"
        }
       ],
       "layout": {
        "annotations": [
         {
          "font": {
           "size": 16
          },
          "showarrow": false,
          "text": "q",
          "x": 0.14444444444444446,
          "xanchor": "center",
          "xref": "paper",
          "y": 1,
          "yanchor": "bottom",
          "yref": "paper"
         },
         {
          "font": {
           "size": 16
          },
          "showarrow": false,
          "text": "R",
          "x": 0.5,
          "xanchor": "center",
          "xref": "paper",
          "y": 1,
          "yanchor": "bottom",
          "yref": "paper"
         },
         {
          "font": {
           "size": 16
          },
          "showarrow": false,
          "text": "profit",
          "x": 0.8555555555555556,
          "xanchor": "center",
          "xref": "paper",
          "y": 1,
          "yanchor": "bottom",
          "yref": "paper"
         }
        ],
        "template": {
         "data": {
          "bar": [
           {
            "error_x": {
             "color": "#2a3f5f"
            },
            "error_y": {
             "color": "#2a3f5f"
            },
            "marker": {
             "line": {
              "color": "white",
              "width": 0.5
             },
             "pattern": {
              "fillmode": "overlay",
              "size": 10,
              "solidity": 0.2
             }
            },
            "type": "bar"
           }
          ],
          "barpolar": [
           {
            "marker": {
             "line": {
              "color": "white",
              "width": 0.5
             },
             "pattern": {
              "fillmode": "overlay",
              "size": 10,
              "solidity": 0.2
             }
            },
            "type": "barpolar"
           }
          ],
          "carpet": [
           {
            "aaxis": {
             "endlinecolor": "#2a3f5f",
             "gridcolor": "#C8D4E3",
             "linecolor": "#C8D4E3",
             "minorgridcolor": "#C8D4E3",
             "startlinecolor": "#2a3f5f"
            },
            "baxis": {
             "endlinecolor": "#2a3f5f",
             "gridcolor": "#C8D4E3",
             "linecolor": "#C8D4E3",
             "minorgridcolor": "#C8D4E3",
             "startlinecolor": "#2a3f5f"
            },
            "type": "carpet"
           }
          ],
          "choropleth": [
           {
            "colorbar": {
             "outlinewidth": 0,
             "ticks": ""
            },
            "type": "choropleth"
           }
          ],
          "contour": [
           {
            "colorbar": {
             "outlinewidth": 0,
             "ticks": ""
            },
            "colorscale": [
             [
              0,
              "#0d0887"
             ],
             [
              0.1111111111111111,
              "#46039f"
             ],
             [
              0.2222222222222222,
              "#7201a8"
             ],
             [
              0.3333333333333333,
              "#9c179e"
             ],
             [
              0.4444444444444444,
              "#bd3786"
             ],
             [
              0.5555555555555556,
              "#d8576b"
             ],
             [
              0.6666666666666666,
              "#ed7953"
             ],
             [
              0.7777777777777778,
              "#fb9f3a"
             ],
             [
              0.8888888888888888,
              "#fdca26"
             ],
             [
              1,
              "#f0f921"
             ]
            ],
            "type": "contour"
           }
          ],
          "contourcarpet": [
           {
            "colorbar": {
             "outlinewidth": 0,
             "ticks": ""
            },
            "type": "contourcarpet"
           }
          ],
          "heatmap": [
           {
            "colorbar": {
             "outlinewidth": 0,
             "ticks": ""
            },
            "colorscale": [
             [
              0,
              "#0d0887"
             ],
             [
              0.1111111111111111,
              "#46039f"
             ],
             [
              0.2222222222222222,
              "#7201a8"
             ],
             [
              0.3333333333333333,
              "#9c179e"
             ],
             [
              0.4444444444444444,
              "#bd3786"
             ],
             [
              0.5555555555555556,
              "#d8576b"
             ],
             [
              0.6666666666666666,
              "#ed7953"
             ],
             [
              0.7777777777777778,
              "#fb9f3a"
             ],
             [
              0.8888888888888888,
              "#fdca26"
             ],
             [
              1,
              "#f0f921"
             ]
            ],
            "type": "heatmap"
           }
          ],
          "heatmapgl": [
           {
            "colorbar": {
             "outlinewidth": 0,
             "ticks": ""
            },
            "colorscale": [
             [
              0,
              "#0d0887"
             ],
             [
              0.1111111111111111,
              "#46039f"
             ],
             [
              0.2222222222222222,
              "#7201a8"
             ],
             [
              0.3333333333333333,
              "#9c179e"
             ],
             [
              0.4444444444444444,
              "#bd3786"
             ],
             [
              0.5555555555555556,
              "#d8576b"
             ],
             [
              0.6666666666666666,
              "#ed7953"
             ],
             [
              0.7777777777777778,
              "#fb9f3a"
             ],
             [
              0.8888888888888888,
              "#fdca26"
             ],
             [
              1,
              "#f0f921"
             ]
            ],
            "type": "heatmapgl"
           }
          ],
          "histogram": [
           {
            "marker": {
             "pattern": {
              "fillmode": "overlay",
              "size": 10,
              "solidity": 0.2
             }
            },
            "type": "histogram"
           }
          ],
          "histogram2d": [
           {
            "colorbar": {
             "outlinewidth": 0,
             "ticks": ""
            },
            "colorscale": [
             [
              0,
              "#0d0887"
             ],
             [
              0.1111111111111111,
              "#46039f"
             ],
             [
              0.2222222222222222,
              "#7201a8"
             ],
             [
              0.3333333333333333,
              "#9c179e"
             ],
             [
              0.4444444444444444,
              "#bd3786"
             ],
             [
              0.5555555555555556,
              "#d8576b"
             ],
             [
              0.6666666666666666,
              "#ed7953"
             ],
             [
              0.7777777777777778,
              "#fb9f3a"
             ],
             [
              0.8888888888888888,
              "#fdca26"
             ],
             [
              1,
              "#f0f921"
             ]
            ],
            "type": "histogram2d"
           }
          ],
          "histogram2dcontour": [
           {
            "colorbar": {
             "outlinewidth": 0,
             "ticks": ""
            },
            "colorscale": [
             [
              0,
              "#0d0887"
             ],
             [
              0.1111111111111111,
              "#46039f"
             ],
             [
              0.2222222222222222,
              "#7201a8"
             ],
             [
              0.3333333333333333,
              "#9c179e"
             ],
             [
              0.4444444444444444,
              "#bd3786"
             ],
             [
              0.5555555555555556,
              "#d8576b"
             ],
             [
              0.6666666666666666,
              "#ed7953"
             ],
             [
              0.7777777777777778,
              "#fb9f3a"
             ],
             [
              0.8888888888888888,
              "#fdca26"
             ],
             [
              1,
              "#f0f921"
             ]
            ],
            "type": "histogram2dcontour"
           }
          ],
          "mesh3d": [
           {
            "colorbar": {
             "outlinewidth": 0,
             "ticks": ""
            },
            "type": "mesh3d"
           }
          ],
          "parcoords": [
           {
            "line": {
             "colorbar": {
              "outlinewidth": 0,
              "ticks": ""
             }
            },
            "type": "parcoords"
           }
          ],
          "pie": [
           {
            "automargin": true,
            "type": "pie"
           }
          ],
          "scatter": [
           {
            "fillpattern": {
             "fillmode": "overlay",
             "size": 10,
             "solidity": 0.2
            },
            "type": "scatter"
           }
          ],
          "scatter3d": [
           {
            "line": {
             "colorbar": {
              "outlinewidth": 0,
              "ticks": ""
             }
            },
            "marker": {
             "colorbar": {
              "outlinewidth": 0,
              "ticks": ""
             }
            },
            "type": "scatter3d"
           }
          ],
          "scattercarpet": [
           {
            "marker": {
             "colorbar": {
              "outlinewidth": 0,
              "ticks": ""
             }
            },
            "type": "scattercarpet"
           }
          ],
          "scattergeo": [
           {
            "marker": {
             "colorbar": {
              "outlinewidth": 0,
              "ticks": ""
             }
            },
            "type": "scattergeo"
           }
          ],
          "scattergl": [
           {
            "marker": {
             "colorbar": {
              "outlinewidth": 0,
              "ticks": ""
             }
            },
            "type": "scattergl"
           }
          ],
          "scattermapbox": [
           {
            "marker": {
             "colorbar": {
              "outlinewidth": 0,
              "ticks": ""
             }
            },
            "type": "scattermapbox"
           }
          ],
          "scatterpolar": [
           {
            "marker": {
             "colorbar": {
              "outlinewidth": 0,
              "ticks": ""
             }
            },
            "type": "scatterpolar"
           }
          ],
          "scatterpolargl": [
           {
            "marker": {
             "colorbar": {
              "outlinewidth": 0,
              "ticks": ""
             }
            },
            "type": "scatterpolargl"
           }
          ],
          "scatterternary": [
           {
            "marker": {
             "colorbar": {
              "outlinewidth": 0,
              "ticks": ""
             }
            },
            "type": "scatterternary"
           }
          ],
          "surface": [
           {
            "colorbar": {
             "outlinewidth": 0,
             "ticks": ""
            },
            "colorscale": [
             [
              0,
              "#0d0887"
             ],
             [
              0.1111111111111111,
              "#46039f"
             ],
             [
              0.2222222222222222,
              "#7201a8"
             ],
             [
              0.3333333333333333,
              "#9c179e"
             ],
             [
              0.4444444444444444,
              "#bd3786"
             ],
             [
              0.5555555555555556,
              "#d8576b"
             ],
             [
              0.6666666666666666,
              "#ed7953"
             ],
             [
              0.7777777777777778,
              "#fb9f3a"
             ],
             [
              0.8888888888888888,
              "#fdca26"
             ],
             [
              1,
              "#f0f921"
             ]
            ],
            "type": "surface"
           }
          ],
          "table": [
           {
            "cells": {
             "fill": {
              "color": "#EBF0F8"
             },
             "line": {
              "color": "white"
             }
            },
            "header": {
             "fill": {
              "color": "#C8D4E3"
             },
             "line": {
              "color": "white"
             }
            },
            "type": "table"
           }
          ]
         },
         "layout": {
          "annotationdefaults": {
           "arrowcolor": "#2a3f5f",
           "arrowhead": 0,
           "arrowwidth": 1
          },
          "autotypenumbers": "strict",
          "coloraxis": {
           "colorbar": {
            "outlinewidth": 0,
            "ticks": ""
           }
          },
          "colorscale": {
           "diverging": [
            [
             0,
             "#8e0152"
            ],
            [
             0.1,
             "#c51b7d"
            ],
            [
             0.2,
             "#de77ae"
            ],
            [
             0.3,
             "#f1b6da"
            ],
            [
             0.4,
             "#fde0ef"
            ],
            [
             0.5,
             "#f7f7f7"
            ],
            [
             0.6,
             "#e6f5d0"
            ],
            [
             0.7,
             "#b8e186"
            ],
            [
             0.8,
             "#7fbc41"
            ],
            [
             0.9,
             "#4d9221"
            ],
            [
             1,
             "#276419"
            ]
           ],
           "sequential": [
            [
             0,
             "#0d0887"
            ],
            [
             0.1111111111111111,
             "#46039f"
            ],
            [
             0.2222222222222222,
             "#7201a8"
            ],
            [
             0.3333333333333333,
             "#9c179e"
            ],
            [
             0.4444444444444444,
             "#bd3786"
            ],
            [
             0.5555555555555556,
             "#d8576b"
            ],
            [
             0.6666666666666666,
             "#ed7953"
            ],
            [
             0.7777777777777778,
             "#fb9f3a"
            ],
            [
             0.8888888888888888,
             "#fdca26"
            ],
            [
             1,
             "#f0f921"
            ]
           ],
           "sequentialminus": [
            [
             0,
             "#0d0887"
            ],
            [
             0.1111111111111111,
             "#46039f"
            ],
            [
             0.2222222222222222,
             "#7201a8"
            ],
            [
             0.3333333333333333,
             "#9c179e"
            ],
            [
             0.4444444444444444,
             "#bd3786"
            ],
            [
             0.5555555555555556,
             "#d8576b"
            ],
            [
             0.6666666666666666,
             "#ed7953"
            ],
            [
             0.7777777777777778,
             "#fb9f3a"
            ],
            [
             0.8888888888888888,
             "#fdca26"
            ],
            [
             1,
             "#f0f921"
            ]
           ]
          },
          "colorway": [
           "#636efa",
           "#EF553B",
           "#00cc96",
           "#ab63fa",
           "#FFA15A",
           "#19d3f3",
           "#FF6692",
           "#B6E880",
           "#FF97FF",
           "#FECB52"
          ],
          "font": {
           "color": "#2a3f5f"
          },
          "geo": {
           "bgcolor": "white",
           "lakecolor": "white",
           "landcolor": "white",
           "showlakes": true,
           "showland": true,
           "subunitcolor": "#C8D4E3"
          },
          "hoverlabel": {
           "align": "left"
          },
          "hovermode": "closest",
          "mapbox": {
           "style": "light"
          },
          "paper_bgcolor": "white",
          "plot_bgcolor": "white",
          "polar": {
           "angularaxis": {
            "gridcolor": "#EBF0F8",
            "linecolor": "#EBF0F8",
            "ticks": ""
           },
           "bgcolor": "white",
           "radialaxis": {
            "gridcolor": "#EBF0F8",
            "linecolor": "#EBF0F8",
            "ticks": ""
           }
          },
          "scene": {
           "xaxis": {
            "backgroundcolor": "white",
            "gridcolor": "#DFE8F3",
            "gridwidth": 2,
            "linecolor": "#EBF0F8",
            "showbackground": true,
            "ticks": "",
            "zerolinecolor": "#EBF0F8"
           },
           "yaxis": {
            "backgroundcolor": "white",
            "gridcolor": "#DFE8F3",
            "gridwidth": 2,
            "linecolor": "#EBF0F8",
            "showbackground": true,
            "ticks": "",
            "zerolinecolor": "#EBF0F8"
           },
           "zaxis": {
            "backgroundcolor": "white",
            "gridcolor": "#DFE8F3",
            "gridwidth": 2,
            "linecolor": "#EBF0F8",
            "showbackground": true,
            "ticks": "",
            "zerolinecolor": "#EBF0F8"
           }
          },
          "shapedefaults": {
           "line": {
            "color": "#2a3f5f"
           }
          },
          "ternary": {
           "aaxis": {
            "gridcolor": "#DFE8F3",
            "linecolor": "#A2B1C6",
            "ticks": ""
           },
           "baxis": {
            "gridcolor": "#DFE8F3",
            "linecolor": "#A2B1C6",
            "ticks": ""
           },
           "bgcolor": "white",
           "caxis": {
            "gridcolor": "#DFE8F3",
            "linecolor": "#A2B1C6",
            "ticks": ""
           }
          },
          "title": {
           "x": 0.05
          },
          "xaxis": {
           "automargin": true,
           "gridcolor": "#EBF0F8",
           "linecolor": "#EBF0F8",
           "ticks": "",
           "title": {
            "standoff": 15
           },
           "zerolinecolor": "#EBF0F8",
           "zerolinewidth": 2
          },
          "yaxis": {
           "automargin": true,
           "gridcolor": "#EBF0F8",
           "linecolor": "#EBF0F8",
           "ticks": "",
           "title": {
            "standoff": 15
           },
           "zerolinecolor": "#EBF0F8",
           "zerolinewidth": 2
          }
         }
        },
        "title": {
         "text": "Optimal Depletion"
        },
        "xaxis": {
         "anchor": "y",
         "domain": [
          0,
          0.2888888888888889
         ]
        },
        "xaxis2": {
         "anchor": "y2",
         "domain": [
          0.35555555555555557,
          0.6444444444444445
         ]
        },
        "xaxis3": {
         "anchor": "y3",
         "domain": [
          0.7111111111111111,
          1
         ]
        },
        "yaxis": {
         "anchor": "x",
         "domain": [
          0,
          1
         ]
        },
        "yaxis2": {
         "anchor": "x2",
         "domain": [
          0,
          1
         ]
        },
        "yaxis3": {
         "anchor": "x3",
         "domain": [
          0,
          1
         ]
        }
       }
      }
     },
     "metadata": {},
     "output_type": "display_data"
    }
   ],
   "source": [
    "def optim_depletion(T = 20, r = 0.07 , c = 1, R0 = 150):\n",
    "    # params\n",
    "    rho = 1/(1+r)**np.arange(T+1)\n",
    "\n",
    "    # State Variables -----------------------------------\n",
    "    def f_R(i_q):\n",
    "        R = np.zeros(T+1)\n",
    "        R[0] = R0\n",
    "        for t in range(1, T+1):\n",
    "            R[t] = R[t-1] - i_q[t-1]\n",
    "        return R\n",
    "\n",
    "    def f_profit(i_q):\n",
    "        profit = np.zeros(T+1)\n",
    "        for t in range(T+1):\n",
    "            profit[t] = (i_q[t]**0.5 - c)\n",
    "        return profit\n",
    "\n",
    "    # Objective Function --------------------------------\n",
    "    def f_obj(i_q):\n",
    "        profit = f_profit(i_q)\n",
    "        obj_value = np.sum(profit * rho)\n",
    "        return -1* obj_value\n",
    "\n",
    "    # Decision Variables -------------------------------\n",
    "    q = np.full(T+1, 2)\n",
    "    bnds = [(0, R0) for t in range(T+1)]  \n",
    "\n",
    "    # Constraints --------------------------------------\n",
    "    def c_total_extr(i_q):\n",
    "        return R0 - sum([i_q[t] for t in range(T+1)])\n",
    "\n",
    "    constr = [\n",
    "        {'type': 'ineq', 'fun': c_total_extr},\n",
    "    ]\n",
    "\n",
    "\n",
    "    # Optimization --------------------------------------\n",
    "    res = opt.minimize(f_obj, q, bounds=bnds, constraints=constr)\n",
    "\n",
    "    # Results to Dataframe ------------------------------\n",
    "    q_opt = res.x\n",
    "    R_opt = f_R(q_opt)\n",
    "\n",
    "    df = pd.DataFrame({\n",
    "        't': np.arange(T+1),\n",
    "        'q': q_opt,\n",
    "        'R': R_opt,\n",
    "        'R2': R_opt,\n",
    "    })\n",
    "    return df\n",
    "\n",
    "df_optdepl = optim_depletion()\n",
    "df_optdepl_R100_r002 = optim_depletion(R0= 100, r = 0.02)\n",
    "\n",
    "\n",
    "fig = make_subplots(rows=1, cols=3, subplot_titles=('q', 'R', 'profit'))\n",
    "add_trace_1x3_subplot(fig, df_optdepl, 't', ('q', 'R', 'R2'), '_base')\n",
    "add_trace_1x3_subplot(fig, df_optdepl_R100_r002, 't', ('q', 'R', 'R2'), '_R100_r002')\n",
    "\n",
    "fig.update_layout(title='Optimal Depletion', template='plotly_white')\n",
    "fig.show()\n"
   ]
  },
  {
   "cell_type": "markdown",
   "id": "452abc8c",
   "metadata": {},
   "source": [
    "## 3 Hotelling Monopolist"
   ]
  },
  {
   "cell_type": "markdown",
   "id": "a778e2e0",
   "metadata": {},
   "source": [
    "You have a monopolist hotelling model with the characteristics defined below. $S$ defines the finite resource stock, $p_t$ the inverse demand function, $q_t$ the extraction rate and $r$ the constant discount rate.\n",
    "Complete the code below so that the optimization model runs with good results.\n",
    "$$\n",
    "\\begin{array}{l}\n",
    "    S_{t+1} = S_t - q_t \\\\\n",
    "    \\\\\n",
    "    p_t = a - b q_t\\\\\n",
    "    \\\\\n",
    "    c_t = c \\\\\n",
    "    \\\\\n",
    "    \\sum_0^{T} q_t \\overset{!}{=} S_0\\\\\n",
    "    \\\\\n",
    "    \\rho^t = 1/(1+r)^t\\\\\n",
    "\\end{array}\n",
    "$$\n",
    "\n",
    "Hints for what to do step by step (marked by `<...>` in the code): \n",
    "1. Define the function for the state variables $S$\n",
    "2. Define the constraint function\n",
    "3. Adjust the extraction costs from a constant $c$ to a linear cost function $c_t = c*q_t$ \n",
    "4. (Advanced) Run another model again using the `solver_method='Powell'` and `solver_method='Nelder-Mead`\n"
   ]
  },
  {
   "cell_type": "code",
   "execution_count": 15,
   "id": "2785a91b",
   "metadata": {},
   "outputs": [
    {
     "name": "stderr",
     "output_type": "stream",
     "text": [
      "C:\\Users\\hocrau00\\AppData\\Local\\Temp\\ipykernel_6820\\445195663.py:40: RuntimeWarning:\n",
      "\n",
      "Method Powell cannot handle constraints.\n",
      "\n",
      "C:\\Users\\hocrau00\\AppData\\Local\\Temp\\ipykernel_6820\\445195663.py:40: RuntimeWarning:\n",
      "\n",
      "Method Nelder-Mead cannot handle constraints.\n",
      "\n"
     ]
    },
    {
     "data": {
      "application/vnd.plotly.v1+json": {
       "config": {
        "plotlyServerURL": "https://plot.ly"
       },
       "data": [
        {
         "legendgroup": "_base",
         "mode": "lines",
         "name": "q_base",
         "type": "scatter",
         "x": [
          0,
          1,
          2,
          3,
          4,
          5,
          6,
          7,
          8,
          9,
          10,
          11,
          12,
          13,
          14,
          15,
          16,
          17,
          18,
          19,
          20,
          21,
          22,
          23,
          24,
          25,
          26,
          27,
          28,
          29,
          30,
          31,
          32,
          33,
          34,
          35,
          36,
          37,
          38,
          39,
          40,
          41,
          42,
          43,
          44,
          45,
          46,
          47,
          48,
          49,
          50
         ],
         "xaxis": "x",
         "y": [
          7.8648366682082935,
          7.643513932204829,
          7.411087472727249,
          7.167067866992276,
          6.910828352471788,
          6.64179261431584,
          6.359299654801255,
          6.062651498443309,
          5.75114312197632,
          5.424056203411269,
          5.08061612015337,
          4.7200439366395806,
          4.341490684422422,
          3.9440639593764284,
          3.526778843669788,
          3.0885892715283862,
          2.6284153861767963,
          2.145128744824583,
          1.6376414225745195,
          1.104920441902116,
          0.5460338031796071,
          2.078415564654712e-15,
          1.4541184012104025e-16,
          2.557056942489172e-16,
          8.045118933021345e-16,
          1.1196284784714683e-15,
          0,
          0,
          0,
          4.0245923455840826e-16,
          1.1283495296963986e-16,
          9.881079786853986e-16,
          0,
          0,
          0,
          2.995074620173316e-16,
          2.6583959642986765e-16,
          0,
          0,
          0,
          0,
          0,
          0,
          0,
          0,
          1.4005046037809943e-15,
          1.4786078177814188e-15,
          0,
          0,
          1.345698183961852e-15,
          8.268633987142809e-16
         ],
         "yaxis": "y"
        },
        {
         "legendgroup": "_base",
         "mode": "lines",
         "name": "S_base",
         "type": "scatter",
         "x": [
          0,
          1,
          2,
          3,
          4,
          5,
          6,
          7,
          8,
          9,
          10,
          11,
          12,
          13,
          14,
          15,
          16,
          17,
          18,
          19,
          20,
          21,
          22,
          23,
          24,
          25,
          26,
          27,
          28,
          29,
          30,
          31,
          32,
          33,
          34,
          35,
          36,
          37,
          38,
          39,
          40,
          41,
          42,
          43,
          44,
          45,
          46,
          47,
          48,
          49,
          50
         ],
         "xaxis": "x2",
         "y": [
          100,
          92.1351633317917,
          84.49164939958688,
          77.08056192685963,
          69.91349405986736,
          63.00266570739557,
          56.36087309307973,
          50.00157343827848,
          43.93892193983517,
          38.18777881785885,
          32.76372261444758,
          27.68310649429421,
          22.96306255765463,
          18.62157187323221,
          14.67750791385578,
          11.150729070185992,
          8.062139798657606,
          5.43372441248081,
          3.288595667656227,
          1.6509542450817076,
          0.5460338031795917,
          -1.5432100042289676e-14,
          -1.7510515606944388e-14,
          -1.7655927447065428e-14,
          -1.7911633141314345e-14,
          -1.871614503461648e-14,
          -1.9835773513087948e-14,
          -1.9835773513087948e-14,
          -1.9835773513087948e-14,
          -1.9835773513087948e-14,
          -2.0238232747646356e-14,
          -2.0351067700615996e-14,
          -2.1339175679301395e-14,
          -2.1339175679301395e-14,
          -2.1339175679301395e-14,
          -2.1339175679301395e-14,
          -2.1638683141318726e-14,
          -2.1904522737748594e-14,
          -2.1904522737748594e-14,
          -2.1904522737748594e-14,
          -2.1904522737748594e-14,
          -2.1904522737748594e-14,
          -2.1904522737748594e-14,
          -2.1904522737748594e-14,
          -2.1904522737748594e-14,
          -2.1904522737748594e-14,
          -2.3305027341529588e-14,
          -2.4783635159311007e-14,
          -2.4783635159311007e-14,
          -2.4783635159311007e-14,
          -2.612933334327286e-14
         ],
         "yaxis": "y2"
        },
        {
         "legendgroup": "_base",
         "mode": "lines",
         "name": "p_base",
         "type": "scatter",
         "x": [
          0,
          1,
          2,
          3,
          4,
          5,
          6,
          7,
          8,
          9,
          10,
          11,
          12,
          13,
          14,
          15,
          16,
          17,
          18,
          19,
          20,
          21,
          22,
          23,
          24,
          25,
          26,
          27,
          28,
          29,
          30,
          31,
          32,
          33,
          34,
          35,
          36,
          37,
          38,
          39,
          40,
          41,
          42,
          43,
          44,
          45,
          46,
          47,
          48,
          49,
          50
         ],
         "xaxis": "x3",
         "y": [
          10.281097999075024,
          10.413891640677104,
          10.553347516363651,
          10.699759279804635,
          10.853502988516928,
          11.014924431410495,
          11.184420207119247,
          11.362409100934014,
          11.549314126814208,
          11.745566277953237,
          11.951630327907978,
          12.167973638016251,
          12.395105589346546,
          12.633561624374142,
          12.883932693798126,
          13.146846437082969,
          13.422950768293923,
          13.71292275310525,
          14.017415146455289,
          14.33704773485873,
          14.672379718092236,
          14.999999999999998,
          15,
          15,
          15,
          15,
          15,
          15,
          15,
          15,
          15,
          15,
          15,
          15,
          15,
          15,
          15,
          15,
          15,
          15,
          15,
          15,
          15,
          15,
          15,
          15,
          15,
          15,
          15,
          15,
          15
         ],
         "yaxis": "y3"
        },
        {
         "legendgroup": "_Powell",
         "mode": "lines",
         "name": "q_Powell",
         "type": "scatter",
         "x": [
          0,
          1,
          2,
          3,
          4,
          5,
          6,
          7,
          8,
          9,
          10,
          11,
          12,
          13,
          14,
          15,
          16,
          17,
          18,
          19,
          20,
          21,
          22,
          23,
          24,
          25,
          26,
          27,
          28,
          29,
          30,
          31,
          32,
          33,
          34,
          35,
          36,
          37,
          38,
          39,
          40,
          41,
          42,
          43,
          44,
          45,
          46,
          47,
          48,
          49,
          50
         ],
         "xaxis": "x",
         "y": [
          12.291666666666723,
          12.291666666666776,
          12.291666666666757,
          12.291666666666767,
          12.291666666666703,
          12.291666666666755,
          12.291666666666696,
          12.291666666666732,
          12.291666666666718,
          12.291666666666675,
          12.291666666666668,
          12.291666666666696,
          12.291666666666687,
          12.29166666666669,
          12.291666666666647,
          12.291666666666606,
          12.291666666666684,
          12.291666666666584,
          12.291666666666645,
          12.291666666666643,
          12.291666666666652,
          12.291666666666691,
          12.291666666666682,
          12.29166666666668,
          12.29166666666668,
          12.291666666666677,
          12.291666666666725,
          12.291666666666632,
          12.291666666666698,
          12.291666666666668,
          12.291666666666742,
          12.29166666666666,
          12.29166666666675,
          12.29166666666652,
          12.291666666666696,
          12.291666666666522,
          12.291666666666632,
          12.291666666666483,
          12.291666666666684,
          12.291666666666535,
          12.29166666666672,
          12.291666666666886,
          12.291666666666698,
          12.291666666666583,
          12.29166666666669,
          12.291666666666826,
          12.291666666666677,
          12.29166666666679,
          12.291666666666675,
          12.29166666666666,
          12.29166666666698
         ],
         "yaxis": "y"
        },
        {
         "legendgroup": "_Powell",
         "mode": "lines",
         "name": "S_Powell",
         "type": "scatter",
         "x": [
          0,
          1,
          2,
          3,
          4,
          5,
          6,
          7,
          8,
          9,
          10,
          11,
          12,
          13,
          14,
          15,
          16,
          17,
          18,
          19,
          20,
          21,
          22,
          23,
          24,
          25,
          26,
          27,
          28,
          29,
          30,
          31,
          32,
          33,
          34,
          35,
          36,
          37,
          38,
          39,
          40,
          41,
          42,
          43,
          44,
          45,
          46,
          47,
          48,
          49,
          50
         ],
         "xaxis": "x2",
         "y": [
          100,
          87.70833333333327,
          75.4166666666665,
          63.124999999999744,
          50.83333333333297,
          38.54166666666627,
          26.249999999999517,
          13.95833333333282,
          1.6666666666660888,
          -10.625000000000629,
          -22.916666666667304,
          -35.20833333333397,
          -47.50000000000067,
          -59.79166666666735,
          -72.08333333333404,
          -84.37500000000068,
          -96.66666666666728,
          -108.95833333333397,
          -121.25000000000055,
          -133.5416666666672,
          -145.83333333333383,
          -158.12500000000048,
          -170.41666666666717,
          -182.70833333333385,
          -195.00000000000054,
          -207.29166666666723,
          -219.5833333333339,
          -231.87500000000063,
          -244.16666666666725,
          -256.45833333333394,
          -268.7500000000006,
          -281.04166666666737,
          -293.33333333333405,
          -305.6250000000008,
          -317.9166666666673,
          -330.208333333334,
          -342.5000000000005,
          -354.79166666666714,
          -367.0833333333336,
          -379.3750000000003,
          -391.6666666666668,
          -403.95833333333354,
          -416.25000000000045,
          -428.54166666666714,
          -440.8333333333337,
          -453.1250000000004,
          -465.4166666666672,
          -477.7083333333339,
          -490.0000000000007,
          -502.29166666666737,
          -514.583333333334
         ],
         "yaxis": "y2"
        },
        {
         "legendgroup": "_Powell",
         "mode": "lines",
         "name": "p_Powell",
         "type": "scatter",
         "x": [
          0,
          1,
          2,
          3,
          4,
          5,
          6,
          7,
          8,
          9,
          10,
          11,
          12,
          13,
          14,
          15,
          16,
          17,
          18,
          19,
          20,
          21,
          22,
          23,
          24,
          25,
          26,
          27,
          28,
          29,
          30,
          31,
          32,
          33,
          34,
          35,
          36,
          37,
          38,
          39,
          40,
          41,
          42,
          43,
          44,
          45,
          46,
          47,
          48,
          49,
          50
         ],
         "xaxis": "x3",
         "y": [
          7.624999999999966,
          7.624999999999934,
          7.624999999999947,
          7.62499999999994,
          7.624999999999979,
          7.624999999999948,
          7.624999999999982,
          7.624999999999961,
          7.62499999999997,
          7.624999999999996,
          7.625,
          7.624999999999982,
          7.624999999999988,
          7.624999999999987,
          7.625000000000012,
          7.625000000000037,
          7.62499999999999,
          7.62500000000005,
          7.625000000000013,
          7.625000000000014,
          7.625000000000009,
          7.624999999999986,
          7.624999999999991,
          7.624999999999992,
          7.624999999999992,
          7.624999999999995,
          7.624999999999965,
          7.625000000000021,
          7.624999999999981,
          7.625,
          7.624999999999955,
          7.6250000000000036,
          7.62499999999995,
          7.625000000000088,
          7.624999999999982,
          7.625000000000087,
          7.625000000000021,
          7.62500000000011,
          7.62499999999999,
          7.62500000000008,
          7.624999999999969,
          7.6249999999998685,
          7.624999999999981,
          7.625000000000051,
          7.624999999999987,
          7.624999999999905,
          7.624999999999995,
          7.624999999999926,
          7.624999999999996,
          7.6250000000000036,
          7.624999999999812
         ],
         "yaxis": "y3"
        },
        {
         "legendgroup": "_Nelder",
         "mode": "lines",
         "name": "q_Nelder",
         "type": "scatter",
         "x": [
          0,
          1,
          2,
          3,
          4,
          5,
          6,
          7,
          8,
          9,
          10,
          11,
          12,
          13,
          14,
          15,
          16,
          17,
          18,
          19,
          20,
          21,
          22,
          23,
          24,
          25,
          26,
          27,
          28,
          29,
          30,
          31,
          32,
          33,
          34,
          35,
          36,
          37,
          38,
          39,
          40,
          41,
          42,
          43,
          44,
          45,
          46,
          47,
          48,
          49,
          50
         ],
         "xaxis": "x",
         "y": [
          12.064517402564757,
          12.496627351964065,
          13.164378229124964,
          12.064769069806896,
          12.860624791750649,
          12.53375791239013,
          11.564843989812346,
          11.366795861413951,
          12.760905479325793,
          13.051987425079027,
          12.321870419699625,
          13.38187801476274,
          0.3034707397479257,
          11.4588568859693,
          12.31461640889069,
          13.81401110828093,
          11.944489851613348,
          0.903963398829734,
          11.946142481980246,
          0.5284945793570621,
          13.2771074856229,
          13.421195155430667,
          11.61571963242164,
          12.235458068065434,
          11.547305121516388,
          0.8925901197638351,
          11.346127741834984,
          0.839579020590473,
          0.9302099389927418,
          11.783457635463389,
          0.00570496037667231,
          12.715123108929575,
          0.3321935933424399,
          0.1563818416696775,
          0.009762543830156678,
          0.013676069448079045,
          0.11787913512751858,
          10.460589842125259,
          0.013919169031202654,
          0.14476842538443424,
          0.1190812279174153,
          8.765823326299458,
          0.2048468783256442,
          0.1355442395560374,
          0,
          13.934993953798312,
          0.29791046979726854,
          0.0001051375549705251,
          0.021278217048768866,
          0.11529681943952533,
          1.5415968609448578
         ],
         "yaxis": "y"
        },
        {
         "legendgroup": "_Nelder",
         "mode": "lines",
         "name": "S_Nelder",
         "type": "scatter",
         "x": [
          0,
          1,
          2,
          3,
          4,
          5,
          6,
          7,
          8,
          9,
          10,
          11,
          12,
          13,
          14,
          15,
          16,
          17,
          18,
          19,
          20,
          21,
          22,
          23,
          24,
          25,
          26,
          27,
          28,
          29,
          30,
          31,
          32,
          33,
          34,
          35,
          36,
          37,
          38,
          39,
          40,
          41,
          42,
          43,
          44,
          45,
          46,
          47,
          48,
          49,
          50
         ],
         "xaxis": "x2",
         "y": [
          100,
          87.93548259743524,
          75.43885524547117,
          62.27447701634621,
          50.20970794653931,
          37.34908315478866,
          24.81532524239853,
          13.250481252586184,
          1.8836853911722322,
          -10.87722008815356,
          -23.929207513232587,
          -36.25107793293221,
          -49.63295594769495,
          -49.936426687442875,
          -61.39528357341217,
          -73.70989998230286,
          -87.5239110905838,
          -99.46840094219715,
          -100.37236434102688,
          -112.31850682300713,
          -112.84700140236419,
          -126.12410888798709,
          -139.54530404341776,
          -151.1610236758394,
          -163.39648174390484,
          -174.94378686542123,
          -175.83637698518507,
          -187.18250472702005,
          -188.0220837476105,
          -188.95229368660324,
          -200.73575132206662,
          -200.7414562824433,
          -213.45657939137288,
          -213.78877298471534,
          -213.94515482638502,
          -213.95491737021518,
          -213.96859343966327,
          -214.08647257479078,
          -224.54706241691605,
          -224.56098158594725,
          -224.70575001133167,
          -224.82483123924908,
          -233.59065456554853,
          -233.79550144387417,
          -233.9310456834302,
          -233.9310456834302,
          -247.8660396372285,
          -248.16395010702578,
          -248.16405524458077,
          -248.18533346162954,
          -248.30063028106906
         ],
         "yaxis": "y2"
        },
        {
         "legendgroup": "_Nelder",
         "mode": "lines",
         "name": "p_Nelder",
         "type": "scatter",
         "x": [
          0,
          1,
          2,
          3,
          4,
          5,
          6,
          7,
          8,
          9,
          10,
          11,
          12,
          13,
          14,
          15,
          16,
          17,
          18,
          19,
          20,
          21,
          22,
          23,
          24,
          25,
          26,
          27,
          28,
          29,
          30,
          31,
          32,
          33,
          34,
          35,
          36,
          37,
          38,
          39,
          40,
          41,
          42,
          43,
          44,
          45,
          46,
          47,
          48,
          49,
          50
         ],
         "xaxis": "x3",
         "y": [
          7.761289558461146,
          7.502023588821562,
          7.101373062525022,
          7.761138558115863,
          7.283625124949611,
          7.479745252565923,
          8.061093606112593,
          8.179922483151628,
          7.3434567124045245,
          7.1688075449525845,
          7.606877748180225,
          6.970873191142356,
          14.817917556151244,
          8.124685868418421,
          7.611230154665587,
          6.711593335031443,
          7.833306089031992,
          14.45762196070216,
          7.832314510811853,
          14.682903252385763,
          7.033735508626261,
          6.9472829067416,
          8.030568220547016,
          7.65872515916074,
          8.071616927090169,
          14.464445928141698,
          8.19232335489901,
          14.496252587645717,
          14.441874036604355,
          7.929925418721967,
          14.996577023773996,
          7.370926134642255,
          14.800683843994536,
          14.906170894998194,
          14.994142473701906,
          14.991794358331152,
          14.929272518923488,
          8.723646094724845,
          14.991648498581279,
          14.91313894476934,
          14.92855126324955,
          9.740506004220325,
          14.877091873004613,
          14.918673456266378,
          15,
          6.639003627721014,
          14.821253718121639,
          14.999936917467018,
          14.987233069770738,
          14.930821908336284,
          14.075041883433085
         ],
         "yaxis": "y3"
        }
       ],
       "layout": {
        "annotations": [
         {
          "font": {
           "size": 16
          },
          "showarrow": false,
          "text": "q",
          "x": 0.14444444444444446,
          "xanchor": "center",
          "xref": "paper",
          "y": 1,
          "yanchor": "bottom",
          "yref": "paper"
         },
         {
          "font": {
           "size": 16
          },
          "showarrow": false,
          "text": "S",
          "x": 0.5,
          "xanchor": "center",
          "xref": "paper",
          "y": 1,
          "yanchor": "bottom",
          "yref": "paper"
         },
         {
          "font": {
           "size": 16
          },
          "showarrow": false,
          "text": "p",
          "x": 0.8555555555555556,
          "xanchor": "center",
          "xref": "paper",
          "y": 1,
          "yanchor": "bottom",
          "yref": "paper"
         }
        ],
        "template": {
         "data": {
          "bar": [
           {
            "error_x": {
             "color": "#2a3f5f"
            },
            "error_y": {
             "color": "#2a3f5f"
            },
            "marker": {
             "line": {
              "color": "white",
              "width": 0.5
             },
             "pattern": {
              "fillmode": "overlay",
              "size": 10,
              "solidity": 0.2
             }
            },
            "type": "bar"
           }
          ],
          "barpolar": [
           {
            "marker": {
             "line": {
              "color": "white",
              "width": 0.5
             },
             "pattern": {
              "fillmode": "overlay",
              "size": 10,
              "solidity": 0.2
             }
            },
            "type": "barpolar"
           }
          ],
          "carpet": [
           {
            "aaxis": {
             "endlinecolor": "#2a3f5f",
             "gridcolor": "#C8D4E3",
             "linecolor": "#C8D4E3",
             "minorgridcolor": "#C8D4E3",
             "startlinecolor": "#2a3f5f"
            },
            "baxis": {
             "endlinecolor": "#2a3f5f",
             "gridcolor": "#C8D4E3",
             "linecolor": "#C8D4E3",
             "minorgridcolor": "#C8D4E3",
             "startlinecolor": "#2a3f5f"
            },
            "type": "carpet"
           }
          ],
          "choropleth": [
           {
            "colorbar": {
             "outlinewidth": 0,
             "ticks": ""
            },
            "type": "choropleth"
           }
          ],
          "contour": [
           {
            "colorbar": {
             "outlinewidth": 0,
             "ticks": ""
            },
            "colorscale": [
             [
              0,
              "#0d0887"
             ],
             [
              0.1111111111111111,
              "#46039f"
             ],
             [
              0.2222222222222222,
              "#7201a8"
             ],
             [
              0.3333333333333333,
              "#9c179e"
             ],
             [
              0.4444444444444444,
              "#bd3786"
             ],
             [
              0.5555555555555556,
              "#d8576b"
             ],
             [
              0.6666666666666666,
              "#ed7953"
             ],
             [
              0.7777777777777778,
              "#fb9f3a"
             ],
             [
              0.8888888888888888,
              "#fdca26"
             ],
             [
              1,
              "#f0f921"
             ]
            ],
            "type": "contour"
           }
          ],
          "contourcarpet": [
           {
            "colorbar": {
             "outlinewidth": 0,
             "ticks": ""
            },
            "type": "contourcarpet"
           }
          ],
          "heatmap": [
           {
            "colorbar": {
             "outlinewidth": 0,
             "ticks": ""
            },
            "colorscale": [
             [
              0,
              "#0d0887"
             ],
             [
              0.1111111111111111,
              "#46039f"
             ],
             [
              0.2222222222222222,
              "#7201a8"
             ],
             [
              0.3333333333333333,
              "#9c179e"
             ],
             [
              0.4444444444444444,
              "#bd3786"
             ],
             [
              0.5555555555555556,
              "#d8576b"
             ],
             [
              0.6666666666666666,
              "#ed7953"
             ],
             [
              0.7777777777777778,
              "#fb9f3a"
             ],
             [
              0.8888888888888888,
              "#fdca26"
             ],
             [
              1,
              "#f0f921"
             ]
            ],
            "type": "heatmap"
           }
          ],
          "heatmapgl": [
           {
            "colorbar": {
             "outlinewidth": 0,
             "ticks": ""
            },
            "colorscale": [
             [
              0,
              "#0d0887"
             ],
             [
              0.1111111111111111,
              "#46039f"
             ],
             [
              0.2222222222222222,
              "#7201a8"
             ],
             [
              0.3333333333333333,
              "#9c179e"
             ],
             [
              0.4444444444444444,
              "#bd3786"
             ],
             [
              0.5555555555555556,
              "#d8576b"
             ],
             [
              0.6666666666666666,
              "#ed7953"
             ],
             [
              0.7777777777777778,
              "#fb9f3a"
             ],
             [
              0.8888888888888888,
              "#fdca26"
             ],
             [
              1,
              "#f0f921"
             ]
            ],
            "type": "heatmapgl"
           }
          ],
          "histogram": [
           {
            "marker": {
             "pattern": {
              "fillmode": "overlay",
              "size": 10,
              "solidity": 0.2
             }
            },
            "type": "histogram"
           }
          ],
          "histogram2d": [
           {
            "colorbar": {
             "outlinewidth": 0,
             "ticks": ""
            },
            "colorscale": [
             [
              0,
              "#0d0887"
             ],
             [
              0.1111111111111111,
              "#46039f"
             ],
             [
              0.2222222222222222,
              "#7201a8"
             ],
             [
              0.3333333333333333,
              "#9c179e"
             ],
             [
              0.4444444444444444,
              "#bd3786"
             ],
             [
              0.5555555555555556,
              "#d8576b"
             ],
             [
              0.6666666666666666,
              "#ed7953"
             ],
             [
              0.7777777777777778,
              "#fb9f3a"
             ],
             [
              0.8888888888888888,
              "#fdca26"
             ],
             [
              1,
              "#f0f921"
             ]
            ],
            "type": "histogram2d"
           }
          ],
          "histogram2dcontour": [
           {
            "colorbar": {
             "outlinewidth": 0,
             "ticks": ""
            },
            "colorscale": [
             [
              0,
              "#0d0887"
             ],
             [
              0.1111111111111111,
              "#46039f"
             ],
             [
              0.2222222222222222,
              "#7201a8"
             ],
             [
              0.3333333333333333,
              "#9c179e"
             ],
             [
              0.4444444444444444,
              "#bd3786"
             ],
             [
              0.5555555555555556,
              "#d8576b"
             ],
             [
              0.6666666666666666,
              "#ed7953"
             ],
             [
              0.7777777777777778,
              "#fb9f3a"
             ],
             [
              0.8888888888888888,
              "#fdca26"
             ],
             [
              1,
              "#f0f921"
             ]
            ],
            "type": "histogram2dcontour"
           }
          ],
          "mesh3d": [
           {
            "colorbar": {
             "outlinewidth": 0,
             "ticks": ""
            },
            "type": "mesh3d"
           }
          ],
          "parcoords": [
           {
            "line": {
             "colorbar": {
              "outlinewidth": 0,
              "ticks": ""
             }
            },
            "type": "parcoords"
           }
          ],
          "pie": [
           {
            "automargin": true,
            "type": "pie"
           }
          ],
          "scatter": [
           {
            "fillpattern": {
             "fillmode": "overlay",
             "size": 10,
             "solidity": 0.2
            },
            "type": "scatter"
           }
          ],
          "scatter3d": [
           {
            "line": {
             "colorbar": {
              "outlinewidth": 0,
              "ticks": ""
             }
            },
            "marker": {
             "colorbar": {
              "outlinewidth": 0,
              "ticks": ""
             }
            },
            "type": "scatter3d"
           }
          ],
          "scattercarpet": [
           {
            "marker": {
             "colorbar": {
              "outlinewidth": 0,
              "ticks": ""
             }
            },
            "type": "scattercarpet"
           }
          ],
          "scattergeo": [
           {
            "marker": {
             "colorbar": {
              "outlinewidth": 0,
              "ticks": ""
             }
            },
            "type": "scattergeo"
           }
          ],
          "scattergl": [
           {
            "marker": {
             "colorbar": {
              "outlinewidth": 0,
              "ticks": ""
             }
            },
            "type": "scattergl"
           }
          ],
          "scattermapbox": [
           {
            "marker": {
             "colorbar": {
              "outlinewidth": 0,
              "ticks": ""
             }
            },
            "type": "scattermapbox"
           }
          ],
          "scatterpolar": [
           {
            "marker": {
             "colorbar": {
              "outlinewidth": 0,
              "ticks": ""
             }
            },
            "type": "scatterpolar"
           }
          ],
          "scatterpolargl": [
           {
            "marker": {
             "colorbar": {
              "outlinewidth": 0,
              "ticks": ""
             }
            },
            "type": "scatterpolargl"
           }
          ],
          "scatterternary": [
           {
            "marker": {
             "colorbar": {
              "outlinewidth": 0,
              "ticks": ""
             }
            },
            "type": "scatterternary"
           }
          ],
          "surface": [
           {
            "colorbar": {
             "outlinewidth": 0,
             "ticks": ""
            },
            "colorscale": [
             [
              0,
              "#0d0887"
             ],
             [
              0.1111111111111111,
              "#46039f"
             ],
             [
              0.2222222222222222,
              "#7201a8"
             ],
             [
              0.3333333333333333,
              "#9c179e"
             ],
             [
              0.4444444444444444,
              "#bd3786"
             ],
             [
              0.5555555555555556,
              "#d8576b"
             ],
             [
              0.6666666666666666,
              "#ed7953"
             ],
             [
              0.7777777777777778,
              "#fb9f3a"
             ],
             [
              0.8888888888888888,
              "#fdca26"
             ],
             [
              1,
              "#f0f921"
             ]
            ],
            "type": "surface"
           }
          ],
          "table": [
           {
            "cells": {
             "fill": {
              "color": "#EBF0F8"
             },
             "line": {
              "color": "white"
             }
            },
            "header": {
             "fill": {
              "color": "#C8D4E3"
             },
             "line": {
              "color": "white"
             }
            },
            "type": "table"
           }
          ]
         },
         "layout": {
          "annotationdefaults": {
           "arrowcolor": "#2a3f5f",
           "arrowhead": 0,
           "arrowwidth": 1
          },
          "autotypenumbers": "strict",
          "coloraxis": {
           "colorbar": {
            "outlinewidth": 0,
            "ticks": ""
           }
          },
          "colorscale": {
           "diverging": [
            [
             0,
             "#8e0152"
            ],
            [
             0.1,
             "#c51b7d"
            ],
            [
             0.2,
             "#de77ae"
            ],
            [
             0.3,
             "#f1b6da"
            ],
            [
             0.4,
             "#fde0ef"
            ],
            [
             0.5,
             "#f7f7f7"
            ],
            [
             0.6,
             "#e6f5d0"
            ],
            [
             0.7,
             "#b8e186"
            ],
            [
             0.8,
             "#7fbc41"
            ],
            [
             0.9,
             "#4d9221"
            ],
            [
             1,
             "#276419"
            ]
           ],
           "sequential": [
            [
             0,
             "#0d0887"
            ],
            [
             0.1111111111111111,
             "#46039f"
            ],
            [
             0.2222222222222222,
             "#7201a8"
            ],
            [
             0.3333333333333333,
             "#9c179e"
            ],
            [
             0.4444444444444444,
             "#bd3786"
            ],
            [
             0.5555555555555556,
             "#d8576b"
            ],
            [
             0.6666666666666666,
             "#ed7953"
            ],
            [
             0.7777777777777778,
             "#fb9f3a"
            ],
            [
             0.8888888888888888,
             "#fdca26"
            ],
            [
             1,
             "#f0f921"
            ]
           ],
           "sequentialminus": [
            [
             0,
             "#0d0887"
            ],
            [
             0.1111111111111111,
             "#46039f"
            ],
            [
             0.2222222222222222,
             "#7201a8"
            ],
            [
             0.3333333333333333,
             "#9c179e"
            ],
            [
             0.4444444444444444,
             "#bd3786"
            ],
            [
             0.5555555555555556,
             "#d8576b"
            ],
            [
             0.6666666666666666,
             "#ed7953"
            ],
            [
             0.7777777777777778,
             "#fb9f3a"
            ],
            [
             0.8888888888888888,
             "#fdca26"
            ],
            [
             1,
             "#f0f921"
            ]
           ]
          },
          "colorway": [
           "#636efa",
           "#EF553B",
           "#00cc96",
           "#ab63fa",
           "#FFA15A",
           "#19d3f3",
           "#FF6692",
           "#B6E880",
           "#FF97FF",
           "#FECB52"
          ],
          "font": {
           "color": "#2a3f5f"
          },
          "geo": {
           "bgcolor": "white",
           "lakecolor": "white",
           "landcolor": "white",
           "showlakes": true,
           "showland": true,
           "subunitcolor": "#C8D4E3"
          },
          "hoverlabel": {
           "align": "left"
          },
          "hovermode": "closest",
          "mapbox": {
           "style": "light"
          },
          "paper_bgcolor": "white",
          "plot_bgcolor": "white",
          "polar": {
           "angularaxis": {
            "gridcolor": "#EBF0F8",
            "linecolor": "#EBF0F8",
            "ticks": ""
           },
           "bgcolor": "white",
           "radialaxis": {
            "gridcolor": "#EBF0F8",
            "linecolor": "#EBF0F8",
            "ticks": ""
           }
          },
          "scene": {
           "xaxis": {
            "backgroundcolor": "white",
            "gridcolor": "#DFE8F3",
            "gridwidth": 2,
            "linecolor": "#EBF0F8",
            "showbackground": true,
            "ticks": "",
            "zerolinecolor": "#EBF0F8"
           },
           "yaxis": {
            "backgroundcolor": "white",
            "gridcolor": "#DFE8F3",
            "gridwidth": 2,
            "linecolor": "#EBF0F8",
            "showbackground": true,
            "ticks": "",
            "zerolinecolor": "#EBF0F8"
           },
           "zaxis": {
            "backgroundcolor": "white",
            "gridcolor": "#DFE8F3",
            "gridwidth": 2,
            "linecolor": "#EBF0F8",
            "showbackground": true,
            "ticks": "",
            "zerolinecolor": "#EBF0F8"
           }
          },
          "shapedefaults": {
           "line": {
            "color": "#2a3f5f"
           }
          },
          "ternary": {
           "aaxis": {
            "gridcolor": "#DFE8F3",
            "linecolor": "#A2B1C6",
            "ticks": ""
           },
           "baxis": {
            "gridcolor": "#DFE8F3",
            "linecolor": "#A2B1C6",
            "ticks": ""
           },
           "bgcolor": "white",
           "caxis": {
            "gridcolor": "#DFE8F3",
            "linecolor": "#A2B1C6",
            "ticks": ""
           }
          },
          "title": {
           "x": 0.05
          },
          "xaxis": {
           "automargin": true,
           "gridcolor": "#EBF0F8",
           "linecolor": "#EBF0F8",
           "ticks": "",
           "title": {
            "standoff": 15
           },
           "zerolinecolor": "#EBF0F8",
           "zerolinewidth": 2
          },
          "yaxis": {
           "automargin": true,
           "gridcolor": "#EBF0F8",
           "linecolor": "#EBF0F8",
           "ticks": "",
           "title": {
            "standoff": 15
           },
           "zerolinecolor": "#EBF0F8",
           "zerolinewidth": 2
          }
         }
        },
        "title": {
         "text": "Hotelling Monopoly"
        },
        "xaxis": {
         "anchor": "y",
         "domain": [
          0,
          0.2888888888888889
         ]
        },
        "xaxis2": {
         "anchor": "y2",
         "domain": [
          0.35555555555555557,
          0.6444444444444445
         ]
        },
        "xaxis3": {
         "anchor": "y3",
         "domain": [
          0.7111111111111111,
          1
         ]
        },
        "yaxis": {
         "anchor": "x",
         "domain": [
          0,
          1
         ]
        },
        "yaxis2": {
         "anchor": "x2",
         "domain": [
          0,
          1
         ]
        },
        "yaxis3": {
         "anchor": "x3",
         "domain": [
          0,
          1
         ]
        }
       }
      }
     },
     "metadata": {},
     "output_type": "display_data"
    }
   ],
   "source": [
    "def hotelling_mono(T = 50, S0 = 100, a=15, b=-0.6, c=0.25, r = 0.05, solver_method = 'SLSQP'):\n",
    "    rho = 1/(1+r)**np.arange(T+1)\n",
    "\n",
    "    # State Variables -----------------------------------\n",
    "    def f_S(i_q):\n",
    "        S = np.zeros(T+1)\n",
    "        S[0] = S0\n",
    "        for t in range(1, T+1):\n",
    "            S[t] = S[t-1] - i_q[t-1]\n",
    "        return S\n",
    "    \n",
    "    def f_p(i_q):\n",
    "        return a + b*i_q\n",
    "    \n",
    "    def f_c(i_q): \n",
    "        return np.full(T+1, c)\n",
    "    \n",
    "    # Objective Function -------------------------------\n",
    "    def f_obj(i_q):\n",
    "        p = f_p(i_q)\n",
    "        c = f_c(i_q)\n",
    "\n",
    "        obj_value = sum(rho[t]*(p[t]-c[t])*i_q[t] for t in range(T+1))\n",
    "\n",
    "        return -1* obj_value\n",
    "    \n",
    "    # Decision Variables -------------------------------\n",
    "    q = np.full(T+1, 2)\n",
    "    bnds = [(0, S0) for t in range(T+1)]\n",
    "\n",
    "    # Constraints --------------------------------------\n",
    "    def c_total_extr(i_q):\n",
    "        return S0 - sum([i_q[t] for t in range(T+1)])\n",
    "    \n",
    "    cnstr = [\n",
    "        {'type': 'eq', 'fun': c_total_extr},\n",
    "    ]   \n",
    "\n",
    "    # Optimization ---------------------------------\n",
    "    results = opt.minimize(f_obj, q, bounds=bnds, constraints=cnstr,\n",
    "                    options={'disp': False}, \n",
    "                    method=solver_method\n",
    "    )\n",
    "\n",
    "    # Results to Dataframe ------------------------------\n",
    "    q_opt = results.x\n",
    "    S_opt = f_S(q_opt)\n",
    "    p_opt = f_p(q_opt)\n",
    "\n",
    "    df = pd.DataFrame({\n",
    "        't': np.arange(T+1),\n",
    "        'q': q_opt,\n",
    "        'S': S_opt,\n",
    "        'p': p_opt,\n",
    "    })\n",
    "    return df\n",
    "\n",
    "df_hotell = hotelling_mono()\n",
    "df_hotell_powell = hotelling_mono(solver_method='Powell')\n",
    "df_hotell_nelder = hotelling_mono(solver_method='Nelder-Mead')\n",
    "\n",
    "fig = make_subplots(rows=1, cols=3, subplot_titles=('q', 'S', 'p'))\n",
    "add_trace_1x3_subplot(fig, df_hotell, 't', ('q', 'S', 'p'), '_base')\n",
    "add_trace_1x3_subplot(fig, df_hotell_powell, 't', ('q', 'S', 'p'), '_Powell')\n",
    "add_trace_1x3_subplot(fig, df_hotell_nelder, 't', ('q', 'S', 'p'), '_Nelder')\n",
    "\n",
    "fig.update_layout(title='Hotelling Monopoly', template='plotly_white')\n",
    "fig.show()\n",
    "\n",
    "        "
   ]
  },
  {
   "cell_type": "markdown",
   "id": "e898551a",
   "metadata": {},
   "source": [
    "## 4 Stock Pollution"
   ]
  },
  {
   "cell_type": "markdown",
   "id": "a673d154",
   "metadata": {},
   "source": [
    "You have a stock pollution problem identical to the last exercise session. $W$ defines social welfare of a municipality through utility $U$ and damages $D$, $S_t$ the stock of fertilizer emissions in the lake, $e_t$ the level of emissions at every period, $f(S_t)$ the regeneration rate and $r$ the constant discount rate. \n",
    "Complete the code below so that the optimization model runs with good results.  \n",
    "\n",
    "$$\n",
    "\\begin{array}{l}\n",
    "    W = \\sum_{t=0}^{\\infty} \\rho^t( U(e_t) - D(S_t)) \\\\\n",
    "    \\\\\n",
    "    S_{t+1} = S_t - f(S_t) + e_t \\\\\n",
    "    \\\\\n",
    "    f(S_t) = aS_t\\\\\n",
    "    \\\\\n",
    "    U(e_t) = e^b_t\\\\\n",
    "    \\\\\n",
    "    D(S_t) = cS_t^d\\\\\n",
    "    \\\\\n",
    "    \\rho_t = \\frac{1}{(1+r)^t}\\\\\n",
    "\\end{array}\n",
    "$$\n",
    "Hints for what to do step by step (marked by `<...>` in the code): \n",
    "\n",
    "1. Run two model scenarios with `e_bnd_max = 200` and `e_bnd_max = 500` to convince yourself that emission limit has no effect on the \"optimal stock pollution level\" in the long run. \n",
    "2. Run two model scenarios with `S0 = 0` and `S0 = 200` to convince yourself that the inital stock level has no effect on the \"optimal stock pollution level\" in the long run. \n"
   ]
  },
  {
   "cell_type": "code",
   "execution_count": 17,
   "id": "83990634",
   "metadata": {},
   "outputs": [
    {
     "data": {
      "application/vnd.plotly.v1+json": {
       "config": {
        "plotlyServerURL": "https://plot.ly"
       },
       "data": [
        {
         "legendgroup": "_emax200",
         "mode": "lines",
         "name": "e_emax200",
         "type": "scatter",
         "x": [
          0,
          1,
          2,
          3,
          4,
          5,
          6,
          7,
          8,
          9,
          10,
          11,
          12,
          13,
          14,
          15,
          16,
          17,
          18,
          19,
          20,
          21,
          22,
          23,
          24,
          25,
          26,
          27,
          28,
          29,
          30,
          31,
          32,
          33,
          34,
          35,
          36,
          37,
          38,
          39,
          40,
          41,
          42,
          43,
          44,
          45,
          46,
          47,
          48,
          49,
          50
         ],
         "xaxis": "x",
         "y": [
          34.77012216714865,
          28.34347137113146,
          24.476275237092814,
          21.947312694086772,
          20.201944123624163,
          18.948323995805254,
          18.019136187255803,
          17.32173966074553,
          16.785323667697217,
          16.368299517814467,
          16.042111580572588,
          15.782807689071312,
          15.577348859679402,
          15.415329732590912,
          15.284217760352496,
          15.179377888001259,
          15.096584763437974,
          15.029856655212642,
          14.979287743719947,
          14.93732487775206,
          14.90692235871388,
          14.884019910911418,
          14.86960746430413,
          14.86307443959599,
          14.861520004504452,
          14.866299313895428,
          14.879625719820028,
          14.89935517838845,
          14.9271521659645,
          14.968270146788777,
          15.019329663498372,
          15.087455886169066,
          15.173964446042689,
          15.28426189155105,
          15.421981352706851,
          15.599995760207397,
          15.825102432279326,
          16.11596522987288,
          16.490427488646418,
          16.97846814019678,
          17.618018697003272,
          18.479295069506392,
          19.650805882848736,
          21.296200442277577,
          23.695043922309697,
          27.402084224692327,
          33.61799367034012,
          45.536624147108874,
          74.8644810871508,
          200,
          200
         ],
         "yaxis": "y"
        },
        {
         "legendgroup": "_emax200",
         "mode": "lines",
         "name": "S_emax200",
         "type": "scatter",
         "x": [
          0,
          1,
          2,
          3,
          4,
          5,
          6,
          7,
          8,
          9,
          10,
          11,
          12,
          13,
          14,
          15,
          16,
          17,
          18,
          19,
          20,
          21,
          22,
          23,
          24,
          25,
          26,
          27,
          28,
          29,
          30,
          31,
          32,
          33,
          34,
          35,
          36,
          37,
          38,
          39,
          40,
          41,
          42,
          43,
          44,
          45,
          46,
          47,
          48,
          49,
          50
         ],
         "xaxis": "x2",
         "y": [
          0,
          34.77012216714865,
          59.636581321565245,
          78.14919842650153,
          92.28159127793815,
          103.25537627376849,
          111.8781626421969,
          118.709482565233,
          124.16027396945523,
          128.52957024020694,
          132.04491273400072,
          134.88253304117325,
          137.17708742612723,
          139.0367275431939,
          140.54838452146544,
          141.7777638296714,
          142.77936533470552,
          143.59801356467295,
          144.2680688634183,
          144.8205497207964,
          145.2758196264688,
          145.6551600225358,
          145.9736639311936,
          146.24590500237838,
          146.48438894173654,
          146.69747005206733,
          146.89402236075603,
          147.08424584450046,
          147.27517643843885,
          147.47481096055947,
          147.6956000112923,
          147.94536967366145,
          148.23828859246436,
          148.58842417926058,
          149.01384365288556,
          149.53444064030384,
          150.18099233648087,
          150.9879955351121,
          152.00516121147376,
          153.2950725789728,
          154.94403346127228,
          157.06764881214832,
          159.8401790004399,
          163.50696698324464,
          168.45247072719775,
          175.30226757678767,
          185.1741250438012,
          200.2747062097612,
          225.78385973589397,
          278.06995484945537,
          450.2629593645098
         ],
         "yaxis": "y2"
        },
        {
         "legendgroup": "_emax200",
         "mode": "lines",
         "name": "W_emax200",
         "type": "scatter",
         "x": [
          0,
          1,
          2,
          3,
          4,
          5,
          6,
          7,
          8,
          9,
          10,
          11,
          12,
          13,
          14,
          15,
          16,
          17,
          18,
          19,
          20,
          21,
          22,
          23,
          24,
          25,
          26,
          27,
          28,
          29,
          30,
          31,
          32,
          33,
          34,
          35,
          36,
          37,
          38,
          39,
          40,
          41,
          42,
          43,
          44,
          45,
          46,
          47,
          48,
          49,
          50
         ],
         "xaxis": "x3",
         "y": [
          8.408600707315731,
          7.233055289569331,
          6.335555658127685,
          5.634175697518524,
          5.077796840584521,
          4.6309140641410185,
          4.267985215843705,
          3.9718340669350405,
          3.727245105129922,
          3.5237388604872146,
          3.353172454864956,
          3.2085111721287545,
          3.0850368848031966,
          2.9788186678555673,
          2.8859268594756133,
          2.80414104062587,
          2.7315299389549867,
          2.666096716005671,
          2.6070378099076392,
          2.552451141829384,
          2.502291238611925,
          2.455441084114247,
          2.4116819291217113,
          2.3705768893023786,
          2.331415169210051,
          2.2941877467750142,
          2.258992920904464,
          2.2253045624107894,
          2.193184534847672,
          2.163146637907923,
          2.134479097287062,
          2.1079205367463745,
          2.0833320286419887,
          2.0610798607552643,
          2.041219484149911,
          2.0248552124802894,
          2.012119111705144,
          2.004385460067529,
          2.0025393580373683,
          2.008405163772564,
          2.0239479539147087,
          2.0534812613794364,
          2.1012046192198324,
          2.1757341616795123,
          2.290605717123755,
          2.471872932635077,
          2.771399956561296,
          3.3165346303570478,
          4.523469195510359,
          8.599582817475662,
          3.706722796950871
         ],
         "yaxis": "y3"
        },
        {
         "legendgroup": "_emax500",
         "mode": "lines",
         "name": "e_emax500",
         "type": "scatter",
         "x": [
          0,
          1,
          2,
          3,
          4,
          5,
          6,
          7,
          8,
          9,
          10,
          11,
          12,
          13,
          14,
          15,
          16,
          17,
          18,
          19,
          20,
          21,
          22,
          23,
          24,
          25,
          26,
          27,
          28,
          29,
          30,
          31,
          32,
          33,
          34,
          35,
          36,
          37,
          38,
          39,
          40,
          41,
          42,
          43,
          44,
          45,
          46,
          47,
          48,
          49,
          50
         ],
         "xaxis": "x",
         "y": [
          34.77194501017713,
          28.34309325401833,
          24.475513279060532,
          21.947277990183995,
          20.20028721207769,
          18.947171531970806,
          18.020412901392472,
          17.3210245829336,
          16.7845483248609,
          16.367602776339357,
          16.04125235975954,
          15.781911906923662,
          15.57788487292415,
          15.414412016562352,
          15.28434656349658,
          15.180884746578625,
          15.096353609747462,
          15.03094800909519,
          14.97786430449955,
          14.937382203700361,
          14.906502851204218,
          14.883799386897483,
          14.869323789513889,
          14.860580432727952,
          14.860829803727631,
          14.864664359673789,
          14.87791943582794,
          14.898109564480079,
          14.926600717560207,
          14.965822840090054,
          15.018034762857377,
          15.08447673500277,
          15.171539161099046,
          15.280709089028148,
          15.420442271833522,
          15.596773609153347,
          15.822323482543577,
          16.112001595976192,
          16.48614360171571,
          16.971007569806606,
          17.609359641465552,
          18.463477943295114,
          19.63361258338118,
          21.273406026645564,
          23.662249857084667,
          27.350127287665273,
          33.51693604531114,
          45.345713081065114,
          74.33081455477759,
          204.06576761827407,
          500
         ],
         "yaxis": "y"
        },
        {
         "legendgroup": "_emax500",
         "mode": "lines",
         "name": "S_emax500",
         "type": "scatter",
         "x": [
          0,
          1,
          2,
          3,
          4,
          5,
          6,
          7,
          8,
          9,
          10,
          11,
          12,
          13,
          14,
          15,
          16,
          17,
          18,
          19,
          20,
          21,
          22,
          23,
          24,
          25,
          26,
          27,
          28,
          29,
          30,
          31,
          32,
          33,
          34,
          35,
          36,
          37,
          38,
          39,
          40,
          41,
          42,
          43,
          44,
          45,
          46,
          47,
          48,
          49,
          50
         ],
         "xaxis": "x2",
         "y": [
          0,
          34.77194501017713,
          59.63784376317774,
          78.1495726659205,
          92.28189338951245,
          103.25399126263889,
          111.87576366834581,
          118.70860020290371,
          124.15876476554695,
          128.52743661385315,
          132.0422957288072,
          134.879318515686,
          137.17329857104107,
          139.0338535868611,
          140.54488024473736,
          141.7747387837602,
          142.7781496519628,
          143.59668829651397,
          144.2679674759578,
          144.81903503286156,
          145.27451373327577,
          145.6535652111524,
          145.97200807693466,
          146.24413105875507,
          146.4802983856075,
          146.6930983507744,
          146.88845287537075,
          147.07752702366162,
          147.26788388577555,
          147.4676962147582,
          147.68674943337246,
          147.9361092528926,
          148.2269750626061,
          148.57581671744455,
          148.99894413472825,
          149.51949199308893,
          150.1643164029334,
          150.9702082451836,
          151.98518901664144,
          153.272813716693,
          154.9165399148303,
          157.03424556481284,
          159.79429895162667,
          163.44848163984517,
          168.37703950250622,
          175.20158540934028,
          185.03155415607154,
          200.04533478577554,
          225.3865143882631,
          277.17867750421436,
          453.526577372067
         ],
         "yaxis": "y2"
        },
        {
         "legendgroup": "_emax500",
         "mode": "lines",
         "name": "W_emax500",
         "type": "scatter",
         "x": [
          0,
          1,
          2,
          3,
          4,
          5,
          6,
          7,
          8,
          9,
          10,
          11,
          12,
          13,
          14,
          15,
          16,
          17,
          18,
          19,
          20,
          21,
          22,
          23,
          24,
          25,
          26,
          27,
          28,
          29,
          30,
          31,
          32,
          33,
          34,
          35,
          36,
          37,
          38,
          39,
          40,
          41,
          42,
          43,
          44,
          45,
          46,
          47,
          48,
          49,
          50
         ],
         "xaxis": "x3",
         "y": [
          8.408865199888941,
          7.232986639724855,
          6.335420468841139,
          5.634165433804907,
          5.077511165092141,
          4.6307374133925014,
          4.268244856666387,
          3.9717256268673315,
          3.72713807590835,
          3.5236577177393174,
          3.3530737112464286,
          3.2084187231241623,
          3.085196124932243,
          2.9787194268518906,
          2.8860119143028604,
          2.8044395526214676,
          2.731514922380827,
          2.6662923074727165,
          2.606818334794714,
          2.552486380231342,
          2.502250357011016,
          2.455435406418956,
          2.41166813284391,
          2.370245367260186,
          2.3313838068417714,
          2.2940287798594605,
          2.258845723219488,
          2.2252406342644235,
          2.1932238290944954,
          2.162932599032118,
          2.134444727987701,
          2.107678188552481,
          2.08319416554295,
          2.060825040614986,
          2.041247255503239,
          2.024684992654296,
          2.012030302818678,
          2.0041822056236205,
          2.002339420006833,
          2.0079037040358734,
          2.0234144982962436,
          2.0523317760687205,
          2.1001548868460578,
          2.17441879001374,
          2.2887794028997916,
          2.469072618872818,
          2.7660312372574047,
          3.307820999103626,
          4.502564469842242,
          8.759370195668119,
          11.957174913948565
         ],
         "yaxis": "y3"
        },
        {
         "legendgroup": "_S200",
         "mode": "lines",
         "name": "e_S200",
         "type": "scatter",
         "x": [
          0,
          1,
          2,
          3,
          4,
          5,
          6,
          7,
          8,
          9,
          10,
          11,
          12,
          13,
          14,
          15,
          16,
          17,
          18,
          19,
          20,
          21,
          22,
          23,
          24,
          25,
          26,
          27,
          28,
          29,
          30,
          31,
          32,
          33,
          34,
          35,
          36,
          37,
          38,
          39,
          40,
          41,
          42,
          43,
          44,
          45,
          46,
          47,
          48,
          49,
          50
         ],
         "xaxis": "x",
         "y": [
          10.954613270300426,
          11.511097158407699,
          12.002647391924079,
          12.432372425855801,
          12.803577358930422,
          13.121145052790231,
          13.39077195422462,
          13.618375684892406,
          13.80885635103833,
          13.968229124067676,
          14.101513039636389,
          14.211574737504453,
          14.302285106898054,
          14.378732930828813,
          14.441462357697299,
          14.494064743649457,
          14.5381841583447,
          14.57562574168915,
          14.607369625712309,
          14.634745497594368,
          14.66027225192866,
          14.68308103970019,
          14.704799333794835,
          14.726932828155007,
          14.750407876203212,
          14.776292225558153,
          14.805275800684582,
          14.839109422905645,
          14.878974944485858,
          14.927897549708211,
          14.98679909234137,
          15.060623525955597,
          15.14982044504013,
          15.264363304617229,
          15.407111483871239,
          15.587204481311575,
          15.815169968419854,
          16.107274626910506,
          16.483446225961536,
          16.97178798091565,
          17.615442462130012,
          18.474479487393445,
          19.644765712541005,
          21.29178694556411,
          23.693364051906595,
          27.391612034236367,
          33.611972756627125,
          45.545434199769055,
          74.88389558285222,
          200,
          200
         ],
         "yaxis": "y"
        },
        {
         "legendgroup": "_S200",
         "mode": "lines",
         "name": "S_S200",
         "type": "scatter",
         "x": [
          0,
          1,
          2,
          3,
          4,
          5,
          6,
          7,
          8,
          9,
          10,
          11,
          12,
          13,
          14,
          15,
          16,
          17,
          18,
          19,
          20,
          21,
          22,
          23,
          24,
          25,
          26,
          27,
          28,
          29,
          30,
          31,
          32,
          33,
          34,
          35,
          36,
          37,
          38,
          39,
          40,
          41,
          42,
          43,
          44,
          45,
          46,
          47,
          48,
          49,
          50
         ],
         "xaxis": "x2",
         "y": [
          200,
          190.95461327030043,
          183.37024910167807,
          177.03587158343436,
          171.76465685094672,
          167.39176852478246,
          163.77373672509447,
          160.78713500680965,
          158.3267971910211,
          156.3029738229573,
          154.64090556472925,
          153.2783280478927,
          152.1620699806079,
          151.24814808944518,
          150.5020662113295,
          149.89332194789384,
          149.3980544967539,
          148.99643320542322,
          148.67241562657006,
          148.41254368962535,
          148.2060348182572,
          148.04570358836014,
          147.92421426922434,
          147.83659217609673,
          147.77986578664206,
          147.75228708418106,
          147.75335060132113,
          147.7832913418736,
          147.84407163059186,
          147.93863941201855,
          148.0726730205249,
          148.25220481081377,
          148.487607855688,
          148.78866751515932,
          149.1741640682606,
          149.6638591453058,
          150.2846777120868,
          151.07137990929797,
          152.07151654527868,
          153.34781111671234,
          154.98481798595677,
          157.10177864949108,
          159.8660802719354,
          163.52423795728288,
          168.46360110711868,
          175.31060504831342,
          185.17115657771845,
          200.26601367657372,
          225.7848465086854,
          278.09025744066906,
          450.28123169660216
         ],
         "yaxis": "y2"
        },
        {
         "legendgroup": "_S200",
         "mode": "lines",
         "name": "W_S200",
         "type": "scatter",
         "x": [
          0,
          1,
          2,
          3,
          4,
          5,
          6,
          7,
          8,
          9,
          10,
          11,
          12,
          13,
          14,
          15,
          16,
          17,
          18,
          19,
          20,
          21,
          22,
          23,
          24,
          25,
          26,
          27,
          28,
          29,
          30,
          31,
          32,
          33,
          34,
          35,
          36,
          37,
          38,
          39,
          40,
          41,
          42,
          43,
          44,
          45,
          46,
          47,
          48,
          49,
          50
         ],
         "xaxis": "x3",
         "y": [
          1.004924769156296,
          1.393815920677067,
          1.7005043312903911,
          1.9406388254500133,
          2.1266662353026877,
          2.2688465060277463,
          2.375599582520913,
          2.4538027796103736,
          2.5088941675880805,
          2.54556407771544,
          2.567524805227285,
          2.5774969413320243,
          2.577944721665399,
          2.5711534225092603,
          2.5582885295330886,
          2.5408521627771288,
          2.519801945017065,
          2.495982189201447,
          2.469984155807057,
          2.442369690822623,
          2.4138000806070936,
          2.384326564989683,
          2.3543686240905664,
          2.3242634427111497,
          2.294212029150668,
          2.2644031950814254,
          2.234941699718002,
          2.20605847793668,
          2.177865969464184,
          2.1506965845352863,
          2.1245444876019595,
          2.099909515859434,
          2.076624653975424,
          2.055710517179756,
          2.037113507752386,
          2.021496506634214,
          2.0095054477489214,
          2.0022351637197993,
          2.0008472434949347,
          2.0069587702975666,
          2.023120030579594,
          2.052526676337767,
          2.100260889711133,
          2.1750851906879505,
          2.2903023072517947,
          2.47089792822426,
          2.7709978566412974,
          3.3172429668985797,
          4.524466069738491,
          8.599147300283766,
          3.7060974991756863
         ],
         "yaxis": "y3"
        }
       ],
       "layout": {
        "annotations": [
         {
          "font": {
           "size": 16
          },
          "showarrow": false,
          "text": "e",
          "x": 0.14444444444444446,
          "xanchor": "center",
          "xref": "paper",
          "y": 1,
          "yanchor": "bottom",
          "yref": "paper"
         },
         {
          "font": {
           "size": 16
          },
          "showarrow": false,
          "text": "S",
          "x": 0.5,
          "xanchor": "center",
          "xref": "paper",
          "y": 1,
          "yanchor": "bottom",
          "yref": "paper"
         },
         {
          "font": {
           "size": 16
          },
          "showarrow": false,
          "text": "W",
          "x": 0.8555555555555556,
          "xanchor": "center",
          "xref": "paper",
          "y": 1,
          "yanchor": "bottom",
          "yref": "paper"
         }
        ],
        "template": {
         "data": {
          "bar": [
           {
            "error_x": {
             "color": "#2a3f5f"
            },
            "error_y": {
             "color": "#2a3f5f"
            },
            "marker": {
             "line": {
              "color": "white",
              "width": 0.5
             },
             "pattern": {
              "fillmode": "overlay",
              "size": 10,
              "solidity": 0.2
             }
            },
            "type": "bar"
           }
          ],
          "barpolar": [
           {
            "marker": {
             "line": {
              "color": "white",
              "width": 0.5
             },
             "pattern": {
              "fillmode": "overlay",
              "size": 10,
              "solidity": 0.2
             }
            },
            "type": "barpolar"
           }
          ],
          "carpet": [
           {
            "aaxis": {
             "endlinecolor": "#2a3f5f",
             "gridcolor": "#C8D4E3",
             "linecolor": "#C8D4E3",
             "minorgridcolor": "#C8D4E3",
             "startlinecolor": "#2a3f5f"
            },
            "baxis": {
             "endlinecolor": "#2a3f5f",
             "gridcolor": "#C8D4E3",
             "linecolor": "#C8D4E3",
             "minorgridcolor": "#C8D4E3",
             "startlinecolor": "#2a3f5f"
            },
            "type": "carpet"
           }
          ],
          "choropleth": [
           {
            "colorbar": {
             "outlinewidth": 0,
             "ticks": ""
            },
            "type": "choropleth"
           }
          ],
          "contour": [
           {
            "colorbar": {
             "outlinewidth": 0,
             "ticks": ""
            },
            "colorscale": [
             [
              0,
              "#0d0887"
             ],
             [
              0.1111111111111111,
              "#46039f"
             ],
             [
              0.2222222222222222,
              "#7201a8"
             ],
             [
              0.3333333333333333,
              "#9c179e"
             ],
             [
              0.4444444444444444,
              "#bd3786"
             ],
             [
              0.5555555555555556,
              "#d8576b"
             ],
             [
              0.6666666666666666,
              "#ed7953"
             ],
             [
              0.7777777777777778,
              "#fb9f3a"
             ],
             [
              0.8888888888888888,
              "#fdca26"
             ],
             [
              1,
              "#f0f921"
             ]
            ],
            "type": "contour"
           }
          ],
          "contourcarpet": [
           {
            "colorbar": {
             "outlinewidth": 0,
             "ticks": ""
            },
            "type": "contourcarpet"
           }
          ],
          "heatmap": [
           {
            "colorbar": {
             "outlinewidth": 0,
             "ticks": ""
            },
            "colorscale": [
             [
              0,
              "#0d0887"
             ],
             [
              0.1111111111111111,
              "#46039f"
             ],
             [
              0.2222222222222222,
              "#7201a8"
             ],
             [
              0.3333333333333333,
              "#9c179e"
             ],
             [
              0.4444444444444444,
              "#bd3786"
             ],
             [
              0.5555555555555556,
              "#d8576b"
             ],
             [
              0.6666666666666666,
              "#ed7953"
             ],
             [
              0.7777777777777778,
              "#fb9f3a"
             ],
             [
              0.8888888888888888,
              "#fdca26"
             ],
             [
              1,
              "#f0f921"
             ]
            ],
            "type": "heatmap"
           }
          ],
          "heatmapgl": [
           {
            "colorbar": {
             "outlinewidth": 0,
             "ticks": ""
            },
            "colorscale": [
             [
              0,
              "#0d0887"
             ],
             [
              0.1111111111111111,
              "#46039f"
             ],
             [
              0.2222222222222222,
              "#7201a8"
             ],
             [
              0.3333333333333333,
              "#9c179e"
             ],
             [
              0.4444444444444444,
              "#bd3786"
             ],
             [
              0.5555555555555556,
              "#d8576b"
             ],
             [
              0.6666666666666666,
              "#ed7953"
             ],
             [
              0.7777777777777778,
              "#fb9f3a"
             ],
             [
              0.8888888888888888,
              "#fdca26"
             ],
             [
              1,
              "#f0f921"
             ]
            ],
            "type": "heatmapgl"
           }
          ],
          "histogram": [
           {
            "marker": {
             "pattern": {
              "fillmode": "overlay",
              "size": 10,
              "solidity": 0.2
             }
            },
            "type": "histogram"
           }
          ],
          "histogram2d": [
           {
            "colorbar": {
             "outlinewidth": 0,
             "ticks": ""
            },
            "colorscale": [
             [
              0,
              "#0d0887"
             ],
             [
              0.1111111111111111,
              "#46039f"
             ],
             [
              0.2222222222222222,
              "#7201a8"
             ],
             [
              0.3333333333333333,
              "#9c179e"
             ],
             [
              0.4444444444444444,
              "#bd3786"
             ],
             [
              0.5555555555555556,
              "#d8576b"
             ],
             [
              0.6666666666666666,
              "#ed7953"
             ],
             [
              0.7777777777777778,
              "#fb9f3a"
             ],
             [
              0.8888888888888888,
              "#fdca26"
             ],
             [
              1,
              "#f0f921"
             ]
            ],
            "type": "histogram2d"
           }
          ],
          "histogram2dcontour": [
           {
            "colorbar": {
             "outlinewidth": 0,
             "ticks": ""
            },
            "colorscale": [
             [
              0,
              "#0d0887"
             ],
             [
              0.1111111111111111,
              "#46039f"
             ],
             [
              0.2222222222222222,
              "#7201a8"
             ],
             [
              0.3333333333333333,
              "#9c179e"
             ],
             [
              0.4444444444444444,
              "#bd3786"
             ],
             [
              0.5555555555555556,
              "#d8576b"
             ],
             [
              0.6666666666666666,
              "#ed7953"
             ],
             [
              0.7777777777777778,
              "#fb9f3a"
             ],
             [
              0.8888888888888888,
              "#fdca26"
             ],
             [
              1,
              "#f0f921"
             ]
            ],
            "type": "histogram2dcontour"
           }
          ],
          "mesh3d": [
           {
            "colorbar": {
             "outlinewidth": 0,
             "ticks": ""
            },
            "type": "mesh3d"
           }
          ],
          "parcoords": [
           {
            "line": {
             "colorbar": {
              "outlinewidth": 0,
              "ticks": ""
             }
            },
            "type": "parcoords"
           }
          ],
          "pie": [
           {
            "automargin": true,
            "type": "pie"
           }
          ],
          "scatter": [
           {
            "fillpattern": {
             "fillmode": "overlay",
             "size": 10,
             "solidity": 0.2
            },
            "type": "scatter"
           }
          ],
          "scatter3d": [
           {
            "line": {
             "colorbar": {
              "outlinewidth": 0,
              "ticks": ""
             }
            },
            "marker": {
             "colorbar": {
              "outlinewidth": 0,
              "ticks": ""
             }
            },
            "type": "scatter3d"
           }
          ],
          "scattercarpet": [
           {
            "marker": {
             "colorbar": {
              "outlinewidth": 0,
              "ticks": ""
             }
            },
            "type": "scattercarpet"
           }
          ],
          "scattergeo": [
           {
            "marker": {
             "colorbar": {
              "outlinewidth": 0,
              "ticks": ""
             }
            },
            "type": "scattergeo"
           }
          ],
          "scattergl": [
           {
            "marker": {
             "colorbar": {
              "outlinewidth": 0,
              "ticks": ""
             }
            },
            "type": "scattergl"
           }
          ],
          "scattermapbox": [
           {
            "marker": {
             "colorbar": {
              "outlinewidth": 0,
              "ticks": ""
             }
            },
            "type": "scattermapbox"
           }
          ],
          "scatterpolar": [
           {
            "marker": {
             "colorbar": {
              "outlinewidth": 0,
              "ticks": ""
             }
            },
            "type": "scatterpolar"
           }
          ],
          "scatterpolargl": [
           {
            "marker": {
             "colorbar": {
              "outlinewidth": 0,
              "ticks": ""
             }
            },
            "type": "scatterpolargl"
           }
          ],
          "scatterternary": [
           {
            "marker": {
             "colorbar": {
              "outlinewidth": 0,
              "ticks": ""
             }
            },
            "type": "scatterternary"
           }
          ],
          "surface": [
           {
            "colorbar": {
             "outlinewidth": 0,
             "ticks": ""
            },
            "colorscale": [
             [
              0,
              "#0d0887"
             ],
             [
              0.1111111111111111,
              "#46039f"
             ],
             [
              0.2222222222222222,
              "#7201a8"
             ],
             [
              0.3333333333333333,
              "#9c179e"
             ],
             [
              0.4444444444444444,
              "#bd3786"
             ],
             [
              0.5555555555555556,
              "#d8576b"
             ],
             [
              0.6666666666666666,
              "#ed7953"
             ],
             [
              0.7777777777777778,
              "#fb9f3a"
             ],
             [
              0.8888888888888888,
              "#fdca26"
             ],
             [
              1,
              "#f0f921"
             ]
            ],
            "type": "surface"
           }
          ],
          "table": [
           {
            "cells": {
             "fill": {
              "color": "#EBF0F8"
             },
             "line": {
              "color": "white"
             }
            },
            "header": {
             "fill": {
              "color": "#C8D4E3"
             },
             "line": {
              "color": "white"
             }
            },
            "type": "table"
           }
          ]
         },
         "layout": {
          "annotationdefaults": {
           "arrowcolor": "#2a3f5f",
           "arrowhead": 0,
           "arrowwidth": 1
          },
          "autotypenumbers": "strict",
          "coloraxis": {
           "colorbar": {
            "outlinewidth": 0,
            "ticks": ""
           }
          },
          "colorscale": {
           "diverging": [
            [
             0,
             "#8e0152"
            ],
            [
             0.1,
             "#c51b7d"
            ],
            [
             0.2,
             "#de77ae"
            ],
            [
             0.3,
             "#f1b6da"
            ],
            [
             0.4,
             "#fde0ef"
            ],
            [
             0.5,
             "#f7f7f7"
            ],
            [
             0.6,
             "#e6f5d0"
            ],
            [
             0.7,
             "#b8e186"
            ],
            [
             0.8,
             "#7fbc41"
            ],
            [
             0.9,
             "#4d9221"
            ],
            [
             1,
             "#276419"
            ]
           ],
           "sequential": [
            [
             0,
             "#0d0887"
            ],
            [
             0.1111111111111111,
             "#46039f"
            ],
            [
             0.2222222222222222,
             "#7201a8"
            ],
            [
             0.3333333333333333,
             "#9c179e"
            ],
            [
             0.4444444444444444,
             "#bd3786"
            ],
            [
             0.5555555555555556,
             "#d8576b"
            ],
            [
             0.6666666666666666,
             "#ed7953"
            ],
            [
             0.7777777777777778,
             "#fb9f3a"
            ],
            [
             0.8888888888888888,
             "#fdca26"
            ],
            [
             1,
             "#f0f921"
            ]
           ],
           "sequentialminus": [
            [
             0,
             "#0d0887"
            ],
            [
             0.1111111111111111,
             "#46039f"
            ],
            [
             0.2222222222222222,
             "#7201a8"
            ],
            [
             0.3333333333333333,
             "#9c179e"
            ],
            [
             0.4444444444444444,
             "#bd3786"
            ],
            [
             0.5555555555555556,
             "#d8576b"
            ],
            [
             0.6666666666666666,
             "#ed7953"
            ],
            [
             0.7777777777777778,
             "#fb9f3a"
            ],
            [
             0.8888888888888888,
             "#fdca26"
            ],
            [
             1,
             "#f0f921"
            ]
           ]
          },
          "colorway": [
           "#636efa",
           "#EF553B",
           "#00cc96",
           "#ab63fa",
           "#FFA15A",
           "#19d3f3",
           "#FF6692",
           "#B6E880",
           "#FF97FF",
           "#FECB52"
          ],
          "font": {
           "color": "#2a3f5f"
          },
          "geo": {
           "bgcolor": "white",
           "lakecolor": "white",
           "landcolor": "white",
           "showlakes": true,
           "showland": true,
           "subunitcolor": "#C8D4E3"
          },
          "hoverlabel": {
           "align": "left"
          },
          "hovermode": "closest",
          "mapbox": {
           "style": "light"
          },
          "paper_bgcolor": "white",
          "plot_bgcolor": "white",
          "polar": {
           "angularaxis": {
            "gridcolor": "#EBF0F8",
            "linecolor": "#EBF0F8",
            "ticks": ""
           },
           "bgcolor": "white",
           "radialaxis": {
            "gridcolor": "#EBF0F8",
            "linecolor": "#EBF0F8",
            "ticks": ""
           }
          },
          "scene": {
           "xaxis": {
            "backgroundcolor": "white",
            "gridcolor": "#DFE8F3",
            "gridwidth": 2,
            "linecolor": "#EBF0F8",
            "showbackground": true,
            "ticks": "",
            "zerolinecolor": "#EBF0F8"
           },
           "yaxis": {
            "backgroundcolor": "white",
            "gridcolor": "#DFE8F3",
            "gridwidth": 2,
            "linecolor": "#EBF0F8",
            "showbackground": true,
            "ticks": "",
            "zerolinecolor": "#EBF0F8"
           },
           "zaxis": {
            "backgroundcolor": "white",
            "gridcolor": "#DFE8F3",
            "gridwidth": 2,
            "linecolor": "#EBF0F8",
            "showbackground": true,
            "ticks": "",
            "zerolinecolor": "#EBF0F8"
           }
          },
          "shapedefaults": {
           "line": {
            "color": "#2a3f5f"
           }
          },
          "ternary": {
           "aaxis": {
            "gridcolor": "#DFE8F3",
            "linecolor": "#A2B1C6",
            "ticks": ""
           },
           "baxis": {
            "gridcolor": "#DFE8F3",
            "linecolor": "#A2B1C6",
            "ticks": ""
           },
           "bgcolor": "white",
           "caxis": {
            "gridcolor": "#DFE8F3",
            "linecolor": "#A2B1C6",
            "ticks": ""
           }
          },
          "title": {
           "x": 0.05
          },
          "xaxis": {
           "automargin": true,
           "gridcolor": "#EBF0F8",
           "linecolor": "#EBF0F8",
           "ticks": "",
           "title": {
            "standoff": 15
           },
           "zerolinecolor": "#EBF0F8",
           "zerolinewidth": 2
          },
          "yaxis": {
           "automargin": true,
           "gridcolor": "#EBF0F8",
           "linecolor": "#EBF0F8",
           "ticks": "",
           "title": {
            "standoff": 15
           },
           "zerolinecolor": "#EBF0F8",
           "zerolinewidth": 2
          }
         }
        },
        "title": {
         "text": "Hotelling Monopoly"
        },
        "xaxis": {
         "anchor": "y",
         "domain": [
          0,
          0.2888888888888889
         ]
        },
        "xaxis2": {
         "anchor": "y2",
         "domain": [
          0.35555555555555557,
          0.6444444444444445
         ]
        },
        "xaxis3": {
         "anchor": "y3",
         "domain": [
          0.7111111111111111,
          1
         ]
        },
        "yaxis": {
         "anchor": "x",
         "domain": [
          0,
          1
         ]
        },
        "yaxis2": {
         "anchor": "x2",
         "domain": [
          0,
          1
         ]
        },
        "yaxis3": {
         "anchor": "x3",
         "domain": [
          0,
          1
         ]
        }
       }
      }
     },
     "metadata": {},
     "output_type": "display_data"
    }
   ],
   "source": [
    "def stockpollution(T = 50, S0 = 0, a = 0.1, b = 0.6, c = 0.00008, d = 2, e_bnd_max = 200, r = 0.015 ):\n",
    "    # Sets & Parameters --------------------------------\n",
    "    rho = 1 / (1 + r) ** np.arange(T + 1)\n",
    "\n",
    "    # State Variables -----------------------------------\n",
    "    def f_S(i_e):\n",
    "        S = np.zeros(T + 1)\n",
    "        S[0] = S0\n",
    "        for t in range(1, T + 1):\n",
    "            S[t] = S[t-1] - a * S[t-1] + i_e[t-1]\n",
    "        return S\n",
    "\n",
    "    def f_W(i_e):\n",
    "        S = f_S(i_e)\n",
    "        W = np.zeros(T + 1)\n",
    "        for t in range(T + 1):\n",
    "            W[t] = rho[t] * ( (i_e[t] ** b) - (c * (S[t] ** d)) )\n",
    "        return W\n",
    "\n",
    "    # Objective Function -------------------------------\n",
    "    def f_obj(i_e):\n",
    "        W = f_W(i_e)\n",
    "        return -1 * np.sum(W)\n",
    "\n",
    "    # Constraints --------------------------------------\n",
    "    cnstr = []\n",
    "\n",
    "    # Decision Variables -------------------------------\n",
    "    e_start = np.full(T+1, S0)\n",
    "    bnds = [(0, e_bnd_max) for t in range(T+1)]\n",
    "\n",
    "    # Optimization ---------------------------------\n",
    "    results = opt.minimize(f_obj, e_start, bounds=bnds, constraints=cnstr, \n",
    "                           options={'disp': False})\n",
    "\n",
    "\n",
    "    # Results to Dataframe ------------------------------\n",
    "    e_opt = results.x\n",
    "    S_opt = f_S(e_opt)\n",
    "    W_opt = f_W(e_opt)\n",
    "\n",
    "    df = pd.DataFrame({\n",
    "        't': np.arange(T + 1),\n",
    "        'e': e_opt,\n",
    "        'S': S_opt,\n",
    "        'W': W_opt\n",
    "    })\n",
    "    return df\n",
    "\n",
    "df_base  = stockpollution(e_bnd_max=200)\n",
    "df_emax500  = stockpollution(e_bnd_max=500)\n",
    "dfS200 = stockpollution(S0=200)\n",
    "\n",
    "\n",
    "fig = make_subplots(rows=1, cols=3, subplot_titles=('e', 'S', 'W'))\n",
    "add_trace_1x3_subplot(fig, df_base, 't', ('e', 'S', 'W'), '_emax200')\n",
    "add_trace_1x3_subplot(fig, df_emax500, 't', ('e', 'S', 'W'), '_emax500')\n",
    "add_trace_1x3_subplot(fig, dfS200, 't', ('e', 'S', 'W'), '_S200')\n",
    "\n",
    "fig.update_layout(title='Hotelling Monopoly', template='plotly_white')\n",
    "fig.show()\n"
   ]
  }
 ],
 "metadata": {
  "kernelspec": {
   "display_name": ".venv_resecon_master",
   "language": "python",
   "name": "python3"
  },
  "language_info": {
   "codemirror_mode": {
    "name": "ipython",
    "version": 3
   },
   "file_extension": ".py",
   "mimetype": "text/x-python",
   "name": "python",
   "nbconvert_exporter": "python",
   "pygments_lexer": "ipython3",
   "version": "3.11.11"
  }
 },
 "nbformat": 4,
 "nbformat_minor": 5
}
