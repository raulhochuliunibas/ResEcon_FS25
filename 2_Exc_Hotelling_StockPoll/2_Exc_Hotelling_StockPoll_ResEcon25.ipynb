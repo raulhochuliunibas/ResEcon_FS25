{
 "cells": [
  {
   "cell_type": "markdown",
   "id": "0911cc49",
   "metadata": {},
   "source": [
    "# Hotelling Model + Stock Pollution Model\n",
    "**Exercise Session Resource Economics (Spring Term 2025)** \\\n",
    "Raul Hochuli (raul.hochuli@unibas.ch)\\ \n",
    "\n",
    "Please remember to **send me your solutions (or what you have so far) by email**:\n",
    "- Hotelling by Sunday 16th March\n",
    "- Stock Pollution by Sunday 23rd March\n"
   ]
  },
  {
   "cell_type": "code",
   "execution_count": 2,
   "id": "8116ba12",
   "metadata": {},
   "outputs": [],
   "source": [
    "# Packages used in the notebook\n",
    "import numpy as np\n",
    "import pandas as pd\n",
    "import scipy.optimize as opt\n",
    "import plotly.graph_objects as go\n",
    "from plotly.subplots import make_subplots"
   ]
  },
  {
   "cell_type": "markdown",
   "id": "434fc167",
   "metadata": {},
   "source": [
    "## 1 Hotelling Model"
   ]
  },
  {
   "cell_type": "markdown",
   "id": "ed03e5d6",
   "metadata": {},
   "source": [
    "An oil drilling company extracts $q$ amount of units in year $t$ of the initial oil repository $S_0$. There is no new discovery or exploration taking place, hence $S_{t+1} = S_t - q_t$ for all ($\\forall$) $t$. A unit of oil is priced in the market at $p_t$ and costs a constant marginal cost of $c$ to extract. The discount factor $\\rho^t = 1/(1+r)^t$ is given with a constant interest rate over time. In a competitive market, the drilling company would face an inverse demand function of $p_t = a-bq_t$. We consider a finite but unknown extraction window $t = 0,1,... T$ and assume that any reserves at $T$ will be worthless. \n"
   ]
  },
  {
   "cell_type": "markdown",
   "id": "b888b1e5",
   "metadata": {},
   "source": [
    "**1a)**\\\n",
    "First, assume that the oil drilling company is operating as a monopolist. Make a list with all model components for the optimization problem, classify them (e.g. parameters, variables etc.) and define their range. \n",
    "\n",
    "- What implications does the assumption of a monopolist agent have on the optimization problem? \n",
    "- What is the interpretation you can derive from the parameter $a$?\n",
    "- Are the assumptions for a monopolist market and reserves having no value after $T$ realistic (no right or wrong answer - just think about the current structure of the oil market(s))? "
   ]
  },
  {
   "cell_type": "markdown",
   "id": "2c7d305e",
   "metadata": {},
   "source": [
    "*...*"
   ]
  },
  {
   "cell_type": "markdown",
   "id": "74f13d76",
   "metadata": {},
   "source": [
    "**1b)**\\\n",
    "Now, assume $S_0 = 100, a=10, b=1, c = 1, r = 0.05$. Build an optimization model which models the monopolistic price schedule and calculates the present value of the return of extraction for the monopolist. \n",
    "\n",
    "- How long does it take for the resource to be fully depleted? (Hint: Start by defining $T$ arbitrarily large so enough time can pass for $q_t$ to actually reach zero)\n",
    "- What is the initial price $p_0$ and the objective value of your model?\n",
    "- Visualize the values for $q_t, p_t$ and $S_t$ over time and compare the plots to your lecture slides."
   ]
  },
  {
   "cell_type": "code",
   "execution_count": 1,
   "id": "a8a856bb",
   "metadata": {},
   "outputs": [],
   "source": [
    "# ..."
   ]
  },
  {
   "cell_type": "markdown",
   "id": "b69cd0af",
   "metadata": {},
   "source": [
    "**1c)** \\\n",
    "Now, the oil drilling company is in a *competitive market*. \n",
    "- Without going into math or code, what is the main difference between an optimization model for a monopolist vs. a competitive market? \n",
    "- To find a numerical model that we can optimize, we first need to derive the Hotelling-Rule with pen and paper and then transfer it to optimization software. (Hint: You can use the Lagrangian $L$ to set up the optimization problem. Calculate the first order derivatives for $\\frac{\\partial L}{\\partial q_0}$ and $\\frac{\\partial L}{\\partial q_t}$ to derive the Hotelling-rule that defines $p_t$)\n",
    "- What assumption has to be given for the Hotelling-rule?"
   ]
  },
  {
   "cell_type": "markdown",
   "id": "bc996e51",
   "metadata": {},
   "source": [
    "$$\\max_{q_t} \\sum_{t=0}^T \\rho^t (p_t q_t - cq_t) \\qquad {s.t.}\\qquad\\sum_{t=0}^Tq_t = S_0\n",
    "\\\\[3em]\n",
    "L = \\sum_{t=0}^T \\rho^t (p_t q_t - cq_t) - \\lambda \\left( \\sum_{t=0}^Tq_t - S_0 \\right)"
   ]
  },
  {
   "cell_type": "markdown",
   "id": "389574a1",
   "metadata": {},
   "source": [
    "**1d)** \\\n",
    "Build a new model to compute the price and extraction schedule under the Hotelling-Rule in the competitive market (Hint: Now take $p_0$ as the only \"decision variable\" and define the other components endogenously). \n",
    "\n",
    "Visualize the results of the otherwise identical monopolist case to spot the differences. Given the model results would you prefer a market with a monopolist or perfect competition?"
   ]
  },
  {
   "cell_type": "code",
   "execution_count": null,
   "id": "ebf98de0",
   "metadata": {},
   "outputs": [],
   "source": [
    "# ..."
   ]
  },
  {
   "cell_type": "markdown",
   "id": "d5708c46",
   "metadata": {},
   "source": [
    "## 2 Stock Pollution"
   ]
  },
  {
   "cell_type": "markdown",
   "id": "bd1504a8",
   "metadata": {},
   "source": [
    "Let's now consider stock pollution problems. \n",
    "\n",
    "A rural municipality has an agricultural sector using ample amounts of fertilizer to increase crop yield. A unit of fertilizer emissions $e$ benefits the municipality (e.g. crops produced and sold) through the benefit fuction $U(\\cdot)$ but also causes polluting residue which flows into the nearby lake increasing the pollution stock $S_t$. Each year the stock causes damages $D(\\cdot)$ and is reduced by a certain amount by bacteria $f(S_t)$, depending on the total pollution stock. The total social welfare $W$ is determined by $U$ and $D$ and discounted using the constant discount rate $r$ and the remaining (constant) model parameters.\n",
    "$$\n",
    "    W = \\sum_{t=0}^{\\infty} \\rho^t( U(e_t) - D(S_t)) \n",
    "    \\\\[2em]\n",
    "    S_{t+1} = S_t - f(S_t) + e_t \n",
    "    \\\\[1em]\n",
    "    f(S_t) = aS_t\n",
    "    \\\\[1em]\n",
    "    U(e_t) = e^b_t\n",
    "    \\\\[1em]\n",
    "    D(S_t) = cS_t^d\n",
    "    \\\\[1em]\n",
    "    \\rho_t = \\frac{1}{(1+r)^t}\n",
    "$$\n",
    "\n"
   ]
  },
  {
   "cell_type": "markdown",
   "id": "137d7b39",
   "metadata": {},
   "source": [
    "**2a)**\\\n",
    "First build an table with all the components of the optimization problem (e.g. parameters, variables etc.) including the optimization function and constraints"
   ]
  },
  {
   "cell_type": "markdown",
   "id": "3b1c76ed",
   "metadata": {},
   "source": [
    "**2b)**\\\n",
    "Build an optimization model to find the social optimal emission rate over time. Use the parameters below and use a model time range of $t = 0, ..., T$.\n",
    "$$\n",
    "S_0 = 0; \\qquad a = 0.1; \\qquad b = 0.6; \\qquad c = 0.00008, \\qquad d = 2; \\qquad r = 0.015; \\qquad T = 50\n",
    "$$\n",
    "\n",
    "Plot $e$ and $S$ over time. Is there something striking in the visualisation?\n"
   ]
  },
  {
   "cell_type": "code",
   "execution_count": 4,
   "id": "f1c771a1",
   "metadata": {},
   "outputs": [],
   "source": [
    "# ..."
   ]
  },
  {
   "cell_type": "markdown",
   "id": "79148e8f",
   "metadata": {},
   "source": [
    "## 3 For More Advanced Students"
   ]
  },
  {
   "cell_type": "markdown",
   "id": "44b07feb",
   "metadata": {},
   "source": [
    "**3a) Hotelling, parameter effects**\\\n",
    "If not done already, structure your monopolist hotelling model from before as a function (with the parameters as input) that returns the values for $q_t, p_t$, $S_t$ and the objective value over time $t$ as a dataframe. Rerun the model with different specifications to see how different parameter changes alter the optimal extraction schedule an price path of the resource.\n",
    "\n",
    "- Increase interest rate: $r^* = 0.07$\n",
    "- Increase resource stock: $S_0^* = 150$\n",
    "- Change in the inverse demand function with $b^* = 0.5$\n",
    "- Increase in extraction cost with $c^* = 2$\n"
   ]
  },
  {
   "cell_type": "code",
   "execution_count": 5,
   "id": "83e05a36",
   "metadata": {},
   "outputs": [],
   "source": [
    "# ..."
   ]
  },
  {
   "cell_type": "markdown",
   "id": "f37cfde7",
   "metadata": {},
   "source": [
    "**3b) Hotelling, including ban of extraciton** \\\n",
    "Consider again the case of the monopolist. We now want to take a first step into modeling policy making. Assume the local government imposes legislation that bans all extraction after $T^* = 30$ years. What effect would this have on the extraction schedule given the Hotelling-rule?"
   ]
  },
  {
   "cell_type": "code",
   "execution_count": 6,
   "id": "c81f61b5",
   "metadata": {},
   "outputs": [],
   "source": [
    "# ..."
   ]
  },
  {
   "cell_type": "markdown",
   "id": "58fb0730",
   "metadata": {},
   "source": [
    "**3c) Hotelling, writing in modern python style** \\\n",
    "This is now for the students who are *deeply interested in coding practices* (way beyond our course objective) and have extensive prior knowledge! In recent years, it became fashionable to write your python code using classes (with attributes and methods). Try to refactor your model code for the monopolist hotelling model using python classes. "
   ]
  },
  {
   "cell_type": "code",
   "execution_count": 7,
   "id": "304b4527",
   "metadata": {},
   "outputs": [],
   "source": [
    "# ..."
   ]
  }
 ],
 "metadata": {
  "kernelspec": {
   "display_name": ".venv_resecon_master",
   "language": "python",
   "name": "python3"
  },
  "language_info": {
   "codemirror_mode": {
    "name": "ipython",
    "version": 3
   },
   "file_extension": ".py",
   "mimetype": "text/x-python",
   "name": "python",
   "nbconvert_exporter": "python",
   "pygments_lexer": "ipython3",
   "version": "3.11.11"
  }
 },
 "nbformat": 4,
 "nbformat_minor": 5
}
