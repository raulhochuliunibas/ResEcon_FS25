{
 "cells": [
  {
   "cell_type": "markdown",
   "id": "0911cc49",
   "metadata": {},
   "source": [
    "# Hotelling Model + Stock Pollution Model\n",
    "**Exercise Session Resource Economics (Spring Term 2025)** \\\n",
    "Raul Hochuli (raul.hochuli@unibas.ch)\\ \n",
    "\n",
    "Please remember to **send me your solutions (or what you have so far) by email**:\n",
    "- Hotelling by Sunday 16th March\n",
    "- Stock Pollution by Sunday 23rd March\n"
   ]
  },
  {
   "cell_type": "code",
   "execution_count": 32,
   "id": "8116ba12",
   "metadata": {},
   "outputs": [],
   "source": [
    "# Packages used in the notebook\n",
    "import numpy as np\n",
    "import pandas as pd\n",
    "import scipy.optimize as opt\n",
    "import plotly.graph_objects as go\n",
    "from plotly.subplots import make_subplots"
   ]
  },
  {
   "cell_type": "markdown",
   "id": "434fc167",
   "metadata": {},
   "source": [
    "## 1 Hotelling Model"
   ]
  },
  {
   "cell_type": "markdown",
   "id": "ed03e5d6",
   "metadata": {},
   "source": [
    "An oil drilling company extracts $q$ amount of units in year $t$ of the initial oil repository $S_0$. There is no new discovery or exploration taking place, hence $S_{t+1} = S_t - q_t$ for all ($\\forall$) $t$. A unit of oil is priced in the market at $p_t$ and costs a constant marginal cost of $c$ to extract. The discount factor $\\rho^t = 1/(1+r)^t$ is given with a constant interest rate over time. In a competitive market, the drilling company would face an inverse demand function of $p_t = a-bq_t$. We consider a finite but unknown extraction window $t = 0,1,... T$ and assume that any reserves at $T$ will be worthless. \n"
   ]
  },
  {
   "cell_type": "markdown",
   "id": "b888b1e5",
   "metadata": {},
   "source": [
    "**1a)**\\\n",
    "First, assume that the oil drilling company is operating as a monopolist. Make a list with all model components for the optimization problem, classify them (e.g. parameters, variables etc.) and define their range. \n",
    "\n",
    "- What implications does the assumption of a monopolist agent have on the optimization problem? \n",
    "- What is the interpretation you can derive from the parameter $a$?\n",
    "- Are the assumptions for a monopolist market and reserves having no value after $T$ realistic (no right or wrong answer - just think about the current structure of the oil market(s))? "
   ]
  },
  {
   "cell_type": "markdown",
   "id": "8f1eef2c",
   "metadata": {},
   "source": [
    "*Solution*\n",
    "| **Description**       | **Variable**                  | **Range**                  |\n",
    "|----------------------|----------------------------|---------------------------|\n",
    "| Time Indicator      | $t$                         | [0, ..., T]          |\n",
    "| Parameter          | $r, a, b, c, (\\rho)$               | constant, (r > -1 ) |\n",
    "| Decision variable  | $q_t$                   | $ 0 < q_t \\leq S_0 $ |\n",
    "| State variable     | $S_t, p_t$              | $ 0 \\leq S_t, p_t $    |\n",
    "| -                  | -                           | -                          |\n",
    "| **Objective function** | $\\sum_t^T \\rho^t(p_t(q_t) - c)q_t $ | -|\n",
    "| **Constraints**     | $\\sum_t^T q_t = S_0 $    | -                          |\n",
    "\n",
    "\n",
    "\\\n",
    "***Monopolist Assumption:*** When assuming a monopolist market, the price is not given by the market but determined by the quantity the monopolist is selling, hence it is defined as $p(q_t)$ and dependent on $q_t$.\n",
    "\n",
    "\\\n",
    "***Chock-off price / backstop technology***: The parameter gives the marginal price for the last unit of $q$ sold on the market. This means for any price higher than $a$, no more oil could be sold and the consumers will switch to another technology / solution as a substitute."
   ]
  },
  {
   "cell_type": "markdown",
   "id": "74f13d76",
   "metadata": {},
   "source": [
    "**1b)**\\\n",
    "Now, assume $S_0 = 100, a=10, b=1, c = 1, r = 0.05$. Build an optimization model which models the monopolistic price schedule and calculates the present value of the return of extraction for the monopolist. \n",
    "\n",
    "- How long does it take for the resource to be fully depleted? (Hint: Start by defining $T$ arbitrarily large so enough time can pass for $q_t$ to actually reach zero)\n",
    "- What is the initial price $p_0$ and the objective value of your model?\n",
    "- Visualize the values for $q_t, p_t$ and $S_t$ over time and compare the plots to your lecture slides."
   ]
  },
  {
   "cell_type": "code",
   "execution_count": 33,
   "id": "a8a856bb",
   "metadata": {},
   "outputs": [
    {
     "name": "stdout",
     "output_type": "stream",
     "text": [
      "objective value: \t-15905.106926957316; \n",
      "p_opt[0]: \t\t6.162161474654469\n"
     ]
    },
    {
     "data": {
      "application/vnd.plotly.v1+json": {
       "config": {
        "plotlyServerURL": "https://plot.ly"
       },
       "data": [
        {
         "legendgroup": "base",
         "mode": "lines",
         "name": "q_base",
         "showlegend": true,
         "type": "scatter",
         "x": [
          0,
          1,
          2,
          3,
          4,
          5,
          6,
          7,
          8,
          9,
          10,
          11,
          12,
          13,
          14,
          15,
          16,
          17,
          18,
          19,
          20,
          21,
          22,
          23,
          24,
          25,
          26,
          27,
          28,
          29,
          30,
          31,
          32,
          33,
          34,
          35,
          36,
          37,
          38,
          39,
          40,
          41,
          42,
          43,
          44,
          45,
          46,
          47,
          48,
          49,
          50
         ],
         "xaxis": "x",
         "y": [
          3.837838525345531,
          3.804552498254851,
          3.769874482810309,
          3.7331908822062805,
          3.6949884770124233,
          3.654946673066361,
          3.612724022977238,
          3.5682334868834498,
          3.521504765679684,
          3.4725267350956983,
          3.421189774187942,
          3.367325266643478,
          3.3107474401687447,
          3.2512912721170126,
          3.1888261434825917,
          3.123231918332949,
          3.054379922976891,
          2.9821251655148746,
          2.9062973793798976,
          2.8266840031033396,
          2.7430691456909995,
          2.655229580212422,
          2.5629481132847562,
          2.466003219647103,
          2.364187856695198,
          2.257288195050511,
          2.145073149403131,
          2.0273015738054436,
          1.9037090451901657,
          1.773983645982213,
          1.6377878364503053,
          1.4947754691432835,
          1.3445519332560045,
          1.1867276209551805,
          1.0209061964306463,
          0.846729725055968,
          0.6638538653665497,
          0.4719944567689314,
          0.2709178765544173,
          0.06048265981727378,
          0,
          0,
          7.687459271043216e-17,
          2.487312249612253e-18,
          0,
          7.699910655367855e-17,
          0,
          2.1506166530786686e-16,
          0,
          2.2172527350391644e-16,
          0
         ],
         "yaxis": "y"
        },
        {
         "legendgroup": "base",
         "mode": "lines",
         "name": "p_base",
         "showlegend": true,
         "type": "scatter",
         "x": [
          0,
          1,
          2,
          3,
          4,
          5,
          6,
          7,
          8,
          9,
          10,
          11,
          12,
          13,
          14,
          15,
          16,
          17,
          18,
          19,
          20,
          21,
          22,
          23,
          24,
          25,
          26,
          27,
          28,
          29,
          30,
          31,
          32,
          33,
          34,
          35,
          36,
          37,
          38,
          39,
          40,
          41,
          42,
          43,
          44,
          45,
          46,
          47,
          48,
          49,
          50
         ],
         "xaxis": "x2",
         "y": [
          6.162161474654469,
          6.195447501745149,
          6.230125517189691,
          6.26680911779372,
          6.305011522987577,
          6.345053326933639,
          6.387275977022762,
          6.43176651311655,
          6.478495234320317,
          6.527473264904302,
          6.578810225812058,
          6.632674733356522,
          6.689252559831255,
          6.748708727882987,
          6.811173856517408,
          6.876768081667051,
          6.94562007702311,
          7.017874834485125,
          7.093702620620102,
          7.17331599689666,
          7.256930854309001,
          7.344770419787578,
          7.437051886715244,
          7.533996780352897,
          7.635812143304802,
          7.742711804949489,
          7.854926850596868,
          7.972698426194556,
          8.096290954809835,
          8.226016354017787,
          8.362212163549694,
          8.505224530856717,
          8.655448066743995,
          8.81327237904482,
          8.979093803569354,
          9.153270274944031,
          9.33614613463345,
          9.52800554323107,
          9.729082123445583,
          9.939517340182727,
          10,
          10,
          10,
          10,
          10,
          10,
          10,
          10,
          10,
          10,
          10
         ],
         "yaxis": "y2"
        },
        {
         "legendgroup": "base",
         "mode": "lines",
         "name": "S_base",
         "showlegend": true,
         "type": "scatter",
         "x": [
          0,
          1,
          2,
          3,
          4,
          5,
          6,
          7,
          8,
          9,
          10,
          11,
          12,
          13,
          14,
          15,
          16,
          17,
          18,
          19,
          20,
          21,
          22,
          23,
          24,
          25,
          26,
          27,
          28,
          29,
          30,
          31,
          32,
          33,
          34,
          35,
          36,
          37,
          38,
          39,
          40,
          41,
          42,
          43,
          44,
          45,
          46,
          47,
          48,
          49,
          50
         ],
         "xaxis": "x3",
         "y": [
          100,
          96.16216147465447,
          92.35760897639962,
          88.58773449358931,
          84.85454361138302,
          81.15955513437059,
          77.50460846130423,
          73.891884438327,
          70.32365095144355,
          66.80214618576387,
          63.329619450668176,
          59.90842967648023,
          56.541104409836755,
          53.23035696966801,
          49.97906569755099,
          46.7902395540684,
          43.66700763573545,
          40.61262771275856,
          37.63050254724369,
          34.724205167863786,
          31.897521164760448,
          29.15445201906945,
          26.49922243885703,
          23.93627432557227,
          21.470271105925168,
          19.106083249229968,
          16.848795054179458,
          14.703721904776327,
          12.676420330970883,
          10.772711285780717,
          8.998727639798505,
          7.360939803348199,
          5.866164334204916,
          4.521612400948911,
          3.3348847799937302,
          2.3139785835630837,
          1.4672488585071157,
          0.8033949931405661,
          0.33140053637163464,
          0.060482659817217344,
          -5.643402412047749e-14,
          -5.643402412047749e-14,
          -5.643402412047749e-14,
          -5.651089871318792e-14,
          -5.651338602543753e-14,
          -5.651338602543753e-14,
          -5.659038513199121e-14,
          -5.659038513199121e-14,
          -5.680544679729908e-14,
          -5.680544679729908e-14,
          -5.7027172070803e-14
         ],
         "yaxis": "y3"
        }
       ],
       "layout": {
        "annotations": [
         {
          "font": {
           "size": 16
          },
          "showarrow": false,
          "text": "q_opt",
          "x": 0.14444444444444446,
          "xanchor": "center",
          "xref": "paper",
          "y": 1,
          "yanchor": "bottom",
          "yref": "paper"
         },
         {
          "font": {
           "size": 16
          },
          "showarrow": false,
          "text": "p_opt",
          "x": 0.5,
          "xanchor": "center",
          "xref": "paper",
          "y": 1,
          "yanchor": "bottom",
          "yref": "paper"
         },
         {
          "font": {
           "size": 16
          },
          "showarrow": false,
          "text": "S_opt",
          "x": 0.8555555555555556,
          "xanchor": "center",
          "xref": "paper",
          "y": 1,
          "yanchor": "bottom",
          "yref": "paper"
         }
        ],
        "template": {
         "data": {
          "bar": [
           {
            "error_x": {
             "color": "#2a3f5f"
            },
            "error_y": {
             "color": "#2a3f5f"
            },
            "marker": {
             "line": {
              "color": "white",
              "width": 0.5
             },
             "pattern": {
              "fillmode": "overlay",
              "size": 10,
              "solidity": 0.2
             }
            },
            "type": "bar"
           }
          ],
          "barpolar": [
           {
            "marker": {
             "line": {
              "color": "white",
              "width": 0.5
             },
             "pattern": {
              "fillmode": "overlay",
              "size": 10,
              "solidity": 0.2
             }
            },
            "type": "barpolar"
           }
          ],
          "carpet": [
           {
            "aaxis": {
             "endlinecolor": "#2a3f5f",
             "gridcolor": "#C8D4E3",
             "linecolor": "#C8D4E3",
             "minorgridcolor": "#C8D4E3",
             "startlinecolor": "#2a3f5f"
            },
            "baxis": {
             "endlinecolor": "#2a3f5f",
             "gridcolor": "#C8D4E3",
             "linecolor": "#C8D4E3",
             "minorgridcolor": "#C8D4E3",
             "startlinecolor": "#2a3f5f"
            },
            "type": "carpet"
           }
          ],
          "choropleth": [
           {
            "colorbar": {
             "outlinewidth": 0,
             "ticks": ""
            },
            "type": "choropleth"
           }
          ],
          "contour": [
           {
            "colorbar": {
             "outlinewidth": 0,
             "ticks": ""
            },
            "colorscale": [
             [
              0,
              "#0d0887"
             ],
             [
              0.1111111111111111,
              "#46039f"
             ],
             [
              0.2222222222222222,
              "#7201a8"
             ],
             [
              0.3333333333333333,
              "#9c179e"
             ],
             [
              0.4444444444444444,
              "#bd3786"
             ],
             [
              0.5555555555555556,
              "#d8576b"
             ],
             [
              0.6666666666666666,
              "#ed7953"
             ],
             [
              0.7777777777777778,
              "#fb9f3a"
             ],
             [
              0.8888888888888888,
              "#fdca26"
             ],
             [
              1,
              "#f0f921"
             ]
            ],
            "type": "contour"
           }
          ],
          "contourcarpet": [
           {
            "colorbar": {
             "outlinewidth": 0,
             "ticks": ""
            },
            "type": "contourcarpet"
           }
          ],
          "heatmap": [
           {
            "colorbar": {
             "outlinewidth": 0,
             "ticks": ""
            },
            "colorscale": [
             [
              0,
              "#0d0887"
             ],
             [
              0.1111111111111111,
              "#46039f"
             ],
             [
              0.2222222222222222,
              "#7201a8"
             ],
             [
              0.3333333333333333,
              "#9c179e"
             ],
             [
              0.4444444444444444,
              "#bd3786"
             ],
             [
              0.5555555555555556,
              "#d8576b"
             ],
             [
              0.6666666666666666,
              "#ed7953"
             ],
             [
              0.7777777777777778,
              "#fb9f3a"
             ],
             [
              0.8888888888888888,
              "#fdca26"
             ],
             [
              1,
              "#f0f921"
             ]
            ],
            "type": "heatmap"
           }
          ],
          "heatmapgl": [
           {
            "colorbar": {
             "outlinewidth": 0,
             "ticks": ""
            },
            "colorscale": [
             [
              0,
              "#0d0887"
             ],
             [
              0.1111111111111111,
              "#46039f"
             ],
             [
              0.2222222222222222,
              "#7201a8"
             ],
             [
              0.3333333333333333,
              "#9c179e"
             ],
             [
              0.4444444444444444,
              "#bd3786"
             ],
             [
              0.5555555555555556,
              "#d8576b"
             ],
             [
              0.6666666666666666,
              "#ed7953"
             ],
             [
              0.7777777777777778,
              "#fb9f3a"
             ],
             [
              0.8888888888888888,
              "#fdca26"
             ],
             [
              1,
              "#f0f921"
             ]
            ],
            "type": "heatmapgl"
           }
          ],
          "histogram": [
           {
            "marker": {
             "pattern": {
              "fillmode": "overlay",
              "size": 10,
              "solidity": 0.2
             }
            },
            "type": "histogram"
           }
          ],
          "histogram2d": [
           {
            "colorbar": {
             "outlinewidth": 0,
             "ticks": ""
            },
            "colorscale": [
             [
              0,
              "#0d0887"
             ],
             [
              0.1111111111111111,
              "#46039f"
             ],
             [
              0.2222222222222222,
              "#7201a8"
             ],
             [
              0.3333333333333333,
              "#9c179e"
             ],
             [
              0.4444444444444444,
              "#bd3786"
             ],
             [
              0.5555555555555556,
              "#d8576b"
             ],
             [
              0.6666666666666666,
              "#ed7953"
             ],
             [
              0.7777777777777778,
              "#fb9f3a"
             ],
             [
              0.8888888888888888,
              "#fdca26"
             ],
             [
              1,
              "#f0f921"
             ]
            ],
            "type": "histogram2d"
           }
          ],
          "histogram2dcontour": [
           {
            "colorbar": {
             "outlinewidth": 0,
             "ticks": ""
            },
            "colorscale": [
             [
              0,
              "#0d0887"
             ],
             [
              0.1111111111111111,
              "#46039f"
             ],
             [
              0.2222222222222222,
              "#7201a8"
             ],
             [
              0.3333333333333333,
              "#9c179e"
             ],
             [
              0.4444444444444444,
              "#bd3786"
             ],
             [
              0.5555555555555556,
              "#d8576b"
             ],
             [
              0.6666666666666666,
              "#ed7953"
             ],
             [
              0.7777777777777778,
              "#fb9f3a"
             ],
             [
              0.8888888888888888,
              "#fdca26"
             ],
             [
              1,
              "#f0f921"
             ]
            ],
            "type": "histogram2dcontour"
           }
          ],
          "mesh3d": [
           {
            "colorbar": {
             "outlinewidth": 0,
             "ticks": ""
            },
            "type": "mesh3d"
           }
          ],
          "parcoords": [
           {
            "line": {
             "colorbar": {
              "outlinewidth": 0,
              "ticks": ""
             }
            },
            "type": "parcoords"
           }
          ],
          "pie": [
           {
            "automargin": true,
            "type": "pie"
           }
          ],
          "scatter": [
           {
            "fillpattern": {
             "fillmode": "overlay",
             "size": 10,
             "solidity": 0.2
            },
            "type": "scatter"
           }
          ],
          "scatter3d": [
           {
            "line": {
             "colorbar": {
              "outlinewidth": 0,
              "ticks": ""
             }
            },
            "marker": {
             "colorbar": {
              "outlinewidth": 0,
              "ticks": ""
             }
            },
            "type": "scatter3d"
           }
          ],
          "scattercarpet": [
           {
            "marker": {
             "colorbar": {
              "outlinewidth": 0,
              "ticks": ""
             }
            },
            "type": "scattercarpet"
           }
          ],
          "scattergeo": [
           {
            "marker": {
             "colorbar": {
              "outlinewidth": 0,
              "ticks": ""
             }
            },
            "type": "scattergeo"
           }
          ],
          "scattergl": [
           {
            "marker": {
             "colorbar": {
              "outlinewidth": 0,
              "ticks": ""
             }
            },
            "type": "scattergl"
           }
          ],
          "scattermapbox": [
           {
            "marker": {
             "colorbar": {
              "outlinewidth": 0,
              "ticks": ""
             }
            },
            "type": "scattermapbox"
           }
          ],
          "scatterpolar": [
           {
            "marker": {
             "colorbar": {
              "outlinewidth": 0,
              "ticks": ""
             }
            },
            "type": "scatterpolar"
           }
          ],
          "scatterpolargl": [
           {
            "marker": {
             "colorbar": {
              "outlinewidth": 0,
              "ticks": ""
             }
            },
            "type": "scatterpolargl"
           }
          ],
          "scatterternary": [
           {
            "marker": {
             "colorbar": {
              "outlinewidth": 0,
              "ticks": ""
             }
            },
            "type": "scatterternary"
           }
          ],
          "surface": [
           {
            "colorbar": {
             "outlinewidth": 0,
             "ticks": ""
            },
            "colorscale": [
             [
              0,
              "#0d0887"
             ],
             [
              0.1111111111111111,
              "#46039f"
             ],
             [
              0.2222222222222222,
              "#7201a8"
             ],
             [
              0.3333333333333333,
              "#9c179e"
             ],
             [
              0.4444444444444444,
              "#bd3786"
             ],
             [
              0.5555555555555556,
              "#d8576b"
             ],
             [
              0.6666666666666666,
              "#ed7953"
             ],
             [
              0.7777777777777778,
              "#fb9f3a"
             ],
             [
              0.8888888888888888,
              "#fdca26"
             ],
             [
              1,
              "#f0f921"
             ]
            ],
            "type": "surface"
           }
          ],
          "table": [
           {
            "cells": {
             "fill": {
              "color": "#EBF0F8"
             },
             "line": {
              "color": "white"
             }
            },
            "header": {
             "fill": {
              "color": "#C8D4E3"
             },
             "line": {
              "color": "white"
             }
            },
            "type": "table"
           }
          ]
         },
         "layout": {
          "annotationdefaults": {
           "arrowcolor": "#2a3f5f",
           "arrowhead": 0,
           "arrowwidth": 1
          },
          "autotypenumbers": "strict",
          "coloraxis": {
           "colorbar": {
            "outlinewidth": 0,
            "ticks": ""
           }
          },
          "colorscale": {
           "diverging": [
            [
             0,
             "#8e0152"
            ],
            [
             0.1,
             "#c51b7d"
            ],
            [
             0.2,
             "#de77ae"
            ],
            [
             0.3,
             "#f1b6da"
            ],
            [
             0.4,
             "#fde0ef"
            ],
            [
             0.5,
             "#f7f7f7"
            ],
            [
             0.6,
             "#e6f5d0"
            ],
            [
             0.7,
             "#b8e186"
            ],
            [
             0.8,
             "#7fbc41"
            ],
            [
             0.9,
             "#4d9221"
            ],
            [
             1,
             "#276419"
            ]
           ],
           "sequential": [
            [
             0,
             "#0d0887"
            ],
            [
             0.1111111111111111,
             "#46039f"
            ],
            [
             0.2222222222222222,
             "#7201a8"
            ],
            [
             0.3333333333333333,
             "#9c179e"
            ],
            [
             0.4444444444444444,
             "#bd3786"
            ],
            [
             0.5555555555555556,
             "#d8576b"
            ],
            [
             0.6666666666666666,
             "#ed7953"
            ],
            [
             0.7777777777777778,
             "#fb9f3a"
            ],
            [
             0.8888888888888888,
             "#fdca26"
            ],
            [
             1,
             "#f0f921"
            ]
           ],
           "sequentialminus": [
            [
             0,
             "#0d0887"
            ],
            [
             0.1111111111111111,
             "#46039f"
            ],
            [
             0.2222222222222222,
             "#7201a8"
            ],
            [
             0.3333333333333333,
             "#9c179e"
            ],
            [
             0.4444444444444444,
             "#bd3786"
            ],
            [
             0.5555555555555556,
             "#d8576b"
            ],
            [
             0.6666666666666666,
             "#ed7953"
            ],
            [
             0.7777777777777778,
             "#fb9f3a"
            ],
            [
             0.8888888888888888,
             "#fdca26"
            ],
            [
             1,
             "#f0f921"
            ]
           ]
          },
          "colorway": [
           "#636efa",
           "#EF553B",
           "#00cc96",
           "#ab63fa",
           "#FFA15A",
           "#19d3f3",
           "#FF6692",
           "#B6E880",
           "#FF97FF",
           "#FECB52"
          ],
          "font": {
           "color": "#2a3f5f"
          },
          "geo": {
           "bgcolor": "white",
           "lakecolor": "white",
           "landcolor": "white",
           "showlakes": true,
           "showland": true,
           "subunitcolor": "#C8D4E3"
          },
          "hoverlabel": {
           "align": "left"
          },
          "hovermode": "closest",
          "mapbox": {
           "style": "light"
          },
          "paper_bgcolor": "white",
          "plot_bgcolor": "white",
          "polar": {
           "angularaxis": {
            "gridcolor": "#EBF0F8",
            "linecolor": "#EBF0F8",
            "ticks": ""
           },
           "bgcolor": "white",
           "radialaxis": {
            "gridcolor": "#EBF0F8",
            "linecolor": "#EBF0F8",
            "ticks": ""
           }
          },
          "scene": {
           "xaxis": {
            "backgroundcolor": "white",
            "gridcolor": "#DFE8F3",
            "gridwidth": 2,
            "linecolor": "#EBF0F8",
            "showbackground": true,
            "ticks": "",
            "zerolinecolor": "#EBF0F8"
           },
           "yaxis": {
            "backgroundcolor": "white",
            "gridcolor": "#DFE8F3",
            "gridwidth": 2,
            "linecolor": "#EBF0F8",
            "showbackground": true,
            "ticks": "",
            "zerolinecolor": "#EBF0F8"
           },
           "zaxis": {
            "backgroundcolor": "white",
            "gridcolor": "#DFE8F3",
            "gridwidth": 2,
            "linecolor": "#EBF0F8",
            "showbackground": true,
            "ticks": "",
            "zerolinecolor": "#EBF0F8"
           }
          },
          "shapedefaults": {
           "line": {
            "color": "#2a3f5f"
           }
          },
          "ternary": {
           "aaxis": {
            "gridcolor": "#DFE8F3",
            "linecolor": "#A2B1C6",
            "ticks": ""
           },
           "baxis": {
            "gridcolor": "#DFE8F3",
            "linecolor": "#A2B1C6",
            "ticks": ""
           },
           "bgcolor": "white",
           "caxis": {
            "gridcolor": "#DFE8F3",
            "linecolor": "#A2B1C6",
            "ticks": ""
           }
          },
          "title": {
           "x": 0.05
          },
          "xaxis": {
           "automargin": true,
           "gridcolor": "#EBF0F8",
           "linecolor": "#EBF0F8",
           "ticks": "",
           "title": {
            "standoff": 15
           },
           "zerolinecolor": "#EBF0F8",
           "zerolinewidth": 2
          },
          "yaxis": {
           "automargin": true,
           "gridcolor": "#EBF0F8",
           "linecolor": "#EBF0F8",
           "ticks": "",
           "title": {
            "standoff": 15
           },
           "zerolinecolor": "#EBF0F8",
           "zerolinewidth": 2
          }
         }
        },
        "title": {
         "text": "Hotelling_mono"
        },
        "xaxis": {
         "anchor": "y",
         "domain": [
          0,
          0.2888888888888889
         ],
         "title": {
          "text": "t"
         }
        },
        "xaxis2": {
         "anchor": "y2",
         "domain": [
          0.35555555555555557,
          0.6444444444444445
         ]
        },
        "xaxis3": {
         "anchor": "y3",
         "domain": [
          0.7111111111111111,
          1
         ]
        },
        "yaxis": {
         "anchor": "x",
         "domain": [
          0,
          1
         ],
         "title": {
          "text": "value"
         }
        },
        "yaxis2": {
         "anchor": "x2",
         "domain": [
          0,
          1
         ]
        },
        "yaxis3": {
         "anchor": "x3",
         "domain": [
          0,
          1
         ]
        }
       }
      }
     },
     "metadata": {},
     "output_type": "display_data"
    }
   ],
   "source": [
    "def hotelling_mono(T = 50, S0 = 100, a = 10, b = 1, c = 1, r = 0.05):\n",
    "    # Sets & Parameters --------------------------------\n",
    "    # T = 50\n",
    "    # S0 = 100\n",
    "    # a = 10\n",
    "    # b = 1\n",
    "    # c = 1\n",
    "    # r = 0.05\n",
    "\n",
    "    rho = 1/(1+r)**np.arange(T+1)\n",
    "\n",
    "    # State Variables -----------------------------------\n",
    "\n",
    "    def f_S(i_q):\n",
    "        S = np.zeros(T+1)\n",
    "        S[0] = S0\n",
    "        for t in range(1, T+1):\n",
    "            S[t] = S[t-1] - i_q[t-1]\n",
    "        return S\n",
    "\n",
    "    def f_p(i_q):\n",
    "        return a - b*i_q\n",
    "\n",
    "\n",
    "    # Objective Function -------------------------------\n",
    "    def f_obj(i_q):\n",
    "        obj_value = sum(rho[t] * (i_q[t] * (f_p(i_q)[t] - c)) for t in range(T+1))\n",
    "        return -1* obj_value\n",
    "\n",
    "\n",
    "    # Decision Variables -------------------------------\n",
    "    q_start = np.full(T+1, 1)\n",
    "    bnds = [(0, S0) for t in range(T+1)]\n",
    "\n",
    "    # Constraints --------------------------------------\n",
    "    def c_total_extr(i_q):\n",
    "        return S0 - sum([i_q[t] for t in range(T+1)])\n",
    "    cnstr = [\n",
    "        {'type': 'eq', 'fun': c_total_extr},\n",
    "    ]\n",
    "\n",
    "    # Run Optimization ---------------------------------\n",
    "    results = opt.minimize(f_obj, q_start, bounds=bnds, constraints=cnstr,\n",
    "                        options={'disp': False}\n",
    "                        )\n",
    "\n",
    "    # Results ------------------------------------------\n",
    "    q_opt = results.x\n",
    "    S_opt = f_S(q_opt)\n",
    "    p_opt = f_p(q_opt)\n",
    "    npv_opt = f_obj(q_opt) # also possible to calculcate this array by hand: [rho[t] * (q_opt[t] * (a-b*q_opt[t]) - c*q_opt[t]) for t in range(T+1)]\n",
    "\n",
    "    df = pd.DataFrame({\n",
    "        't': range(T+1),\n",
    "        'q_opt': q_opt,\n",
    "        'S_opt': S_opt,\n",
    "        'p_opt': p_opt,\n",
    "        'npv_opt': npv_opt\n",
    "    })\n",
    "\n",
    "    return df\n",
    "\n",
    "df_hotelling_mono = hotelling_mono()\n",
    "print(f'objective value: \\t{df_hotelling_mono[\"npv_opt\"].sum()}; \\np_opt[0]: \\t\\t{df_hotelling_mono[\"p_opt\"][0]}')\n",
    "\n",
    "\n",
    "# Plot Results -------------------------------------\n",
    "fig = make_subplots(rows=1, cols=3, subplot_titles=('q_opt', 'p_opt', 'S_opt'))\n",
    "def add_trace_to_subplot_hotelling(fig, df, legend_name):\n",
    "    fig.add_trace(go.Scatter(x=df['t'], y=df['q_opt'], mode='lines', name=f'q_{legend_name}', legendgroup=legend_name, showlegend=True), row=1, col=1)\n",
    "    fig.add_trace(go.Scatter(x=df['t'], y=df['p_opt'], mode='lines', name=f'p_{legend_name}', legendgroup=legend_name, showlegend=True), row=1, col=2)\n",
    "    fig.add_trace(go.Scatter(x=df['t'], y=df['S_opt'], mode='lines', name=f'S_{legend_name}', legendgroup=legend_name, showlegend=True), row=1, col=3)\n",
    "    \n",
    "    return fig\n",
    "\n",
    "add_trace_to_subplot_hotelling(fig, df_hotelling_mono, 'base')\n",
    "\n",
    "fig.update_layout(title='Hotelling_mono', xaxis_title='t', yaxis_title='value', template='plotly_white')\n",
    "fig.write_html('hotelling_mono.html')  \n",
    "fig.show()\n"
   ]
  },
  {
   "cell_type": "markdown",
   "id": "b69cd0af",
   "metadata": {},
   "source": [
    "**1c)** \\\n",
    "Now, the oil drilling company is in a *competitive market*. \n",
    "- Without going into math or code, what is the main difference between an optimization model for a monopolist vs. a competitive market? \n",
    "- To find a numerical model that we can optimize, we first need to derive the Hotelling-Rule with pen and paper and then transfer it to optimization software. (Hint: You can use the Lagrangian $L$ to set up the optimization problem. Calculate the first order derivatives for $\\frac{\\partial L}{\\partial q_0}$ and $\\frac{\\partial L}{\\partial q_t}$ to derive the Hotelling-rule that defines $p_t$)\n",
    "- What assumption has to be given for the Hotelling-rule?"
   ]
  },
  {
   "cell_type": "markdown",
   "id": "bc996e51",
   "metadata": {},
   "source": [
    "$$\\max_{q_t} \\sum_{t=0}^T \\rho^t (p_t q_t - cq_t) \\qquad {s.t.}\\qquad\\sum_{t=0}^Tq_t = S_0\n",
    "\\\\[3em]\n",
    "L = \\sum_{t=0}^T \\rho^t (p_t q_t - cq_t) - \\lambda \\left( \\sum_{t=0}^Tq_t - S_0 \\right)"
   ]
  },
  {
   "cell_type": "markdown",
   "id": "db24b0ae",
   "metadata": {},
   "source": [
    "*Solution*\n",
    "$$\n",
    "FOC: \\\\\n",
    "\\frac{\\partial L}{\\partial q_0} = \\underbrace{\\rho^0}_{\\frac{1}{(1+r)^0} = 1} (p_0 - c) - \\lambda = 0 \\qquad \\rightarrow  \\lambda = p_0 - c \n",
    "\\\\\n",
    "\\frac{\\partial L}{\\partial q_t} = \\rho^t (p_t - c) - \\lambda = 0 \\qquad \\rightarrow p_t = c+ \\underbrace{\\lambda}_{p_0-c}(1+r)^t\n",
    "\\\\\n",
    "p_t = \\underbrace{c}_{I} + \\underbrace{(p_0 -c)(1+r)^t}_{II}\\\\\n",
    "$$\n",
    "***Main differences***: In a monopolist case, your decision variable is $q$, an entire array of extractions over $t$ which determined $p$. In a competitive market scenario, how much you as one of many market participants extracts depends on the price $p_t$. Because the price follows a predefined pathway, you no longer optimze using an array, but a single initial price value to solve your model.\n",
    "\n",
    "***Key assumption***: We have to assume that the stock does not increase (discovery), is fully extracted (no valuable reserves left) and that extraction costs remain constant."
   ]
  },
  {
   "cell_type": "markdown",
   "id": "389574a1",
   "metadata": {},
   "source": [
    "**1d)** \\\n",
    "Build a new model to compute the price and extraction schedule under the Hotelling-Rule in the competitive market (Hint: Now take $p_0$ as the only \"decision variable\" and define the other components endogenously). \n",
    "\n",
    "Visualize the results of the otherwise identical monopolist case to spot the differences. Given the model results would you prefer a market with a monopolist or perfect competition?"
   ]
  },
  {
   "cell_type": "code",
   "execution_count": 34,
   "id": "ebf98de0",
   "metadata": {},
   "outputs": [
    {
     "name": "stderr",
     "output_type": "stream",
     "text": [
      "C:\\Users\\hocrau00\\AppData\\Local\\Temp\\ipykernel_18816\\1287254770.py:13: DeprecationWarning:\n",
      "\n",
      "Conversion of an array with ndim > 0 to a scalar is deprecated, and will error in future. Ensure you extract a single element from your array before performing this operation. (Deprecated NumPy 1.25.)\n",
      "\n",
      "C:\\Users\\hocrau00\\AppData\\Local\\Temp\\ipykernel_18816\\1287254770.py:15: DeprecationWarning:\n",
      "\n",
      "Conversion of an array with ndim > 0 to a scalar is deprecated, and will error in future. Ensure you extract a single element from your array before performing this operation. (Deprecated NumPy 1.25.)\n",
      "\n"
     ]
    },
    {
     "data": {
      "application/vnd.plotly.v1+json": {
       "config": {
        "plotlyServerURL": "https://plot.ly"
       },
       "data": [
        {
         "legendgroup": "mono",
         "mode": "lines",
         "name": "q_mono",
         "showlegend": true,
         "type": "scatter",
         "x": [
          0,
          1,
          2,
          3,
          4,
          5,
          6,
          7,
          8,
          9,
          10,
          11,
          12,
          13,
          14,
          15,
          16,
          17,
          18,
          19,
          20,
          21,
          22,
          23,
          24,
          25,
          26,
          27,
          28,
          29,
          30,
          31,
          32,
          33,
          34,
          35,
          36,
          37,
          38,
          39,
          40,
          41,
          42,
          43,
          44,
          45,
          46,
          47,
          48,
          49,
          50
         ],
         "xaxis": "x",
         "y": [
          3.837838525345531,
          3.804552498254851,
          3.769874482810309,
          3.7331908822062805,
          3.6949884770124233,
          3.654946673066361,
          3.612724022977238,
          3.5682334868834498,
          3.521504765679684,
          3.4725267350956983,
          3.421189774187942,
          3.367325266643478,
          3.3107474401687447,
          3.2512912721170126,
          3.1888261434825917,
          3.123231918332949,
          3.054379922976891,
          2.9821251655148746,
          2.9062973793798976,
          2.8266840031033396,
          2.7430691456909995,
          2.655229580212422,
          2.5629481132847562,
          2.466003219647103,
          2.364187856695198,
          2.257288195050511,
          2.145073149403131,
          2.0273015738054436,
          1.9037090451901657,
          1.773983645982213,
          1.6377878364503053,
          1.4947754691432835,
          1.3445519332560045,
          1.1867276209551805,
          1.0209061964306463,
          0.846729725055968,
          0.6638538653665497,
          0.4719944567689314,
          0.2709178765544173,
          0.06048265981727378,
          0,
          0,
          7.687459271043216e-17,
          2.487312249612253e-18,
          0,
          7.699910655367855e-17,
          0,
          2.1506166530786686e-16,
          0,
          2.2172527350391644e-16,
          0
         ],
         "yaxis": "y"
        },
        {
         "legendgroup": "mono",
         "mode": "lines",
         "name": "p_mono",
         "showlegend": true,
         "type": "scatter",
         "x": [
          0,
          1,
          2,
          3,
          4,
          5,
          6,
          7,
          8,
          9,
          10,
          11,
          12,
          13,
          14,
          15,
          16,
          17,
          18,
          19,
          20,
          21,
          22,
          23,
          24,
          25,
          26,
          27,
          28,
          29,
          30,
          31,
          32,
          33,
          34,
          35,
          36,
          37,
          38,
          39,
          40,
          41,
          42,
          43,
          44,
          45,
          46,
          47,
          48,
          49,
          50
         ],
         "xaxis": "x2",
         "y": [
          6.162161474654469,
          6.195447501745149,
          6.230125517189691,
          6.26680911779372,
          6.305011522987577,
          6.345053326933639,
          6.387275977022762,
          6.43176651311655,
          6.478495234320317,
          6.527473264904302,
          6.578810225812058,
          6.632674733356522,
          6.689252559831255,
          6.748708727882987,
          6.811173856517408,
          6.876768081667051,
          6.94562007702311,
          7.017874834485125,
          7.093702620620102,
          7.17331599689666,
          7.256930854309001,
          7.344770419787578,
          7.437051886715244,
          7.533996780352897,
          7.635812143304802,
          7.742711804949489,
          7.854926850596868,
          7.972698426194556,
          8.096290954809835,
          8.226016354017787,
          8.362212163549694,
          8.505224530856717,
          8.655448066743995,
          8.81327237904482,
          8.979093803569354,
          9.153270274944031,
          9.33614613463345,
          9.52800554323107,
          9.729082123445583,
          9.939517340182727,
          10,
          10,
          10,
          10,
          10,
          10,
          10,
          10,
          10,
          10,
          10
         ],
         "yaxis": "y2"
        },
        {
         "legendgroup": "mono",
         "mode": "lines",
         "name": "S_mono",
         "showlegend": true,
         "type": "scatter",
         "x": [
          0,
          1,
          2,
          3,
          4,
          5,
          6,
          7,
          8,
          9,
          10,
          11,
          12,
          13,
          14,
          15,
          16,
          17,
          18,
          19,
          20,
          21,
          22,
          23,
          24,
          25,
          26,
          27,
          28,
          29,
          30,
          31,
          32,
          33,
          34,
          35,
          36,
          37,
          38,
          39,
          40,
          41,
          42,
          43,
          44,
          45,
          46,
          47,
          48,
          49,
          50
         ],
         "xaxis": "x3",
         "y": [
          100,
          96.16216147465447,
          92.35760897639962,
          88.58773449358931,
          84.85454361138302,
          81.15955513437059,
          77.50460846130423,
          73.891884438327,
          70.32365095144355,
          66.80214618576387,
          63.329619450668176,
          59.90842967648023,
          56.541104409836755,
          53.23035696966801,
          49.97906569755099,
          46.7902395540684,
          43.66700763573545,
          40.61262771275856,
          37.63050254724369,
          34.724205167863786,
          31.897521164760448,
          29.15445201906945,
          26.49922243885703,
          23.93627432557227,
          21.470271105925168,
          19.106083249229968,
          16.848795054179458,
          14.703721904776327,
          12.676420330970883,
          10.772711285780717,
          8.998727639798505,
          7.360939803348199,
          5.866164334204916,
          4.521612400948911,
          3.3348847799937302,
          2.3139785835630837,
          1.4672488585071157,
          0.8033949931405661,
          0.33140053637163464,
          0.060482659817217344,
          -5.643402412047749e-14,
          -5.643402412047749e-14,
          -5.643402412047749e-14,
          -5.651089871318792e-14,
          -5.651338602543753e-14,
          -5.651338602543753e-14,
          -5.659038513199121e-14,
          -5.659038513199121e-14,
          -5.680544679729908e-14,
          -5.680544679729908e-14,
          -5.7027172070803e-14
         ],
         "yaxis": "y3"
        },
        {
         "legendgroup": "compmarket",
         "mode": "lines",
         "name": "q_compmarket",
         "showlegend": true,
         "type": "scatter",
         "x": [
          0,
          1,
          2,
          3,
          4,
          5,
          6,
          7,
          8,
          9,
          10,
          11,
          12,
          13,
          14,
          15,
          16,
          17,
          18,
          19,
          20,
          21,
          22,
          23,
          24,
          25,
          26,
          27,
          28,
          29,
          30,
          31,
          32,
          33,
          34,
          35,
          36,
          37,
          38,
          39,
          40,
          41,
          42,
          43,
          44,
          45,
          46,
          47,
          48,
          49,
          50
         ],
         "xaxis": "x",
         "y": [
          7.374207562902225,
          7.292917941047335,
          7.207563838099702,
          7.117942030004687,
          7.023839131504921,
          6.925031088080167,
          6.821282642484175,
          6.712346774608385,
          6.597964113338803,
          6.477862319005743,
          6.351755434956031,
          6.219343206703831,
          6.080310367039023,
          5.934325885390974,
          5.781042179660522,
          5.620094288643548,
          5.4510990030757265,
          5.273653953229513,
          5.087336650890988,
          4.891703483435537,
          4.686288657607314,
          4.470603090487679,
          4.244133245012063,
          4.0063399072626655,
          3.7566569026257994,
          3.494489747757088,
          3.2192142351449426,
          2.9301749469021896,
          2.6266836942472986,
          2.308017878959663,
          1.973418772907646,
          1.6220897115530288,
          1.2531941971306786,
          0.8658539069872138,
          0.459146602336574,
          0.03210393245340093,
          -0.4162908709239286,
          -0.8871054144701258,
          -1.3814606851936322,
          -1.900533719453314,
          -2.445560405425981,
          -3.0178384256972794,
          -3.6187303469821437,
          -4.249666864331253,
          -4.912150207547818,
          -5.607757717925207,
          -6.3381456038214665,
          -7.105052884012544,
          -7.9103055282131685,
          -8.755820804623827,
          -9.643611844855023
         ],
         "yaxis": "y"
        },
        {
         "legendgroup": "compmarket",
         "mode": "lines",
         "name": "p_compmarket",
         "showlegend": true,
         "type": "scatter",
         "x": [
          0,
          1,
          2,
          3,
          4,
          5,
          6,
          7,
          8,
          9,
          10,
          11,
          12,
          13,
          14,
          15,
          16,
          17,
          18,
          19,
          20,
          21,
          22,
          23,
          24,
          25,
          26,
          27,
          28,
          29,
          30,
          31,
          32,
          33,
          34,
          35,
          36,
          37,
          38,
          39,
          40,
          41,
          42,
          43,
          44,
          45,
          46,
          47,
          48,
          49,
          50
         ],
         "xaxis": "x2",
         "y": [
          2.625792437097776,
          2.7070820589526647,
          2.792436161900298,
          2.882057969995313,
          2.9761608684950787,
          3.074968911919833,
          3.1787173575158247,
          3.2876532253916158,
          3.4020358866611966,
          3.522137680994257,
          3.6482445650439694,
          3.7806567932961683,
          3.919689632960977,
          4.065674114609026,
          4.218957820339478,
          4.379905711356452,
          4.5489009969242735,
          4.726346046770487,
          4.912663349109012,
          5.108296516564463,
          5.313711342392686,
          5.529396909512321,
          5.755866754987937,
          5.9936600927373345,
          6.243343097374201,
          6.505510252242912,
          6.780785764855057,
          7.06982505309781,
          7.373316305752701,
          7.691982121040337,
          8.026581227092354,
          8.377910288446971,
          8.746805802869321,
          9.134146093012786,
          9.540853397663426,
          9.967896067546599,
          10.416290870923929,
          10.887105414470126,
          11.381460685193632,
          11.900533719453314,
          12.445560405425981,
          13.01783842569728,
          13.618730346982144,
          14.249666864331253,
          14.912150207547818,
          15.607757717925207,
          16.338145603821467,
          17.105052884012544,
          17.91030552821317,
          18.755820804623827,
          19.643611844855023
         ],
         "yaxis": "y2"
        },
        {
         "legendgroup": "compmarket",
         "mode": "lines",
         "name": "S_compmarket",
         "showlegend": true,
         "type": "scatter",
         "x": [
          0,
          1,
          2,
          3,
          4,
          5,
          6,
          7,
          8,
          9,
          10,
          11,
          12,
          13,
          14,
          15,
          16,
          17,
          18,
          19,
          20,
          21,
          22,
          23,
          24,
          25,
          26,
          27,
          28,
          29,
          30,
          31,
          32,
          33,
          34,
          35,
          36,
          37,
          38,
          39,
          40,
          41,
          42,
          43,
          44,
          45,
          46,
          47,
          48,
          49,
          50
         ],
         "xaxis": "x3",
         "y": [
          100,
          92.62579243709777,
          85.33287449605044,
          78.12531065795073,
          71.00736862794605,
          63.98352949644113,
          57.05849840836096,
          50.23721576587678,
          43.5248689912684,
          36.926904877929594,
          30.44904255892385,
          24.097287123967817,
          17.877943917263984,
          11.797633550224962,
          5.863307664833988,
          0.08226548517346544,
          -5.537828803470083,
          -10.98892780654581,
          -16.262581759775323,
          -21.349918410666312,
          -26.241621894101847,
          -30.92791055170916,
          -35.39851364219684,
          -39.642646887208905,
          -43.64898679447157,
          -47.40564369709737,
          -50.900133444854454,
          -54.11934767999939,
          -57.049522626901584,
          -59.67620632114888,
          -61.98422420010854,
          -63.95764297301619,
          -65.57973268456922,
          -66.8329268816999,
          -67.69878078868712,
          -68.15792739102369,
          -68.19003132347709,
          -67.77374045255316,
          -66.88663503808303,
          -65.5051743528894,
          -63.604640633436084,
          -61.159080228010104,
          -58.14124180231283,
          -54.52251145533069,
          -50.27284459099943,
          -45.360694383451616,
          -39.752936665526406,
          -33.41479106170494,
          -26.309738177692395,
          -18.399432649479227,
          -9.6436118448554
         ],
         "yaxis": "y3"
        }
       ],
       "layout": {
        "annotations": [
         {
          "font": {
           "size": 16
          },
          "showarrow": false,
          "text": "q_opt",
          "x": 0.14444444444444446,
          "xanchor": "center",
          "xref": "paper",
          "y": 1,
          "yanchor": "bottom",
          "yref": "paper"
         },
         {
          "font": {
           "size": 16
          },
          "showarrow": false,
          "text": "p_opt",
          "x": 0.5,
          "xanchor": "center",
          "xref": "paper",
          "y": 1,
          "yanchor": "bottom",
          "yref": "paper"
         },
         {
          "font": {
           "size": 16
          },
          "showarrow": false,
          "text": "S_opt",
          "x": 0.8555555555555556,
          "xanchor": "center",
          "xref": "paper",
          "y": 1,
          "yanchor": "bottom",
          "yref": "paper"
         }
        ],
        "template": {
         "data": {
          "bar": [
           {
            "error_x": {
             "color": "#2a3f5f"
            },
            "error_y": {
             "color": "#2a3f5f"
            },
            "marker": {
             "line": {
              "color": "white",
              "width": 0.5
             },
             "pattern": {
              "fillmode": "overlay",
              "size": 10,
              "solidity": 0.2
             }
            },
            "type": "bar"
           }
          ],
          "barpolar": [
           {
            "marker": {
             "line": {
              "color": "white",
              "width": 0.5
             },
             "pattern": {
              "fillmode": "overlay",
              "size": 10,
              "solidity": 0.2
             }
            },
            "type": "barpolar"
           }
          ],
          "carpet": [
           {
            "aaxis": {
             "endlinecolor": "#2a3f5f",
             "gridcolor": "#C8D4E3",
             "linecolor": "#C8D4E3",
             "minorgridcolor": "#C8D4E3",
             "startlinecolor": "#2a3f5f"
            },
            "baxis": {
             "endlinecolor": "#2a3f5f",
             "gridcolor": "#C8D4E3",
             "linecolor": "#C8D4E3",
             "minorgridcolor": "#C8D4E3",
             "startlinecolor": "#2a3f5f"
            },
            "type": "carpet"
           }
          ],
          "choropleth": [
           {
            "colorbar": {
             "outlinewidth": 0,
             "ticks": ""
            },
            "type": "choropleth"
           }
          ],
          "contour": [
           {
            "colorbar": {
             "outlinewidth": 0,
             "ticks": ""
            },
            "colorscale": [
             [
              0,
              "#0d0887"
             ],
             [
              0.1111111111111111,
              "#46039f"
             ],
             [
              0.2222222222222222,
              "#7201a8"
             ],
             [
              0.3333333333333333,
              "#9c179e"
             ],
             [
              0.4444444444444444,
              "#bd3786"
             ],
             [
              0.5555555555555556,
              "#d8576b"
             ],
             [
              0.6666666666666666,
              "#ed7953"
             ],
             [
              0.7777777777777778,
              "#fb9f3a"
             ],
             [
              0.8888888888888888,
              "#fdca26"
             ],
             [
              1,
              "#f0f921"
             ]
            ],
            "type": "contour"
           }
          ],
          "contourcarpet": [
           {
            "colorbar": {
             "outlinewidth": 0,
             "ticks": ""
            },
            "type": "contourcarpet"
           }
          ],
          "heatmap": [
           {
            "colorbar": {
             "outlinewidth": 0,
             "ticks": ""
            },
            "colorscale": [
             [
              0,
              "#0d0887"
             ],
             [
              0.1111111111111111,
              "#46039f"
             ],
             [
              0.2222222222222222,
              "#7201a8"
             ],
             [
              0.3333333333333333,
              "#9c179e"
             ],
             [
              0.4444444444444444,
              "#bd3786"
             ],
             [
              0.5555555555555556,
              "#d8576b"
             ],
             [
              0.6666666666666666,
              "#ed7953"
             ],
             [
              0.7777777777777778,
              "#fb9f3a"
             ],
             [
              0.8888888888888888,
              "#fdca26"
             ],
             [
              1,
              "#f0f921"
             ]
            ],
            "type": "heatmap"
           }
          ],
          "heatmapgl": [
           {
            "colorbar": {
             "outlinewidth": 0,
             "ticks": ""
            },
            "colorscale": [
             [
              0,
              "#0d0887"
             ],
             [
              0.1111111111111111,
              "#46039f"
             ],
             [
              0.2222222222222222,
              "#7201a8"
             ],
             [
              0.3333333333333333,
              "#9c179e"
             ],
             [
              0.4444444444444444,
              "#bd3786"
             ],
             [
              0.5555555555555556,
              "#d8576b"
             ],
             [
              0.6666666666666666,
              "#ed7953"
             ],
             [
              0.7777777777777778,
              "#fb9f3a"
             ],
             [
              0.8888888888888888,
              "#fdca26"
             ],
             [
              1,
              "#f0f921"
             ]
            ],
            "type": "heatmapgl"
           }
          ],
          "histogram": [
           {
            "marker": {
             "pattern": {
              "fillmode": "overlay",
              "size": 10,
              "solidity": 0.2
             }
            },
            "type": "histogram"
           }
          ],
          "histogram2d": [
           {
            "colorbar": {
             "outlinewidth": 0,
             "ticks": ""
            },
            "colorscale": [
             [
              0,
              "#0d0887"
             ],
             [
              0.1111111111111111,
              "#46039f"
             ],
             [
              0.2222222222222222,
              "#7201a8"
             ],
             [
              0.3333333333333333,
              "#9c179e"
             ],
             [
              0.4444444444444444,
              "#bd3786"
             ],
             [
              0.5555555555555556,
              "#d8576b"
             ],
             [
              0.6666666666666666,
              "#ed7953"
             ],
             [
              0.7777777777777778,
              "#fb9f3a"
             ],
             [
              0.8888888888888888,
              "#fdca26"
             ],
             [
              1,
              "#f0f921"
             ]
            ],
            "type": "histogram2d"
           }
          ],
          "histogram2dcontour": [
           {
            "colorbar": {
             "outlinewidth": 0,
             "ticks": ""
            },
            "colorscale": [
             [
              0,
              "#0d0887"
             ],
             [
              0.1111111111111111,
              "#46039f"
             ],
             [
              0.2222222222222222,
              "#7201a8"
             ],
             [
              0.3333333333333333,
              "#9c179e"
             ],
             [
              0.4444444444444444,
              "#bd3786"
             ],
             [
              0.5555555555555556,
              "#d8576b"
             ],
             [
              0.6666666666666666,
              "#ed7953"
             ],
             [
              0.7777777777777778,
              "#fb9f3a"
             ],
             [
              0.8888888888888888,
              "#fdca26"
             ],
             [
              1,
              "#f0f921"
             ]
            ],
            "type": "histogram2dcontour"
           }
          ],
          "mesh3d": [
           {
            "colorbar": {
             "outlinewidth": 0,
             "ticks": ""
            },
            "type": "mesh3d"
           }
          ],
          "parcoords": [
           {
            "line": {
             "colorbar": {
              "outlinewidth": 0,
              "ticks": ""
             }
            },
            "type": "parcoords"
           }
          ],
          "pie": [
           {
            "automargin": true,
            "type": "pie"
           }
          ],
          "scatter": [
           {
            "fillpattern": {
             "fillmode": "overlay",
             "size": 10,
             "solidity": 0.2
            },
            "type": "scatter"
           }
          ],
          "scatter3d": [
           {
            "line": {
             "colorbar": {
              "outlinewidth": 0,
              "ticks": ""
             }
            },
            "marker": {
             "colorbar": {
              "outlinewidth": 0,
              "ticks": ""
             }
            },
            "type": "scatter3d"
           }
          ],
          "scattercarpet": [
           {
            "marker": {
             "colorbar": {
              "outlinewidth": 0,
              "ticks": ""
             }
            },
            "type": "scattercarpet"
           }
          ],
          "scattergeo": [
           {
            "marker": {
             "colorbar": {
              "outlinewidth": 0,
              "ticks": ""
             }
            },
            "type": "scattergeo"
           }
          ],
          "scattergl": [
           {
            "marker": {
             "colorbar": {
              "outlinewidth": 0,
              "ticks": ""
             }
            },
            "type": "scattergl"
           }
          ],
          "scattermapbox": [
           {
            "marker": {
             "colorbar": {
              "outlinewidth": 0,
              "ticks": ""
             }
            },
            "type": "scattermapbox"
           }
          ],
          "scatterpolar": [
           {
            "marker": {
             "colorbar": {
              "outlinewidth": 0,
              "ticks": ""
             }
            },
            "type": "scatterpolar"
           }
          ],
          "scatterpolargl": [
           {
            "marker": {
             "colorbar": {
              "outlinewidth": 0,
              "ticks": ""
             }
            },
            "type": "scatterpolargl"
           }
          ],
          "scatterternary": [
           {
            "marker": {
             "colorbar": {
              "outlinewidth": 0,
              "ticks": ""
             }
            },
            "type": "scatterternary"
           }
          ],
          "surface": [
           {
            "colorbar": {
             "outlinewidth": 0,
             "ticks": ""
            },
            "colorscale": [
             [
              0,
              "#0d0887"
             ],
             [
              0.1111111111111111,
              "#46039f"
             ],
             [
              0.2222222222222222,
              "#7201a8"
             ],
             [
              0.3333333333333333,
              "#9c179e"
             ],
             [
              0.4444444444444444,
              "#bd3786"
             ],
             [
              0.5555555555555556,
              "#d8576b"
             ],
             [
              0.6666666666666666,
              "#ed7953"
             ],
             [
              0.7777777777777778,
              "#fb9f3a"
             ],
             [
              0.8888888888888888,
              "#fdca26"
             ],
             [
              1,
              "#f0f921"
             ]
            ],
            "type": "surface"
           }
          ],
          "table": [
           {
            "cells": {
             "fill": {
              "color": "#EBF0F8"
             },
             "line": {
              "color": "white"
             }
            },
            "header": {
             "fill": {
              "color": "#C8D4E3"
             },
             "line": {
              "color": "white"
             }
            },
            "type": "table"
           }
          ]
         },
         "layout": {
          "annotationdefaults": {
           "arrowcolor": "#2a3f5f",
           "arrowhead": 0,
           "arrowwidth": 1
          },
          "autotypenumbers": "strict",
          "coloraxis": {
           "colorbar": {
            "outlinewidth": 0,
            "ticks": ""
           }
          },
          "colorscale": {
           "diverging": [
            [
             0,
             "#8e0152"
            ],
            [
             0.1,
             "#c51b7d"
            ],
            [
             0.2,
             "#de77ae"
            ],
            [
             0.3,
             "#f1b6da"
            ],
            [
             0.4,
             "#fde0ef"
            ],
            [
             0.5,
             "#f7f7f7"
            ],
            [
             0.6,
             "#e6f5d0"
            ],
            [
             0.7,
             "#b8e186"
            ],
            [
             0.8,
             "#7fbc41"
            ],
            [
             0.9,
             "#4d9221"
            ],
            [
             1,
             "#276419"
            ]
           ],
           "sequential": [
            [
             0,
             "#0d0887"
            ],
            [
             0.1111111111111111,
             "#46039f"
            ],
            [
             0.2222222222222222,
             "#7201a8"
            ],
            [
             0.3333333333333333,
             "#9c179e"
            ],
            [
             0.4444444444444444,
             "#bd3786"
            ],
            [
             0.5555555555555556,
             "#d8576b"
            ],
            [
             0.6666666666666666,
             "#ed7953"
            ],
            [
             0.7777777777777778,
             "#fb9f3a"
            ],
            [
             0.8888888888888888,
             "#fdca26"
            ],
            [
             1,
             "#f0f921"
            ]
           ],
           "sequentialminus": [
            [
             0,
             "#0d0887"
            ],
            [
             0.1111111111111111,
             "#46039f"
            ],
            [
             0.2222222222222222,
             "#7201a8"
            ],
            [
             0.3333333333333333,
             "#9c179e"
            ],
            [
             0.4444444444444444,
             "#bd3786"
            ],
            [
             0.5555555555555556,
             "#d8576b"
            ],
            [
             0.6666666666666666,
             "#ed7953"
            ],
            [
             0.7777777777777778,
             "#fb9f3a"
            ],
            [
             0.8888888888888888,
             "#fdca26"
            ],
            [
             1,
             "#f0f921"
            ]
           ]
          },
          "colorway": [
           "#636efa",
           "#EF553B",
           "#00cc96",
           "#ab63fa",
           "#FFA15A",
           "#19d3f3",
           "#FF6692",
           "#B6E880",
           "#FF97FF",
           "#FECB52"
          ],
          "font": {
           "color": "#2a3f5f"
          },
          "geo": {
           "bgcolor": "white",
           "lakecolor": "white",
           "landcolor": "white",
           "showlakes": true,
           "showland": true,
           "subunitcolor": "#C8D4E3"
          },
          "hoverlabel": {
           "align": "left"
          },
          "hovermode": "closest",
          "mapbox": {
           "style": "light"
          },
          "paper_bgcolor": "white",
          "plot_bgcolor": "white",
          "polar": {
           "angularaxis": {
            "gridcolor": "#EBF0F8",
            "linecolor": "#EBF0F8",
            "ticks": ""
           },
           "bgcolor": "white",
           "radialaxis": {
            "gridcolor": "#EBF0F8",
            "linecolor": "#EBF0F8",
            "ticks": ""
           }
          },
          "scene": {
           "xaxis": {
            "backgroundcolor": "white",
            "gridcolor": "#DFE8F3",
            "gridwidth": 2,
            "linecolor": "#EBF0F8",
            "showbackground": true,
            "ticks": "",
            "zerolinecolor": "#EBF0F8"
           },
           "yaxis": {
            "backgroundcolor": "white",
            "gridcolor": "#DFE8F3",
            "gridwidth": 2,
            "linecolor": "#EBF0F8",
            "showbackground": true,
            "ticks": "",
            "zerolinecolor": "#EBF0F8"
           },
           "zaxis": {
            "backgroundcolor": "white",
            "gridcolor": "#DFE8F3",
            "gridwidth": 2,
            "linecolor": "#EBF0F8",
            "showbackground": true,
            "ticks": "",
            "zerolinecolor": "#EBF0F8"
           }
          },
          "shapedefaults": {
           "line": {
            "color": "#2a3f5f"
           }
          },
          "ternary": {
           "aaxis": {
            "gridcolor": "#DFE8F3",
            "linecolor": "#A2B1C6",
            "ticks": ""
           },
           "baxis": {
            "gridcolor": "#DFE8F3",
            "linecolor": "#A2B1C6",
            "ticks": ""
           },
           "bgcolor": "white",
           "caxis": {
            "gridcolor": "#DFE8F3",
            "linecolor": "#A2B1C6",
            "ticks": ""
           }
          },
          "title": {
           "x": 0.05
          },
          "xaxis": {
           "automargin": true,
           "gridcolor": "#EBF0F8",
           "linecolor": "#EBF0F8",
           "ticks": "",
           "title": {
            "standoff": 15
           },
           "zerolinecolor": "#EBF0F8",
           "zerolinewidth": 2
          },
          "yaxis": {
           "automargin": true,
           "gridcolor": "#EBF0F8",
           "linecolor": "#EBF0F8",
           "ticks": "",
           "title": {
            "standoff": 15
           },
           "zerolinecolor": "#EBF0F8",
           "zerolinewidth": 2
          }
         }
        },
        "title": {
         "text": "Hotelling_mono vs. Hotelling_compmarket"
        },
        "xaxis": {
         "anchor": "y",
         "domain": [
          0,
          0.2888888888888889
         ],
         "title": {
          "text": "t"
         }
        },
        "xaxis2": {
         "anchor": "y2",
         "domain": [
          0.35555555555555557,
          0.6444444444444445
         ]
        },
        "xaxis3": {
         "anchor": "y3",
         "domain": [
          0.7111111111111111,
          1
         ]
        },
        "yaxis": {
         "anchor": "x",
         "domain": [
          0,
          1
         ],
         "title": {
          "text": "value"
         }
        },
        "yaxis2": {
         "anchor": "x2",
         "domain": [
          0,
          1
         ]
        },
        "yaxis3": {
         "anchor": "x3",
         "domain": [
          0,
          1
         ]
        }
       }
      }
     },
     "metadata": {},
     "output_type": "display_data"
    }
   ],
   "source": [
    "# Modelling Hotelling in perfect market competition can be tricky! This is why I want to show you first a version of the model, \n",
    "# which runs through but gives faulty results. \n",
    "\n",
    "def hotelling_compmarket(T = 50, S0 = 100, a = 10, b = 1, c = 1, r = 0.05):\n",
    "\n",
    "    # Sets & Parameters --------------------------------\n",
    "    # rho = 1/(1+r)**np.arange(T+1)\n",
    "    rho = np.array([1/(1+r)**t for t in range(T+1)])\n",
    "\n",
    "    # State Variables -----------------------------------\n",
    "    def f_p(i_p0):\n",
    "        p = np.zeros(T+1)\n",
    "        p[0] = i_p0\n",
    "        for t in range(1, T+1):\n",
    "            p[t] = c + (i_p0 - c) * (1 + r) ** t\n",
    "        return p\n",
    "    \n",
    "    def f_q(i_p0):\n",
    "        p = f_p(i_p0)\n",
    "        return (a - p ) / b\n",
    "    \n",
    "    \n",
    "    # Objective Function -------------------------------\n",
    "    def f_obj(i_p0):\n",
    "        q = f_q(i_p0)\n",
    "        p = f_p(i_p0)\n",
    "\n",
    "        obj_value = sum(rho[t] * (q[t] * (p[t] - c)) for t in range(T+1))\n",
    "        # obj_value = sum(rho * (q * (p - c)))\n",
    "        return -1* obj_value\n",
    "\n",
    "    # Decision Variables -------------------------------\n",
    "    p0_start = a/2\n",
    "    bnds = [(0, a)]\n",
    "\n",
    "    # Constraints --------------------------------------\n",
    "    def c_total_extr(i_p0):\n",
    "        q = f_q(i_p0)\n",
    "        return S0 - sum(q)\n",
    "   \n",
    "    cnstr = [\n",
    "        {'type': 'eq', 'fun': c_total_extr, }, \n",
    "\n",
    "    ]\n",
    "\n",
    "    # Run Optimization ---------------------------------\n",
    "    results = opt.minimize(f_obj, p0_start, bounds=bnds, \n",
    "                           constraints=cnstr,\n",
    "                           options={'disp': False}\n",
    "                        )\n",
    "    \n",
    "    # Results ------------------------------------------\n",
    "    p0_opt = results.x[0]\n",
    "    q_opt = f_q(p0_opt)\n",
    "    p_opt = f_p(p0_opt)\n",
    "\n",
    "    def f_S(i_q): \n",
    "        S = np.zeros(T+1)\n",
    "        S[0] = S0\n",
    "        for t in range(1, T+1):\n",
    "            S[t] = S[t-1] - i_q[t-1]\n",
    "        return S\n",
    "    S_opt = f_S(q_opt)\n",
    "\n",
    "    df = pd.DataFrame({\n",
    "        't': range(T+1),\n",
    "        'q_opt': q_opt,\n",
    "        'S_opt': S_opt,\n",
    "        'p_opt': p_opt,\n",
    "    })\n",
    "\n",
    "    return df\n",
    "\n",
    "\n",
    "df_hotelling_compmarket = hotelling_compmarket()\n",
    "\n",
    "\n",
    "# Plot Results -------------------------------------\n",
    "fig_mono_compmarket = make_subplots(rows=1, cols=3, subplot_titles=('q_opt', 'p_opt', 'S_opt'))\n",
    "\n",
    "add_trace_to_subplot_hotelling(fig_mono_compmarket, df_hotelling_mono, 'mono')\n",
    "add_trace_to_subplot_hotelling(fig_mono_compmarket, df_hotelling_compmarket, 'compmarket')\n",
    "\n",
    "fig_mono_compmarket.update_layout(title='Hotelling_mono vs. Hotelling_compmarket', xaxis_title='t', yaxis_title='value', template='plotly_white')\n",
    "fig_mono_compmarket.write_html('hotelling_compmarket_wrongresults.html')\n",
    "fig_mono_compmarket.show()\n",
    "\n",
    "# print(df_hotelling_compmarket)\n"
   ]
  },
  {
   "cell_type": "markdown",
   "id": "56b3e371",
   "metadata": {},
   "source": [
    "*Explanaiton for solution*: \\\n",
    "Modelling Hotelling in perfect market competition can be tricky! This is why I want to show you first a version of the model, which runs through but gives faulty results. For interested students, I listed all the debugging steps I took to get reasonable results. **You can jump directly to step 4, if you are only interested the final fix.**\n",
    "1. Runing the model with just the constraint *c_total_extr()* gives negative values for q and S. We choose to add additional constraints, which however do not solve the problem. \n",
    "\n",
    "2. Depending on your package versioning that you use, you might receive the following warning: \\\n",
    "        ```DeprecationWarning:\n",
    "        Conversion of an array with ndim > 0 to a scalar is deprecated, and will error in future. Ensure you extract a single element from your array before performing this operation. (Deprecated NumPy 1.25.)\n",
    "        ``` \n",
    "        Through some debugging you can find out, that $p_{opt}$ gets passed into the functions f_p() etc. as a 1D array, which causes a warning because it is used as single value object within the functions. You can solve this by calling the first and only value of the array using i_p0[0]. \n",
    "\n",
    "3. Optimization problems in software can have wildly varying results dependent on the solver \"engine\" and starting values. scipy.optimize offers a large number of solvers. If your results look strange, it is a good idea to check different methods. \n",
    "\n",
    "4. Despite all these debugging efforts and additional constraints, $q$ and $S$ still have a negative range. Since $S$ is dependent on $q$ we focus on $f_q()$ to solve our issue. A possibility is to simply set the constraint of non negativity into the function of the state variable itself. \n",
    "\n",
    "You don't need to learn all these steps by heart! They are more an example on how you can go about debugging your models. \n",
    "       "
   ]
  },
  {
   "cell_type": "code",
   "execution_count": 35,
   "id": "4924b744",
   "metadata": {},
   "outputs": [
    {
     "data": {
      "application/vnd.plotly.v1+json": {
       "config": {
        "plotlyServerURL": "https://plot.ly"
       },
       "data": [
        {
         "legendgroup": "mono",
         "mode": "lines",
         "name": "q_mono",
         "showlegend": true,
         "type": "scatter",
         "x": [
          0,
          1,
          2,
          3,
          4,
          5,
          6,
          7,
          8,
          9,
          10,
          11,
          12,
          13,
          14,
          15,
          16,
          17,
          18,
          19,
          20,
          21,
          22,
          23,
          24,
          25,
          26,
          27,
          28,
          29,
          30,
          31,
          32,
          33,
          34,
          35,
          36,
          37,
          38,
          39,
          40,
          41,
          42,
          43,
          44,
          45,
          46,
          47,
          48,
          49,
          50
         ],
         "xaxis": "x",
         "y": [
          3.837838525345531,
          3.804552498254851,
          3.769874482810309,
          3.7331908822062805,
          3.6949884770124233,
          3.654946673066361,
          3.612724022977238,
          3.5682334868834498,
          3.521504765679684,
          3.4725267350956983,
          3.421189774187942,
          3.367325266643478,
          3.3107474401687447,
          3.2512912721170126,
          3.1888261434825917,
          3.123231918332949,
          3.054379922976891,
          2.9821251655148746,
          2.9062973793798976,
          2.8266840031033396,
          2.7430691456909995,
          2.655229580212422,
          2.5629481132847562,
          2.466003219647103,
          2.364187856695198,
          2.257288195050511,
          2.145073149403131,
          2.0273015738054436,
          1.9037090451901657,
          1.773983645982213,
          1.6377878364503053,
          1.4947754691432835,
          1.3445519332560045,
          1.1867276209551805,
          1.0209061964306463,
          0.846729725055968,
          0.6638538653665497,
          0.4719944567689314,
          0.2709178765544173,
          0.06048265981727378,
          0,
          0,
          7.687459271043216e-17,
          2.487312249612253e-18,
          0,
          7.699910655367855e-17,
          0,
          2.1506166530786686e-16,
          0,
          2.2172527350391644e-16,
          0
         ],
         "yaxis": "y"
        },
        {
         "legendgroup": "mono",
         "mode": "lines",
         "name": "p_mono",
         "showlegend": true,
         "type": "scatter",
         "x": [
          0,
          1,
          2,
          3,
          4,
          5,
          6,
          7,
          8,
          9,
          10,
          11,
          12,
          13,
          14,
          15,
          16,
          17,
          18,
          19,
          20,
          21,
          22,
          23,
          24,
          25,
          26,
          27,
          28,
          29,
          30,
          31,
          32,
          33,
          34,
          35,
          36,
          37,
          38,
          39,
          40,
          41,
          42,
          43,
          44,
          45,
          46,
          47,
          48,
          49,
          50
         ],
         "xaxis": "x2",
         "y": [
          6.162161474654469,
          6.195447501745149,
          6.230125517189691,
          6.26680911779372,
          6.305011522987577,
          6.345053326933639,
          6.387275977022762,
          6.43176651311655,
          6.478495234320317,
          6.527473264904302,
          6.578810225812058,
          6.632674733356522,
          6.689252559831255,
          6.748708727882987,
          6.811173856517408,
          6.876768081667051,
          6.94562007702311,
          7.017874834485125,
          7.093702620620102,
          7.17331599689666,
          7.256930854309001,
          7.344770419787578,
          7.437051886715244,
          7.533996780352897,
          7.635812143304802,
          7.742711804949489,
          7.854926850596868,
          7.972698426194556,
          8.096290954809835,
          8.226016354017787,
          8.362212163549694,
          8.505224530856717,
          8.655448066743995,
          8.81327237904482,
          8.979093803569354,
          9.153270274944031,
          9.33614613463345,
          9.52800554323107,
          9.729082123445583,
          9.939517340182727,
          10,
          10,
          10,
          10,
          10,
          10,
          10,
          10,
          10,
          10,
          10
         ],
         "yaxis": "y2"
        },
        {
         "legendgroup": "mono",
         "mode": "lines",
         "name": "S_mono",
         "showlegend": true,
         "type": "scatter",
         "x": [
          0,
          1,
          2,
          3,
          4,
          5,
          6,
          7,
          8,
          9,
          10,
          11,
          12,
          13,
          14,
          15,
          16,
          17,
          18,
          19,
          20,
          21,
          22,
          23,
          24,
          25,
          26,
          27,
          28,
          29,
          30,
          31,
          32,
          33,
          34,
          35,
          36,
          37,
          38,
          39,
          40,
          41,
          42,
          43,
          44,
          45,
          46,
          47,
          48,
          49,
          50
         ],
         "xaxis": "x3",
         "y": [
          100,
          96.16216147465447,
          92.35760897639962,
          88.58773449358931,
          84.85454361138302,
          81.15955513437059,
          77.50460846130423,
          73.891884438327,
          70.32365095144355,
          66.80214618576387,
          63.329619450668176,
          59.90842967648023,
          56.541104409836755,
          53.23035696966801,
          49.97906569755099,
          46.7902395540684,
          43.66700763573545,
          40.61262771275856,
          37.63050254724369,
          34.724205167863786,
          31.897521164760448,
          29.15445201906945,
          26.49922243885703,
          23.93627432557227,
          21.470271105925168,
          19.106083249229968,
          16.848795054179458,
          14.703721904776327,
          12.676420330970883,
          10.772711285780717,
          8.998727639798505,
          7.360939803348199,
          5.866164334204916,
          4.521612400948911,
          3.3348847799937302,
          2.3139785835630837,
          1.4672488585071157,
          0.8033949931405661,
          0.33140053637163464,
          0.060482659817217344,
          -5.643402412047749e-14,
          -5.643402412047749e-14,
          -5.643402412047749e-14,
          -5.651089871318792e-14,
          -5.651338602543753e-14,
          -5.651338602543753e-14,
          -5.659038513199121e-14,
          -5.659038513199121e-14,
          -5.680544679729908e-14,
          -5.680544679729908e-14,
          -5.7027172070803e-14
         ],
         "yaxis": "y3"
        },
        {
         "legendgroup": "compmarket",
         "mode": "lines",
         "name": "q_compmarket",
         "showlegend": true,
         "type": "scatter",
         "x": [
          0,
          1,
          2,
          3,
          4,
          5,
          6,
          7,
          8,
          9,
          10,
          11,
          12,
          13,
          14,
          15,
          16,
          17,
          18,
          19,
          20,
          21,
          22,
          23,
          24,
          25,
          26,
          27,
          28,
          29,
          30,
          31,
          32,
          33,
          34,
          35,
          36,
          37,
          38,
          39,
          40,
          41,
          42,
          43,
          44,
          45,
          46,
          47,
          48,
          49,
          50
         ],
         "xaxis": "x",
         "y": [
          6.378381030163593,
          6.2473000816717725,
          6.109665085755361,
          5.965148340043129,
          5.813405757045285,
          5.654076044897549,
          5.486779847142426,
          5.311118839499548,
          5.126674781474525,
          4.933008520548251,
          4.729658946575663,
          4.516141893904446,
          4.291948988599668,
          4.056546438029651,
          3.809373759931133,
          3.5498424479276895,
          3.277334570324075,
          2.991201298840278,
          2.6907613637822916,
          2.3752994319714054,
          2.044064403569976,
          1.696267623748474,
          1.3310810049358963,
          0.9476350551826922,
          0.5450168079418258,
          0.12226764833891757,
          0,
          0,
          0,
          0,
          0,
          0,
          0,
          0,
          0,
          0,
          0,
          0,
          0,
          0,
          0,
          0,
          0,
          0,
          0,
          0,
          0,
          0,
          0,
          0,
          0
         ],
         "yaxis": "y"
        },
        {
         "legendgroup": "compmarket",
         "mode": "lines",
         "name": "p_compmarket",
         "showlegend": true,
         "type": "scatter",
         "x": [
          0,
          1,
          2,
          3,
          4,
          5,
          6,
          7,
          8,
          9,
          10,
          11,
          12,
          13,
          14,
          15,
          16,
          17,
          18,
          19,
          20,
          21,
          22,
          23,
          24,
          25,
          26,
          27,
          28,
          29,
          30,
          31,
          32,
          33,
          34,
          35,
          36,
          37,
          38,
          39,
          40,
          41,
          42,
          43,
          44,
          45,
          46,
          47,
          48,
          49,
          50
         ],
         "xaxis": "x2",
         "y": [
          3.6216189698364074,
          3.752699918328228,
          3.8903349142446393,
          4.034851659956871,
          4.186594242954715,
          4.345923955102451,
          4.513220152857574,
          4.688881160500452,
          4.873325218525475,
          5.066991479451749,
          5.270341053424337,
          5.483858106095554,
          5.708051011400332,
          5.943453561970349,
          6.190626240068867,
          6.4501575520723105,
          6.722665429675925,
          7.008798701159722,
          7.309238636217708,
          7.624700568028595,
          7.955935596430024,
          8.303732376251526,
          8.668918995064104,
          9.052364944817308,
          9.454983192058174,
          9.877732351661082,
          10.321618969244136,
          10.787699917706345,
          11.277084913591663,
          11.790939159271247,
          12.330486117234809,
          12.89701042309655,
          13.491860944251378,
          14.116453991463947,
          14.772276691037145,
          15.460890525589004,
          16.183935051868453,
          16.943131804461878,
          17.74028839468497,
          18.57730281441922,
          19.45616795514018,
          20.37897635289719,
          21.34792517054205,
          22.36532142906916,
          23.433587500522616,
          24.555266875548746,
          25.733030219326185,
          26.969681730292496,
          28.268165816807123,
          29.63157410764748,
          31.063152813029856
         ],
         "yaxis": "y2"
        },
        {
         "legendgroup": "compmarket",
         "mode": "lines",
         "name": "S_compmarket",
         "showlegend": true,
         "type": "scatter",
         "x": [
          0,
          1,
          2,
          3,
          4,
          5,
          6,
          7,
          8,
          9,
          10,
          11,
          12,
          13,
          14,
          15,
          16,
          17,
          18,
          19,
          20,
          21,
          22,
          23,
          24,
          25,
          26,
          27,
          28,
          29,
          30,
          31,
          32,
          33,
          34,
          35,
          36,
          37,
          38,
          39,
          40,
          41,
          42,
          43,
          44,
          45,
          46,
          47,
          48,
          49,
          50
         ],
         "xaxis": "x3",
         "y": [
          100,
          93.6216189698364,
          87.37431888816464,
          81.26465380240927,
          75.29950546236614,
          69.48609970532085,
          63.8320236604233,
          58.345243813280874,
          53.034124973781324,
          47.9074501923068,
          42.97444167175855,
          38.24478272518289,
          33.72864083127844,
          29.436691842678773,
          25.38014540464912,
          21.570771644717986,
          18.0209291967903,
          14.743594626466223,
          11.752393327625946,
          9.061631963843654,
          6.686332531872249,
          4.642268128302272,
          2.9460005045537985,
          1.6149194996179022,
          0.66728444443521,
          0.12226763649338412,
          -1.1845533443022305e-8,
          -1.1845533443022305e-8,
          -1.1845533443022305e-8,
          -1.1845533443022305e-8,
          -1.1845533443022305e-8,
          -1.1845533443022305e-8,
          -1.1845533443022305e-8,
          -1.1845533443022305e-8,
          -1.1845533443022305e-8,
          -1.1845533443022305e-8,
          -1.1845533443022305e-8,
          -1.1845533443022305e-8,
          -1.1845533443022305e-8,
          -1.1845533443022305e-8,
          -1.1845533443022305e-8,
          -1.1845533443022305e-8,
          -1.1845533443022305e-8,
          -1.1845533443022305e-8,
          -1.1845533443022305e-8,
          -1.1845533443022305e-8,
          -1.1845533443022305e-8,
          -1.1845533443022305e-8,
          -1.1845533443022305e-8,
          -1.1845533443022305e-8,
          -1.1845533443022305e-8
         ],
         "yaxis": "y3"
        }
       ],
       "layout": {
        "annotations": [
         {
          "font": {
           "size": 16
          },
          "showarrow": false,
          "text": "q_opt",
          "x": 0.14444444444444446,
          "xanchor": "center",
          "xref": "paper",
          "y": 1,
          "yanchor": "bottom",
          "yref": "paper"
         },
         {
          "font": {
           "size": 16
          },
          "showarrow": false,
          "text": "p_opt",
          "x": 0.5,
          "xanchor": "center",
          "xref": "paper",
          "y": 1,
          "yanchor": "bottom",
          "yref": "paper"
         },
         {
          "font": {
           "size": 16
          },
          "showarrow": false,
          "text": "S_opt",
          "x": 0.8555555555555556,
          "xanchor": "center",
          "xref": "paper",
          "y": 1,
          "yanchor": "bottom",
          "yref": "paper"
         }
        ],
        "template": {
         "data": {
          "bar": [
           {
            "error_x": {
             "color": "#2a3f5f"
            },
            "error_y": {
             "color": "#2a3f5f"
            },
            "marker": {
             "line": {
              "color": "white",
              "width": 0.5
             },
             "pattern": {
              "fillmode": "overlay",
              "size": 10,
              "solidity": 0.2
             }
            },
            "type": "bar"
           }
          ],
          "barpolar": [
           {
            "marker": {
             "line": {
              "color": "white",
              "width": 0.5
             },
             "pattern": {
              "fillmode": "overlay",
              "size": 10,
              "solidity": 0.2
             }
            },
            "type": "barpolar"
           }
          ],
          "carpet": [
           {
            "aaxis": {
             "endlinecolor": "#2a3f5f",
             "gridcolor": "#C8D4E3",
             "linecolor": "#C8D4E3",
             "minorgridcolor": "#C8D4E3",
             "startlinecolor": "#2a3f5f"
            },
            "baxis": {
             "endlinecolor": "#2a3f5f",
             "gridcolor": "#C8D4E3",
             "linecolor": "#C8D4E3",
             "minorgridcolor": "#C8D4E3",
             "startlinecolor": "#2a3f5f"
            },
            "type": "carpet"
           }
          ],
          "choropleth": [
           {
            "colorbar": {
             "outlinewidth": 0,
             "ticks": ""
            },
            "type": "choropleth"
           }
          ],
          "contour": [
           {
            "colorbar": {
             "outlinewidth": 0,
             "ticks": ""
            },
            "colorscale": [
             [
              0,
              "#0d0887"
             ],
             [
              0.1111111111111111,
              "#46039f"
             ],
             [
              0.2222222222222222,
              "#7201a8"
             ],
             [
              0.3333333333333333,
              "#9c179e"
             ],
             [
              0.4444444444444444,
              "#bd3786"
             ],
             [
              0.5555555555555556,
              "#d8576b"
             ],
             [
              0.6666666666666666,
              "#ed7953"
             ],
             [
              0.7777777777777778,
              "#fb9f3a"
             ],
             [
              0.8888888888888888,
              "#fdca26"
             ],
             [
              1,
              "#f0f921"
             ]
            ],
            "type": "contour"
           }
          ],
          "contourcarpet": [
           {
            "colorbar": {
             "outlinewidth": 0,
             "ticks": ""
            },
            "type": "contourcarpet"
           }
          ],
          "heatmap": [
           {
            "colorbar": {
             "outlinewidth": 0,
             "ticks": ""
            },
            "colorscale": [
             [
              0,
              "#0d0887"
             ],
             [
              0.1111111111111111,
              "#46039f"
             ],
             [
              0.2222222222222222,
              "#7201a8"
             ],
             [
              0.3333333333333333,
              "#9c179e"
             ],
             [
              0.4444444444444444,
              "#bd3786"
             ],
             [
              0.5555555555555556,
              "#d8576b"
             ],
             [
              0.6666666666666666,
              "#ed7953"
             ],
             [
              0.7777777777777778,
              "#fb9f3a"
             ],
             [
              0.8888888888888888,
              "#fdca26"
             ],
             [
              1,
              "#f0f921"
             ]
            ],
            "type": "heatmap"
           }
          ],
          "heatmapgl": [
           {
            "colorbar": {
             "outlinewidth": 0,
             "ticks": ""
            },
            "colorscale": [
             [
              0,
              "#0d0887"
             ],
             [
              0.1111111111111111,
              "#46039f"
             ],
             [
              0.2222222222222222,
              "#7201a8"
             ],
             [
              0.3333333333333333,
              "#9c179e"
             ],
             [
              0.4444444444444444,
              "#bd3786"
             ],
             [
              0.5555555555555556,
              "#d8576b"
             ],
             [
              0.6666666666666666,
              "#ed7953"
             ],
             [
              0.7777777777777778,
              "#fb9f3a"
             ],
             [
              0.8888888888888888,
              "#fdca26"
             ],
             [
              1,
              "#f0f921"
             ]
            ],
            "type": "heatmapgl"
           }
          ],
          "histogram": [
           {
            "marker": {
             "pattern": {
              "fillmode": "overlay",
              "size": 10,
              "solidity": 0.2
             }
            },
            "type": "histogram"
           }
          ],
          "histogram2d": [
           {
            "colorbar": {
             "outlinewidth": 0,
             "ticks": ""
            },
            "colorscale": [
             [
              0,
              "#0d0887"
             ],
             [
              0.1111111111111111,
              "#46039f"
             ],
             [
              0.2222222222222222,
              "#7201a8"
             ],
             [
              0.3333333333333333,
              "#9c179e"
             ],
             [
              0.4444444444444444,
              "#bd3786"
             ],
             [
              0.5555555555555556,
              "#d8576b"
             ],
             [
              0.6666666666666666,
              "#ed7953"
             ],
             [
              0.7777777777777778,
              "#fb9f3a"
             ],
             [
              0.8888888888888888,
              "#fdca26"
             ],
             [
              1,
              "#f0f921"
             ]
            ],
            "type": "histogram2d"
           }
          ],
          "histogram2dcontour": [
           {
            "colorbar": {
             "outlinewidth": 0,
             "ticks": ""
            },
            "colorscale": [
             [
              0,
              "#0d0887"
             ],
             [
              0.1111111111111111,
              "#46039f"
             ],
             [
              0.2222222222222222,
              "#7201a8"
             ],
             [
              0.3333333333333333,
              "#9c179e"
             ],
             [
              0.4444444444444444,
              "#bd3786"
             ],
             [
              0.5555555555555556,
              "#d8576b"
             ],
             [
              0.6666666666666666,
              "#ed7953"
             ],
             [
              0.7777777777777778,
              "#fb9f3a"
             ],
             [
              0.8888888888888888,
              "#fdca26"
             ],
             [
              1,
              "#f0f921"
             ]
            ],
            "type": "histogram2dcontour"
           }
          ],
          "mesh3d": [
           {
            "colorbar": {
             "outlinewidth": 0,
             "ticks": ""
            },
            "type": "mesh3d"
           }
          ],
          "parcoords": [
           {
            "line": {
             "colorbar": {
              "outlinewidth": 0,
              "ticks": ""
             }
            },
            "type": "parcoords"
           }
          ],
          "pie": [
           {
            "automargin": true,
            "type": "pie"
           }
          ],
          "scatter": [
           {
            "fillpattern": {
             "fillmode": "overlay",
             "size": 10,
             "solidity": 0.2
            },
            "type": "scatter"
           }
          ],
          "scatter3d": [
           {
            "line": {
             "colorbar": {
              "outlinewidth": 0,
              "ticks": ""
             }
            },
            "marker": {
             "colorbar": {
              "outlinewidth": 0,
              "ticks": ""
             }
            },
            "type": "scatter3d"
           }
          ],
          "scattercarpet": [
           {
            "marker": {
             "colorbar": {
              "outlinewidth": 0,
              "ticks": ""
             }
            },
            "type": "scattercarpet"
           }
          ],
          "scattergeo": [
           {
            "marker": {
             "colorbar": {
              "outlinewidth": 0,
              "ticks": ""
             }
            },
            "type": "scattergeo"
           }
          ],
          "scattergl": [
           {
            "marker": {
             "colorbar": {
              "outlinewidth": 0,
              "ticks": ""
             }
            },
            "type": "scattergl"
           }
          ],
          "scattermapbox": [
           {
            "marker": {
             "colorbar": {
              "outlinewidth": 0,
              "ticks": ""
             }
            },
            "type": "scattermapbox"
           }
          ],
          "scatterpolar": [
           {
            "marker": {
             "colorbar": {
              "outlinewidth": 0,
              "ticks": ""
             }
            },
            "type": "scatterpolar"
           }
          ],
          "scatterpolargl": [
           {
            "marker": {
             "colorbar": {
              "outlinewidth": 0,
              "ticks": ""
             }
            },
            "type": "scatterpolargl"
           }
          ],
          "scatterternary": [
           {
            "marker": {
             "colorbar": {
              "outlinewidth": 0,
              "ticks": ""
             }
            },
            "type": "scatterternary"
           }
          ],
          "surface": [
           {
            "colorbar": {
             "outlinewidth": 0,
             "ticks": ""
            },
            "colorscale": [
             [
              0,
              "#0d0887"
             ],
             [
              0.1111111111111111,
              "#46039f"
             ],
             [
              0.2222222222222222,
              "#7201a8"
             ],
             [
              0.3333333333333333,
              "#9c179e"
             ],
             [
              0.4444444444444444,
              "#bd3786"
             ],
             [
              0.5555555555555556,
              "#d8576b"
             ],
             [
              0.6666666666666666,
              "#ed7953"
             ],
             [
              0.7777777777777778,
              "#fb9f3a"
             ],
             [
              0.8888888888888888,
              "#fdca26"
             ],
             [
              1,
              "#f0f921"
             ]
            ],
            "type": "surface"
           }
          ],
          "table": [
           {
            "cells": {
             "fill": {
              "color": "#EBF0F8"
             },
             "line": {
              "color": "white"
             }
            },
            "header": {
             "fill": {
              "color": "#C8D4E3"
             },
             "line": {
              "color": "white"
             }
            },
            "type": "table"
           }
          ]
         },
         "layout": {
          "annotationdefaults": {
           "arrowcolor": "#2a3f5f",
           "arrowhead": 0,
           "arrowwidth": 1
          },
          "autotypenumbers": "strict",
          "coloraxis": {
           "colorbar": {
            "outlinewidth": 0,
            "ticks": ""
           }
          },
          "colorscale": {
           "diverging": [
            [
             0,
             "#8e0152"
            ],
            [
             0.1,
             "#c51b7d"
            ],
            [
             0.2,
             "#de77ae"
            ],
            [
             0.3,
             "#f1b6da"
            ],
            [
             0.4,
             "#fde0ef"
            ],
            [
             0.5,
             "#f7f7f7"
            ],
            [
             0.6,
             "#e6f5d0"
            ],
            [
             0.7,
             "#b8e186"
            ],
            [
             0.8,
             "#7fbc41"
            ],
            [
             0.9,
             "#4d9221"
            ],
            [
             1,
             "#276419"
            ]
           ],
           "sequential": [
            [
             0,
             "#0d0887"
            ],
            [
             0.1111111111111111,
             "#46039f"
            ],
            [
             0.2222222222222222,
             "#7201a8"
            ],
            [
             0.3333333333333333,
             "#9c179e"
            ],
            [
             0.4444444444444444,
             "#bd3786"
            ],
            [
             0.5555555555555556,
             "#d8576b"
            ],
            [
             0.6666666666666666,
             "#ed7953"
            ],
            [
             0.7777777777777778,
             "#fb9f3a"
            ],
            [
             0.8888888888888888,
             "#fdca26"
            ],
            [
             1,
             "#f0f921"
            ]
           ],
           "sequentialminus": [
            [
             0,
             "#0d0887"
            ],
            [
             0.1111111111111111,
             "#46039f"
            ],
            [
             0.2222222222222222,
             "#7201a8"
            ],
            [
             0.3333333333333333,
             "#9c179e"
            ],
            [
             0.4444444444444444,
             "#bd3786"
            ],
            [
             0.5555555555555556,
             "#d8576b"
            ],
            [
             0.6666666666666666,
             "#ed7953"
            ],
            [
             0.7777777777777778,
             "#fb9f3a"
            ],
            [
             0.8888888888888888,
             "#fdca26"
            ],
            [
             1,
             "#f0f921"
            ]
           ]
          },
          "colorway": [
           "#636efa",
           "#EF553B",
           "#00cc96",
           "#ab63fa",
           "#FFA15A",
           "#19d3f3",
           "#FF6692",
           "#B6E880",
           "#FF97FF",
           "#FECB52"
          ],
          "font": {
           "color": "#2a3f5f"
          },
          "geo": {
           "bgcolor": "white",
           "lakecolor": "white",
           "landcolor": "white",
           "showlakes": true,
           "showland": true,
           "subunitcolor": "#C8D4E3"
          },
          "hoverlabel": {
           "align": "left"
          },
          "hovermode": "closest",
          "mapbox": {
           "style": "light"
          },
          "paper_bgcolor": "white",
          "plot_bgcolor": "white",
          "polar": {
           "angularaxis": {
            "gridcolor": "#EBF0F8",
            "linecolor": "#EBF0F8",
            "ticks": ""
           },
           "bgcolor": "white",
           "radialaxis": {
            "gridcolor": "#EBF0F8",
            "linecolor": "#EBF0F8",
            "ticks": ""
           }
          },
          "scene": {
           "xaxis": {
            "backgroundcolor": "white",
            "gridcolor": "#DFE8F3",
            "gridwidth": 2,
            "linecolor": "#EBF0F8",
            "showbackground": true,
            "ticks": "",
            "zerolinecolor": "#EBF0F8"
           },
           "yaxis": {
            "backgroundcolor": "white",
            "gridcolor": "#DFE8F3",
            "gridwidth": 2,
            "linecolor": "#EBF0F8",
            "showbackground": true,
            "ticks": "",
            "zerolinecolor": "#EBF0F8"
           },
           "zaxis": {
            "backgroundcolor": "white",
            "gridcolor": "#DFE8F3",
            "gridwidth": 2,
            "linecolor": "#EBF0F8",
            "showbackground": true,
            "ticks": "",
            "zerolinecolor": "#EBF0F8"
           }
          },
          "shapedefaults": {
           "line": {
            "color": "#2a3f5f"
           }
          },
          "ternary": {
           "aaxis": {
            "gridcolor": "#DFE8F3",
            "linecolor": "#A2B1C6",
            "ticks": ""
           },
           "baxis": {
            "gridcolor": "#DFE8F3",
            "linecolor": "#A2B1C6",
            "ticks": ""
           },
           "bgcolor": "white",
           "caxis": {
            "gridcolor": "#DFE8F3",
            "linecolor": "#A2B1C6",
            "ticks": ""
           }
          },
          "title": {
           "x": 0.05
          },
          "xaxis": {
           "automargin": true,
           "gridcolor": "#EBF0F8",
           "linecolor": "#EBF0F8",
           "ticks": "",
           "title": {
            "standoff": 15
           },
           "zerolinecolor": "#EBF0F8",
           "zerolinewidth": 2
          },
          "yaxis": {
           "automargin": true,
           "gridcolor": "#EBF0F8",
           "linecolor": "#EBF0F8",
           "ticks": "",
           "title": {
            "standoff": 15
           },
           "zerolinecolor": "#EBF0F8",
           "zerolinewidth": 2
          }
         }
        },
        "title": {
         "text": "Hotelling_mono vs. Hotelling_compmarket"
        },
        "xaxis": {
         "anchor": "y",
         "domain": [
          0,
          0.2888888888888889
         ],
         "title": {
          "text": "t"
         }
        },
        "xaxis2": {
         "anchor": "y2",
         "domain": [
          0.35555555555555557,
          0.6444444444444445
         ]
        },
        "xaxis3": {
         "anchor": "y3",
         "domain": [
          0.7111111111111111,
          1
         ]
        },
        "yaxis": {
         "anchor": "x",
         "domain": [
          0,
          1
         ],
         "title": {
          "text": "value"
         }
        },
        "yaxis2": {
         "anchor": "x2",
         "domain": [
          0,
          1
         ]
        },
        "yaxis3": {
         "anchor": "x3",
         "domain": [
          0,
          1
         ]
        }
       }
      }
     },
     "metadata": {},
     "output_type": "display_data"
    }
   ],
   "source": [
    "def hotelling_compmarket(T = 50, S0 = 100, a = 10, b = 1, c = 1, r = 0.05):\n",
    "\n",
    "    # Sets & Parameters --------------------------------\n",
    "    # rho = 1/(1+r)**np.arange(T+1)\n",
    "    rho = np.array([1/(1+r)**t for t in range(T+1)])\n",
    "\n",
    "    # State Variables -----------------------------------\n",
    "    def f_p(i_p0):\n",
    "        p = np.zeros(T+1)\n",
    "        p[0] = i_p0\n",
    "        for t in range(1, T+1):\n",
    "            p[t] = c + (i_p0 - c) * (1 + r) ** t\n",
    "        return p\n",
    "    \n",
    "    def f_q(i_p0):\n",
    "        p = f_p(i_p0)\n",
    "        q = (a - p) / b\n",
    "        q[q<0] = 0                  # 4) This line subselects all negative q values given the price development and forces them to be 0. \n",
    "        return q\n",
    "    \n",
    "    \n",
    "    # Objective Function -------------------------------\n",
    "    def f_obj(i_p0):\n",
    "        i_p0_val = i_p0[0]      # 2) call i_p0 truely as value not as 1D array\n",
    "        q = f_q(i_p0_val)\n",
    "        p = f_p(i_p0_val)\n",
    "        # q, p = f_q(i_p0), f_p(i_p0)\n",
    "\n",
    "        obj_value = sum(rho[t] * (q[t] * (p[t] - c)) for t in range(T+1))\n",
    "        # obj_value = sum(rho * (q * (p - c)))\n",
    "        return -1* obj_value\n",
    "\n",
    "    # Decision Variables -------------------------------\n",
    "    p0_start = a/2\n",
    "    bnds = [(0, a)]\n",
    "\n",
    "    # Constraints --------------------------------------\n",
    "    def c_total_extr(i_p0):\n",
    "        i_p0_val = i_p0[0]\n",
    "        q = f_q(i_p0_val)\n",
    "        return S0 - sum(q)\n",
    "    \n",
    "    def c_non_negative_S(i_p0):           # 1) Additional Constraint 1\n",
    "        i_p0_val = i_p0[0]\n",
    "        q = f_q(i_p0_val)\n",
    "        S = np.zeros(T+1)\n",
    "        S[0] = S0\n",
    "        for t in range(1, T+1):\n",
    "            S[t] = S[t-1] - q[t-1]\n",
    "        return S\n",
    "    \n",
    "    def c_non_negative_q(i_p0):     # 1) Additional Constraint 2, which does not really solve the problem \n",
    "        i_p0_val = i_p0[0]\n",
    "        q = f_q(i_p0_val)\n",
    "        return q\n",
    "    \n",
    "    cnstr = [\n",
    "        {'type': 'eq', 'fun': c_total_extr, }, \n",
    "        {'type': 'ineq', 'fun': c_non_negative_S,},\n",
    "        {'type': 'ineq', 'fun': c_non_negative_q}, \n",
    "    ]\n",
    "\n",
    "    # Run Optimization ---------------------------------\n",
    "    results = opt.minimize(f_obj, p0_start, bounds=bnds, \n",
    "                           constraints=cnstr,\n",
    "                        #    method='COBYQA',           # 3) maybe you need a different solver method / engine to get solid results\n",
    "                           options={'disp': False}\n",
    "                        )\n",
    "    \n",
    "    # Results ------------------------------------------\n",
    "    p0_opt = results.x[0]\n",
    "    q_opt = f_q(p0_opt)\n",
    "    p_opt = f_p(p0_opt)\n",
    "\n",
    "    def f_S(i_q): \n",
    "        S = np.zeros(T+1)\n",
    "        S[0] = S0\n",
    "        for t in range(1, T+1):\n",
    "            S[t] = S[t-1] - i_q[t-1]\n",
    "        return S\n",
    "    S_opt = f_S(q_opt)\n",
    "\n",
    "    df = pd.DataFrame({\n",
    "        't': range(T+1),\n",
    "        'q_opt': q_opt,\n",
    "        'S_opt': S_opt,\n",
    "        'p_opt': p_opt,\n",
    "    })\n",
    "\n",
    "    return df\n",
    "\n",
    "\n",
    "df_hotelling_compmarket = hotelling_compmarket()\n",
    "df_hotelling_mono = hotelling_mono()\n",
    "\n",
    "\n",
    "# Plot Results -------------------------------------\n",
    "fig_mono_compmarket = make_subplots(rows=1, cols=3, subplot_titles=('q_opt', 'p_opt', 'S_opt'))\n",
    "add_trace_to_subplot_hotelling(fig_mono_compmarket, df_hotelling_mono, 'mono')\n",
    "add_trace_to_subplot_hotelling(fig_mono_compmarket, df_hotelling_compmarket, 'compmarket')\n",
    "\n",
    "fig_mono_compmarket.update_layout(title='Hotelling_mono vs. Hotelling_compmarket', xaxis_title='t', yaxis_title='value', template='plotly_white')\n",
    "fig_mono_compmarket.write_html('hotelling_compmarket_corrected.html')\n",
    "fig_mono_compmarket.show()\n",
    "\n",
    "\n"
   ]
  },
  {
   "cell_type": "markdown",
   "id": "d5708c46",
   "metadata": {},
   "source": [
    "## 2 Stock Pollution"
   ]
  },
  {
   "cell_type": "markdown",
   "id": "bd1504a8",
   "metadata": {},
   "source": [
    "Let's now consider stock pollution problems. \n",
    "\n",
    "A rural municipality has an agricultural sector using ample amounts of fertilizer to increase crop yield. A unit of fertilizer emissions $e$ benefits the municipality (e.g. crops produced and sold) through the benefit fuction $U(\\cdot)$ but also causes polluting residue which flows into the nearby lake increasing the pollution stock $S_t$. Each year the stock causes damages $D(\\cdot)$ and is reduced by a certain amount by bacteria $f(S_t)$, depending on the total pollution stock. The total social welfare $W$ is determined by $U$ and $D$ and discounted using the constant discount rate $r$ and the remaining (constant) model parameters.\n",
    "$$\n",
    "    W = \\sum_{t=0}^{\\infty} \\rho^t( U(e_t) - D(S_t)) \n",
    "    \\\\[2em]\n",
    "    S_{t+1} = S_t - f(S_t) + e_t \n",
    "    \\\\[1em]\n",
    "    f(S_t) = aS_t\n",
    "    \\\\[1em]\n",
    "    U(e_t) = e^b_t\n",
    "    \\\\[1em]\n",
    "    D(S_t) = cS_t^d\n",
    "    \\\\[1em]\n",
    "    \\rho_t = \\frac{1}{(1+r)^t}\n",
    "$$\n",
    "\n"
   ]
  },
  {
   "cell_type": "markdown",
   "id": "137d7b39",
   "metadata": {},
   "source": [
    "**2a)**\\\n",
    "First build an table with all the components of the optimization problem (e.g. parameters, variables etc.) including the optimization function and constraints"
   ]
  },
  {
   "cell_type": "markdown",
   "id": "457c597f",
   "metadata": {},
   "source": [
    "*Solution* \n",
    "| **Description**       | **Variable**                  | **Range**                  |\n",
    "|----------------------|----------------------------|---------------------------|\n",
    "| Time Indicator      | $t$                         | [0, ..., T]          |\n",
    "| Parameter          | $r, a, b, c, d, (\\rho)$               | constant, (r > -1 ) |\n",
    "| Decision variable  | $e_t$                   | $ 0 < q_t \\leq S_0 $ |\n",
    "| State variable     | $S_t,$              | $ 0 \\leq S_t, p_t $    |\n",
    "| -                  | -                           | -                          |\n",
    "| **Objective function** |     $\\max\\limits_{{e_t}} W = \\sum_{t=0}^{\\infty} \\rho^t( U(e_t) - D(S_t))$ | -|\n",
    "| **Constraints**     | $S_{t+1} = S_t - \\alpha S_t + e_t$    | -                          |\n"
   ]
  },
  {
   "cell_type": "markdown",
   "id": "3b1c76ed",
   "metadata": {},
   "source": [
    "**2b)**\\\n",
    "Build an optimization model to find the social optimal emission rate over time. Use the parameters below and use a model time range of $t = 0, ..., T$.\n",
    "$$\n",
    "S_0 = 0; \\qquad a = 0.1; \\qquad b = 0.6; \\qquad c = 0.00008, \\qquad d = 2; \\qquad r = 0.015; \\qquad T = 50\n",
    "$$\n",
    "\n",
    "Plot $e$ and $S$ over time. Is there something striking in the visualisation?\n"
   ]
  },
  {
   "cell_type": "code",
   "execution_count": 36,
   "id": "f1c771a1",
   "metadata": {},
   "outputs": [
    {
     "data": {
      "application/vnd.plotly.v1+json": {
       "config": {
        "plotlyServerURL": "https://plot.ly"
       },
       "data": [
        {
         "mode": "lines",
         "name": "e_opt",
         "showlegend": true,
         "type": "scatter",
         "x": [
          0,
          1,
          2,
          3,
          4,
          5,
          6,
          7,
          8,
          9,
          10,
          11,
          12,
          13,
          14,
          15,
          16,
          17,
          18,
          19,
          20,
          21,
          22,
          23,
          24,
          25,
          26,
          27,
          28,
          29,
          30,
          31,
          32,
          33,
          34,
          35,
          36,
          37,
          38,
          39,
          40,
          41,
          42,
          43,
          44,
          45,
          46,
          47,
          48,
          49,
          50
         ],
         "y": [
          34.77012216714865,
          28.34347137113146,
          24.476275237092814,
          21.947312694086772,
          20.201944123624163,
          18.948323995805254,
          18.019136187255803,
          17.32173966074553,
          16.785323667697217,
          16.368299517814467,
          16.042111580572588,
          15.782807689071312,
          15.577348859679402,
          15.415329732590912,
          15.284217760352496,
          15.179377888001259,
          15.096584763437974,
          15.029856655212642,
          14.979287743719947,
          14.93732487775206,
          14.90692235871388,
          14.884019910911418,
          14.86960746430413,
          14.86307443959599,
          14.861520004504452,
          14.866299313895428,
          14.879625719820028,
          14.89935517838845,
          14.9271521659645,
          14.968270146788777,
          15.019329663498372,
          15.087455886169066,
          15.173964446042689,
          15.28426189155105,
          15.421981352706851,
          15.599995760207397,
          15.825102432279326,
          16.11596522987288,
          16.490427488646418,
          16.97846814019678,
          17.618018697003272,
          18.479295069506392,
          19.650805882848736,
          21.296200442277577,
          23.695043922309697,
          27.402084224692327,
          33.61799367034012,
          45.536624147108874,
          74.8644810871508,
          200,
          200
         ]
        },
        {
         "mode": "lines",
         "name": "S_opt",
         "showlegend": true,
         "type": "scatter",
         "x": [
          0,
          1,
          2,
          3,
          4,
          5,
          6,
          7,
          8,
          9,
          10,
          11,
          12,
          13,
          14,
          15,
          16,
          17,
          18,
          19,
          20,
          21,
          22,
          23,
          24,
          25,
          26,
          27,
          28,
          29,
          30,
          31,
          32,
          33,
          34,
          35,
          36,
          37,
          38,
          39,
          40,
          41,
          42,
          43,
          44,
          45,
          46,
          47,
          48,
          49,
          50
         ],
         "y": [
          0,
          34.77012216714865,
          59.636581321565245,
          78.14919842650153,
          92.28159127793815,
          103.25537627376849,
          111.8781626421969,
          118.709482565233,
          124.16027396945523,
          128.52957024020694,
          132.04491273400072,
          134.88253304117325,
          137.17708742612723,
          139.0367275431939,
          140.54838452146544,
          141.7777638296714,
          142.77936533470552,
          143.59801356467295,
          144.2680688634183,
          144.8205497207964,
          145.2758196264688,
          145.6551600225358,
          145.9736639311936,
          146.24590500237838,
          146.48438894173654,
          146.69747005206733,
          146.89402236075603,
          147.08424584450046,
          147.27517643843885,
          147.47481096055947,
          147.6956000112923,
          147.94536967366145,
          148.23828859246436,
          148.58842417926058,
          149.01384365288556,
          149.53444064030384,
          150.18099233648087,
          150.9879955351121,
          152.00516121147376,
          153.2950725789728,
          154.94403346127228,
          157.06764881214832,
          159.8401790004399,
          163.50696698324464,
          168.45247072719775,
          175.30226757678767,
          185.1741250438012,
          200.2747062097612,
          225.78385973589397,
          278.06995484945537,
          450.2629593645098
         ]
        },
        {
         "mode": "lines",
         "name": "W_opt",
         "showlegend": true,
         "type": "scatter",
         "x": [
          0,
          1,
          2,
          3,
          4,
          5,
          6,
          7,
          8,
          9,
          10,
          11,
          12,
          13,
          14,
          15,
          16,
          17,
          18,
          19,
          20,
          21,
          22,
          23,
          24,
          25,
          26,
          27,
          28,
          29,
          30,
          31,
          32,
          33,
          34,
          35,
          36,
          37,
          38,
          39,
          40,
          41,
          42,
          43,
          44,
          45,
          46,
          47,
          48,
          49,
          50
         ],
         "y": [
          8.408600707315731,
          7.233055289569331,
          6.335555658127685,
          5.634175697518524,
          5.077796840584521,
          4.6309140641410185,
          4.267985215843705,
          3.9718340669350405,
          3.727245105129922,
          3.5237388604872146,
          3.353172454864956,
          3.2085111721287545,
          3.0850368848031966,
          2.9788186678555673,
          2.8859268594756133,
          2.80414104062587,
          2.7315299389549867,
          2.666096716005671,
          2.6070378099076392,
          2.552451141829384,
          2.502291238611925,
          2.455441084114247,
          2.4116819291217113,
          2.3705768893023786,
          2.331415169210051,
          2.2941877467750142,
          2.258992920904464,
          2.2253045624107894,
          2.193184534847672,
          2.163146637907923,
          2.134479097287062,
          2.1079205367463745,
          2.0833320286419887,
          2.0610798607552643,
          2.041219484149911,
          2.0248552124802894,
          2.012119111705144,
          2.004385460067529,
          2.0025393580373683,
          2.008405163772564,
          2.0239479539147087,
          2.0534812613794364,
          2.1012046192198324,
          2.1757341616795123,
          2.290605717123755,
          2.471872932635077,
          2.771399956561296,
          3.3165346303570478,
          4.523469195510359,
          8.599582817475662,
          3.706722796950871
         ]
        }
       ],
       "layout": {
        "template": {
         "data": {
          "bar": [
           {
            "error_x": {
             "color": "#2a3f5f"
            },
            "error_y": {
             "color": "#2a3f5f"
            },
            "marker": {
             "line": {
              "color": "white",
              "width": 0.5
             },
             "pattern": {
              "fillmode": "overlay",
              "size": 10,
              "solidity": 0.2
             }
            },
            "type": "bar"
           }
          ],
          "barpolar": [
           {
            "marker": {
             "line": {
              "color": "white",
              "width": 0.5
             },
             "pattern": {
              "fillmode": "overlay",
              "size": 10,
              "solidity": 0.2
             }
            },
            "type": "barpolar"
           }
          ],
          "carpet": [
           {
            "aaxis": {
             "endlinecolor": "#2a3f5f",
             "gridcolor": "#C8D4E3",
             "linecolor": "#C8D4E3",
             "minorgridcolor": "#C8D4E3",
             "startlinecolor": "#2a3f5f"
            },
            "baxis": {
             "endlinecolor": "#2a3f5f",
             "gridcolor": "#C8D4E3",
             "linecolor": "#C8D4E3",
             "minorgridcolor": "#C8D4E3",
             "startlinecolor": "#2a3f5f"
            },
            "type": "carpet"
           }
          ],
          "choropleth": [
           {
            "colorbar": {
             "outlinewidth": 0,
             "ticks": ""
            },
            "type": "choropleth"
           }
          ],
          "contour": [
           {
            "colorbar": {
             "outlinewidth": 0,
             "ticks": ""
            },
            "colorscale": [
             [
              0,
              "#0d0887"
             ],
             [
              0.1111111111111111,
              "#46039f"
             ],
             [
              0.2222222222222222,
              "#7201a8"
             ],
             [
              0.3333333333333333,
              "#9c179e"
             ],
             [
              0.4444444444444444,
              "#bd3786"
             ],
             [
              0.5555555555555556,
              "#d8576b"
             ],
             [
              0.6666666666666666,
              "#ed7953"
             ],
             [
              0.7777777777777778,
              "#fb9f3a"
             ],
             [
              0.8888888888888888,
              "#fdca26"
             ],
             [
              1,
              "#f0f921"
             ]
            ],
            "type": "contour"
           }
          ],
          "contourcarpet": [
           {
            "colorbar": {
             "outlinewidth": 0,
             "ticks": ""
            },
            "type": "contourcarpet"
           }
          ],
          "heatmap": [
           {
            "colorbar": {
             "outlinewidth": 0,
             "ticks": ""
            },
            "colorscale": [
             [
              0,
              "#0d0887"
             ],
             [
              0.1111111111111111,
              "#46039f"
             ],
             [
              0.2222222222222222,
              "#7201a8"
             ],
             [
              0.3333333333333333,
              "#9c179e"
             ],
             [
              0.4444444444444444,
              "#bd3786"
             ],
             [
              0.5555555555555556,
              "#d8576b"
             ],
             [
              0.6666666666666666,
              "#ed7953"
             ],
             [
              0.7777777777777778,
              "#fb9f3a"
             ],
             [
              0.8888888888888888,
              "#fdca26"
             ],
             [
              1,
              "#f0f921"
             ]
            ],
            "type": "heatmap"
           }
          ],
          "heatmapgl": [
           {
            "colorbar": {
             "outlinewidth": 0,
             "ticks": ""
            },
            "colorscale": [
             [
              0,
              "#0d0887"
             ],
             [
              0.1111111111111111,
              "#46039f"
             ],
             [
              0.2222222222222222,
              "#7201a8"
             ],
             [
              0.3333333333333333,
              "#9c179e"
             ],
             [
              0.4444444444444444,
              "#bd3786"
             ],
             [
              0.5555555555555556,
              "#d8576b"
             ],
             [
              0.6666666666666666,
              "#ed7953"
             ],
             [
              0.7777777777777778,
              "#fb9f3a"
             ],
             [
              0.8888888888888888,
              "#fdca26"
             ],
             [
              1,
              "#f0f921"
             ]
            ],
            "type": "heatmapgl"
           }
          ],
          "histogram": [
           {
            "marker": {
             "pattern": {
              "fillmode": "overlay",
              "size": 10,
              "solidity": 0.2
             }
            },
            "type": "histogram"
           }
          ],
          "histogram2d": [
           {
            "colorbar": {
             "outlinewidth": 0,
             "ticks": ""
            },
            "colorscale": [
             [
              0,
              "#0d0887"
             ],
             [
              0.1111111111111111,
              "#46039f"
             ],
             [
              0.2222222222222222,
              "#7201a8"
             ],
             [
              0.3333333333333333,
              "#9c179e"
             ],
             [
              0.4444444444444444,
              "#bd3786"
             ],
             [
              0.5555555555555556,
              "#d8576b"
             ],
             [
              0.6666666666666666,
              "#ed7953"
             ],
             [
              0.7777777777777778,
              "#fb9f3a"
             ],
             [
              0.8888888888888888,
              "#fdca26"
             ],
             [
              1,
              "#f0f921"
             ]
            ],
            "type": "histogram2d"
           }
          ],
          "histogram2dcontour": [
           {
            "colorbar": {
             "outlinewidth": 0,
             "ticks": ""
            },
            "colorscale": [
             [
              0,
              "#0d0887"
             ],
             [
              0.1111111111111111,
              "#46039f"
             ],
             [
              0.2222222222222222,
              "#7201a8"
             ],
             [
              0.3333333333333333,
              "#9c179e"
             ],
             [
              0.4444444444444444,
              "#bd3786"
             ],
             [
              0.5555555555555556,
              "#d8576b"
             ],
             [
              0.6666666666666666,
              "#ed7953"
             ],
             [
              0.7777777777777778,
              "#fb9f3a"
             ],
             [
              0.8888888888888888,
              "#fdca26"
             ],
             [
              1,
              "#f0f921"
             ]
            ],
            "type": "histogram2dcontour"
           }
          ],
          "mesh3d": [
           {
            "colorbar": {
             "outlinewidth": 0,
             "ticks": ""
            },
            "type": "mesh3d"
           }
          ],
          "parcoords": [
           {
            "line": {
             "colorbar": {
              "outlinewidth": 0,
              "ticks": ""
             }
            },
            "type": "parcoords"
           }
          ],
          "pie": [
           {
            "automargin": true,
            "type": "pie"
           }
          ],
          "scatter": [
           {
            "fillpattern": {
             "fillmode": "overlay",
             "size": 10,
             "solidity": 0.2
            },
            "type": "scatter"
           }
          ],
          "scatter3d": [
           {
            "line": {
             "colorbar": {
              "outlinewidth": 0,
              "ticks": ""
             }
            },
            "marker": {
             "colorbar": {
              "outlinewidth": 0,
              "ticks": ""
             }
            },
            "type": "scatter3d"
           }
          ],
          "scattercarpet": [
           {
            "marker": {
             "colorbar": {
              "outlinewidth": 0,
              "ticks": ""
             }
            },
            "type": "scattercarpet"
           }
          ],
          "scattergeo": [
           {
            "marker": {
             "colorbar": {
              "outlinewidth": 0,
              "ticks": ""
             }
            },
            "type": "scattergeo"
           }
          ],
          "scattergl": [
           {
            "marker": {
             "colorbar": {
              "outlinewidth": 0,
              "ticks": ""
             }
            },
            "type": "scattergl"
           }
          ],
          "scattermapbox": [
           {
            "marker": {
             "colorbar": {
              "outlinewidth": 0,
              "ticks": ""
             }
            },
            "type": "scattermapbox"
           }
          ],
          "scatterpolar": [
           {
            "marker": {
             "colorbar": {
              "outlinewidth": 0,
              "ticks": ""
             }
            },
            "type": "scatterpolar"
           }
          ],
          "scatterpolargl": [
           {
            "marker": {
             "colorbar": {
              "outlinewidth": 0,
              "ticks": ""
             }
            },
            "type": "scatterpolargl"
           }
          ],
          "scatterternary": [
           {
            "marker": {
             "colorbar": {
              "outlinewidth": 0,
              "ticks": ""
             }
            },
            "type": "scatterternary"
           }
          ],
          "surface": [
           {
            "colorbar": {
             "outlinewidth": 0,
             "ticks": ""
            },
            "colorscale": [
             [
              0,
              "#0d0887"
             ],
             [
              0.1111111111111111,
              "#46039f"
             ],
             [
              0.2222222222222222,
              "#7201a8"
             ],
             [
              0.3333333333333333,
              "#9c179e"
             ],
             [
              0.4444444444444444,
              "#bd3786"
             ],
             [
              0.5555555555555556,
              "#d8576b"
             ],
             [
              0.6666666666666666,
              "#ed7953"
             ],
             [
              0.7777777777777778,
              "#fb9f3a"
             ],
             [
              0.8888888888888888,
              "#fdca26"
             ],
             [
              1,
              "#f0f921"
             ]
            ],
            "type": "surface"
           }
          ],
          "table": [
           {
            "cells": {
             "fill": {
              "color": "#EBF0F8"
             },
             "line": {
              "color": "white"
             }
            },
            "header": {
             "fill": {
              "color": "#C8D4E3"
             },
             "line": {
              "color": "white"
             }
            },
            "type": "table"
           }
          ]
         },
         "layout": {
          "annotationdefaults": {
           "arrowcolor": "#2a3f5f",
           "arrowhead": 0,
           "arrowwidth": 1
          },
          "autotypenumbers": "strict",
          "coloraxis": {
           "colorbar": {
            "outlinewidth": 0,
            "ticks": ""
           }
          },
          "colorscale": {
           "diverging": [
            [
             0,
             "#8e0152"
            ],
            [
             0.1,
             "#c51b7d"
            ],
            [
             0.2,
             "#de77ae"
            ],
            [
             0.3,
             "#f1b6da"
            ],
            [
             0.4,
             "#fde0ef"
            ],
            [
             0.5,
             "#f7f7f7"
            ],
            [
             0.6,
             "#e6f5d0"
            ],
            [
             0.7,
             "#b8e186"
            ],
            [
             0.8,
             "#7fbc41"
            ],
            [
             0.9,
             "#4d9221"
            ],
            [
             1,
             "#276419"
            ]
           ],
           "sequential": [
            [
             0,
             "#0d0887"
            ],
            [
             0.1111111111111111,
             "#46039f"
            ],
            [
             0.2222222222222222,
             "#7201a8"
            ],
            [
             0.3333333333333333,
             "#9c179e"
            ],
            [
             0.4444444444444444,
             "#bd3786"
            ],
            [
             0.5555555555555556,
             "#d8576b"
            ],
            [
             0.6666666666666666,
             "#ed7953"
            ],
            [
             0.7777777777777778,
             "#fb9f3a"
            ],
            [
             0.8888888888888888,
             "#fdca26"
            ],
            [
             1,
             "#f0f921"
            ]
           ],
           "sequentialminus": [
            [
             0,
             "#0d0887"
            ],
            [
             0.1111111111111111,
             "#46039f"
            ],
            [
             0.2222222222222222,
             "#7201a8"
            ],
            [
             0.3333333333333333,
             "#9c179e"
            ],
            [
             0.4444444444444444,
             "#bd3786"
            ],
            [
             0.5555555555555556,
             "#d8576b"
            ],
            [
             0.6666666666666666,
             "#ed7953"
            ],
            [
             0.7777777777777778,
             "#fb9f3a"
            ],
            [
             0.8888888888888888,
             "#fdca26"
            ],
            [
             1,
             "#f0f921"
            ]
           ]
          },
          "colorway": [
           "#636efa",
           "#EF553B",
           "#00cc96",
           "#ab63fa",
           "#FFA15A",
           "#19d3f3",
           "#FF6692",
           "#B6E880",
           "#FF97FF",
           "#FECB52"
          ],
          "font": {
           "color": "#2a3f5f"
          },
          "geo": {
           "bgcolor": "white",
           "lakecolor": "white",
           "landcolor": "white",
           "showlakes": true,
           "showland": true,
           "subunitcolor": "#C8D4E3"
          },
          "hoverlabel": {
           "align": "left"
          },
          "hovermode": "closest",
          "mapbox": {
           "style": "light"
          },
          "paper_bgcolor": "white",
          "plot_bgcolor": "white",
          "polar": {
           "angularaxis": {
            "gridcolor": "#EBF0F8",
            "linecolor": "#EBF0F8",
            "ticks": ""
           },
           "bgcolor": "white",
           "radialaxis": {
            "gridcolor": "#EBF0F8",
            "linecolor": "#EBF0F8",
            "ticks": ""
           }
          },
          "scene": {
           "xaxis": {
            "backgroundcolor": "white",
            "gridcolor": "#DFE8F3",
            "gridwidth": 2,
            "linecolor": "#EBF0F8",
            "showbackground": true,
            "ticks": "",
            "zerolinecolor": "#EBF0F8"
           },
           "yaxis": {
            "backgroundcolor": "white",
            "gridcolor": "#DFE8F3",
            "gridwidth": 2,
            "linecolor": "#EBF0F8",
            "showbackground": true,
            "ticks": "",
            "zerolinecolor": "#EBF0F8"
           },
           "zaxis": {
            "backgroundcolor": "white",
            "gridcolor": "#DFE8F3",
            "gridwidth": 2,
            "linecolor": "#EBF0F8",
            "showbackground": true,
            "ticks": "",
            "zerolinecolor": "#EBF0F8"
           }
          },
          "shapedefaults": {
           "line": {
            "color": "#2a3f5f"
           }
          },
          "ternary": {
           "aaxis": {
            "gridcolor": "#DFE8F3",
            "linecolor": "#A2B1C6",
            "ticks": ""
           },
           "baxis": {
            "gridcolor": "#DFE8F3",
            "linecolor": "#A2B1C6",
            "ticks": ""
           },
           "bgcolor": "white",
           "caxis": {
            "gridcolor": "#DFE8F3",
            "linecolor": "#A2B1C6",
            "ticks": ""
           }
          },
          "title": {
           "x": 0.05
          },
          "xaxis": {
           "automargin": true,
           "gridcolor": "#EBF0F8",
           "linecolor": "#EBF0F8",
           "ticks": "",
           "title": {
            "standoff": 15
           },
           "zerolinecolor": "#EBF0F8",
           "zerolinewidth": 2
          },
          "yaxis": {
           "automargin": true,
           "gridcolor": "#EBF0F8",
           "linecolor": "#EBF0F8",
           "ticks": "",
           "title": {
            "standoff": 15
           },
           "zerolinecolor": "#EBF0F8",
           "zerolinewidth": 2
          }
         }
        },
        "title": {
         "text": "Stock Pollution"
        },
        "xaxis": {
         "title": {
          "text": "time"
         }
        },
        "yaxis": {
         "title": {
          "text": "value"
         }
        }
       }
      }
     },
     "metadata": {},
     "output_type": "display_data"
    }
   ],
   "source": [
    "\n",
    "def stockpollution(T = 50, S0 = 0, a = 0.1, b = 0.6, c = 0.00008, d = 2, r = 0.015 ):\n",
    "    # Sets & Parameters --------------------------------\n",
    "    # Define a discount factor\n",
    "    rho = 1 / (1 + r) ** np.arange(T + 1)\n",
    "\n",
    "    # State Variables -----------------------------------\n",
    "    def f_S(i_e):\n",
    "        S = np.zeros(T + 1)\n",
    "        S[0] = S0\n",
    "        for t in range(1, T + 1):\n",
    "            S[t] = S[t-1] - a * S[t-1] + i_e[t-1]\n",
    "        return S\n",
    "\n",
    "    def f_W(i_e):\n",
    "        S = f_S(i_e)\n",
    "        W = np.zeros(T + 1)\n",
    "        for t in range(T + 1):\n",
    "            W[t] = rho[t] * ( (i_e[t] ** b) - (c * (S[t] ** d)) )\n",
    "        return W\n",
    "\n",
    "    # Objective Function -------------------------------\n",
    "    def f_obj(i_e):\n",
    "        W = f_W(i_e)\n",
    "        return -1 * np.sum(W)\n",
    "\n",
    "\n",
    "    # Constraints --------------------------------------\n",
    "    cnstr = []\n",
    "\n",
    "    # Decision Variables -------------------------------\n",
    "    e_start = np.full(T+1, S0)\n",
    "    bnds = [(0, 200) for t in range(T+1)]\n",
    "\n",
    "    # Run Optimization ---------------------------------\n",
    "    results = opt.minimize(f_obj, e_start, bounds=bnds, constraints=cnstr, \n",
    "                           options={'disp': False})\n",
    "\n",
    "    # Get the optimal results\n",
    "    e_opt = results.x\n",
    "    S_opt = f_S(e_opt)\n",
    "    W_opt = f_W(e_opt)\n",
    "\n",
    "    # Create results dataframe\n",
    "    df = pd.DataFrame({\n",
    "        't': np.arange(T + 1),\n",
    "        'e': e_opt,\n",
    "        'S': S_opt,\n",
    "        'W': W_opt\n",
    "    })\n",
    "    return df\n",
    "\n",
    "df  = stockpollution()\n",
    "\n",
    "\n",
    "# Plot Results -------------------------------------\n",
    "# fig = make_subplots(rows=1, cols=3, subplot_titles=('q_opt', 'p_opt', 'S_opt'))\n",
    "fig = go.Figure()\n",
    "fig.add_trace(go.Scatter(x=df['t'], y=df['e'], mode='lines', name='e_opt', showlegend=True))\n",
    "fig.add_trace(go.Scatter(x=df['t'], y=df['S'], mode='lines', name='S_opt', showlegend=True))\n",
    "fig.add_trace(go.Scatter(x=df['t'], y=df['W'], mode='lines', name='W_opt', showlegend=True))\n",
    "fig.update_layout(title='Stock Pollution', xaxis_title='time' , yaxis_title='value', template='plotly_white')\n",
    "\n",
    "fig.write_html('stockpollution.html')\n",
    "fig.show()\n"
   ]
  },
  {
   "cell_type": "markdown",
   "id": "79148e8f",
   "metadata": {},
   "source": [
    "## 3 For More Advanced Students"
   ]
  },
  {
   "cell_type": "markdown",
   "id": "44b07feb",
   "metadata": {},
   "source": [
    "**3a) Hotelling, parameter effects**\\\n",
    "If not done already, structure your monopolist hotelling model from before as a function (with the parameters as input) that returns the values for $q_t, p_t$, $S_t$ and the objective value over time $t$ as a dataframe. Rerun the model with different specifications to see how different parameter changes alter the optimal extraction schedule an price path of the resource.\n",
    "\n",
    "- Increase interest rate: $r^* = 0.07$\n",
    "- Increase resource stock: $S_0^* = 150$\n",
    "- Change in the inverse demand function with $b^* = 0.5$\n",
    "- Increase in extraction cost with $c^* = 2$\n"
   ]
  },
  {
   "cell_type": "code",
   "execution_count": null,
   "id": "83e05a36",
   "metadata": {},
   "outputs": [
    {
     "data": {
      "application/vnd.plotly.v1+json": {
       "config": {
        "plotlyServerURL": "https://plot.ly"
       },
       "data": [
        {
         "legendgroup": "base",
         "mode": "lines",
         "name": "q_base",
         "showlegend": true,
         "type": "scatter",
         "x": [
          0,
          1,
          2,
          3,
          4,
          5,
          6,
          7,
          8,
          9,
          10,
          11,
          12,
          13,
          14,
          15,
          16,
          17,
          18,
          19,
          20,
          21,
          22,
          23,
          24,
          25,
          26,
          27,
          28,
          29,
          30,
          31,
          32,
          33,
          34,
          35,
          36,
          37,
          38,
          39,
          40,
          41,
          42,
          43,
          44,
          45,
          46,
          47,
          48,
          49,
          50
         ],
         "xaxis": "x",
         "y": [
          3.837838525345531,
          3.804552498254851,
          3.769874482810309,
          3.7331908822062805,
          3.6949884770124233,
          3.654946673066361,
          3.612724022977238,
          3.5682334868834498,
          3.521504765679684,
          3.4725267350956983,
          3.421189774187942,
          3.367325266643478,
          3.3107474401687447,
          3.2512912721170126,
          3.1888261434825917,
          3.123231918332949,
          3.054379922976891,
          2.9821251655148746,
          2.9062973793798976,
          2.8266840031033396,
          2.7430691456909995,
          2.655229580212422,
          2.5629481132847562,
          2.466003219647103,
          2.364187856695198,
          2.257288195050511,
          2.145073149403131,
          2.0273015738054436,
          1.9037090451901657,
          1.773983645982213,
          1.6377878364503053,
          1.4947754691432835,
          1.3445519332560045,
          1.1867276209551805,
          1.0209061964306463,
          0.846729725055968,
          0.6638538653665497,
          0.4719944567689314,
          0.2709178765544173,
          0.06048265981727378,
          0,
          0,
          7.687459271043216e-17,
          2.487312249612253e-18,
          0,
          7.699910655367855e-17,
          0,
          2.1506166530786686e-16,
          0,
          2.2172527350391644e-16,
          0
         ],
         "yaxis": "y"
        },
        {
         "legendgroup": "base",
         "mode": "lines",
         "name": "p_base",
         "showlegend": true,
         "type": "scatter",
         "x": [
          0,
          1,
          2,
          3,
          4,
          5,
          6,
          7,
          8,
          9,
          10,
          11,
          12,
          13,
          14,
          15,
          16,
          17,
          18,
          19,
          20,
          21,
          22,
          23,
          24,
          25,
          26,
          27,
          28,
          29,
          30,
          31,
          32,
          33,
          34,
          35,
          36,
          37,
          38,
          39,
          40,
          41,
          42,
          43,
          44,
          45,
          46,
          47,
          48,
          49,
          50
         ],
         "xaxis": "x2",
         "y": [
          6.162161474654469,
          6.195447501745149,
          6.230125517189691,
          6.26680911779372,
          6.305011522987577,
          6.345053326933639,
          6.387275977022762,
          6.43176651311655,
          6.478495234320317,
          6.527473264904302,
          6.578810225812058,
          6.632674733356522,
          6.689252559831255,
          6.748708727882987,
          6.811173856517408,
          6.876768081667051,
          6.94562007702311,
          7.017874834485125,
          7.093702620620102,
          7.17331599689666,
          7.256930854309001,
          7.344770419787578,
          7.437051886715244,
          7.533996780352897,
          7.635812143304802,
          7.742711804949489,
          7.854926850596868,
          7.972698426194556,
          8.096290954809835,
          8.226016354017787,
          8.362212163549694,
          8.505224530856717,
          8.655448066743995,
          8.81327237904482,
          8.979093803569354,
          9.153270274944031,
          9.33614613463345,
          9.52800554323107,
          9.729082123445583,
          9.939517340182727,
          10,
          10,
          10,
          10,
          10,
          10,
          10,
          10,
          10,
          10,
          10
         ],
         "yaxis": "y2"
        },
        {
         "legendgroup": "base",
         "mode": "lines",
         "name": "S_base",
         "showlegend": true,
         "type": "scatter",
         "x": [
          0,
          1,
          2,
          3,
          4,
          5,
          6,
          7,
          8,
          9,
          10,
          11,
          12,
          13,
          14,
          15,
          16,
          17,
          18,
          19,
          20,
          21,
          22,
          23,
          24,
          25,
          26,
          27,
          28,
          29,
          30,
          31,
          32,
          33,
          34,
          35,
          36,
          37,
          38,
          39,
          40,
          41,
          42,
          43,
          44,
          45,
          46,
          47,
          48,
          49,
          50
         ],
         "xaxis": "x3",
         "y": [
          100,
          96.16216147465447,
          92.35760897639962,
          88.58773449358931,
          84.85454361138302,
          81.15955513437059,
          77.50460846130423,
          73.891884438327,
          70.32365095144355,
          66.80214618576387,
          63.329619450668176,
          59.90842967648023,
          56.541104409836755,
          53.23035696966801,
          49.97906569755099,
          46.7902395540684,
          43.66700763573545,
          40.61262771275856,
          37.63050254724369,
          34.724205167863786,
          31.897521164760448,
          29.15445201906945,
          26.49922243885703,
          23.93627432557227,
          21.470271105925168,
          19.106083249229968,
          16.848795054179458,
          14.703721904776327,
          12.676420330970883,
          10.772711285780717,
          8.998727639798505,
          7.360939803348199,
          5.866164334204916,
          4.521612400948911,
          3.3348847799937302,
          2.3139785835630837,
          1.4672488585071157,
          0.8033949931405661,
          0.33140053637163464,
          0.060482659817217344,
          -5.643402412047749e-14,
          -5.643402412047749e-14,
          -5.643402412047749e-14,
          -5.651089871318792e-14,
          -5.651338602543753e-14,
          -5.651338602543753e-14,
          -5.659038513199121e-14,
          -5.659038513199121e-14,
          -5.680544679729908e-14,
          -5.680544679729908e-14,
          -5.7027172070803e-14
         ],
         "yaxis": "y3"
        },
        {
         "legendgroup": "incr_rparam",
         "mode": "lines",
         "name": "q_incr_rparam",
         "showlegend": true,
         "type": "scatter",
         "x": [
          0,
          1,
          2,
          3,
          4,
          5,
          6,
          7,
          8,
          9,
          10,
          11,
          12,
          13,
          14,
          15,
          16,
          17,
          18,
          19,
          20,
          21,
          22,
          23,
          24,
          25,
          26,
          27,
          28,
          29,
          30,
          31,
          32,
          33,
          34,
          35,
          36,
          37,
          38,
          39,
          40,
          41,
          42,
          43,
          44,
          45,
          46,
          47,
          48,
          49,
          50
         ],
         "xaxis": "x",
         "y": [
          4.0836568012141585,
          4.0545263850312026,
          4.02334764438945,
          3.9899510512562673,
          3.9541163194036915,
          3.9160172172308574,
          3.875143014149087,
          3.8313743412172796,
          3.784582367663595,
          3.7345217546196126,
          3.6809590302834736,
          3.6236707496688862,
          3.5623893791729686,
          3.496785128717095,
          3.4265157177034897,
          3.351270664878287,
          3.270771303526931,
          3.184706832813758,
          3.092702212938668,
          2.9942914792282487,
          2.8889682872380478,
          2.77618406498922,
          2.6554050962651914,
          2.5261124179501775,
          2.3877876878847797,
          2.239877300080573,
          2.0817719348407864,
          1.9127388059645487,
          1.7319404640875302,
          1.5384247661272739,
          1.3311730291710995,
          1.109152412943353,
          0.8713627732992009,
          0.6169346554191234,
          0.3451820697260698,
          0.05568483890601584,
          0,
          0,
          8.902739792116324e-17,
          2.128551444802694e-17,
          0,
          0,
          2.540675325289274e-18,
          0,
          1.2203955412833393e-16,
          0,
          0,
          2.2046224150044187e-16,
          2.404510543853409e-16,
          2.0716996521741695e-16,
          0
         ],
         "yaxis": "y"
        },
        {
         "legendgroup": "incr_rparam",
         "mode": "lines",
         "name": "p_incr_rparam",
         "showlegend": true,
         "type": "scatter",
         "x": [
          0,
          1,
          2,
          3,
          4,
          5,
          6,
          7,
          8,
          9,
          10,
          11,
          12,
          13,
          14,
          15,
          16,
          17,
          18,
          19,
          20,
          21,
          22,
          23,
          24,
          25,
          26,
          27,
          28,
          29,
          30,
          31,
          32,
          33,
          34,
          35,
          36,
          37,
          38,
          39,
          40,
          41,
          42,
          43,
          44,
          45,
          46,
          47,
          48,
          49,
          50
         ],
         "xaxis": "x2",
         "y": [
          5.9163431987858415,
          5.9454736149687974,
          5.97665235561055,
          6.010048948743733,
          6.045883680596308,
          6.083982782769143,
          6.124856985850913,
          6.16862565878272,
          6.215417632336405,
          6.265478245380388,
          6.319040969716527,
          6.376329250331114,
          6.437610620827032,
          6.503214871282905,
          6.57348428229651,
          6.648729335121713,
          6.7292286964730685,
          6.815293167186242,
          6.9072977870613315,
          7.005708520771751,
          7.111031712761952,
          7.22381593501078,
          7.344594903734809,
          7.473887582049823,
          7.61221231211522,
          7.760122699919426,
          7.918228065159214,
          8.08726119403545,
          8.26805953591247,
          8.461575233872725,
          8.668826970828901,
          8.890847587056648,
          9.1286372267008,
          9.383065344580876,
          9.65481793027393,
          9.944315161093984,
          10,
          10,
          10,
          10,
          10,
          10,
          10,
          10,
          10,
          10,
          10,
          10,
          10,
          10,
          10
         ],
         "yaxis": "y2"
        },
        {
         "legendgroup": "incr_rparam",
         "mode": "lines",
         "name": "S_incr_rparam",
         "showlegend": true,
         "type": "scatter",
         "x": [
          0,
          1,
          2,
          3,
          4,
          5,
          6,
          7,
          8,
          9,
          10,
          11,
          12,
          13,
          14,
          15,
          16,
          17,
          18,
          19,
          20,
          21,
          22,
          23,
          24,
          25,
          26,
          27,
          28,
          29,
          30,
          31,
          32,
          33,
          34,
          35,
          36,
          37,
          38,
          39,
          40,
          41,
          42,
          43,
          44,
          45,
          46,
          47,
          48,
          49,
          50
         ],
         "xaxis": "x3",
         "y": [
          100,
          95.91634319878584,
          91.86181681375464,
          87.8384691693652,
          83.84851811810893,
          79.89440179870523,
          75.97838458147437,
          72.10324156732528,
          68.271867226108,
          64.48728485844441,
          60.7527631038248,
          57.07180407354132,
          53.44813332387243,
          49.88574394469946,
          46.38895881598237,
          42.96244309827888,
          39.6111724334006,
          36.34040112987367,
          33.15569429705991,
          30.06299208412124,
          27.068700604892992,
          24.179732317654945,
          21.403548252665725,
          18.748143156400534,
          16.222030738450357,
          13.834243050565577,
          11.594365750485004,
          9.512593815644218,
          7.599855009679669,
          5.867914545592139,
          4.329489779464866,
          2.998316750293766,
          1.8891643373504132,
          1.0178015640512124,
          0.40086690863208896,
          0.05568483890601916,
          3.3237301799715624e-15,
          3.3237301799715624e-15,
          3.3237301799715624e-15,
          3.234702782050399e-15,
          3.2134172676023722e-15,
          3.2134172676023722e-15,
          3.2134172676023722e-15,
          3.210876592277083e-15,
          3.210876592277083e-15,
          3.088837038148749e-15,
          3.088837038148749e-15,
          3.088837038148749e-15,
          2.868374796648307e-15,
          2.6279237422629663e-15,
          2.4207537770455493e-15
         ],
         "yaxis": "y3"
        },
        {
         "legendgroup": "incr_stock",
         "mode": "lines",
         "name": "q_incr_stock",
         "showlegend": true,
         "type": "scatter",
         "x": [
          0,
          1,
          2,
          3,
          4,
          5,
          6,
          7,
          8,
          9,
          10,
          11,
          12,
          13,
          14,
          15,
          16,
          17,
          18,
          19,
          20,
          21,
          22,
          23,
          24,
          25,
          26,
          27,
          28,
          29,
          30,
          31,
          32,
          33,
          34,
          35,
          36,
          37,
          38,
          39,
          40,
          41,
          42,
          43,
          44,
          45,
          46,
          47,
          48,
          49,
          50
         ],
         "xaxis": "x",
         "y": [
          4.1399310467532136,
          4.1219716274284135,
          4.103093194034849,
          4.083184410428346,
          4.0624452860062314,
          4.040497934426674,
          4.01747397746533,
          3.9933809021646827,
          3.9680944368414277,
          3.941491150277353,
          3.9135416885463075,
          3.8842010954026045,
          3.853407400037679,
          3.821078520928426,
          3.7871405372649405,
          3.7515092846588836,
          3.7141096375256746,
          3.674848848099003,
          3.633626546718455,
          3.5903212767052497,
          3.5448096640011055,
          3.4969866751974883,
          3.4467449260863594,
          3.3939932948035105,
          3.33862350418784,
          3.2805284443724223,
          3.2195889251751164,
          3.1556396827154365,
          3.088526003677382,
          3.0180538393318033,
          2.944039419973048,
          2.8662794273506096,
          2.7845889640058377,
          2.6987730750355046,
          2.608646550342458,
          2.514014276216687,
          2.4146767394996256,
          2.310416327128804,
          2.2010023099044607,
          2.0861495434361736,
          1.9655794407211573,
          1.8389769938107277,
          1.7059947449967596,
          1.5662624754822312,
          1.4194638705622398,
          1.2652139968687297,
          1.1031939911561879,
          0.933112825359012,
          0.7547160695023307,
          0.5678030445512061,
          0.37225215283393975
         ],
         "yaxis": "y"
        },
        {
         "legendgroup": "incr_stock",
         "mode": "lines",
         "name": "p_incr_stock",
         "showlegend": true,
         "type": "scatter",
         "x": [
          0,
          1,
          2,
          3,
          4,
          5,
          6,
          7,
          8,
          9,
          10,
          11,
          12,
          13,
          14,
          15,
          16,
          17,
          18,
          19,
          20,
          21,
          22,
          23,
          24,
          25,
          26,
          27,
          28,
          29,
          30,
          31,
          32,
          33,
          34,
          35,
          36,
          37,
          38,
          39,
          40,
          41,
          42,
          43,
          44,
          45,
          46,
          47,
          48,
          49,
          50
         ],
         "xaxis": "x2",
         "y": [
          5.8600689532467864,
          5.8780283725715865,
          5.896906805965151,
          5.916815589571654,
          5.9375547139937686,
          5.959502065573326,
          5.98252602253467,
          6.006619097835317,
          6.031905563158572,
          6.058508849722648,
          6.0864583114536925,
          6.115798904597396,
          6.146592599962322,
          6.178921479071574,
          6.212859462735059,
          6.248490715341116,
          6.285890362474325,
          6.325151151900997,
          6.366373453281545,
          6.40967872329475,
          6.4551903359988945,
          6.503013324802511,
          6.553255073913641,
          6.6060067051964895,
          6.66137649581216,
          6.719471555627578,
          6.780411074824883,
          6.844360317284563,
          6.911473996322618,
          6.981946160668197,
          7.055960580026952,
          7.13372057264939,
          7.215411035994162,
          7.301226924964496,
          7.391353449657542,
          7.485985723783314,
          7.585323260500374,
          7.689583672871196,
          7.79899769009554,
          7.913850456563827,
          8.034420559278843,
          8.161023006189271,
          8.29400525500324,
          8.433737524517769,
          8.58053612943776,
          8.734786003131271,
          8.896806008843813,
          9.066887174640987,
          9.245283930497669,
          9.432196955448793,
          9.62774784716606
         ],
         "yaxis": "y2"
        },
        {
         "legendgroup": "incr_stock",
         "mode": "lines",
         "name": "S_incr_stock",
         "showlegend": true,
         "type": "scatter",
         "x": [
          0,
          1,
          2,
          3,
          4,
          5,
          6,
          7,
          8,
          9,
          10,
          11,
          12,
          13,
          14,
          15,
          16,
          17,
          18,
          19,
          20,
          21,
          22,
          23,
          24,
          25,
          26,
          27,
          28,
          29,
          30,
          31,
          32,
          33,
          34,
          35,
          36,
          37,
          38,
          39,
          40,
          41,
          42,
          43,
          44,
          45,
          46,
          47,
          48,
          49,
          50
         ],
         "xaxis": "x3",
         "y": [
          150,
          145.86006895324678,
          141.73809732581836,
          137.63500413178352,
          133.55181972135517,
          129.48937443534894,
          125.44887650092227,
          121.43140252345694,
          117.43802162129225,
          113.46992718445082,
          109.52843603417347,
          105.61489434562716,
          101.73069325022456,
          97.87728585018688,
          94.05620732925846,
          90.26906679199351,
          86.51755750733463,
          82.80344786980895,
          79.12859902170995,
          75.49497247499149,
          71.90465119828623,
          68.35984153428512,
          64.86285485908763,
          61.41610993300127,
          58.022116638197765,
          54.68349313400992,
          51.4029646896375,
          48.18337576446238,
          45.027736081746944,
          41.939210078069564,
          38.92115623873776,
          35.97711681876471,
          33.1108373914141,
          30.326248427408263,
          27.62747535237276,
          25.0188288020303,
          22.50481452581361,
          20.090137786313985,
          17.779721459185183,
          15.578719149280722,
          13.49256960584455,
          11.526990165123392,
          9.688013171312665,
          7.982018426315905,
          6.415755950833674,
          4.996292080271434,
          3.7310780834027044,
          2.6278840922465165,
          1.6947712668875046,
          0.9400551973851738,
          0.37225215283396773
         ],
         "yaxis": "y3"
        },
        {
         "legendgroup": "decr_bparam",
         "mode": "lines",
         "name": "q_decr_bparam",
         "showlegend": true,
         "type": "scatter",
         "x": [
          0,
          1,
          2,
          3,
          4,
          5,
          6,
          7,
          8,
          9,
          10,
          11,
          12,
          13,
          14,
          15,
          16,
          17,
          18,
          19,
          20,
          21,
          22,
          23,
          24,
          25,
          26,
          27,
          28,
          29,
          30,
          31,
          32,
          33,
          34,
          35,
          36,
          37,
          38,
          39,
          40,
          41,
          42,
          43,
          44,
          45,
          46,
          47,
          48,
          49,
          50
         ],
         "xaxis": "x",
         "y": [
          6.378374879415549,
          6.247289792024808,
          6.109656057919802,
          5.965130240327374,
          5.81336469168355,
          5.654013855656146,
          5.486714164836524,
          5.311073789850171,
          5.126657218041682,
          4.9330228812669334,
          4.72968731391046,
          4.516154250235517,
          4.291918675029955,
          4.056464184265147,
          3.8092415803659967,
          3.5497018704536294,
          3.2772397702956595,
          2.9911930308578962,
          2.6908641338295696,
          2.375494251484814,
          2.0442868156201595,
          1.6964200815480057,
          1.3310879178390236,
          0.94748100194422,
          0.5448672929779441,
          0.12260025831948476,
          1.4258884871443112e-15,
          8.029440353167668e-16,
          7.750910509122036e-16,
          0,
          5.7911642603776514e-18,
          0,
          0,
          0,
          0,
          2.15974766825007e-16,
          0,
          0,
          0,
          0,
          0,
          0,
          0,
          0,
          0,
          0,
          0,
          0,
          0,
          1.6639987659799148e-15,
          0
         ],
         "yaxis": "y"
        },
        {
         "legendgroup": "decr_bparam",
         "mode": "lines",
         "name": "p_decr_bparam",
         "showlegend": true,
         "type": "scatter",
         "x": [
          0,
          1,
          2,
          3,
          4,
          5,
          6,
          7,
          8,
          9,
          10,
          11,
          12,
          13,
          14,
          15,
          16,
          17,
          18,
          19,
          20,
          21,
          22,
          23,
          24,
          25,
          26,
          27,
          28,
          29,
          30,
          31,
          32,
          33,
          34,
          35,
          36,
          37,
          38,
          39,
          40,
          41,
          42,
          43,
          44,
          45,
          46,
          47,
          48,
          49,
          50
         ],
         "xaxis": "x2",
         "y": [
          6.810812560292225,
          6.876355103987596,
          6.945171971040099,
          7.017434879836313,
          7.093317654158225,
          7.172993072171927,
          7.256642917581738,
          7.344463105074914,
          7.436671390979159,
          7.533488559366534,
          7.63515634304477,
          7.741922874882242,
          7.854040662485023,
          7.971767907867426,
          8.095379209817002,
          8.225149064773186,
          8.361380114852171,
          8.504403484571052,
          8.654567933085215,
          8.812252874257593,
          8.97785659218992,
          9.151789959225997,
          9.334456041080488,
          9.52625949902789,
          9.727566353511028,
          9.938699870840258,
          10,
          10,
          10,
          10,
          10,
          10,
          10,
          10,
          10,
          10,
          10,
          10,
          10,
          10,
          10,
          10,
          10,
          10,
          10,
          10,
          10,
          10,
          10,
          10,
          10
         ],
         "yaxis": "y2"
        },
        {
         "legendgroup": "decr_bparam",
         "mode": "lines",
         "name": "S_decr_bparam",
         "showlegend": true,
         "type": "scatter",
         "x": [
          0,
          1,
          2,
          3,
          4,
          5,
          6,
          7,
          8,
          9,
          10,
          11,
          12,
          13,
          14,
          15,
          16,
          17,
          18,
          19,
          20,
          21,
          22,
          23,
          24,
          25,
          26,
          27,
          28,
          29,
          30,
          31,
          32,
          33,
          34,
          35,
          36,
          37,
          38,
          39,
          40,
          41,
          42,
          43,
          44,
          45,
          46,
          47,
          48,
          49,
          50
         ],
         "xaxis": "x3",
         "y": [
          100,
          93.62162512058445,
          87.37433532855965,
          81.26467927063985,
          75.29954903031248,
          69.48618433862893,
          63.832170482972785,
          58.34545631813626,
          53.03438252828609,
          47.9077253102444,
          42.974702428977466,
          38.245015115067005,
          33.72886086483149,
          29.436942189801535,
          25.38047800553639,
          21.571236425170394,
          18.021534554716766,
          14.744294784421106,
          11.75310175356321,
          9.06223761973364,
          6.686743368248826,
          4.6424565526286665,
          2.946036471080661,
          1.6149485532416374,
          0.6674675512974174,
          0.1226002583194733,
          -1.1463052729254741e-14,
          -1.2888941216399052e-14,
          -1.3691885251715819e-14,
          -1.4466976302628023e-14,
          -1.4466976302628023e-14,
          -1.44727674668884e-14,
          -1.44727674668884e-14,
          -1.44727674668884e-14,
          -1.44727674668884e-14,
          -1.44727674668884e-14,
          -1.4688742233713407e-14,
          -1.4688742233713407e-14,
          -1.4688742233713407e-14,
          -1.4688742233713407e-14,
          -1.4688742233713407e-14,
          -1.4688742233713407e-14,
          -1.4688742233713407e-14,
          -1.4688742233713407e-14,
          -1.4688742233713407e-14,
          -1.4688742233713407e-14,
          -1.4688742233713407e-14,
          -1.4688742233713407e-14,
          -1.4688742233713407e-14,
          -1.4688742233713407e-14,
          -1.6352740999693322e-14
         ],
         "yaxis": "y3"
        },
        {
         "legendgroup": "incr_cost",
         "mode": "lines",
         "name": "q_incr_cost",
         "showlegend": true,
         "type": "scatter",
         "x": [
          0,
          1,
          2,
          3,
          4,
          5,
          6,
          7,
          8,
          9,
          10,
          11,
          12,
          13,
          14,
          15,
          16,
          17,
          18,
          19,
          20,
          21,
          22,
          23,
          24,
          25,
          26,
          27,
          28,
          29,
          30,
          31,
          32,
          33,
          34,
          35,
          36,
          37,
          38,
          39,
          40,
          41,
          42,
          43,
          44,
          45,
          46,
          47,
          48,
          49,
          50
         ],
         "xaxis": "x",
         "y": [
          3.4965096425194884,
          3.471293073195283,
          3.444721502815587,
          3.417217870620616,
          3.3880108345405664,
          3.357292935098416,
          3.325176494260759,
          3.29150882822037,
          3.2561105987080525,
          3.2188871915108597,
          3.1797871303997844,
          3.1387640937220675,
          3.095718334512839,
          3.050536911300916,
          3.0030735313759553,
          2.953209056713672,
          2.9008313368157426,
          2.8458331481163275,
          2.7881094229632533,
          2.7275408150040557,
          2.663983823589152,
          2.59726695980557,
          2.5272006123498216,
          2.453605074698395,
          2.376282434912251,
          2.2950429569427366,
          2.20969735418706,
          2.12007658067074,
          2.0259832371185857,
          1.9272247490413983,
          1.8235923952527984,
          1.7148371827359086,
          1.6006987863370914,
          1.4808712173277028,
          1.3550378325772292,
          1.222859493557049,
          1.0839830446883216,
          0.9380627618866751,
          0.7847637933380283,
          0.6237835088647494,
          0.45485473470078785,
          0.2777741754114693,
          0.09238453759188164,
          0,
          2.3970185374349445e-17,
          0,
          4.878983891567655e-17,
          1.6719583345852634e-17,
          9.61306162168378e-17,
          0,
          0
         ],
         "yaxis": "y"
        },
        {
         "legendgroup": "incr_cost",
         "mode": "lines",
         "name": "p_incr_cost",
         "showlegend": true,
         "type": "scatter",
         "x": [
          0,
          1,
          2,
          3,
          4,
          5,
          6,
          7,
          8,
          9,
          10,
          11,
          12,
          13,
          14,
          15,
          16,
          17,
          18,
          19,
          20,
          21,
          22,
          23,
          24,
          25,
          26,
          27,
          28,
          29,
          30,
          31,
          32,
          33,
          34,
          35,
          36,
          37,
          38,
          39,
          40,
          41,
          42,
          43,
          44,
          45,
          46,
          47,
          48,
          49,
          50
         ],
         "xaxis": "x2",
         "y": [
          6.503490357480512,
          6.528706926804717,
          6.555278497184413,
          6.582782129379384,
          6.611989165459434,
          6.642707064901584,
          6.674823505739241,
          6.70849117177963,
          6.7438894012919475,
          6.781112808489141,
          6.8202128696002156,
          6.8612359062779325,
          6.9042816654871615,
          6.949463088699083,
          6.996926468624045,
          7.046790943286328,
          7.099168663184257,
          7.154166851883673,
          7.211890577036747,
          7.272459184995944,
          7.336016176410848,
          7.4027330401944305,
          7.472799387650179,
          7.546394925301605,
          7.623717565087749,
          7.704957043057263,
          7.79030264581294,
          7.87992341932926,
          7.974016762881414,
          8.072775250958601,
          8.176407604747201,
          8.28516281726409,
          8.399301213662909,
          8.519128782672297,
          8.64496216742277,
          8.77714050644295,
          8.916016955311678,
          9.061937238113325,
          9.215236206661972,
          9.376216491135251,
          9.545145265299212,
          9.72222582458853,
          9.907615462408119,
          10,
          10,
          10,
          10,
          10,
          10,
          10,
          10
         ],
         "yaxis": "y2"
        },
        {
         "legendgroup": "incr_cost",
         "mode": "lines",
         "name": "S_incr_cost",
         "showlegend": true,
         "type": "scatter",
         "x": [
          0,
          1,
          2,
          3,
          4,
          5,
          6,
          7,
          8,
          9,
          10,
          11,
          12,
          13,
          14,
          15,
          16,
          17,
          18,
          19,
          20,
          21,
          22,
          23,
          24,
          25,
          26,
          27,
          28,
          29,
          30,
          31,
          32,
          33,
          34,
          35,
          36,
          37,
          38,
          39,
          40,
          41,
          42,
          43,
          44,
          45,
          46,
          47,
          48,
          49,
          50
         ],
         "xaxis": "x3",
         "y": [
          100,
          96.50349035748052,
          93.03219728428523,
          89.58747578146965,
          86.17025791084903,
          82.78224707630847,
          79.42495414121005,
          76.09977764694929,
          72.80826881872892,
          69.55215822002087,
          66.33327102851001,
          63.153483898110224,
          60.01471980438816,
          56.91900146987532,
          53.8684645585744,
          50.86539102719845,
          47.912181970484774,
          45.01135063366903,
          42.165517485552705,
          39.37740806258945,
          36.6498672475854,
          33.98588342399625,
          31.38861646419068,
          28.861415851840857,
          26.407810777142462,
          24.03152834223021,
          21.736485385287473,
          19.526788031100413,
          17.406711450429672,
          15.380728213311086,
          13.453503464269687,
          11.629911069016888,
          9.915073886280979,
          8.314375099943888,
          6.833503882616185,
          5.478466050038955,
          4.255606556481906,
          3.1716235117935847,
          2.2335607499069097,
          1.4487969565688814,
          0.825013447704132,
          0.37015871300334413,
          0.09238453759187482,
          -6.827871601444713e-15,
          -6.827871601444713e-15,
          -6.851841786819062e-15,
          -6.851841786819062e-15,
          -6.900631625734739e-15,
          -6.917351209080591e-15,
          -7.013481825297429e-15,
          -7.013481825297429e-15
         ],
         "yaxis": "y3"
        }
       ],
       "layout": {
        "annotations": [
         {
          "font": {
           "size": 16
          },
          "showarrow": false,
          "text": "q_opt",
          "x": 0.14444444444444446,
          "xanchor": "center",
          "xref": "paper",
          "y": 1,
          "yanchor": "bottom",
          "yref": "paper"
         },
         {
          "font": {
           "size": 16
          },
          "showarrow": false,
          "text": "p_opt",
          "x": 0.5,
          "xanchor": "center",
          "xref": "paper",
          "y": 1,
          "yanchor": "bottom",
          "yref": "paper"
         },
         {
          "font": {
           "size": 16
          },
          "showarrow": false,
          "text": "S_opt",
          "x": 0.8555555555555556,
          "xanchor": "center",
          "xref": "paper",
          "y": 1,
          "yanchor": "bottom",
          "yref": "paper"
         }
        ],
        "template": {
         "data": {
          "bar": [
           {
            "error_x": {
             "color": "#2a3f5f"
            },
            "error_y": {
             "color": "#2a3f5f"
            },
            "marker": {
             "line": {
              "color": "white",
              "width": 0.5
             },
             "pattern": {
              "fillmode": "overlay",
              "size": 10,
              "solidity": 0.2
             }
            },
            "type": "bar"
           }
          ],
          "barpolar": [
           {
            "marker": {
             "line": {
              "color": "white",
              "width": 0.5
             },
             "pattern": {
              "fillmode": "overlay",
              "size": 10,
              "solidity": 0.2
             }
            },
            "type": "barpolar"
           }
          ],
          "carpet": [
           {
            "aaxis": {
             "endlinecolor": "#2a3f5f",
             "gridcolor": "#C8D4E3",
             "linecolor": "#C8D4E3",
             "minorgridcolor": "#C8D4E3",
             "startlinecolor": "#2a3f5f"
            },
            "baxis": {
             "endlinecolor": "#2a3f5f",
             "gridcolor": "#C8D4E3",
             "linecolor": "#C8D4E3",
             "minorgridcolor": "#C8D4E3",
             "startlinecolor": "#2a3f5f"
            },
            "type": "carpet"
           }
          ],
          "choropleth": [
           {
            "colorbar": {
             "outlinewidth": 0,
             "ticks": ""
            },
            "type": "choropleth"
           }
          ],
          "contour": [
           {
            "colorbar": {
             "outlinewidth": 0,
             "ticks": ""
            },
            "colorscale": [
             [
              0,
              "#0d0887"
             ],
             [
              0.1111111111111111,
              "#46039f"
             ],
             [
              0.2222222222222222,
              "#7201a8"
             ],
             [
              0.3333333333333333,
              "#9c179e"
             ],
             [
              0.4444444444444444,
              "#bd3786"
             ],
             [
              0.5555555555555556,
              "#d8576b"
             ],
             [
              0.6666666666666666,
              "#ed7953"
             ],
             [
              0.7777777777777778,
              "#fb9f3a"
             ],
             [
              0.8888888888888888,
              "#fdca26"
             ],
             [
              1,
              "#f0f921"
             ]
            ],
            "type": "contour"
           }
          ],
          "contourcarpet": [
           {
            "colorbar": {
             "outlinewidth": 0,
             "ticks": ""
            },
            "type": "contourcarpet"
           }
          ],
          "heatmap": [
           {
            "colorbar": {
             "outlinewidth": 0,
             "ticks": ""
            },
            "colorscale": [
             [
              0,
              "#0d0887"
             ],
             [
              0.1111111111111111,
              "#46039f"
             ],
             [
              0.2222222222222222,
              "#7201a8"
             ],
             [
              0.3333333333333333,
              "#9c179e"
             ],
             [
              0.4444444444444444,
              "#bd3786"
             ],
             [
              0.5555555555555556,
              "#d8576b"
             ],
             [
              0.6666666666666666,
              "#ed7953"
             ],
             [
              0.7777777777777778,
              "#fb9f3a"
             ],
             [
              0.8888888888888888,
              "#fdca26"
             ],
             [
              1,
              "#f0f921"
             ]
            ],
            "type": "heatmap"
           }
          ],
          "heatmapgl": [
           {
            "colorbar": {
             "outlinewidth": 0,
             "ticks": ""
            },
            "colorscale": [
             [
              0,
              "#0d0887"
             ],
             [
              0.1111111111111111,
              "#46039f"
             ],
             [
              0.2222222222222222,
              "#7201a8"
             ],
             [
              0.3333333333333333,
              "#9c179e"
             ],
             [
              0.4444444444444444,
              "#bd3786"
             ],
             [
              0.5555555555555556,
              "#d8576b"
             ],
             [
              0.6666666666666666,
              "#ed7953"
             ],
             [
              0.7777777777777778,
              "#fb9f3a"
             ],
             [
              0.8888888888888888,
              "#fdca26"
             ],
             [
              1,
              "#f0f921"
             ]
            ],
            "type": "heatmapgl"
           }
          ],
          "histogram": [
           {
            "marker": {
             "pattern": {
              "fillmode": "overlay",
              "size": 10,
              "solidity": 0.2
             }
            },
            "type": "histogram"
           }
          ],
          "histogram2d": [
           {
            "colorbar": {
             "outlinewidth": 0,
             "ticks": ""
            },
            "colorscale": [
             [
              0,
              "#0d0887"
             ],
             [
              0.1111111111111111,
              "#46039f"
             ],
             [
              0.2222222222222222,
              "#7201a8"
             ],
             [
              0.3333333333333333,
              "#9c179e"
             ],
             [
              0.4444444444444444,
              "#bd3786"
             ],
             [
              0.5555555555555556,
              "#d8576b"
             ],
             [
              0.6666666666666666,
              "#ed7953"
             ],
             [
              0.7777777777777778,
              "#fb9f3a"
             ],
             [
              0.8888888888888888,
              "#fdca26"
             ],
             [
              1,
              "#f0f921"
             ]
            ],
            "type": "histogram2d"
           }
          ],
          "histogram2dcontour": [
           {
            "colorbar": {
             "outlinewidth": 0,
             "ticks": ""
            },
            "colorscale": [
             [
              0,
              "#0d0887"
             ],
             [
              0.1111111111111111,
              "#46039f"
             ],
             [
              0.2222222222222222,
              "#7201a8"
             ],
             [
              0.3333333333333333,
              "#9c179e"
             ],
             [
              0.4444444444444444,
              "#bd3786"
             ],
             [
              0.5555555555555556,
              "#d8576b"
             ],
             [
              0.6666666666666666,
              "#ed7953"
             ],
             [
              0.7777777777777778,
              "#fb9f3a"
             ],
             [
              0.8888888888888888,
              "#fdca26"
             ],
             [
              1,
              "#f0f921"
             ]
            ],
            "type": "histogram2dcontour"
           }
          ],
          "mesh3d": [
           {
            "colorbar": {
             "outlinewidth": 0,
             "ticks": ""
            },
            "type": "mesh3d"
           }
          ],
          "parcoords": [
           {
            "line": {
             "colorbar": {
              "outlinewidth": 0,
              "ticks": ""
             }
            },
            "type": "parcoords"
           }
          ],
          "pie": [
           {
            "automargin": true,
            "type": "pie"
           }
          ],
          "scatter": [
           {
            "fillpattern": {
             "fillmode": "overlay",
             "size": 10,
             "solidity": 0.2
            },
            "type": "scatter"
           }
          ],
          "scatter3d": [
           {
            "line": {
             "colorbar": {
              "outlinewidth": 0,
              "ticks": ""
             }
            },
            "marker": {
             "colorbar": {
              "outlinewidth": 0,
              "ticks": ""
             }
            },
            "type": "scatter3d"
           }
          ],
          "scattercarpet": [
           {
            "marker": {
             "colorbar": {
              "outlinewidth": 0,
              "ticks": ""
             }
            },
            "type": "scattercarpet"
           }
          ],
          "scattergeo": [
           {
            "marker": {
             "colorbar": {
              "outlinewidth": 0,
              "ticks": ""
             }
            },
            "type": "scattergeo"
           }
          ],
          "scattergl": [
           {
            "marker": {
             "colorbar": {
              "outlinewidth": 0,
              "ticks": ""
             }
            },
            "type": "scattergl"
           }
          ],
          "scattermapbox": [
           {
            "marker": {
             "colorbar": {
              "outlinewidth": 0,
              "ticks": ""
             }
            },
            "type": "scattermapbox"
           }
          ],
          "scatterpolar": [
           {
            "marker": {
             "colorbar": {
              "outlinewidth": 0,
              "ticks": ""
             }
            },
            "type": "scatterpolar"
           }
          ],
          "scatterpolargl": [
           {
            "marker": {
             "colorbar": {
              "outlinewidth": 0,
              "ticks": ""
             }
            },
            "type": "scatterpolargl"
           }
          ],
          "scatterternary": [
           {
            "marker": {
             "colorbar": {
              "outlinewidth": 0,
              "ticks": ""
             }
            },
            "type": "scatterternary"
           }
          ],
          "surface": [
           {
            "colorbar": {
             "outlinewidth": 0,
             "ticks": ""
            },
            "colorscale": [
             [
              0,
              "#0d0887"
             ],
             [
              0.1111111111111111,
              "#46039f"
             ],
             [
              0.2222222222222222,
              "#7201a8"
             ],
             [
              0.3333333333333333,
              "#9c179e"
             ],
             [
              0.4444444444444444,
              "#bd3786"
             ],
             [
              0.5555555555555556,
              "#d8576b"
             ],
             [
              0.6666666666666666,
              "#ed7953"
             ],
             [
              0.7777777777777778,
              "#fb9f3a"
             ],
             [
              0.8888888888888888,
              "#fdca26"
             ],
             [
              1,
              "#f0f921"
             ]
            ],
            "type": "surface"
           }
          ],
          "table": [
           {
            "cells": {
             "fill": {
              "color": "#EBF0F8"
             },
             "line": {
              "color": "white"
             }
            },
            "header": {
             "fill": {
              "color": "#C8D4E3"
             },
             "line": {
              "color": "white"
             }
            },
            "type": "table"
           }
          ]
         },
         "layout": {
          "annotationdefaults": {
           "arrowcolor": "#2a3f5f",
           "arrowhead": 0,
           "arrowwidth": 1
          },
          "autotypenumbers": "strict",
          "coloraxis": {
           "colorbar": {
            "outlinewidth": 0,
            "ticks": ""
           }
          },
          "colorscale": {
           "diverging": [
            [
             0,
             "#8e0152"
            ],
            [
             0.1,
             "#c51b7d"
            ],
            [
             0.2,
             "#de77ae"
            ],
            [
             0.3,
             "#f1b6da"
            ],
            [
             0.4,
             "#fde0ef"
            ],
            [
             0.5,
             "#f7f7f7"
            ],
            [
             0.6,
             "#e6f5d0"
            ],
            [
             0.7,
             "#b8e186"
            ],
            [
             0.8,
             "#7fbc41"
            ],
            [
             0.9,
             "#4d9221"
            ],
            [
             1,
             "#276419"
            ]
           ],
           "sequential": [
            [
             0,
             "#0d0887"
            ],
            [
             0.1111111111111111,
             "#46039f"
            ],
            [
             0.2222222222222222,
             "#7201a8"
            ],
            [
             0.3333333333333333,
             "#9c179e"
            ],
            [
             0.4444444444444444,
             "#bd3786"
            ],
            [
             0.5555555555555556,
             "#d8576b"
            ],
            [
             0.6666666666666666,
             "#ed7953"
            ],
            [
             0.7777777777777778,
             "#fb9f3a"
            ],
            [
             0.8888888888888888,
             "#fdca26"
            ],
            [
             1,
             "#f0f921"
            ]
           ],
           "sequentialminus": [
            [
             0,
             "#0d0887"
            ],
            [
             0.1111111111111111,
             "#46039f"
            ],
            [
             0.2222222222222222,
             "#7201a8"
            ],
            [
             0.3333333333333333,
             "#9c179e"
            ],
            [
             0.4444444444444444,
             "#bd3786"
            ],
            [
             0.5555555555555556,
             "#d8576b"
            ],
            [
             0.6666666666666666,
             "#ed7953"
            ],
            [
             0.7777777777777778,
             "#fb9f3a"
            ],
            [
             0.8888888888888888,
             "#fdca26"
            ],
            [
             1,
             "#f0f921"
            ]
           ]
          },
          "colorway": [
           "#636efa",
           "#EF553B",
           "#00cc96",
           "#ab63fa",
           "#FFA15A",
           "#19d3f3",
           "#FF6692",
           "#B6E880",
           "#FF97FF",
           "#FECB52"
          ],
          "font": {
           "color": "#2a3f5f"
          },
          "geo": {
           "bgcolor": "white",
           "lakecolor": "white",
           "landcolor": "white",
           "showlakes": true,
           "showland": true,
           "subunitcolor": "#C8D4E3"
          },
          "hoverlabel": {
           "align": "left"
          },
          "hovermode": "closest",
          "mapbox": {
           "style": "light"
          },
          "paper_bgcolor": "white",
          "plot_bgcolor": "white",
          "polar": {
           "angularaxis": {
            "gridcolor": "#EBF0F8",
            "linecolor": "#EBF0F8",
            "ticks": ""
           },
           "bgcolor": "white",
           "radialaxis": {
            "gridcolor": "#EBF0F8",
            "linecolor": "#EBF0F8",
            "ticks": ""
           }
          },
          "scene": {
           "xaxis": {
            "backgroundcolor": "white",
            "gridcolor": "#DFE8F3",
            "gridwidth": 2,
            "linecolor": "#EBF0F8",
            "showbackground": true,
            "ticks": "",
            "zerolinecolor": "#EBF0F8"
           },
           "yaxis": {
            "backgroundcolor": "white",
            "gridcolor": "#DFE8F3",
            "gridwidth": 2,
            "linecolor": "#EBF0F8",
            "showbackground": true,
            "ticks": "",
            "zerolinecolor": "#EBF0F8"
           },
           "zaxis": {
            "backgroundcolor": "white",
            "gridcolor": "#DFE8F3",
            "gridwidth": 2,
            "linecolor": "#EBF0F8",
            "showbackground": true,
            "ticks": "",
            "zerolinecolor": "#EBF0F8"
           }
          },
          "shapedefaults": {
           "line": {
            "color": "#2a3f5f"
           }
          },
          "ternary": {
           "aaxis": {
            "gridcolor": "#DFE8F3",
            "linecolor": "#A2B1C6",
            "ticks": ""
           },
           "baxis": {
            "gridcolor": "#DFE8F3",
            "linecolor": "#A2B1C6",
            "ticks": ""
           },
           "bgcolor": "white",
           "caxis": {
            "gridcolor": "#DFE8F3",
            "linecolor": "#A2B1C6",
            "ticks": ""
           }
          },
          "title": {
           "x": 0.05
          },
          "xaxis": {
           "automargin": true,
           "gridcolor": "#EBF0F8",
           "linecolor": "#EBF0F8",
           "ticks": "",
           "title": {
            "standoff": 15
           },
           "zerolinecolor": "#EBF0F8",
           "zerolinewidth": 2
          },
          "yaxis": {
           "automargin": true,
           "gridcolor": "#EBF0F8",
           "linecolor": "#EBF0F8",
           "ticks": "",
           "title": {
            "standoff": 15
           },
           "zerolinecolor": "#EBF0F8",
           "zerolinewidth": 2
          }
         }
        },
        "title": {
         "text": "Hotelling_mono, compare parameter changes"
        },
        "xaxis": {
         "anchor": "y",
         "domain": [
          0,
          0.2888888888888889
         ],
         "title": {
          "text": "t"
         }
        },
        "xaxis2": {
         "anchor": "y2",
         "domain": [
          0.35555555555555557,
          0.6444444444444445
         ]
        },
        "xaxis3": {
         "anchor": "y3",
         "domain": [
          0.7111111111111111,
          1
         ]
        },
        "yaxis": {
         "anchor": "x",
         "domain": [
          0,
          1
         ],
         "title": {
          "text": "value"
         }
        },
        "yaxis2": {
         "anchor": "x2",
         "domain": [
          0,
          1
         ]
        },
        "yaxis3": {
         "anchor": "x3",
         "domain": [
          0,
          1
         ]
        }
       }
      }
     },
     "metadata": {},
     "output_type": "display_data"
    }
   ],
   "source": [
    "df_hotmono_base = hotelling_mono()\n",
    "df_hotmono_incrint = hotelling_mono(r=0.07)\n",
    "df_hotmono_incrstock = hotelling_mono(S0=150)\n",
    "df_hotmono_decrbparamm = hotelling_mono(b=0.5)\n",
    "df_hotmono_incrcost = hotelling_mono(c=2)\n",
    "\n",
    "# Plot Results -------------------------------------\n",
    "fig_compare = make_subplots(rows=1, cols=3, subplot_titles=('q_opt', 'p_opt', 'S_opt'))\n",
    "def add_trace_to_subplot_hotelling(fig, df, legend_name):\n",
    "    fig.add_trace(go.Scatter(x=df['t'], y=df['q_opt'], mode='lines', name=f'q_{legend_name}', legendgroup=legend_name, showlegend=True), row=1, col=1)\n",
    "    fig.add_trace(go.Scatter(x=df['t'], y=df['p_opt'], mode='lines', name=f'p_{legend_name}', legendgroup=legend_name, showlegend=True), row=1, col=2)\n",
    "    fig.add_trace(go.Scatter(x=df['t'], y=df['S_opt'], mode='lines', name=f'S_{legend_name}', legendgroup=legend_name, showlegend=True), row=1, col=3)\n",
    "    \n",
    "    return fig\n",
    "\n",
    "fig_compare = add_trace_to_subplot_hotelling(fig_compare, df_hotmono_base, 'base')\n",
    "fig_compare = add_trace_to_subplot_hotelling(fig_compare, df_hotmono_incrint, 'incr_rparam')\n",
    "fig_compare = add_trace_to_subplot_hotelling(fig_compare, df_hotmono_incrstock, 'incr_stock')\n",
    "fig_compare = add_trace_to_subplot_hotelling(fig_compare, df_hotmono_decrbparamm, 'decr_bparam')\n",
    "fig_compare = add_trace_to_subplot_hotelling(fig_compare, df_hotmono_incrcost, 'incr_cost')\n",
    "\n",
    "fig_compare.update_layout(title='Hotelling_mono, compare parameter changes', xaxis_title='t', yaxis_title='value', template='plotly_white')\n",
    "fig_compare.write_html('hotelling_mono_compare.html')\n",
    "fig_compare.show()\n"
   ]
  },
  {
   "cell_type": "markdown",
   "id": "f37cfde7",
   "metadata": {},
   "source": [
    "**3b) Hotelling, including ban of extraciton** \\\n",
    "Consider again the case of the monopolist. We now want to take a first step into modeling policy making. Assume the local government imposes legislation that bans all extraction after $T^* = 30$ years. What effect would this have on the extraction schedule given the Hotelling-rule?"
   ]
  },
  {
   "cell_type": "code",
   "execution_count": 38,
   "id": "c81f61b5",
   "metadata": {},
   "outputs": [
    {
     "data": {
      "application/vnd.plotly.v1+json": {
       "config": {
        "plotlyServerURL": "https://plot.ly"
       },
       "data": [
        {
         "legendgroup": "mono_base",
         "mode": "lines",
         "name": "q_mono_base",
         "showlegend": true,
         "type": "scatter",
         "x": [
          0,
          1,
          2,
          3,
          4,
          5,
          6,
          7,
          8,
          9,
          10,
          11,
          12,
          13,
          14,
          15,
          16,
          17,
          18,
          19,
          20,
          21,
          22,
          23,
          24,
          25,
          26,
          27,
          28,
          29,
          30,
          31,
          32,
          33,
          34,
          35,
          36,
          37,
          38,
          39,
          40,
          41,
          42,
          43,
          44,
          45,
          46,
          47,
          48,
          49,
          50
         ],
         "xaxis": "x",
         "y": [
          3.837838004189592,
          3.804553410399565,
          3.7698739299163297,
          3.7331893832714997,
          3.694989790737802,
          3.6549485071195513,
          3.6127230920685443,
          3.5682278763030983,
          3.521503244244674,
          3.472526437059165,
          3.4211917852326503,
          3.367323982127045,
          3.310746593155288,
          3.251289288760522,
          3.1888227054929006,
          3.1232247763693866,
          3.054377961276447,
          2.9821279628632382,
          2.9062930147993273,
          2.826681082211195,
          2.7430660756166283,
          2.655231758205936,
          2.5629504168333743,
          2.466010125863941,
          2.364191282026905,
          2.2572895677786042,
          2.145072246856623,
          2.0273022377478145,
          1.9037037403198813,
          1.773979126526516,
          1.6377897825448808,
          1.494773325428553,
          1.344552506395687,
          1.186726897651935,
          1.0209037664098988,
          0.8467344385731236,
          0.6638568207672495,
          0.4720009582130954,
          0.27092649544557634,
          0.06048560319596497,
          5.4857665312451134e-17,
          0,
          0,
          0,
          8.022503153329655e-17,
          3.3648172071440267e-16,
          0,
          0,
          0,
          0,
          0
         ],
         "yaxis": "y"
        },
        {
         "legendgroup": "mono_base",
         "mode": "lines",
         "name": "p_mono_base",
         "showlegend": true,
         "type": "scatter",
         "x": [
          0,
          1,
          2,
          3,
          4,
          5,
          6,
          7,
          8,
          9,
          10,
          11,
          12,
          13,
          14,
          15,
          16,
          17,
          18,
          19,
          20,
          21,
          22,
          23,
          24,
          25,
          26,
          27,
          28,
          29,
          30,
          31,
          32,
          33,
          34,
          35,
          36,
          37,
          38,
          39,
          40,
          41,
          42,
          43,
          44,
          45,
          46,
          47,
          48,
          49,
          50
         ],
         "xaxis": "x2",
         "y": [
          6.162161995810408,
          6.195446589600435,
          6.230126070083671,
          6.266810616728501,
          6.305010209262198,
          6.345051492880449,
          6.387276907931456,
          6.431772123696902,
          6.478496755755327,
          6.527473562940835,
          6.578808214767349,
          6.632676017872955,
          6.689253406844712,
          6.748710711239478,
          6.811177294507099,
          6.876775223630613,
          6.9456220387235525,
          7.017872037136762,
          7.093706985200672,
          7.173318917788805,
          7.256933924383372,
          7.344768241794064,
          7.437049583166626,
          7.53398987413606,
          7.635808717973095,
          7.742710432221395,
          7.854927753143377,
          7.972697762252185,
          8.096296259680118,
          8.226020873473484,
          8.36221021745512,
          8.505226674571446,
          8.655447493604314,
          8.813273102348065,
          8.979096233590102,
          9.153265561426876,
          9.336143179232751,
          9.527999041786904,
          9.729073504554425,
          9.939514396804036,
          10,
          10,
          10,
          10,
          10,
          10,
          10,
          10,
          10,
          10,
          10
         ],
         "yaxis": "y2"
        },
        {
         "legendgroup": "mono_base",
         "mode": "lines",
         "name": "S_mono_base",
         "showlegend": true,
         "type": "scatter",
         "x": [
          0,
          1,
          2,
          3,
          4,
          5,
          6,
          7,
          8,
          9,
          10,
          11,
          12,
          13,
          14,
          15,
          16,
          17,
          18,
          19,
          20,
          21,
          22,
          23,
          24,
          25,
          26,
          27,
          28,
          29,
          30,
          31,
          32,
          33,
          34,
          35,
          36,
          37,
          38,
          39,
          40,
          41,
          42,
          43,
          44,
          45,
          46,
          47,
          48,
          49,
          50
         ],
         "xaxis": "x3",
         "y": [
          100,
          96.16216199581041,
          92.35760858541084,
          88.58773465549451,
          84.85454527222302,
          81.15955548148521,
          77.50460697436566,
          73.89188388229711,
          70.32365600599401,
          66.80215276174934,
          63.329626324690174,
          59.908434539457524,
          56.54111055733048,
          53.23036396417519,
          49.979074675414665,
          46.79025196992176,
          43.66702719355238,
          40.612649232275935,
          37.6305212694127,
          34.72422825461337,
          31.897547172402177,
          29.15448109678555,
          26.499249338579613,
          23.93629892174624,
          21.470288795882297,
          19.106097513855392,
          16.84880794607679,
          14.703735699220166,
          12.676433461472351,
          10.77272972115247,
          8.998750594625953,
          7.360960812081072,
          5.866187486652519,
          4.521634980256833,
          3.3349080826048976,
          2.314004316194999,
          1.467269877621875,
          0.8034130568546256,
          0.3314120986415302,
          0.06048560319595386,
          -1.1109169140155473e-14,
          -1.1164026805467924e-14,
          -1.1164026805467924e-14,
          -1.1164026805467924e-14,
          -1.1164026805467924e-14,
          -1.124425183700122e-14,
          -1.1580733557715623e-14,
          -1.1580733557715623e-14,
          -1.1580733557715623e-14,
          -1.1580733557715623e-14,
          -1.1580733557715623e-14
         ],
         "yaxis": "y3"
        },
        {
         "legendgroup": "mono_extrban",
         "mode": "lines",
         "name": "q_mono_extrban",
         "showlegend": true,
         "type": "scatter",
         "x": [
          0,
          1,
          2,
          3,
          4,
          5,
          6,
          7,
          8,
          9,
          10,
          11,
          12,
          13,
          14,
          15,
          16,
          17,
          18,
          19,
          20,
          21,
          22,
          23,
          24,
          25,
          26,
          27,
          28,
          29,
          30,
          31,
          32,
          33,
          34,
          35,
          36,
          37,
          38,
          39,
          40,
          41,
          42,
          43,
          44,
          45,
          46,
          47,
          48,
          49,
          50
         ],
         "xaxis": "x",
         "y": [
          3.9731945461061042,
          3.9468921991169803,
          3.919109515545879,
          3.8901781948101206,
          3.859710227853271,
          3.827632100834563,
          3.79397041223794,
          3.758686267939891,
          3.7216844040639008,
          3.6828248964214945,
          3.6419837872636314,
          3.5990665501479002,
          3.5539850918322387,
          3.506649620966062,
          3.4569659618381934,
          3.4048154404864563,
          3.350061439021678,
          3.292564147000989,
          3.2321751975868342,
          3.1687604532682005,
          3.1021683464585807,
          3.032258438294868,
          2.9588758829046284,
          2.8818644034980827,
          2.8010255214567112,
          2.7161574116289646,
          2.627020964218334,
          2.5333725325456276,
          2.4349303562585516,
          2.331415688393369,
          0,
          0,
          0,
          0,
          0,
          0,
          0,
          0,
          0,
          0,
          0,
          0,
          0,
          0,
          0,
          0,
          0,
          0,
          0,
          0,
          0
         ],
         "yaxis": "y"
        },
        {
         "legendgroup": "mono_extrban",
         "mode": "lines",
         "name": "p_mono_extrban",
         "showlegend": true,
         "type": "scatter",
         "x": [
          0,
          1,
          2,
          3,
          4,
          5,
          6,
          7,
          8,
          9,
          10,
          11,
          12,
          13,
          14,
          15,
          16,
          17,
          18,
          19,
          20,
          21,
          22,
          23,
          24,
          25,
          26,
          27,
          28,
          29,
          30,
          31,
          32,
          33,
          34,
          35,
          36,
          37,
          38,
          39,
          40,
          41,
          42,
          43,
          44,
          45,
          46,
          47,
          48,
          49,
          50
         ],
         "xaxis": "x2",
         "y": [
          6.026805453893896,
          6.053107800883019,
          6.080890484454121,
          6.109821805189879,
          6.140289772146729,
          6.172367899165437,
          6.20602958776206,
          6.241313732060108,
          6.2783155959361,
          6.3171751035785055,
          6.358016212736368,
          6.4009334498521,
          6.446014908167761,
          6.493350379033938,
          6.543034038161807,
          6.595184559513544,
          6.649938560978322,
          6.70743585299901,
          6.767824802413166,
          6.8312395467317995,
          6.897831653541419,
          6.967741561705132,
          7.041124117095372,
          7.118135596501917,
          7.198974478543288,
          7.283842588371035,
          7.3729790357816665,
          7.466627467454373,
          7.565069643741449,
          7.668584311606631,
          10,
          10,
          10,
          10,
          10,
          10,
          10,
          10,
          10,
          10,
          10,
          10,
          10,
          10,
          10,
          10,
          10,
          10,
          10,
          10,
          10
         ],
         "yaxis": "y2"
        },
        {
         "legendgroup": "mono_extrban",
         "mode": "lines",
         "name": "S_mono_extrban",
         "showlegend": true,
         "type": "scatter",
         "x": [
          0,
          1,
          2,
          3,
          4,
          5,
          6,
          7,
          8,
          9,
          10,
          11,
          12,
          13,
          14,
          15,
          16,
          17,
          18,
          19,
          20,
          21,
          22,
          23,
          24,
          25,
          26,
          27,
          28,
          29,
          30,
          31,
          32,
          33,
          34,
          35,
          36,
          37,
          38,
          39,
          40,
          41,
          42,
          43,
          44,
          45,
          46,
          47,
          48,
          49,
          50
         ],
         "xaxis": "x3",
         "y": [
          100,
          96.0268054538939,
          92.07991325477693,
          88.16080373923104,
          84.27062554442092,
          80.41091531656765,
          76.58328321573309,
          72.78931280349515,
          69.03062653555526,
          65.30894213149135,
          61.626117235069856,
          57.98413344780622,
          54.38506689765832,
          50.83108180582608,
          47.324432184860015,
          43.86746622302182,
          40.46265078253536,
          37.11258934351368,
          33.820025196512695,
          30.58784999892586,
          27.419089545657663,
          24.316921199199083,
          21.284662760904215,
          18.325786877999587,
          15.443922474501504,
          12.642896953044792,
          9.926739541415827,
          7.299718577197494,
          4.766346044651867,
          2.331415688393315,
          -5.417888360170764e-14,
          -5.417888360170764e-14,
          -5.417888360170764e-14,
          -5.417888360170764e-14,
          -5.417888360170764e-14,
          -5.417888360170764e-14,
          -5.417888360170764e-14,
          -5.417888360170764e-14,
          -5.417888360170764e-14,
          -5.417888360170764e-14,
          -5.417888360170764e-14,
          -5.417888360170764e-14,
          -5.417888360170764e-14,
          -5.417888360170764e-14,
          -5.417888360170764e-14,
          -5.417888360170764e-14,
          -5.417888360170764e-14,
          -5.417888360170764e-14,
          -5.417888360170764e-14,
          -5.417888360170764e-14,
          -5.417888360170764e-14
         ],
         "yaxis": "y3"
        }
       ],
       "layout": {
        "annotations": [
         {
          "font": {
           "size": 16
          },
          "showarrow": false,
          "text": "q_opt",
          "x": 0.14444444444444446,
          "xanchor": "center",
          "xref": "paper",
          "y": 1,
          "yanchor": "bottom",
          "yref": "paper"
         },
         {
          "font": {
           "size": 16
          },
          "showarrow": false,
          "text": "p_opt",
          "x": 0.5,
          "xanchor": "center",
          "xref": "paper",
          "y": 1,
          "yanchor": "bottom",
          "yref": "paper"
         },
         {
          "font": {
           "size": 16
          },
          "showarrow": false,
          "text": "S_opt",
          "x": 0.8555555555555556,
          "xanchor": "center",
          "xref": "paper",
          "y": 1,
          "yanchor": "bottom",
          "yref": "paper"
         }
        ],
        "template": {
         "data": {
          "bar": [
           {
            "error_x": {
             "color": "#2a3f5f"
            },
            "error_y": {
             "color": "#2a3f5f"
            },
            "marker": {
             "line": {
              "color": "white",
              "width": 0.5
             },
             "pattern": {
              "fillmode": "overlay",
              "size": 10,
              "solidity": 0.2
             }
            },
            "type": "bar"
           }
          ],
          "barpolar": [
           {
            "marker": {
             "line": {
              "color": "white",
              "width": 0.5
             },
             "pattern": {
              "fillmode": "overlay",
              "size": 10,
              "solidity": 0.2
             }
            },
            "type": "barpolar"
           }
          ],
          "carpet": [
           {
            "aaxis": {
             "endlinecolor": "#2a3f5f",
             "gridcolor": "#C8D4E3",
             "linecolor": "#C8D4E3",
             "minorgridcolor": "#C8D4E3",
             "startlinecolor": "#2a3f5f"
            },
            "baxis": {
             "endlinecolor": "#2a3f5f",
             "gridcolor": "#C8D4E3",
             "linecolor": "#C8D4E3",
             "minorgridcolor": "#C8D4E3",
             "startlinecolor": "#2a3f5f"
            },
            "type": "carpet"
           }
          ],
          "choropleth": [
           {
            "colorbar": {
             "outlinewidth": 0,
             "ticks": ""
            },
            "type": "choropleth"
           }
          ],
          "contour": [
           {
            "colorbar": {
             "outlinewidth": 0,
             "ticks": ""
            },
            "colorscale": [
             [
              0,
              "#0d0887"
             ],
             [
              0.1111111111111111,
              "#46039f"
             ],
             [
              0.2222222222222222,
              "#7201a8"
             ],
             [
              0.3333333333333333,
              "#9c179e"
             ],
             [
              0.4444444444444444,
              "#bd3786"
             ],
             [
              0.5555555555555556,
              "#d8576b"
             ],
             [
              0.6666666666666666,
              "#ed7953"
             ],
             [
              0.7777777777777778,
              "#fb9f3a"
             ],
             [
              0.8888888888888888,
              "#fdca26"
             ],
             [
              1,
              "#f0f921"
             ]
            ],
            "type": "contour"
           }
          ],
          "contourcarpet": [
           {
            "colorbar": {
             "outlinewidth": 0,
             "ticks": ""
            },
            "type": "contourcarpet"
           }
          ],
          "heatmap": [
           {
            "colorbar": {
             "outlinewidth": 0,
             "ticks": ""
            },
            "colorscale": [
             [
              0,
              "#0d0887"
             ],
             [
              0.1111111111111111,
              "#46039f"
             ],
             [
              0.2222222222222222,
              "#7201a8"
             ],
             [
              0.3333333333333333,
              "#9c179e"
             ],
             [
              0.4444444444444444,
              "#bd3786"
             ],
             [
              0.5555555555555556,
              "#d8576b"
             ],
             [
              0.6666666666666666,
              "#ed7953"
             ],
             [
              0.7777777777777778,
              "#fb9f3a"
             ],
             [
              0.8888888888888888,
              "#fdca26"
             ],
             [
              1,
              "#f0f921"
             ]
            ],
            "type": "heatmap"
           }
          ],
          "heatmapgl": [
           {
            "colorbar": {
             "outlinewidth": 0,
             "ticks": ""
            },
            "colorscale": [
             [
              0,
              "#0d0887"
             ],
             [
              0.1111111111111111,
              "#46039f"
             ],
             [
              0.2222222222222222,
              "#7201a8"
             ],
             [
              0.3333333333333333,
              "#9c179e"
             ],
             [
              0.4444444444444444,
              "#bd3786"
             ],
             [
              0.5555555555555556,
              "#d8576b"
             ],
             [
              0.6666666666666666,
              "#ed7953"
             ],
             [
              0.7777777777777778,
              "#fb9f3a"
             ],
             [
              0.8888888888888888,
              "#fdca26"
             ],
             [
              1,
              "#f0f921"
             ]
            ],
            "type": "heatmapgl"
           }
          ],
          "histogram": [
           {
            "marker": {
             "pattern": {
              "fillmode": "overlay",
              "size": 10,
              "solidity": 0.2
             }
            },
            "type": "histogram"
           }
          ],
          "histogram2d": [
           {
            "colorbar": {
             "outlinewidth": 0,
             "ticks": ""
            },
            "colorscale": [
             [
              0,
              "#0d0887"
             ],
             [
              0.1111111111111111,
              "#46039f"
             ],
             [
              0.2222222222222222,
              "#7201a8"
             ],
             [
              0.3333333333333333,
              "#9c179e"
             ],
             [
              0.4444444444444444,
              "#bd3786"
             ],
             [
              0.5555555555555556,
              "#d8576b"
             ],
             [
              0.6666666666666666,
              "#ed7953"
             ],
             [
              0.7777777777777778,
              "#fb9f3a"
             ],
             [
              0.8888888888888888,
              "#fdca26"
             ],
             [
              1,
              "#f0f921"
             ]
            ],
            "type": "histogram2d"
           }
          ],
          "histogram2dcontour": [
           {
            "colorbar": {
             "outlinewidth": 0,
             "ticks": ""
            },
            "colorscale": [
             [
              0,
              "#0d0887"
             ],
             [
              0.1111111111111111,
              "#46039f"
             ],
             [
              0.2222222222222222,
              "#7201a8"
             ],
             [
              0.3333333333333333,
              "#9c179e"
             ],
             [
              0.4444444444444444,
              "#bd3786"
             ],
             [
              0.5555555555555556,
              "#d8576b"
             ],
             [
              0.6666666666666666,
              "#ed7953"
             ],
             [
              0.7777777777777778,
              "#fb9f3a"
             ],
             [
              0.8888888888888888,
              "#fdca26"
             ],
             [
              1,
              "#f0f921"
             ]
            ],
            "type": "histogram2dcontour"
           }
          ],
          "mesh3d": [
           {
            "colorbar": {
             "outlinewidth": 0,
             "ticks": ""
            },
            "type": "mesh3d"
           }
          ],
          "parcoords": [
           {
            "line": {
             "colorbar": {
              "outlinewidth": 0,
              "ticks": ""
             }
            },
            "type": "parcoords"
           }
          ],
          "pie": [
           {
            "automargin": true,
            "type": "pie"
           }
          ],
          "scatter": [
           {
            "fillpattern": {
             "fillmode": "overlay",
             "size": 10,
             "solidity": 0.2
            },
            "type": "scatter"
           }
          ],
          "scatter3d": [
           {
            "line": {
             "colorbar": {
              "outlinewidth": 0,
              "ticks": ""
             }
            },
            "marker": {
             "colorbar": {
              "outlinewidth": 0,
              "ticks": ""
             }
            },
            "type": "scatter3d"
           }
          ],
          "scattercarpet": [
           {
            "marker": {
             "colorbar": {
              "outlinewidth": 0,
              "ticks": ""
             }
            },
            "type": "scattercarpet"
           }
          ],
          "scattergeo": [
           {
            "marker": {
             "colorbar": {
              "outlinewidth": 0,
              "ticks": ""
             }
            },
            "type": "scattergeo"
           }
          ],
          "scattergl": [
           {
            "marker": {
             "colorbar": {
              "outlinewidth": 0,
              "ticks": ""
             }
            },
            "type": "scattergl"
           }
          ],
          "scattermapbox": [
           {
            "marker": {
             "colorbar": {
              "outlinewidth": 0,
              "ticks": ""
             }
            },
            "type": "scattermapbox"
           }
          ],
          "scatterpolar": [
           {
            "marker": {
             "colorbar": {
              "outlinewidth": 0,
              "ticks": ""
             }
            },
            "type": "scatterpolar"
           }
          ],
          "scatterpolargl": [
           {
            "marker": {
             "colorbar": {
              "outlinewidth": 0,
              "ticks": ""
             }
            },
            "type": "scatterpolargl"
           }
          ],
          "scatterternary": [
           {
            "marker": {
             "colorbar": {
              "outlinewidth": 0,
              "ticks": ""
             }
            },
            "type": "scatterternary"
           }
          ],
          "surface": [
           {
            "colorbar": {
             "outlinewidth": 0,
             "ticks": ""
            },
            "colorscale": [
             [
              0,
              "#0d0887"
             ],
             [
              0.1111111111111111,
              "#46039f"
             ],
             [
              0.2222222222222222,
              "#7201a8"
             ],
             [
              0.3333333333333333,
              "#9c179e"
             ],
             [
              0.4444444444444444,
              "#bd3786"
             ],
             [
              0.5555555555555556,
              "#d8576b"
             ],
             [
              0.6666666666666666,
              "#ed7953"
             ],
             [
              0.7777777777777778,
              "#fb9f3a"
             ],
             [
              0.8888888888888888,
              "#fdca26"
             ],
             [
              1,
              "#f0f921"
             ]
            ],
            "type": "surface"
           }
          ],
          "table": [
           {
            "cells": {
             "fill": {
              "color": "#EBF0F8"
             },
             "line": {
              "color": "white"
             }
            },
            "header": {
             "fill": {
              "color": "#C8D4E3"
             },
             "line": {
              "color": "white"
             }
            },
            "type": "table"
           }
          ]
         },
         "layout": {
          "annotationdefaults": {
           "arrowcolor": "#2a3f5f",
           "arrowhead": 0,
           "arrowwidth": 1
          },
          "autotypenumbers": "strict",
          "coloraxis": {
           "colorbar": {
            "outlinewidth": 0,
            "ticks": ""
           }
          },
          "colorscale": {
           "diverging": [
            [
             0,
             "#8e0152"
            ],
            [
             0.1,
             "#c51b7d"
            ],
            [
             0.2,
             "#de77ae"
            ],
            [
             0.3,
             "#f1b6da"
            ],
            [
             0.4,
             "#fde0ef"
            ],
            [
             0.5,
             "#f7f7f7"
            ],
            [
             0.6,
             "#e6f5d0"
            ],
            [
             0.7,
             "#b8e186"
            ],
            [
             0.8,
             "#7fbc41"
            ],
            [
             0.9,
             "#4d9221"
            ],
            [
             1,
             "#276419"
            ]
           ],
           "sequential": [
            [
             0,
             "#0d0887"
            ],
            [
             0.1111111111111111,
             "#46039f"
            ],
            [
             0.2222222222222222,
             "#7201a8"
            ],
            [
             0.3333333333333333,
             "#9c179e"
            ],
            [
             0.4444444444444444,
             "#bd3786"
            ],
            [
             0.5555555555555556,
             "#d8576b"
            ],
            [
             0.6666666666666666,
             "#ed7953"
            ],
            [
             0.7777777777777778,
             "#fb9f3a"
            ],
            [
             0.8888888888888888,
             "#fdca26"
            ],
            [
             1,
             "#f0f921"
            ]
           ],
           "sequentialminus": [
            [
             0,
             "#0d0887"
            ],
            [
             0.1111111111111111,
             "#46039f"
            ],
            [
             0.2222222222222222,
             "#7201a8"
            ],
            [
             0.3333333333333333,
             "#9c179e"
            ],
            [
             0.4444444444444444,
             "#bd3786"
            ],
            [
             0.5555555555555556,
             "#d8576b"
            ],
            [
             0.6666666666666666,
             "#ed7953"
            ],
            [
             0.7777777777777778,
             "#fb9f3a"
            ],
            [
             0.8888888888888888,
             "#fdca26"
            ],
            [
             1,
             "#f0f921"
            ]
           ]
          },
          "colorway": [
           "#636efa",
           "#EF553B",
           "#00cc96",
           "#ab63fa",
           "#FFA15A",
           "#19d3f3",
           "#FF6692",
           "#B6E880",
           "#FF97FF",
           "#FECB52"
          ],
          "font": {
           "color": "#2a3f5f"
          },
          "geo": {
           "bgcolor": "white",
           "lakecolor": "white",
           "landcolor": "white",
           "showlakes": true,
           "showland": true,
           "subunitcolor": "#C8D4E3"
          },
          "hoverlabel": {
           "align": "left"
          },
          "hovermode": "closest",
          "mapbox": {
           "style": "light"
          },
          "paper_bgcolor": "white",
          "plot_bgcolor": "white",
          "polar": {
           "angularaxis": {
            "gridcolor": "#EBF0F8",
            "linecolor": "#EBF0F8",
            "ticks": ""
           },
           "bgcolor": "white",
           "radialaxis": {
            "gridcolor": "#EBF0F8",
            "linecolor": "#EBF0F8",
            "ticks": ""
           }
          },
          "scene": {
           "xaxis": {
            "backgroundcolor": "white",
            "gridcolor": "#DFE8F3",
            "gridwidth": 2,
            "linecolor": "#EBF0F8",
            "showbackground": true,
            "ticks": "",
            "zerolinecolor": "#EBF0F8"
           },
           "yaxis": {
            "backgroundcolor": "white",
            "gridcolor": "#DFE8F3",
            "gridwidth": 2,
            "linecolor": "#EBF0F8",
            "showbackground": true,
            "ticks": "",
            "zerolinecolor": "#EBF0F8"
           },
           "zaxis": {
            "backgroundcolor": "white",
            "gridcolor": "#DFE8F3",
            "gridwidth": 2,
            "linecolor": "#EBF0F8",
            "showbackground": true,
            "ticks": "",
            "zerolinecolor": "#EBF0F8"
           }
          },
          "shapedefaults": {
           "line": {
            "color": "#2a3f5f"
           }
          },
          "ternary": {
           "aaxis": {
            "gridcolor": "#DFE8F3",
            "linecolor": "#A2B1C6",
            "ticks": ""
           },
           "baxis": {
            "gridcolor": "#DFE8F3",
            "linecolor": "#A2B1C6",
            "ticks": ""
           },
           "bgcolor": "white",
           "caxis": {
            "gridcolor": "#DFE8F3",
            "linecolor": "#A2B1C6",
            "ticks": ""
           }
          },
          "title": {
           "x": 0.05
          },
          "xaxis": {
           "automargin": true,
           "gridcolor": "#EBF0F8",
           "linecolor": "#EBF0F8",
           "ticks": "",
           "title": {
            "standoff": 15
           },
           "zerolinecolor": "#EBF0F8",
           "zerolinewidth": 2
          },
          "yaxis": {
           "automargin": true,
           "gridcolor": "#EBF0F8",
           "linecolor": "#EBF0F8",
           "ticks": "",
           "title": {
            "standoff": 15
           },
           "zerolinecolor": "#EBF0F8",
           "zerolinewidth": 2
          }
         }
        },
        "title": {
         "text": "Hotelling model base vs ban at T*"
        },
        "xaxis": {
         "anchor": "y",
         "domain": [
          0,
          0.2888888888888889
         ],
         "title": {
          "text": "t"
         }
        },
        "xaxis2": {
         "anchor": "y2",
         "domain": [
          0.35555555555555557,
          0.6444444444444445
         ]
        },
        "xaxis3": {
         "anchor": "y3",
         "domain": [
          0.7111111111111111,
          1
         ]
        },
        "yaxis": {
         "anchor": "x",
         "domain": [
          0,
          1
         ],
         "title": {
          "text": "value"
         }
        },
        "yaxis2": {
         "anchor": "x2",
         "domain": [
          0,
          1
         ]
        },
        "yaxis3": {
         "anchor": "x3",
         "domain": [
          0,
          1
         ]
        }
       }
      }
     },
     "metadata": {},
     "output_type": "display_data"
    }
   ],
   "source": [
    "def hotelling_mono(T=50, S0=100, a=10, b=1, c=1, r=0.05, extr_ban=None):\n",
    "    # Sets & Parameters --------------------------------\n",
    "    rho = 1 / (1 + r) ** np.arange(T + 1)\n",
    "    \n",
    "    # State Variables -----------------------------------\n",
    "    def f_S(i_q):\n",
    "        S = np.zeros(T + 1)\n",
    "        S[0] = S0\n",
    "        for t in range(1, T + 1):\n",
    "            S[t] = S[t - 1] - i_q[t - 1]\n",
    "        return S\n",
    "\n",
    "    def f_p(i_q):\n",
    "        return a - b * i_q\n",
    "\n",
    "    # Objective Function -------------------------------\n",
    "    def f_obj(i_q):\n",
    "        obj_value = 0\n",
    "        for t in range(T + 1):\n",
    "            if extr_ban is not None and t >= extr_ban: \n",
    "                i_q[t] = 0\n",
    "            obj_value += rho[t] * (i_q[t] * (f_p(i_q)[t] - c))\n",
    "        return -1 * obj_value\n",
    "\n",
    "    # Decision Variables -------------------------------\n",
    "    q_start = np.full(T + 1, 1)\n",
    "    bnds = [(0, S0) for t in range(T + 1)]\n",
    "\n",
    "    # Constraints --------------------------------------\n",
    "    def c_total_extr(i_q):\n",
    "        return S0 - np.sum(i_q)\n",
    "\n",
    "    cnstr = [{'type': 'eq', 'fun': c_total_extr}]\n",
    "    \n",
    "    # Run Optimization ---------------------------------\n",
    "    results = opt.minimize(f_obj, q_start, bounds=bnds, constraints=cnstr, \n",
    "                        #    method='COBYQA',  \n",
    "                           options={'disp': False})\n",
    "\n",
    "    # Results ------------------------------------------\n",
    "    q_opt = results.x\n",
    "    S_opt = f_S(q_opt)\n",
    "    p_opt = f_p(q_opt)\n",
    "    npv_opt = [rho[t] * (q_opt[t] * (a - b * q_opt[t]) - c * q_opt[t]) for t in range(T + 1)]\n",
    "\n",
    "    df = pd.DataFrame({\n",
    "        't': range(T + 1),\n",
    "        'q_opt': q_opt,\n",
    "        'S_opt': S_opt,\n",
    "        'p_opt': p_opt,\n",
    "        'npv_opt': npv_opt\n",
    "    })\n",
    "\n",
    "    return df\n",
    "\n",
    "\n",
    "# Plot Results -------------------------------------\n",
    "df_hotelling_mono = hotelling_mono()\n",
    "df_hotelling_mono_ban = hotelling_mono(extr_ban=30)\n",
    "\n",
    "fig = make_subplots(rows=1, cols=3, subplot_titles=('q_opt', 'p_opt', 'S_opt'))\n",
    "add_trace_to_subplot_hotelling(fig, df_hotelling_mono, 'mono_base')\n",
    "add_trace_to_subplot_hotelling(fig, df_hotelling_mono_ban, 'mono_extrban')\n",
    "\n",
    "fig.update_layout(title = 'Hotelling model base vs ban at T*', xaxis_title='t', yaxis_title='value', template='plotly_white')\n",
    "fig.write_html('hotelling_mono_extrban.html')\n",
    "fig.show()\n"
   ]
  },
  {
   "cell_type": "markdown",
   "id": "0cc3ec16",
   "metadata": {},
   "source": [
    "*Explanaiton for solution*: \\\n",
    "Because the monopolist knows, she cannot fully extract the resource over an optimal time, she increases the extraction rate (causing lower prices) to get as much profit during the shortend time frame as possible. This undesired effect is also know as the \"green paradox\" or the \"rush to burn\""
   ]
  },
  {
   "cell_type": "markdown",
   "id": "58fb0730",
   "metadata": {},
   "source": [
    "**3c) Hotelling, writing in modern python style** \\\n",
    "This is now for the students who are *deeply interested in coding practices* (way beyond our course objective) and have extensive prior knowledge! In recent years, it became fashionable to write your python code using classes (with attributes and methods). Try to refactor your model code for the monopolist hotelling model using python classes. "
   ]
  },
  {
   "cell_type": "code",
   "execution_count": 39,
   "id": "304b4527",
   "metadata": {},
   "outputs": [
    {
     "data": {
      "application/vnd.plotly.v1+json": {
       "config": {
        "plotlyServerURL": "https://plot.ly"
       },
       "data": [
        {
         "legendgroup": "incr_rparam",
         "mode": "lines",
         "name": "q_incr_rparam",
         "showlegend": true,
         "type": "scatter",
         "x": [
          0,
          1,
          2,
          3,
          4,
          5,
          6,
          7,
          8,
          9,
          10,
          11,
          12,
          13,
          14,
          15,
          16,
          17,
          18,
          19,
          20,
          21,
          22,
          23,
          24,
          25,
          26,
          27,
          28,
          29,
          30,
          31,
          32,
          33,
          34,
          35,
          36,
          37,
          38,
          39,
          40,
          41,
          42,
          43,
          44,
          45,
          46,
          47,
          48,
          49,
          50
         ],
         "xaxis": "x",
         "y": [
          4.0836568012141585,
          4.0545263850312026,
          4.02334764438945,
          3.9899510512562673,
          3.9541163194036915,
          3.9160172172308574,
          3.875143014149087,
          3.8313743412172796,
          3.784582367663595,
          3.7345217546196126,
          3.6809590302834736,
          3.6236707496688862,
          3.5623893791729686,
          3.496785128717095,
          3.4265157177034897,
          3.351270664878287,
          3.270771303526931,
          3.184706832813758,
          3.092702212938668,
          2.9942914792282487,
          2.8889682872380478,
          2.77618406498922,
          2.6554050962651914,
          2.5261124179501775,
          2.3877876878847797,
          2.239877300080573,
          2.0817719348407864,
          1.9127388059645487,
          1.7319404640875302,
          1.5384247661272739,
          1.3311730291710995,
          1.109152412943353,
          0.8713627732992009,
          0.6169346554191234,
          0.3451820697260698,
          0.05568483890601584,
          0,
          0,
          8.902739792116324e-17,
          2.128551444802694e-17,
          0,
          0,
          2.540675325289274e-18,
          0,
          1.2203955412833393e-16,
          0,
          0,
          2.2046224150044187e-16,
          2.404510543853409e-16,
          2.0716996521741695e-16,
          0
         ],
         "yaxis": "y"
        },
        {
         "legendgroup": "incr_rparam",
         "mode": "lines",
         "name": "p_incr_rparam",
         "showlegend": true,
         "type": "scatter",
         "x": [
          0,
          1,
          2,
          3,
          4,
          5,
          6,
          7,
          8,
          9,
          10,
          11,
          12,
          13,
          14,
          15,
          16,
          17,
          18,
          19,
          20,
          21,
          22,
          23,
          24,
          25,
          26,
          27,
          28,
          29,
          30,
          31,
          32,
          33,
          34,
          35,
          36,
          37,
          38,
          39,
          40,
          41,
          42,
          43,
          44,
          45,
          46,
          47,
          48,
          49,
          50
         ],
         "xaxis": "x2",
         "y": [
          5.9163431987858415,
          5.9454736149687974,
          5.97665235561055,
          6.010048948743733,
          6.045883680596308,
          6.083982782769143,
          6.124856985850913,
          6.16862565878272,
          6.215417632336405,
          6.265478245380388,
          6.319040969716527,
          6.376329250331114,
          6.437610620827032,
          6.503214871282905,
          6.57348428229651,
          6.648729335121713,
          6.7292286964730685,
          6.815293167186242,
          6.9072977870613315,
          7.005708520771751,
          7.111031712761952,
          7.22381593501078,
          7.344594903734809,
          7.473887582049823,
          7.61221231211522,
          7.760122699919426,
          7.918228065159214,
          8.08726119403545,
          8.26805953591247,
          8.461575233872725,
          8.668826970828901,
          8.890847587056648,
          9.1286372267008,
          9.383065344580876,
          9.65481793027393,
          9.944315161093984,
          10,
          10,
          10,
          10,
          10,
          10,
          10,
          10,
          10,
          10,
          10,
          10,
          10,
          10,
          10
         ],
         "yaxis": "y2"
        },
        {
         "legendgroup": "incr_rparam",
         "mode": "lines",
         "name": "S_incr_rparam",
         "showlegend": true,
         "type": "scatter",
         "x": [
          0,
          1,
          2,
          3,
          4,
          5,
          6,
          7,
          8,
          9,
          10,
          11,
          12,
          13,
          14,
          15,
          16,
          17,
          18,
          19,
          20,
          21,
          22,
          23,
          24,
          25,
          26,
          27,
          28,
          29,
          30,
          31,
          32,
          33,
          34,
          35,
          36,
          37,
          38,
          39,
          40,
          41,
          42,
          43,
          44,
          45,
          46,
          47,
          48,
          49,
          50
         ],
         "xaxis": "x3",
         "y": [
          100,
          95.91634319878584,
          91.86181681375464,
          87.8384691693652,
          83.84851811810893,
          79.89440179870523,
          75.97838458147437,
          72.10324156732528,
          68.271867226108,
          64.48728485844441,
          60.7527631038248,
          57.07180407354132,
          53.44813332387243,
          49.88574394469946,
          46.38895881598237,
          42.96244309827888,
          39.6111724334006,
          36.34040112987367,
          33.15569429705991,
          30.06299208412124,
          27.068700604892992,
          24.179732317654945,
          21.403548252665725,
          18.748143156400534,
          16.222030738450357,
          13.834243050565577,
          11.594365750485004,
          9.512593815644218,
          7.599855009679669,
          5.867914545592139,
          4.329489779464866,
          2.998316750293766,
          1.8891643373504132,
          1.0178015640512124,
          0.40086690863208896,
          0.05568483890601916,
          3.3237301799715624e-15,
          3.3237301799715624e-15,
          3.3237301799715624e-15,
          3.234702782050399e-15,
          3.2134172676023722e-15,
          3.2134172676023722e-15,
          3.2134172676023722e-15,
          3.210876592277083e-15,
          3.210876592277083e-15,
          3.088837038148749e-15,
          3.088837038148749e-15,
          3.088837038148749e-15,
          2.868374796648307e-15,
          2.6279237422629663e-15,
          2.4207537770455493e-15
         ],
         "yaxis": "y3"
        },
        {
         "legendgroup": "incr_stock",
         "mode": "lines",
         "name": "q_incr_stock",
         "showlegend": true,
         "type": "scatter",
         "x": [
          0,
          1,
          2,
          3,
          4,
          5,
          6,
          7,
          8,
          9,
          10,
          11,
          12,
          13,
          14,
          15,
          16,
          17,
          18,
          19,
          20,
          21,
          22,
          23,
          24,
          25,
          26,
          27,
          28,
          29,
          30,
          31,
          32,
          33,
          34,
          35,
          36,
          37,
          38,
          39,
          40,
          41,
          42,
          43,
          44,
          45,
          46,
          47,
          48,
          49,
          50
         ],
         "xaxis": "x",
         "y": [
          4.1399310467532136,
          4.1219716274284135,
          4.103093194034849,
          4.083184410428346,
          4.0624452860062314,
          4.040497934426674,
          4.01747397746533,
          3.9933809021646827,
          3.9680944368414277,
          3.941491150277353,
          3.9135416885463075,
          3.8842010954026045,
          3.853407400037679,
          3.821078520928426,
          3.7871405372649405,
          3.7515092846588836,
          3.7141096375256746,
          3.674848848099003,
          3.633626546718455,
          3.5903212767052497,
          3.5448096640011055,
          3.4969866751974883,
          3.4467449260863594,
          3.3939932948035105,
          3.33862350418784,
          3.2805284443724223,
          3.2195889251751164,
          3.1556396827154365,
          3.088526003677382,
          3.0180538393318033,
          2.944039419973048,
          2.8662794273506096,
          2.7845889640058377,
          2.6987730750355046,
          2.608646550342458,
          2.514014276216687,
          2.4146767394996256,
          2.310416327128804,
          2.2010023099044607,
          2.0861495434361736,
          1.9655794407211573,
          1.8389769938107277,
          1.7059947449967596,
          1.5662624754822312,
          1.4194638705622398,
          1.2652139968687297,
          1.1031939911561879,
          0.933112825359012,
          0.7547160695023307,
          0.5678030445512061,
          0.37225215283393975
         ],
         "yaxis": "y"
        },
        {
         "legendgroup": "incr_stock",
         "mode": "lines",
         "name": "p_incr_stock",
         "showlegend": true,
         "type": "scatter",
         "x": [
          0,
          1,
          2,
          3,
          4,
          5,
          6,
          7,
          8,
          9,
          10,
          11,
          12,
          13,
          14,
          15,
          16,
          17,
          18,
          19,
          20,
          21,
          22,
          23,
          24,
          25,
          26,
          27,
          28,
          29,
          30,
          31,
          32,
          33,
          34,
          35,
          36,
          37,
          38,
          39,
          40,
          41,
          42,
          43,
          44,
          45,
          46,
          47,
          48,
          49,
          50
         ],
         "xaxis": "x2",
         "y": [
          5.8600689532467864,
          5.8780283725715865,
          5.896906805965151,
          5.916815589571654,
          5.9375547139937686,
          5.959502065573326,
          5.98252602253467,
          6.006619097835317,
          6.031905563158572,
          6.058508849722648,
          6.0864583114536925,
          6.115798904597396,
          6.146592599962322,
          6.178921479071574,
          6.212859462735059,
          6.248490715341116,
          6.285890362474325,
          6.325151151900997,
          6.366373453281545,
          6.40967872329475,
          6.4551903359988945,
          6.503013324802511,
          6.553255073913641,
          6.6060067051964895,
          6.66137649581216,
          6.719471555627578,
          6.780411074824883,
          6.844360317284563,
          6.911473996322618,
          6.981946160668197,
          7.055960580026952,
          7.13372057264939,
          7.215411035994162,
          7.301226924964496,
          7.391353449657542,
          7.485985723783314,
          7.585323260500374,
          7.689583672871196,
          7.79899769009554,
          7.913850456563827,
          8.034420559278843,
          8.161023006189271,
          8.29400525500324,
          8.433737524517769,
          8.58053612943776,
          8.734786003131271,
          8.896806008843813,
          9.066887174640987,
          9.245283930497669,
          9.432196955448793,
          9.62774784716606
         ],
         "yaxis": "y2"
        },
        {
         "legendgroup": "incr_stock",
         "mode": "lines",
         "name": "S_incr_stock",
         "showlegend": true,
         "type": "scatter",
         "x": [
          0,
          1,
          2,
          3,
          4,
          5,
          6,
          7,
          8,
          9,
          10,
          11,
          12,
          13,
          14,
          15,
          16,
          17,
          18,
          19,
          20,
          21,
          22,
          23,
          24,
          25,
          26,
          27,
          28,
          29,
          30,
          31,
          32,
          33,
          34,
          35,
          36,
          37,
          38,
          39,
          40,
          41,
          42,
          43,
          44,
          45,
          46,
          47,
          48,
          49,
          50
         ],
         "xaxis": "x3",
         "y": [
          150,
          145.86006895324678,
          141.73809732581836,
          137.63500413178352,
          133.55181972135517,
          129.48937443534894,
          125.44887650092227,
          121.43140252345694,
          117.43802162129225,
          113.46992718445082,
          109.52843603417347,
          105.61489434562716,
          101.73069325022456,
          97.87728585018688,
          94.05620732925846,
          90.26906679199351,
          86.51755750733463,
          82.80344786980895,
          79.12859902170995,
          75.49497247499149,
          71.90465119828623,
          68.35984153428512,
          64.86285485908763,
          61.41610993300127,
          58.022116638197765,
          54.68349313400992,
          51.4029646896375,
          48.18337576446238,
          45.027736081746944,
          41.939210078069564,
          38.92115623873776,
          35.97711681876471,
          33.1108373914141,
          30.326248427408263,
          27.62747535237276,
          25.0188288020303,
          22.50481452581361,
          20.090137786313985,
          17.779721459185183,
          15.578719149280722,
          13.49256960584455,
          11.526990165123392,
          9.688013171312665,
          7.982018426315905,
          6.415755950833674,
          4.996292080271434,
          3.7310780834027044,
          2.6278840922465165,
          1.6947712668875046,
          0.9400551973851738,
          0.37225215283396773
         ],
         "yaxis": "y3"
        },
        {
         "legendgroup": "decr_bparam",
         "mode": "lines",
         "name": "q_decr_bparam",
         "showlegend": true,
         "type": "scatter",
         "x": [
          0,
          1,
          2,
          3,
          4,
          5,
          6,
          7,
          8,
          9,
          10,
          11,
          12,
          13,
          14,
          15,
          16,
          17,
          18,
          19,
          20,
          21,
          22,
          23,
          24,
          25,
          26,
          27,
          28,
          29,
          30,
          31,
          32,
          33,
          34,
          35,
          36,
          37,
          38,
          39,
          40,
          41,
          42,
          43,
          44,
          45,
          46,
          47,
          48,
          49,
          50
         ],
         "xaxis": "x",
         "y": [
          6.378374879415549,
          6.247289792024808,
          6.109656057919802,
          5.965130240327374,
          5.81336469168355,
          5.654013855656146,
          5.486714164836524,
          5.311073789850171,
          5.126657218041682,
          4.9330228812669334,
          4.72968731391046,
          4.516154250235517,
          4.291918675029955,
          4.056464184265147,
          3.8092415803659967,
          3.5497018704536294,
          3.2772397702956595,
          2.9911930308578962,
          2.6908641338295696,
          2.375494251484814,
          2.0442868156201595,
          1.6964200815480057,
          1.3310879178390236,
          0.94748100194422,
          0.5448672929779441,
          0.12260025831948476,
          1.4258884871443112e-15,
          8.029440353167668e-16,
          7.750910509122036e-16,
          0,
          5.7911642603776514e-18,
          0,
          0,
          0,
          0,
          2.15974766825007e-16,
          0,
          0,
          0,
          0,
          0,
          0,
          0,
          0,
          0,
          0,
          0,
          0,
          0,
          1.6639987659799148e-15,
          0
         ],
         "yaxis": "y"
        },
        {
         "legendgroup": "decr_bparam",
         "mode": "lines",
         "name": "p_decr_bparam",
         "showlegend": true,
         "type": "scatter",
         "x": [
          0,
          1,
          2,
          3,
          4,
          5,
          6,
          7,
          8,
          9,
          10,
          11,
          12,
          13,
          14,
          15,
          16,
          17,
          18,
          19,
          20,
          21,
          22,
          23,
          24,
          25,
          26,
          27,
          28,
          29,
          30,
          31,
          32,
          33,
          34,
          35,
          36,
          37,
          38,
          39,
          40,
          41,
          42,
          43,
          44,
          45,
          46,
          47,
          48,
          49,
          50
         ],
         "xaxis": "x2",
         "y": [
          6.810812560292225,
          6.876355103987596,
          6.945171971040099,
          7.017434879836313,
          7.093317654158225,
          7.172993072171927,
          7.256642917581738,
          7.344463105074914,
          7.436671390979159,
          7.533488559366534,
          7.63515634304477,
          7.741922874882242,
          7.854040662485023,
          7.971767907867426,
          8.095379209817002,
          8.225149064773186,
          8.361380114852171,
          8.504403484571052,
          8.654567933085215,
          8.812252874257593,
          8.97785659218992,
          9.151789959225997,
          9.334456041080488,
          9.52625949902789,
          9.727566353511028,
          9.938699870840258,
          10,
          10,
          10,
          10,
          10,
          10,
          10,
          10,
          10,
          10,
          10,
          10,
          10,
          10,
          10,
          10,
          10,
          10,
          10,
          10,
          10,
          10,
          10,
          10,
          10
         ],
         "yaxis": "y2"
        },
        {
         "legendgroup": "decr_bparam",
         "mode": "lines",
         "name": "S_decr_bparam",
         "showlegend": true,
         "type": "scatter",
         "x": [
          0,
          1,
          2,
          3,
          4,
          5,
          6,
          7,
          8,
          9,
          10,
          11,
          12,
          13,
          14,
          15,
          16,
          17,
          18,
          19,
          20,
          21,
          22,
          23,
          24,
          25,
          26,
          27,
          28,
          29,
          30,
          31,
          32,
          33,
          34,
          35,
          36,
          37,
          38,
          39,
          40,
          41,
          42,
          43,
          44,
          45,
          46,
          47,
          48,
          49,
          50
         ],
         "xaxis": "x3",
         "y": [
          100,
          93.62162512058445,
          87.37433532855965,
          81.26467927063985,
          75.29954903031248,
          69.48618433862893,
          63.832170482972785,
          58.34545631813626,
          53.03438252828609,
          47.9077253102444,
          42.974702428977466,
          38.245015115067005,
          33.72886086483149,
          29.436942189801535,
          25.38047800553639,
          21.571236425170394,
          18.021534554716766,
          14.744294784421106,
          11.75310175356321,
          9.06223761973364,
          6.686743368248826,
          4.6424565526286665,
          2.946036471080661,
          1.6149485532416374,
          0.6674675512974174,
          0.1226002583194733,
          -1.1463052729254741e-14,
          -1.2888941216399052e-14,
          -1.3691885251715819e-14,
          -1.4466976302628023e-14,
          -1.4466976302628023e-14,
          -1.44727674668884e-14,
          -1.44727674668884e-14,
          -1.44727674668884e-14,
          -1.44727674668884e-14,
          -1.44727674668884e-14,
          -1.4688742233713407e-14,
          -1.4688742233713407e-14,
          -1.4688742233713407e-14,
          -1.4688742233713407e-14,
          -1.4688742233713407e-14,
          -1.4688742233713407e-14,
          -1.4688742233713407e-14,
          -1.4688742233713407e-14,
          -1.4688742233713407e-14,
          -1.4688742233713407e-14,
          -1.4688742233713407e-14,
          -1.4688742233713407e-14,
          -1.4688742233713407e-14,
          -1.4688742233713407e-14,
          -1.6352740999693322e-14
         ],
         "yaxis": "y3"
        },
        {
         "legendgroup": "incr_cost",
         "mode": "lines",
         "name": "q_incr_cost",
         "showlegend": true,
         "type": "scatter",
         "x": [
          0,
          1,
          2,
          3,
          4,
          5,
          6,
          7,
          8,
          9,
          10,
          11,
          12,
          13,
          14,
          15,
          16,
          17,
          18,
          19,
          20,
          21,
          22,
          23,
          24,
          25,
          26,
          27,
          28,
          29,
          30,
          31,
          32,
          33,
          34,
          35,
          36,
          37,
          38,
          39,
          40,
          41,
          42,
          43,
          44,
          45,
          46,
          47,
          48,
          49,
          50
         ],
         "xaxis": "x",
         "y": [
          3.4965096425194884,
          3.471293073195283,
          3.444721502815587,
          3.417217870620616,
          3.3880108345405664,
          3.357292935098416,
          3.325176494260759,
          3.29150882822037,
          3.2561105987080525,
          3.2188871915108597,
          3.1797871303997844,
          3.1387640937220675,
          3.095718334512839,
          3.050536911300916,
          3.0030735313759553,
          2.953209056713672,
          2.9008313368157426,
          2.8458331481163275,
          2.7881094229632533,
          2.7275408150040557,
          2.663983823589152,
          2.59726695980557,
          2.5272006123498216,
          2.453605074698395,
          2.376282434912251,
          2.2950429569427366,
          2.20969735418706,
          2.12007658067074,
          2.0259832371185857,
          1.9272247490413983,
          1.8235923952527984,
          1.7148371827359086,
          1.6006987863370914,
          1.4808712173277028,
          1.3550378325772292,
          1.222859493557049,
          1.0839830446883216,
          0.9380627618866751,
          0.7847637933380283,
          0.6237835088647494,
          0.45485473470078785,
          0.2777741754114693,
          0.09238453759188164,
          0,
          2.3970185374349445e-17,
          0,
          4.878983891567655e-17,
          1.6719583345852634e-17,
          9.61306162168378e-17,
          0,
          0
         ],
         "yaxis": "y"
        },
        {
         "legendgroup": "incr_cost",
         "mode": "lines",
         "name": "p_incr_cost",
         "showlegend": true,
         "type": "scatter",
         "x": [
          0,
          1,
          2,
          3,
          4,
          5,
          6,
          7,
          8,
          9,
          10,
          11,
          12,
          13,
          14,
          15,
          16,
          17,
          18,
          19,
          20,
          21,
          22,
          23,
          24,
          25,
          26,
          27,
          28,
          29,
          30,
          31,
          32,
          33,
          34,
          35,
          36,
          37,
          38,
          39,
          40,
          41,
          42,
          43,
          44,
          45,
          46,
          47,
          48,
          49,
          50
         ],
         "xaxis": "x2",
         "y": [
          6.503490357480512,
          6.528706926804717,
          6.555278497184413,
          6.582782129379384,
          6.611989165459434,
          6.642707064901584,
          6.674823505739241,
          6.70849117177963,
          6.7438894012919475,
          6.781112808489141,
          6.8202128696002156,
          6.8612359062779325,
          6.9042816654871615,
          6.949463088699083,
          6.996926468624045,
          7.046790943286328,
          7.099168663184257,
          7.154166851883673,
          7.211890577036747,
          7.272459184995944,
          7.336016176410848,
          7.4027330401944305,
          7.472799387650179,
          7.546394925301605,
          7.623717565087749,
          7.704957043057263,
          7.79030264581294,
          7.87992341932926,
          7.974016762881414,
          8.072775250958601,
          8.176407604747201,
          8.28516281726409,
          8.399301213662909,
          8.519128782672297,
          8.64496216742277,
          8.77714050644295,
          8.916016955311678,
          9.061937238113325,
          9.215236206661972,
          9.376216491135251,
          9.545145265299212,
          9.72222582458853,
          9.907615462408119,
          10,
          10,
          10,
          10,
          10,
          10,
          10,
          10
         ],
         "yaxis": "y2"
        },
        {
         "legendgroup": "incr_cost",
         "mode": "lines",
         "name": "S_incr_cost",
         "showlegend": true,
         "type": "scatter",
         "x": [
          0,
          1,
          2,
          3,
          4,
          5,
          6,
          7,
          8,
          9,
          10,
          11,
          12,
          13,
          14,
          15,
          16,
          17,
          18,
          19,
          20,
          21,
          22,
          23,
          24,
          25,
          26,
          27,
          28,
          29,
          30,
          31,
          32,
          33,
          34,
          35,
          36,
          37,
          38,
          39,
          40,
          41,
          42,
          43,
          44,
          45,
          46,
          47,
          48,
          49,
          50
         ],
         "xaxis": "x3",
         "y": [
          100,
          96.50349035748052,
          93.03219728428523,
          89.58747578146965,
          86.17025791084903,
          82.78224707630847,
          79.42495414121005,
          76.09977764694929,
          72.80826881872892,
          69.55215822002087,
          66.33327102851001,
          63.153483898110224,
          60.01471980438816,
          56.91900146987532,
          53.8684645585744,
          50.86539102719845,
          47.912181970484774,
          45.01135063366903,
          42.165517485552705,
          39.37740806258945,
          36.6498672475854,
          33.98588342399625,
          31.38861646419068,
          28.861415851840857,
          26.407810777142462,
          24.03152834223021,
          21.736485385287473,
          19.526788031100413,
          17.406711450429672,
          15.380728213311086,
          13.453503464269687,
          11.629911069016888,
          9.915073886280979,
          8.314375099943888,
          6.833503882616185,
          5.478466050038955,
          4.255606556481906,
          3.1716235117935847,
          2.2335607499069097,
          1.4487969565688814,
          0.825013447704132,
          0.37015871300334413,
          0.09238453759187482,
          -6.827871601444713e-15,
          -6.827871601444713e-15,
          -6.851841786819062e-15,
          -6.851841786819062e-15,
          -6.900631625734739e-15,
          -6.917351209080591e-15,
          -7.013481825297429e-15,
          -7.013481825297429e-15
         ],
         "yaxis": "y3"
        }
       ],
       "layout": {
        "annotations": [
         {
          "font": {
           "size": 16
          },
          "showarrow": false,
          "text": "q_opt",
          "x": 0.14444444444444446,
          "xanchor": "center",
          "xref": "paper",
          "y": 1,
          "yanchor": "bottom",
          "yref": "paper"
         },
         {
          "font": {
           "size": 16
          },
          "showarrow": false,
          "text": "p_opt",
          "x": 0.5,
          "xanchor": "center",
          "xref": "paper",
          "y": 1,
          "yanchor": "bottom",
          "yref": "paper"
         },
         {
          "font": {
           "size": 16
          },
          "showarrow": false,
          "text": "S_opt",
          "x": 0.8555555555555556,
          "xanchor": "center",
          "xref": "paper",
          "y": 1,
          "yanchor": "bottom",
          "yref": "paper"
         }
        ],
        "template": {
         "data": {
          "bar": [
           {
            "error_x": {
             "color": "#2a3f5f"
            },
            "error_y": {
             "color": "#2a3f5f"
            },
            "marker": {
             "line": {
              "color": "white",
              "width": 0.5
             },
             "pattern": {
              "fillmode": "overlay",
              "size": 10,
              "solidity": 0.2
             }
            },
            "type": "bar"
           }
          ],
          "barpolar": [
           {
            "marker": {
             "line": {
              "color": "white",
              "width": 0.5
             },
             "pattern": {
              "fillmode": "overlay",
              "size": 10,
              "solidity": 0.2
             }
            },
            "type": "barpolar"
           }
          ],
          "carpet": [
           {
            "aaxis": {
             "endlinecolor": "#2a3f5f",
             "gridcolor": "#C8D4E3",
             "linecolor": "#C8D4E3",
             "minorgridcolor": "#C8D4E3",
             "startlinecolor": "#2a3f5f"
            },
            "baxis": {
             "endlinecolor": "#2a3f5f",
             "gridcolor": "#C8D4E3",
             "linecolor": "#C8D4E3",
             "minorgridcolor": "#C8D4E3",
             "startlinecolor": "#2a3f5f"
            },
            "type": "carpet"
           }
          ],
          "choropleth": [
           {
            "colorbar": {
             "outlinewidth": 0,
             "ticks": ""
            },
            "type": "choropleth"
           }
          ],
          "contour": [
           {
            "colorbar": {
             "outlinewidth": 0,
             "ticks": ""
            },
            "colorscale": [
             [
              0,
              "#0d0887"
             ],
             [
              0.1111111111111111,
              "#46039f"
             ],
             [
              0.2222222222222222,
              "#7201a8"
             ],
             [
              0.3333333333333333,
              "#9c179e"
             ],
             [
              0.4444444444444444,
              "#bd3786"
             ],
             [
              0.5555555555555556,
              "#d8576b"
             ],
             [
              0.6666666666666666,
              "#ed7953"
             ],
             [
              0.7777777777777778,
              "#fb9f3a"
             ],
             [
              0.8888888888888888,
              "#fdca26"
             ],
             [
              1,
              "#f0f921"
             ]
            ],
            "type": "contour"
           }
          ],
          "contourcarpet": [
           {
            "colorbar": {
             "outlinewidth": 0,
             "ticks": ""
            },
            "type": "contourcarpet"
           }
          ],
          "heatmap": [
           {
            "colorbar": {
             "outlinewidth": 0,
             "ticks": ""
            },
            "colorscale": [
             [
              0,
              "#0d0887"
             ],
             [
              0.1111111111111111,
              "#46039f"
             ],
             [
              0.2222222222222222,
              "#7201a8"
             ],
             [
              0.3333333333333333,
              "#9c179e"
             ],
             [
              0.4444444444444444,
              "#bd3786"
             ],
             [
              0.5555555555555556,
              "#d8576b"
             ],
             [
              0.6666666666666666,
              "#ed7953"
             ],
             [
              0.7777777777777778,
              "#fb9f3a"
             ],
             [
              0.8888888888888888,
              "#fdca26"
             ],
             [
              1,
              "#f0f921"
             ]
            ],
            "type": "heatmap"
           }
          ],
          "heatmapgl": [
           {
            "colorbar": {
             "outlinewidth": 0,
             "ticks": ""
            },
            "colorscale": [
             [
              0,
              "#0d0887"
             ],
             [
              0.1111111111111111,
              "#46039f"
             ],
             [
              0.2222222222222222,
              "#7201a8"
             ],
             [
              0.3333333333333333,
              "#9c179e"
             ],
             [
              0.4444444444444444,
              "#bd3786"
             ],
             [
              0.5555555555555556,
              "#d8576b"
             ],
             [
              0.6666666666666666,
              "#ed7953"
             ],
             [
              0.7777777777777778,
              "#fb9f3a"
             ],
             [
              0.8888888888888888,
              "#fdca26"
             ],
             [
              1,
              "#f0f921"
             ]
            ],
            "type": "heatmapgl"
           }
          ],
          "histogram": [
           {
            "marker": {
             "pattern": {
              "fillmode": "overlay",
              "size": 10,
              "solidity": 0.2
             }
            },
            "type": "histogram"
           }
          ],
          "histogram2d": [
           {
            "colorbar": {
             "outlinewidth": 0,
             "ticks": ""
            },
            "colorscale": [
             [
              0,
              "#0d0887"
             ],
             [
              0.1111111111111111,
              "#46039f"
             ],
             [
              0.2222222222222222,
              "#7201a8"
             ],
             [
              0.3333333333333333,
              "#9c179e"
             ],
             [
              0.4444444444444444,
              "#bd3786"
             ],
             [
              0.5555555555555556,
              "#d8576b"
             ],
             [
              0.6666666666666666,
              "#ed7953"
             ],
             [
              0.7777777777777778,
              "#fb9f3a"
             ],
             [
              0.8888888888888888,
              "#fdca26"
             ],
             [
              1,
              "#f0f921"
             ]
            ],
            "type": "histogram2d"
           }
          ],
          "histogram2dcontour": [
           {
            "colorbar": {
             "outlinewidth": 0,
             "ticks": ""
            },
            "colorscale": [
             [
              0,
              "#0d0887"
             ],
             [
              0.1111111111111111,
              "#46039f"
             ],
             [
              0.2222222222222222,
              "#7201a8"
             ],
             [
              0.3333333333333333,
              "#9c179e"
             ],
             [
              0.4444444444444444,
              "#bd3786"
             ],
             [
              0.5555555555555556,
              "#d8576b"
             ],
             [
              0.6666666666666666,
              "#ed7953"
             ],
             [
              0.7777777777777778,
              "#fb9f3a"
             ],
             [
              0.8888888888888888,
              "#fdca26"
             ],
             [
              1,
              "#f0f921"
             ]
            ],
            "type": "histogram2dcontour"
           }
          ],
          "mesh3d": [
           {
            "colorbar": {
             "outlinewidth": 0,
             "ticks": ""
            },
            "type": "mesh3d"
           }
          ],
          "parcoords": [
           {
            "line": {
             "colorbar": {
              "outlinewidth": 0,
              "ticks": ""
             }
            },
            "type": "parcoords"
           }
          ],
          "pie": [
           {
            "automargin": true,
            "type": "pie"
           }
          ],
          "scatter": [
           {
            "fillpattern": {
             "fillmode": "overlay",
             "size": 10,
             "solidity": 0.2
            },
            "type": "scatter"
           }
          ],
          "scatter3d": [
           {
            "line": {
             "colorbar": {
              "outlinewidth": 0,
              "ticks": ""
             }
            },
            "marker": {
             "colorbar": {
              "outlinewidth": 0,
              "ticks": ""
             }
            },
            "type": "scatter3d"
           }
          ],
          "scattercarpet": [
           {
            "marker": {
             "colorbar": {
              "outlinewidth": 0,
              "ticks": ""
             }
            },
            "type": "scattercarpet"
           }
          ],
          "scattergeo": [
           {
            "marker": {
             "colorbar": {
              "outlinewidth": 0,
              "ticks": ""
             }
            },
            "type": "scattergeo"
           }
          ],
          "scattergl": [
           {
            "marker": {
             "colorbar": {
              "outlinewidth": 0,
              "ticks": ""
             }
            },
            "type": "scattergl"
           }
          ],
          "scattermapbox": [
           {
            "marker": {
             "colorbar": {
              "outlinewidth": 0,
              "ticks": ""
             }
            },
            "type": "scattermapbox"
           }
          ],
          "scatterpolar": [
           {
            "marker": {
             "colorbar": {
              "outlinewidth": 0,
              "ticks": ""
             }
            },
            "type": "scatterpolar"
           }
          ],
          "scatterpolargl": [
           {
            "marker": {
             "colorbar": {
              "outlinewidth": 0,
              "ticks": ""
             }
            },
            "type": "scatterpolargl"
           }
          ],
          "scatterternary": [
           {
            "marker": {
             "colorbar": {
              "outlinewidth": 0,
              "ticks": ""
             }
            },
            "type": "scatterternary"
           }
          ],
          "surface": [
           {
            "colorbar": {
             "outlinewidth": 0,
             "ticks": ""
            },
            "colorscale": [
             [
              0,
              "#0d0887"
             ],
             [
              0.1111111111111111,
              "#46039f"
             ],
             [
              0.2222222222222222,
              "#7201a8"
             ],
             [
              0.3333333333333333,
              "#9c179e"
             ],
             [
              0.4444444444444444,
              "#bd3786"
             ],
             [
              0.5555555555555556,
              "#d8576b"
             ],
             [
              0.6666666666666666,
              "#ed7953"
             ],
             [
              0.7777777777777778,
              "#fb9f3a"
             ],
             [
              0.8888888888888888,
              "#fdca26"
             ],
             [
              1,
              "#f0f921"
             ]
            ],
            "type": "surface"
           }
          ],
          "table": [
           {
            "cells": {
             "fill": {
              "color": "#EBF0F8"
             },
             "line": {
              "color": "white"
             }
            },
            "header": {
             "fill": {
              "color": "#C8D4E3"
             },
             "line": {
              "color": "white"
             }
            },
            "type": "table"
           }
          ]
         },
         "layout": {
          "annotationdefaults": {
           "arrowcolor": "#2a3f5f",
           "arrowhead": 0,
           "arrowwidth": 1
          },
          "autotypenumbers": "strict",
          "coloraxis": {
           "colorbar": {
            "outlinewidth": 0,
            "ticks": ""
           }
          },
          "colorscale": {
           "diverging": [
            [
             0,
             "#8e0152"
            ],
            [
             0.1,
             "#c51b7d"
            ],
            [
             0.2,
             "#de77ae"
            ],
            [
             0.3,
             "#f1b6da"
            ],
            [
             0.4,
             "#fde0ef"
            ],
            [
             0.5,
             "#f7f7f7"
            ],
            [
             0.6,
             "#e6f5d0"
            ],
            [
             0.7,
             "#b8e186"
            ],
            [
             0.8,
             "#7fbc41"
            ],
            [
             0.9,
             "#4d9221"
            ],
            [
             1,
             "#276419"
            ]
           ],
           "sequential": [
            [
             0,
             "#0d0887"
            ],
            [
             0.1111111111111111,
             "#46039f"
            ],
            [
             0.2222222222222222,
             "#7201a8"
            ],
            [
             0.3333333333333333,
             "#9c179e"
            ],
            [
             0.4444444444444444,
             "#bd3786"
            ],
            [
             0.5555555555555556,
             "#d8576b"
            ],
            [
             0.6666666666666666,
             "#ed7953"
            ],
            [
             0.7777777777777778,
             "#fb9f3a"
            ],
            [
             0.8888888888888888,
             "#fdca26"
            ],
            [
             1,
             "#f0f921"
            ]
           ],
           "sequentialminus": [
            [
             0,
             "#0d0887"
            ],
            [
             0.1111111111111111,
             "#46039f"
            ],
            [
             0.2222222222222222,
             "#7201a8"
            ],
            [
             0.3333333333333333,
             "#9c179e"
            ],
            [
             0.4444444444444444,
             "#bd3786"
            ],
            [
             0.5555555555555556,
             "#d8576b"
            ],
            [
             0.6666666666666666,
             "#ed7953"
            ],
            [
             0.7777777777777778,
             "#fb9f3a"
            ],
            [
             0.8888888888888888,
             "#fdca26"
            ],
            [
             1,
             "#f0f921"
            ]
           ]
          },
          "colorway": [
           "#636efa",
           "#EF553B",
           "#00cc96",
           "#ab63fa",
           "#FFA15A",
           "#19d3f3",
           "#FF6692",
           "#B6E880",
           "#FF97FF",
           "#FECB52"
          ],
          "font": {
           "color": "#2a3f5f"
          },
          "geo": {
           "bgcolor": "white",
           "lakecolor": "white",
           "landcolor": "white",
           "showlakes": true,
           "showland": true,
           "subunitcolor": "#C8D4E3"
          },
          "hoverlabel": {
           "align": "left"
          },
          "hovermode": "closest",
          "mapbox": {
           "style": "light"
          },
          "paper_bgcolor": "white",
          "plot_bgcolor": "white",
          "polar": {
           "angularaxis": {
            "gridcolor": "#EBF0F8",
            "linecolor": "#EBF0F8",
            "ticks": ""
           },
           "bgcolor": "white",
           "radialaxis": {
            "gridcolor": "#EBF0F8",
            "linecolor": "#EBF0F8",
            "ticks": ""
           }
          },
          "scene": {
           "xaxis": {
            "backgroundcolor": "white",
            "gridcolor": "#DFE8F3",
            "gridwidth": 2,
            "linecolor": "#EBF0F8",
            "showbackground": true,
            "ticks": "",
            "zerolinecolor": "#EBF0F8"
           },
           "yaxis": {
            "backgroundcolor": "white",
            "gridcolor": "#DFE8F3",
            "gridwidth": 2,
            "linecolor": "#EBF0F8",
            "showbackground": true,
            "ticks": "",
            "zerolinecolor": "#EBF0F8"
           },
           "zaxis": {
            "backgroundcolor": "white",
            "gridcolor": "#DFE8F3",
            "gridwidth": 2,
            "linecolor": "#EBF0F8",
            "showbackground": true,
            "ticks": "",
            "zerolinecolor": "#EBF0F8"
           }
          },
          "shapedefaults": {
           "line": {
            "color": "#2a3f5f"
           }
          },
          "ternary": {
           "aaxis": {
            "gridcolor": "#DFE8F3",
            "linecolor": "#A2B1C6",
            "ticks": ""
           },
           "baxis": {
            "gridcolor": "#DFE8F3",
            "linecolor": "#A2B1C6",
            "ticks": ""
           },
           "bgcolor": "white",
           "caxis": {
            "gridcolor": "#DFE8F3",
            "linecolor": "#A2B1C6",
            "ticks": ""
           }
          },
          "title": {
           "x": 0.05
          },
          "xaxis": {
           "automargin": true,
           "gridcolor": "#EBF0F8",
           "linecolor": "#EBF0F8",
           "ticks": "",
           "title": {
            "standoff": 15
           },
           "zerolinecolor": "#EBF0F8",
           "zerolinewidth": 2
          },
          "yaxis": {
           "automargin": true,
           "gridcolor": "#EBF0F8",
           "linecolor": "#EBF0F8",
           "ticks": "",
           "title": {
            "standoff": 15
           },
           "zerolinecolor": "#EBF0F8",
           "zerolinewidth": 2
          }
         }
        },
        "title": {
         "text": "Hotelling Model - Parameter Comparison"
        },
        "xaxis": {
         "anchor": "y",
         "domain": [
          0,
          0.2888888888888889
         ],
         "title": {
          "text": "t"
         }
        },
        "xaxis2": {
         "anchor": "y2",
         "domain": [
          0.35555555555555557,
          0.6444444444444445
         ]
        },
        "xaxis3": {
         "anchor": "y3",
         "domain": [
          0.7111111111111111,
          1
         ]
        },
        "yaxis": {
         "anchor": "x",
         "domain": [
          0,
          1
         ],
         "title": {
          "text": "Value"
         }
        },
        "yaxis2": {
         "anchor": "x2",
         "domain": [
          0,
          1
         ]
        },
        "yaxis3": {
         "anchor": "x3",
         "domain": [
          0,
          1
         ]
        }
       }
      }
     },
     "metadata": {},
     "output_type": "display_data"
    }
   ],
   "source": [
    "\n",
    "class HotellingModel_Mono:\n",
    "    def __init__(self, T=50, S0=100, a=10, b=1, c=1, r=0.05):\n",
    "        # Initialize model parameters\n",
    "        self.T = T\n",
    "        self.S0 = S0\n",
    "        self.a = a\n",
    "        self.b = b\n",
    "        self.c = c\n",
    "        self.r = r\n",
    "        self.rho = 1 / (1 + r) ** np.arange(T + 1)\n",
    "        self.results = None\n",
    "        self.df = None\n",
    "\n",
    "    def f_S(self, i_q):\n",
    "        S = np.zeros(self.T + 1)\n",
    "        S[0] = self.S0\n",
    "        for t in range(1, self.T + 1):\n",
    "            S[t] = S[t - 1] - i_q[t - 1]\n",
    "        return S\n",
    "\n",
    "    def f_p(self, i_q):\n",
    "        return self.a - self.b * i_q\n",
    "\n",
    "    def f_obj(self, i_q):\n",
    "        obj_value = sum(self.rho[t] * (i_q[t] * (self.f_p(i_q)[t] - self.c)) for t in range(self.T + 1))\n",
    "        return -obj_value\n",
    "\n",
    "    def c_total_extr(self, i_q):\n",
    "        return self.S0 - sum([i_q[t] for t in range(self.T + 1)])\n",
    "\n",
    "    def optimize(self):\n",
    "        q_start = np.full(self.T + 1, 1)\n",
    "        bnds = [(0, self.S0) for _ in range(self.T + 1)]\n",
    "        cnstr = [{'type': 'eq', 'fun': self.c_total_extr}]\n",
    "\n",
    "        results = opt.minimize(self.f_obj, q_start, bounds=bnds, constraints=cnstr, options={'disp': False})\n",
    "\n",
    "        self.results = results\n",
    "        q_opt = results.x\n",
    "        S_opt = self.f_S(q_opt)\n",
    "        p_opt = self.f_p(q_opt)\n",
    "        npv_opt = self.f_obj(q_opt)\n",
    "\n",
    "        self.df = pd.DataFrame({\n",
    "            't': range(self.T + 1),\n",
    "            'q_opt': q_opt,\n",
    "            'S_opt': S_opt,\n",
    "            'p_opt': p_opt,\n",
    "            'npv_opt': npv_opt\n",
    "        })\n",
    "\n",
    "    def plot_results(self, filename='hotelling_mono.html'):\n",
    "        if self.df is None:\n",
    "            raise ValueError(\"Run the optimize method first to generate results.\")\n",
    "        \n",
    "        fig = make_subplots(rows=1, cols=3, subplot_titles=('q_opt', 'p_opt', 'S_opt'))\n",
    "        fig.add_trace(go.Scatter(x=self.df['t'], y=self.df['q_opt'], mode='lines', name='q_opt', showlegend=False), row=1, col=1)\n",
    "        fig.add_trace(go.Scatter(x=self.df['t'], y=self.df['p_opt'], mode='lines', name='p_opt', showlegend=False), row=1, col=2)\n",
    "        fig.add_trace(go.Scatter(x=self.df['t'], y=self.df['S_opt'], mode='lines', name='S_opt', showlegend=False), row=1, col=3)\n",
    "\n",
    "        fig.update_layout(title='Hotelling Model', xaxis_title='t', yaxis_title='Value', template='plotly_white')\n",
    "        fig.write_html(filename)\n",
    "        fig.show()\n",
    "\n",
    "    def compare_parameters(self, other_models, filename='hotelling_mono_compare.html'):\n",
    "        \"\"\"Compare results of different model variations\"\"\"\n",
    "        fig = make_subplots(rows=1, cols=3, subplot_titles=('q_opt', 'p_opt', 'S_opt'))\n",
    "\n",
    "        for model, label in other_models:\n",
    "            model.plot_subtrace(fig, label)\n",
    "\n",
    "        fig.update_layout(title='Hotelling Model - Parameter Comparison', xaxis_title='t', yaxis_title='Value', template='plotly_white')\n",
    "        fig.write_html(filename)\n",
    "        fig.show()\n",
    "\n",
    "    def plot_subtrace(self, fig, label):\n",
    "        \"\"\"Helper function to add model results to a subplot\"\"\"\n",
    "        fig.add_trace(go.Scatter(x=self.df['t'], y=self.df['q_opt'], mode='lines', name=f'q_{label}', legendgroup=label, showlegend=True), row=1, col=1)\n",
    "        fig.add_trace(go.Scatter(x=self.df['t'], y=self.df['p_opt'], mode='lines', name=f'p_{label}', legendgroup=label, showlegend=True), row=1, col=2)\n",
    "        fig.add_trace(go.Scatter(x=self.df['t'], y=self.df['S_opt'], mode='lines', name=f'S_{label}', legendgroup=label, showlegend=True), row=1, col=3)\n",
    "\n",
    "# Example usage\n",
    "if __name__ == \"__main__\":\n",
    "    # Base model\n",
    "    model_base = HotellingModel_Mono()\n",
    "    model_base.optimize()\n",
    "    # model_base.plot_results('hotelling_mono.html')\n",
    "\n",
    "    # Variations\n",
    "    model_incr_rparam = HotellingModel_Mono(r=0.07)\n",
    "    model_incr_rparam.optimize()\n",
    "\n",
    "    model_incr_stock = HotellingModel_Mono(S0=150)\n",
    "    model_incr_stock.optimize()\n",
    "\n",
    "    model_decr_bparamm = HotellingModel_Mono(b=0.5)\n",
    "    model_decr_bparamm.optimize()\n",
    "\n",
    "    model_incr_cost = HotellingModel_Mono(c=2)\n",
    "    model_incr_cost.optimize()\n",
    "\n",
    "    # Compare models\n",
    "    model_base.compare_parameters(\n",
    "        [(model_incr_rparam, 'incr_rparam'), (model_incr_stock, 'incr_stock'), (model_decr_bparamm, 'decr_bparam'), (model_incr_cost, 'incr_cost')],\n",
    "        filename='hotelling_mono_compare.html'\n",
    "    )\n"
   ]
  }
 ],
 "metadata": {
  "kernelspec": {
   "display_name": ".venv_resecon_master",
   "language": "python",
   "name": "python3"
  },
  "language_info": {
   "codemirror_mode": {
    "name": "ipython",
    "version": 3
   },
   "file_extension": ".py",
   "mimetype": "text/x-python",
   "name": "python",
   "nbconvert_exporter": "python",
   "pygments_lexer": "ipython3",
   "version": "3.11.11"
  }
 },
 "nbformat": 4,
 "nbformat_minor": 5
}
