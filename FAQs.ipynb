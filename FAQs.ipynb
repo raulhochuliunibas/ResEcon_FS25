{
 "cells": [
  {
   "cell_type": "markdown",
   "metadata": {},
   "source": [
    "# Frequently Asked Questions - Exercises Sessions Resource Economics (2025)\n",
    "\n",
    "**Raul Hochuli***: [raul.hochuli@unibas.ch](mailto:raul.hochuli@unibas.ch)\\\n",
    "**Github Repo** (https://github.com/raulhochuliunibas/ResEcon_FS25)"
   ]
  },
  {
   "cell_type": "markdown",
   "metadata": {},
   "source": [
    "\n",
    "### How to get started with Python\n",
    "There various programms and consoles that use python which have different levels of \"user-friendlyness\". \n",
    "- *Beginner:* Make a Google account and use your webbrowser to go to your GoogleDrive. There you can upload notebooks (ipynb files) or create a new Jupyter notebook using [GoogleColab](https://www.youtube.com/watch?v=gfK2LpkUKac). No furhter package installation or other cumbersome setups necessary. (This is absolutely sufficient for what we are doing (at the beginning of the course)).\n",
    "\n",
    "- *Medium:* Download [Anaconda Navigator](https://docs.anaconda.com/navigator/), a distribution software which comes with Python and a host of different IDEs. User Jupyter notebooks for opening ipynb files. Note that you might have to install certain packages yourself in the Anaconda prompt (within the Navigator) which are not part of the standard setup. \n",
    "\n",
    "- *Advanced:* Use a more powerful IDE like PyCharm or VS Code. There you will have to also install your own packages and also define the Python interpreter. More work to setup, more powerful extensions to use. Some students might already work in such an environment, that's perfectly fine of course. \n",
    "\n"
   ]
  }
 ],
 "metadata": {
  "language_info": {
   "name": "python"
  }
 },
 "nbformat": 4,
 "nbformat_minor": 2
}
