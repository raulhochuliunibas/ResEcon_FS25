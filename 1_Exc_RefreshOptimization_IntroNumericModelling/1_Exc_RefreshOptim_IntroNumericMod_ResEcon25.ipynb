{
 "cells": [
  {
   "cell_type": "markdown",
   "id": "0911cc49",
   "metadata": {},
   "source": [
    "# Refreshing Optimization + Introduction Numeric Modelling\n",
    "**Exercise Session Resource Economics (Spring Term 2024)** \\\n",
    "Raul Hochuli (raul.hochuli@unibas.ch)\n"
   ]
  },
  {
   "cell_type": "code",
   "execution_count": 10,
   "id": "8116ba12",
   "metadata": {},
   "outputs": [],
   "source": [
    "# Packages used in the notebook\n",
    "import numpy as np\n",
    "import pandas as pd\n",
    "import plotly.graph_objects as go\n",
    "import scipy.optimize as opt"
   ]
  },
  {
   "cell_type": "markdown",
   "id": "b626036e",
   "metadata": {},
   "source": [
    "## Refreshing Optimization"
   ]
  },
  {
   "cell_type": "markdown",
   "id": "6337ebd2",
   "metadata": {},
   "source": [
    "Before starting with  numerical optimizations, we first need to get a understanding of how to handle functions in software. As we (should) know, 2D-functions are ”well-behaved” if they are uniquely defined over both x and y-axis. In short, a function f(x) assigns each continuous x-value a unique corresponding y-value. Simply put, this means the function has no kinks, steps or breaks. Now Python is not specifically built to calculate or visualize functions. WolframAlpha or GeoGebra for example are much more usefull tools fort that (which can also derive equation for example). \n",
    "\n",
    "But because economics courses (and this one as well) consider *discrete* steps (e.g. yearly steps as x values), Python's array based setup is enough for our purposes. We now try to understand how to link pen and paper calculations to this versatile software. The main point of using *discrete* functions is illustrated in the code example below. "
   ]
  },
  {
   "cell_type": "markdown",
   "id": "ab118039",
   "metadata": {},
   "source": [
    "**1a)**\\\n",
    "Here we plot a graph for the function $f(x) = 2+ x - 0.05x^2$ for the range of $-5 < x < 25$. See how the stepsize in $x$ changes the garnularity in $y$. "
   ]
  },
  {
   "cell_type": "code",
   "execution_count": 24,
   "id": "4efd400d",
   "metadata": {},
   "outputs": [],
   "source": [
    "# ..."
   ]
  },
  {
   "cell_type": "markdown",
   "id": "4887c362",
   "metadata": {},
   "source": [
    "**1b)**\\\n",
    "For another example, you can also use your own knowledge on function derivations to define the derivatives but let Python do the job of finding minima or maxima in your function. For this, take $f(x) = (x+2)(x-1.5)(x+0.75)$ and build a data frame with columns $x$, $f(x)$, $f'(x)$ and $f''(x)$ using a range of $x$ values between -2 and 2 (choosing your own step size). Find the approximate values for $x$ where the function $f(x)$ has a minimum or maximum. "
   ]
  },
  {
   "cell_type": "code",
   "execution_count": 25,
   "id": "ec62cabe",
   "metadata": {},
   "outputs": [],
   "source": [
    "# ..."
   ]
  },
  {
   "cell_type": "markdown",
   "id": "7c231a78",
   "metadata": {},
   "source": [
    "## Introduction Numeric Modelling"
   ]
  },
  {
   "cell_type": "markdown",
   "id": "dd597204",
   "metadata": {},
   "source": [
    "### 2 Optimal Depletion Problem\n",
    "Let's consider a cobalt mine \"RareMin\". The mine operator wants to maximize the net benefits by extracting $q_t$ units of cobalt from the total resource availability of $R_0$ units in the mine over $T$ years ($T = 0, ...,t,... T$), where $T$ is the last year with a positive extraction. The benefit function is given as $\\pi_t$ and discount rate as $r$. Assume that all costs of extraction are already included in $\\pi$ and any reserves at the end of the period will have a value of zero. \n",
    "\\begin{align*}\n",
    "    \\pi_t = ln(1+q_t); \\quad  R_t - q_{t} = R_{t+1}; \\quad \\sum_0^{T} q_t = R_0; \\quad \\rho^t = \\frac{1}{(1+r)^t}\n",
    "\\end{align*}\n"
   ]
  },
  {
   "cell_type": "markdown",
   "id": "044d504c",
   "metadata": {},
   "source": [
    "**2a)**\\\n",
    " Before we dive into how we can solve this question, first take a moment to analyze the different aspects of the problem. How are the individual components defined and what's their range? Use the table below to define all the optimization problem's components.\n",
    "\n",
    "| **Description**        | **Variable**   | **Range**                  |\n",
    "|------------------------|----------------|----------------------------|\n",
    "| Time Indicator / Set   |                |                            |\n",
    "| Parameter              |                |                            |\n",
    "| Decision variable      |                |                            |\n",
    "| State variable         |                |                            |\n",
    "|-                       |-               |-                            |\n",
    "| Objective function     |                |                            |\n",
    "| Constraints            |                |                            |\n",
    "\n",
    "\n"
   ]
  },
  {
   "cell_type": "markdown",
   "id": "62d3ca40",
   "metadata": {},
   "source": [
    "**2b)**\\\n",
    "Now, build an optimization model using [https://scipy.org/](https://scipy.org/) to find the optimal depletion schedule for $q_t$ over $T = 10$ years, with $r = 5\\%$ and $R_0 = 100$. Start by\n",
    "- First defining the set and parameters, \n",
    "- Next, use a function to define state variables\n",
    "- Define the objective function (as it's own function), the array for the decision variable(s) and the decison variable's bounds. \n",
    "- Set the constraints of the model (using functions) \n",
    "- Run the optimization model and extract the results\n",
    "\n",
    "What is the sum of all extracted material $\\sum(q_t)$ and what is the net present value of the profit over the entire extraction period $\\sum_{t=0}^{T} \\pi_t  \\rho_t$?"
   ]
  },
  {
   "cell_type": "code",
   "execution_count": 26,
   "id": "2318550e",
   "metadata": {},
   "outputs": [],
   "source": [
    "# ..."
   ]
  },
  {
   "cell_type": "markdown",
   "id": "85b1f763",
   "metadata": {},
   "source": [
    "**2c)**\\\n",
    "Now imagine that in each period, the mine operator can only extract $q_t^{max} = 8$. How can you adjust your model to satisfy this requirement? How did the extraction path change? Are all constraint met?"
   ]
  },
  {
   "cell_type": "code",
   "execution_count": 27,
   "id": "ac951b63",
   "metadata": {},
   "outputs": [],
   "source": [
    "# ..."
   ]
  },
  {
   "cell_type": "markdown",
   "id": "33759809",
   "metadata": {},
   "source": [
    "**2d)**\\\n",
    "The local government asks the mine operator to choose a extraction schedule that after $T=10$ years, there are still 27 units of cobalt left in the mine (with no annual extraction limit from before). How can you adjust your model to the requirements?"
   ]
  },
  {
   "cell_type": "code",
   "execution_count": 28,
   "id": "e0dbd74b",
   "metadata": {},
   "outputs": [],
   "source": [
    "# ..."
   ]
  },
  {
   "cell_type": "markdown",
   "id": "1cafdf34",
   "metadata": {},
   "source": [
    "**2e)**\\\n",
    "A colleague of yours has also been working on the same project came up with an identical model, but added an additional constraint, making sure the quantity of extraction $q_t$ does not exceed the total amount of available reserves $R_0$. \n",
    "```\n",
    "def c_max_extr_pperiod(i_q):\n",
    "    R = f_R(i_q)\n",
    "    return R - i_q\n",
    "```\n",
    "\n",
    "You would assume this constraint is no-binding anyway given your model setup and adding it to the model will not change the extraction schedule for $q_t$. Is that correct?"
   ]
  },
  {
   "cell_type": "code",
   "execution_count": 29,
   "id": "17b647d5",
   "metadata": {},
   "outputs": [],
   "source": [
    "# ..."
   ]
  },
  {
   "cell_type": "markdown",
   "id": "e48f0578",
   "metadata": {},
   "source": [
    "### 3 Bond Example from Refreshing Optimization \n",
    "\n",
    "In the first part of the Exercise Refreshing Optimization, I introduced a example of a familiar bond calculation (at least for business and econ students). Remember this is the structure of the bond: nominal value $n$, coupon $c%$, interest rate $r$ and a maturity $T$. The present value is given as \n",
    "$$\n",
    "        PV = \\sum_{t=0}^{T-1} \\frac{c}{(1+r)^t} + \\frac{c+N}{(1+r)^T} \n",
    "$$\n"
   ]
  },
  {
   "cell_type": "markdown",
   "id": "41807754",
   "metadata": {},
   "source": [
    "**3a)**\\\n",
    "The bond with features $n = 20000, c = 3.25\\%, T = 10$ is priced at $PV = 18305.1$. Calculate the interest rate / yield for this bond. "
   ]
  },
  {
   "cell_type": "code",
   "execution_count": 30,
   "id": "e8844791",
   "metadata": {},
   "outputs": [],
   "source": [
    "# ..."
   ]
  },
  {
   "cell_type": "markdown",
   "id": "95ff2638",
   "metadata": {},
   "source": [
    "### 4) Optimal Depletion Problem (using Pyomo)"
   ]
  },
  {
   "cell_type": "markdown",
   "id": "dd5e9817",
   "metadata": {},
   "source": [
    "So far, we have only used *scipiy.optimize* to run our small optimization models. However there are a large number of other packages and methods out there (also in Python) that you can use. Just to show you also another way, have a look at the solutions for the optimal depletion probelm for task 1, this time using [Pyomo](http://www.pyomo.org/). Here is a short [youtube-tutorial](https://www.youtube.com/watch?v=pxCogCylmKs) which uses Gurobi (a different solver engine). I suggest using ipopt as a solver in the exercise instead of gurobi. \n",
    "Especially in the beginning, Pyomo can appear more strucutred and following the definition of optimization components set at the very beginning (parameters, state variables, decision variables etc.). Before you start modelling, make sure you have\n",
    "- run the cell below (enabling ipopt as a solver).\n",
    "- installed pyomo as a package (maybe not necessary and package directly callable on GoogleColab)\n"
   ]
  },
  {
   "cell_type": "code",
   "execution_count": null,
   "id": "b0e0bd22",
   "metadata": {},
   "outputs": [
    {
     "name": "stderr",
     "output_type": "stream",
     "text": [
      "UsageError: Line magic function `%%capture` not found.\n"
     ]
    }
   ],
   "source": [
    "# ENABLE SOLVERS ON GOOGLE COLAB\n",
    "# > to be able to run the optimization problems on Google Colab, make sure you run this cell first. This enables the use of the ipopt solver, later applied by the pyomo package.\n",
    "%%capture\n",
    "import sys\n",
    "import os\n",
    "\n",
    "if 'google.colab' in sys.modules:\n",
    "    !pip install idaes-pse --pre\n",
    "    !idaes get-extensions --to ./bin \n",
    "    os.environ['PATH'] += ':bin'"
   ]
  },
  {
   "cell_type": "markdown",
   "id": "2a3e8ace",
   "metadata": {},
   "source": [
    "**4b)**\\\n",
    "Rebuild 2b) using pyomo"
   ]
  },
  {
   "cell_type": "code",
   "execution_count": 31,
   "id": "63b30e32",
   "metadata": {},
   "outputs": [],
   "source": [
    "# ..."
   ]
  },
  {
   "cell_type": "markdown",
   "id": "a7ff9c9d",
   "metadata": {},
   "source": [
    "**4c)**\\\n",
    "Rebuild 2c) using pyomo"
   ]
  },
  {
   "cell_type": "code",
   "execution_count": 32,
   "id": "d20d2806",
   "metadata": {},
   "outputs": [],
   "source": [
    "# ..."
   ]
  },
  {
   "cell_type": "markdown",
   "id": "e0fd98d5",
   "metadata": {},
   "source": [
    "**4d)**\\\n",
    "Rebuild 2d) using pyomo"
   ]
  },
  {
   "cell_type": "code",
   "execution_count": 33,
   "id": "97e67709",
   "metadata": {},
   "outputs": [],
   "source": [
    "# ..."
   ]
  },
  {
   "cell_type": "markdown",
   "id": "d1040569",
   "metadata": {},
   "source": []
  }
 ],
 "metadata": {
  "kernelspec": {
   "display_name": ".venv_resecon_master",
   "language": "python",
   "name": "python3"
  },
  "language_info": {
   "codemirror_mode": {
    "name": "ipython",
    "version": 3
   },
   "file_extension": ".py",
   "mimetype": "text/x-python",
   "name": "python",
   "nbconvert_exporter": "python",
   "pygments_lexer": "ipython3",
   "version": "3.11.11"
  }
 },
 "nbformat": 4,
 "nbformat_minor": 5
}
