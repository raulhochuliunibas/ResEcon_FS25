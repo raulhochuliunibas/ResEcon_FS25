{
 "cells": [
  {
   "cell_type": "markdown",
   "id": "0911cc49",
   "metadata": {},
   "source": [
    "# Refreshing Optimization + Introduction Numeric Modelling\n",
    "**Exercise Session Resource Economics (Spring Term 2025)** \\\n",
    "Raul Hochuli (raul.hochuli@unibas.ch)\\\n",
    "Github Repo (https://github.com/raulhochuliunibas/ResEcon_FS25)"
   ]
  },
  {
   "cell_type": "code",
   "execution_count": 2,
   "id": "8116ba12",
   "metadata": {},
   "outputs": [],
   "source": [
    "# Packages used in the notebook\n",
    "import numpy as np\n",
    "import pandas as pd\n",
    "import plotly.graph_objects as go\n",
    "import scipy.optimize as opt"
   ]
  },
  {
   "cell_type": "markdown",
   "id": "7e3621a3",
   "metadata": {},
   "source": [
    "## Getting Python\n",
    "\n",
    "For those of you, who are new to Python, Python is a language which you can use in verious different \"programs\" / consoles, which are also called IDEs (integrated development environment). Hence there are a number of ways, how to get python running on your system. \n",
    "The easiest would most certainly be GoogleColab (basically no prior installments necessary). A slightly more advanced option would be downloading the [Anaconda Navigator](https://docs.anaconda.com/navigator/) which comes with Python and use a IDE that availble there. "
   ]
  },
  {
   "cell_type": "markdown",
   "id": "b626036e",
   "metadata": {},
   "source": [
    "## Refreshing Optimization"
   ]
  },
  {
   "cell_type": "markdown",
   "id": "6337ebd2",
   "metadata": {},
   "source": [
    "Before starting with  numerical optimizations, we first need to get a understanding of how to handle functions in software. As we (should) know, 2D-functions are ”well-behaved” if they are uniquely defined over both x and y-axis. In short, a function f(x) assigns each continuous x-value a unique corresponding y-value. Simply put, this means the function has no kinks, steps or breaks. Now Python is not specifically built to calculate or visualize functions. WolframAlpha or GeoGebra for example are much more usefull tools fort that (which can also derive equation for example). \n",
    "\n",
    "But because economics courses (and this one as well) consider *discrete* steps (e.g. yearly steps as x values), Python's array based setup is enough for our purposes. We now try to understand how to link pen and paper calculations to this versatile software. The main point of using *discrete* functions is illustrated in the code example below. "
   ]
  },
  {
   "cell_type": "markdown",
   "id": "ab118039",
   "metadata": {},
   "source": [
    "**1a)**\\\n",
    "Here we plot a graph for the function $f(x) = 2+ x - 0.05x^2$ for the range of $-5 < x < 25$. See how the stepsize in $x$ changes the garnularity in $y$. "
   ]
  },
  {
   "cell_type": "code",
   "execution_count": 3,
   "id": "4efd400d",
   "metadata": {},
   "outputs": [
    {
     "data": {
      "application/vnd.plotly.v1+json": {
       "config": {
        "plotlyServerURL": "https://plot.ly"
       },
       "data": [
        {
         "mode": "lines",
         "name": "stepsize 7.5",
         "type": "scatter",
         "x": [
          -5,
          2.5,
          10,
          17.5
         ],
         "y": [
          -4.25,
          4.1875,
          7,
          4.1875
         ]
        },
        {
         "mode": "lines",
         "name": "stepsize 3",
         "type": "scatter",
         "x": [
          -5,
          -2,
          1,
          4,
          7,
          10,
          13,
          16,
          19,
          22
         ],
         "y": [
          -4.25,
          -0.2,
          2.95,
          5.2,
          6.55,
          7,
          6.549999999999999,
          5.199999999999999,
          2.9499999999999993,
          -0.20000000000000284
         ]
        },
        {
         "mode": "lines",
         "name": "stepsize 0.25",
         "type": "scatter",
         "x": [
          -5,
          -4.75,
          -4.5,
          -4.25,
          -4,
          -3.75,
          -3.5,
          -3.25,
          -3,
          -2.75,
          -2.5,
          -2.25,
          -2,
          -1.75,
          -1.5,
          -1.25,
          -1,
          -0.75,
          -0.5,
          -0.25,
          0,
          0.25,
          0.5,
          0.75,
          1,
          1.25,
          1.5,
          1.75,
          2,
          2.25,
          2.5,
          2.75,
          3,
          3.25,
          3.5,
          3.75,
          4,
          4.25,
          4.5,
          4.75,
          5,
          5.25,
          5.5,
          5.75,
          6,
          6.25,
          6.5,
          6.75,
          7,
          7.25,
          7.5,
          7.75,
          8,
          8.25,
          8.5,
          8.75,
          9,
          9.25,
          9.5,
          9.75,
          10,
          10.25,
          10.5,
          10.75,
          11,
          11.25,
          11.5,
          11.75,
          12,
          12.25,
          12.5,
          12.75,
          13,
          13.25,
          13.5,
          13.75,
          14,
          14.25,
          14.5,
          14.75,
          15,
          15.25,
          15.5,
          15.75,
          16,
          16.25,
          16.5,
          16.75,
          17,
          17.25,
          17.5,
          17.75,
          18,
          18.25,
          18.5,
          18.75,
          19,
          19.25,
          19.5,
          19.75,
          20,
          20.25,
          20.5,
          20.75,
          21,
          21.25,
          21.5,
          21.75,
          22,
          22.25,
          22.5,
          22.75,
          23,
          23.25,
          23.5,
          23.75,
          24,
          24.25,
          24.5,
          24.75
         ],
         "y": [
          -4.25,
          -3.878125,
          -3.5125,
          -3.153125,
          -2.8,
          -2.453125,
          -2.1125,
          -1.7781250000000002,
          -1.45,
          -1.128125,
          -0.8125,
          -0.503125,
          -0.2,
          0.09687499999999999,
          0.3875,
          0.671875,
          0.95,
          1.221875,
          1.4875,
          1.746875,
          2,
          2.246875,
          2.4875,
          2.721875,
          2.95,
          3.171875,
          3.3875,
          3.596875,
          3.8,
          3.996875,
          4.1875,
          4.371875,
          4.55,
          4.721875,
          4.8875,
          5.046875,
          5.2,
          5.346875,
          5.4875,
          5.621875,
          5.75,
          5.871875,
          5.9875,
          6.096875,
          6.2,
          6.296875,
          6.387499999999999,
          6.471875,
          6.55,
          6.621874999999999,
          6.6875,
          6.746874999999999,
          6.8,
          6.846875,
          6.887499999999999,
          6.921875,
          6.95,
          6.971875,
          6.9875,
          6.996875,
          7,
          6.996874999999999,
          6.9875,
          6.971875,
          6.949999999999999,
          6.921875,
          6.887499999999999,
          6.846875,
          6.8,
          6.746874999999999,
          6.6875,
          6.621874999999999,
          6.549999999999999,
          6.471874999999999,
          6.387499999999999,
          6.296875,
          6.199999999999999,
          6.096874999999999,
          5.987499999999999,
          5.871874999999999,
          5.75,
          5.621874999999999,
          5.487499999999999,
          5.346874999999999,
          5.199999999999999,
          5.046875,
          4.887499999999999,
          4.721874999999999,
          4.549999999999999,
          4.371874999999999,
          4.1875,
          3.9968749999999993,
          3.8000000000000007,
          3.5968750000000007,
          3.3874999999999993,
          3.171875,
          2.9499999999999993,
          2.7218750000000007,
          2.4875000000000007,
          2.2468749999999993,
          2,
          1.7468749999999993,
          1.4874999999999972,
          1.2218749999999972,
          0.9499999999999993,
          0.671875,
          0.3874999999999993,
          0.09687499999999716,
          -0.20000000000000284,
          -0.5031250000000007,
          -0.8125,
          -1.1281250000000007,
          -1.4500000000000028,
          -1.7781250000000028,
          -2.1125000000000007,
          -2.453125,
          -2.8000000000000007,
          -3.153125000000003,
          -3.512500000000003,
          -3.8781250000000007
         ]
        }
       ],
       "layout": {
        "template": {
         "data": {
          "bar": [
           {
            "error_x": {
             "color": "#2a3f5f"
            },
            "error_y": {
             "color": "#2a3f5f"
            },
            "marker": {
             "line": {
              "color": "white",
              "width": 0.5
             },
             "pattern": {
              "fillmode": "overlay",
              "size": 10,
              "solidity": 0.2
             }
            },
            "type": "bar"
           }
          ],
          "barpolar": [
           {
            "marker": {
             "line": {
              "color": "white",
              "width": 0.5
             },
             "pattern": {
              "fillmode": "overlay",
              "size": 10,
              "solidity": 0.2
             }
            },
            "type": "barpolar"
           }
          ],
          "carpet": [
           {
            "aaxis": {
             "endlinecolor": "#2a3f5f",
             "gridcolor": "#C8D4E3",
             "linecolor": "#C8D4E3",
             "minorgridcolor": "#C8D4E3",
             "startlinecolor": "#2a3f5f"
            },
            "baxis": {
             "endlinecolor": "#2a3f5f",
             "gridcolor": "#C8D4E3",
             "linecolor": "#C8D4E3",
             "minorgridcolor": "#C8D4E3",
             "startlinecolor": "#2a3f5f"
            },
            "type": "carpet"
           }
          ],
          "choropleth": [
           {
            "colorbar": {
             "outlinewidth": 0,
             "ticks": ""
            },
            "type": "choropleth"
           }
          ],
          "contour": [
           {
            "colorbar": {
             "outlinewidth": 0,
             "ticks": ""
            },
            "colorscale": [
             [
              0,
              "#0d0887"
             ],
             [
              0.1111111111111111,
              "#46039f"
             ],
             [
              0.2222222222222222,
              "#7201a8"
             ],
             [
              0.3333333333333333,
              "#9c179e"
             ],
             [
              0.4444444444444444,
              "#bd3786"
             ],
             [
              0.5555555555555556,
              "#d8576b"
             ],
             [
              0.6666666666666666,
              "#ed7953"
             ],
             [
              0.7777777777777778,
              "#fb9f3a"
             ],
             [
              0.8888888888888888,
              "#fdca26"
             ],
             [
              1,
              "#f0f921"
             ]
            ],
            "type": "contour"
           }
          ],
          "contourcarpet": [
           {
            "colorbar": {
             "outlinewidth": 0,
             "ticks": ""
            },
            "type": "contourcarpet"
           }
          ],
          "heatmap": [
           {
            "colorbar": {
             "outlinewidth": 0,
             "ticks": ""
            },
            "colorscale": [
             [
              0,
              "#0d0887"
             ],
             [
              0.1111111111111111,
              "#46039f"
             ],
             [
              0.2222222222222222,
              "#7201a8"
             ],
             [
              0.3333333333333333,
              "#9c179e"
             ],
             [
              0.4444444444444444,
              "#bd3786"
             ],
             [
              0.5555555555555556,
              "#d8576b"
             ],
             [
              0.6666666666666666,
              "#ed7953"
             ],
             [
              0.7777777777777778,
              "#fb9f3a"
             ],
             [
              0.8888888888888888,
              "#fdca26"
             ],
             [
              1,
              "#f0f921"
             ]
            ],
            "type": "heatmap"
           }
          ],
          "heatmapgl": [
           {
            "colorbar": {
             "outlinewidth": 0,
             "ticks": ""
            },
            "colorscale": [
             [
              0,
              "#0d0887"
             ],
             [
              0.1111111111111111,
              "#46039f"
             ],
             [
              0.2222222222222222,
              "#7201a8"
             ],
             [
              0.3333333333333333,
              "#9c179e"
             ],
             [
              0.4444444444444444,
              "#bd3786"
             ],
             [
              0.5555555555555556,
              "#d8576b"
             ],
             [
              0.6666666666666666,
              "#ed7953"
             ],
             [
              0.7777777777777778,
              "#fb9f3a"
             ],
             [
              0.8888888888888888,
              "#fdca26"
             ],
             [
              1,
              "#f0f921"
             ]
            ],
            "type": "heatmapgl"
           }
          ],
          "histogram": [
           {
            "marker": {
             "pattern": {
              "fillmode": "overlay",
              "size": 10,
              "solidity": 0.2
             }
            },
            "type": "histogram"
           }
          ],
          "histogram2d": [
           {
            "colorbar": {
             "outlinewidth": 0,
             "ticks": ""
            },
            "colorscale": [
             [
              0,
              "#0d0887"
             ],
             [
              0.1111111111111111,
              "#46039f"
             ],
             [
              0.2222222222222222,
              "#7201a8"
             ],
             [
              0.3333333333333333,
              "#9c179e"
             ],
             [
              0.4444444444444444,
              "#bd3786"
             ],
             [
              0.5555555555555556,
              "#d8576b"
             ],
             [
              0.6666666666666666,
              "#ed7953"
             ],
             [
              0.7777777777777778,
              "#fb9f3a"
             ],
             [
              0.8888888888888888,
              "#fdca26"
             ],
             [
              1,
              "#f0f921"
             ]
            ],
            "type": "histogram2d"
           }
          ],
          "histogram2dcontour": [
           {
            "colorbar": {
             "outlinewidth": 0,
             "ticks": ""
            },
            "colorscale": [
             [
              0,
              "#0d0887"
             ],
             [
              0.1111111111111111,
              "#46039f"
             ],
             [
              0.2222222222222222,
              "#7201a8"
             ],
             [
              0.3333333333333333,
              "#9c179e"
             ],
             [
              0.4444444444444444,
              "#bd3786"
             ],
             [
              0.5555555555555556,
              "#d8576b"
             ],
             [
              0.6666666666666666,
              "#ed7953"
             ],
             [
              0.7777777777777778,
              "#fb9f3a"
             ],
             [
              0.8888888888888888,
              "#fdca26"
             ],
             [
              1,
              "#f0f921"
             ]
            ],
            "type": "histogram2dcontour"
           }
          ],
          "mesh3d": [
           {
            "colorbar": {
             "outlinewidth": 0,
             "ticks": ""
            },
            "type": "mesh3d"
           }
          ],
          "parcoords": [
           {
            "line": {
             "colorbar": {
              "outlinewidth": 0,
              "ticks": ""
             }
            },
            "type": "parcoords"
           }
          ],
          "pie": [
           {
            "automargin": true,
            "type": "pie"
           }
          ],
          "scatter": [
           {
            "fillpattern": {
             "fillmode": "overlay",
             "size": 10,
             "solidity": 0.2
            },
            "type": "scatter"
           }
          ],
          "scatter3d": [
           {
            "line": {
             "colorbar": {
              "outlinewidth": 0,
              "ticks": ""
             }
            },
            "marker": {
             "colorbar": {
              "outlinewidth": 0,
              "ticks": ""
             }
            },
            "type": "scatter3d"
           }
          ],
          "scattercarpet": [
           {
            "marker": {
             "colorbar": {
              "outlinewidth": 0,
              "ticks": ""
             }
            },
            "type": "scattercarpet"
           }
          ],
          "scattergeo": [
           {
            "marker": {
             "colorbar": {
              "outlinewidth": 0,
              "ticks": ""
             }
            },
            "type": "scattergeo"
           }
          ],
          "scattergl": [
           {
            "marker": {
             "colorbar": {
              "outlinewidth": 0,
              "ticks": ""
             }
            },
            "type": "scattergl"
           }
          ],
          "scattermapbox": [
           {
            "marker": {
             "colorbar": {
              "outlinewidth": 0,
              "ticks": ""
             }
            },
            "type": "scattermapbox"
           }
          ],
          "scatterpolar": [
           {
            "marker": {
             "colorbar": {
              "outlinewidth": 0,
              "ticks": ""
             }
            },
            "type": "scatterpolar"
           }
          ],
          "scatterpolargl": [
           {
            "marker": {
             "colorbar": {
              "outlinewidth": 0,
              "ticks": ""
             }
            },
            "type": "scatterpolargl"
           }
          ],
          "scatterternary": [
           {
            "marker": {
             "colorbar": {
              "outlinewidth": 0,
              "ticks": ""
             }
            },
            "type": "scatterternary"
           }
          ],
          "surface": [
           {
            "colorbar": {
             "outlinewidth": 0,
             "ticks": ""
            },
            "colorscale": [
             [
              0,
              "#0d0887"
             ],
             [
              0.1111111111111111,
              "#46039f"
             ],
             [
              0.2222222222222222,
              "#7201a8"
             ],
             [
              0.3333333333333333,
              "#9c179e"
             ],
             [
              0.4444444444444444,
              "#bd3786"
             ],
             [
              0.5555555555555556,
              "#d8576b"
             ],
             [
              0.6666666666666666,
              "#ed7953"
             ],
             [
              0.7777777777777778,
              "#fb9f3a"
             ],
             [
              0.8888888888888888,
              "#fdca26"
             ],
             [
              1,
              "#f0f921"
             ]
            ],
            "type": "surface"
           }
          ],
          "table": [
           {
            "cells": {
             "fill": {
              "color": "#EBF0F8"
             },
             "line": {
              "color": "white"
             }
            },
            "header": {
             "fill": {
              "color": "#C8D4E3"
             },
             "line": {
              "color": "white"
             }
            },
            "type": "table"
           }
          ]
         },
         "layout": {
          "annotationdefaults": {
           "arrowcolor": "#2a3f5f",
           "arrowhead": 0,
           "arrowwidth": 1
          },
          "autotypenumbers": "strict",
          "coloraxis": {
           "colorbar": {
            "outlinewidth": 0,
            "ticks": ""
           }
          },
          "colorscale": {
           "diverging": [
            [
             0,
             "#8e0152"
            ],
            [
             0.1,
             "#c51b7d"
            ],
            [
             0.2,
             "#de77ae"
            ],
            [
             0.3,
             "#f1b6da"
            ],
            [
             0.4,
             "#fde0ef"
            ],
            [
             0.5,
             "#f7f7f7"
            ],
            [
             0.6,
             "#e6f5d0"
            ],
            [
             0.7,
             "#b8e186"
            ],
            [
             0.8,
             "#7fbc41"
            ],
            [
             0.9,
             "#4d9221"
            ],
            [
             1,
             "#276419"
            ]
           ],
           "sequential": [
            [
             0,
             "#0d0887"
            ],
            [
             0.1111111111111111,
             "#46039f"
            ],
            [
             0.2222222222222222,
             "#7201a8"
            ],
            [
             0.3333333333333333,
             "#9c179e"
            ],
            [
             0.4444444444444444,
             "#bd3786"
            ],
            [
             0.5555555555555556,
             "#d8576b"
            ],
            [
             0.6666666666666666,
             "#ed7953"
            ],
            [
             0.7777777777777778,
             "#fb9f3a"
            ],
            [
             0.8888888888888888,
             "#fdca26"
            ],
            [
             1,
             "#f0f921"
            ]
           ],
           "sequentialminus": [
            [
             0,
             "#0d0887"
            ],
            [
             0.1111111111111111,
             "#46039f"
            ],
            [
             0.2222222222222222,
             "#7201a8"
            ],
            [
             0.3333333333333333,
             "#9c179e"
            ],
            [
             0.4444444444444444,
             "#bd3786"
            ],
            [
             0.5555555555555556,
             "#d8576b"
            ],
            [
             0.6666666666666666,
             "#ed7953"
            ],
            [
             0.7777777777777778,
             "#fb9f3a"
            ],
            [
             0.8888888888888888,
             "#fdca26"
            ],
            [
             1,
             "#f0f921"
            ]
           ]
          },
          "colorway": [
           "#636efa",
           "#EF553B",
           "#00cc96",
           "#ab63fa",
           "#FFA15A",
           "#19d3f3",
           "#FF6692",
           "#B6E880",
           "#FF97FF",
           "#FECB52"
          ],
          "font": {
           "color": "#2a3f5f"
          },
          "geo": {
           "bgcolor": "white",
           "lakecolor": "white",
           "landcolor": "white",
           "showlakes": true,
           "showland": true,
           "subunitcolor": "#C8D4E3"
          },
          "hoverlabel": {
           "align": "left"
          },
          "hovermode": "closest",
          "mapbox": {
           "style": "light"
          },
          "paper_bgcolor": "white",
          "plot_bgcolor": "white",
          "polar": {
           "angularaxis": {
            "gridcolor": "#EBF0F8",
            "linecolor": "#EBF0F8",
            "ticks": ""
           },
           "bgcolor": "white",
           "radialaxis": {
            "gridcolor": "#EBF0F8",
            "linecolor": "#EBF0F8",
            "ticks": ""
           }
          },
          "scene": {
           "xaxis": {
            "backgroundcolor": "white",
            "gridcolor": "#DFE8F3",
            "gridwidth": 2,
            "linecolor": "#EBF0F8",
            "showbackground": true,
            "ticks": "",
            "zerolinecolor": "#EBF0F8"
           },
           "yaxis": {
            "backgroundcolor": "white",
            "gridcolor": "#DFE8F3",
            "gridwidth": 2,
            "linecolor": "#EBF0F8",
            "showbackground": true,
            "ticks": "",
            "zerolinecolor": "#EBF0F8"
           },
           "zaxis": {
            "backgroundcolor": "white",
            "gridcolor": "#DFE8F3",
            "gridwidth": 2,
            "linecolor": "#EBF0F8",
            "showbackground": true,
            "ticks": "",
            "zerolinecolor": "#EBF0F8"
           }
          },
          "shapedefaults": {
           "line": {
            "color": "#2a3f5f"
           }
          },
          "ternary": {
           "aaxis": {
            "gridcolor": "#DFE8F3",
            "linecolor": "#A2B1C6",
            "ticks": ""
           },
           "baxis": {
            "gridcolor": "#DFE8F3",
            "linecolor": "#A2B1C6",
            "ticks": ""
           },
           "bgcolor": "white",
           "caxis": {
            "gridcolor": "#DFE8F3",
            "linecolor": "#A2B1C6",
            "ticks": ""
           }
          },
          "title": {
           "x": 0.05
          },
          "xaxis": {
           "automargin": true,
           "gridcolor": "#EBF0F8",
           "linecolor": "#EBF0F8",
           "ticks": "",
           "title": {
            "standoff": 15
           },
           "zerolinecolor": "#EBF0F8",
           "zerolinewidth": 2
          },
          "yaxis": {
           "automargin": true,
           "gridcolor": "#EBF0F8",
           "linecolor": "#EBF0F8",
           "ticks": "",
           "title": {
            "standoff": 15
           },
           "zerolinecolor": "#EBF0F8",
           "zerolinewidth": 2
          }
         }
        },
        "title": {
         "text": "Stepsize comparison"
        },
        "xaxis": {
         "title": {
          "text": "x"
         }
        },
        "yaxis": {
         "title": {
          "text": "f(x)"
         }
        }
       }
      }
     },
     "metadata": {},
     "output_type": "display_data"
    }
   ],
   "source": [
    "# choose your stepsize\n",
    "stepsize = 3\n",
    "\n",
    "# define function\n",
    "def f(x): \n",
    "    return 2+ x - 0.05*(x**2)\n",
    "\n",
    "# create x values\n",
    "x_75 = np.arange(-5, 25, 7.5)\n",
    "x_step = np.arange(-5, 25, stepsize)\n",
    "x_025 = np.arange(-5, 25, 0.25)\n",
    "\n",
    "# create y values\n",
    "y_75 = f(x_75)\n",
    "y_step = f(x_step)\n",
    "y_025 = f(x_025)\n",
    "\n",
    "# create plot\n",
    "select_mode = 'lines'  #'lines+markers' \n",
    "fig = go.Figure()\n",
    "fig.add_trace(go.Scatter(x=x_75, y=y_75, mode=select_mode, name='stepsize 7.5'))\n",
    "fig.add_trace(go.Scatter(x=x_step, y=y_step, mode=select_mode, name=f'stepsize {stepsize}'))\n",
    "fig.add_trace(go.Scatter(x=x_025, y=y_025, mode=select_mode, name='stepsize 0.25'))\n",
    "fig.update_layout(title='Stepsize comparison', xaxis_title='x', yaxis_title='f(x)', template='plotly_white')\n",
    "\n",
    "fig.show()\n"
   ]
  },
  {
   "cell_type": "markdown",
   "id": "4887c362",
   "metadata": {},
   "source": [
    "**1b)**\\\n",
    "For another example, you can also use your own knowledge on function derivations to define the derivatives but let Python do the job of finding minima or maxima in your function. For this, take $f(x) = (x+2)(x-1.5)(x+0.75)$ and build a data frame with columns $x$, $f(x)$, $f'(x)$ and $f''(x)$ using a range of $x$ values between -2 and 2 (choosing your own step size). Find the approximate values for $x$ where the function $f(x)$ has a minimum or maximum. "
   ]
  },
  {
   "cell_type": "code",
   "execution_count": 4,
   "id": "ec62cabe",
   "metadata": {},
   "outputs": [
    {
     "name": "stdout",
     "output_type": "stream",
     "text": [
      "range for x where FOC = 0\n",
      "        x    f_base   f_foc  f_soc\n",
      "55  -1.45  1.135750  0.0575  -6.20\n",
      "56  -1.44  1.136016 -0.0042  -6.14\n",
      "260  0.60 -3.159000 -0.0450   6.10\n",
      "261  0.61 -3.159144  0.0163   6.16\n",
      "\n",
      "\n",
      "range for x where SOC = 0, \n",
      "        x    f_base   f_foc  f_soc\n",
      "158 -0.42 -1.001088 -3.1458  -0.02\n",
      "159 -0.41 -1.032546 -3.1457   0.04\n"
     ]
    },
    {
     "data": {
      "application/vnd.plotly.v1+json": {
       "config": {
        "plotlyServerURL": "https://plot.ly"
       },
       "data": [
        {
         "mode": "lines",
         "name": "f(x)",
         "type": "scatter",
         "x": [
          -2,
          -1.99,
          -1.98,
          -1.97,
          -1.96,
          -1.95,
          -1.94,
          -1.93,
          -1.92,
          -1.91,
          -1.9,
          -1.89,
          -1.88,
          -1.8699999999999999,
          -1.8599999999999999,
          -1.8499999999999999,
          -1.8399999999999999,
          -1.8299999999999998,
          -1.8199999999999998,
          -1.8099999999999998,
          -1.7999999999999998,
          -1.7899999999999998,
          -1.7799999999999998,
          -1.7699999999999998,
          -1.7599999999999998,
          -1.7499999999999998,
          -1.7399999999999998,
          -1.7299999999999998,
          -1.7199999999999998,
          -1.7099999999999997,
          -1.6999999999999997,
          -1.6899999999999997,
          -1.6799999999999997,
          -1.6699999999999997,
          -1.6599999999999997,
          -1.6499999999999997,
          -1.6399999999999997,
          -1.6299999999999997,
          -1.6199999999999997,
          -1.6099999999999997,
          -1.5999999999999996,
          -1.5899999999999996,
          -1.5799999999999996,
          -1.5699999999999996,
          -1.5599999999999996,
          -1.5499999999999996,
          -1.5399999999999996,
          -1.5299999999999996,
          -1.5199999999999996,
          -1.5099999999999996,
          -1.4999999999999996,
          -1.4899999999999995,
          -1.4799999999999995,
          -1.4699999999999995,
          -1.4599999999999995,
          -1.4499999999999995,
          -1.4399999999999995,
          -1.4299999999999995,
          -1.4199999999999995,
          -1.4099999999999995,
          -1.3999999999999995,
          -1.3899999999999995,
          -1.3799999999999994,
          -1.3699999999999994,
          -1.3599999999999994,
          -1.3499999999999994,
          -1.3399999999999994,
          -1.3299999999999994,
          -1.3199999999999994,
          -1.3099999999999994,
          -1.2999999999999994,
          -1.2899999999999994,
          -1.2799999999999994,
          -1.2699999999999994,
          -1.2599999999999993,
          -1.2499999999999993,
          -1.2399999999999993,
          -1.2299999999999993,
          -1.2199999999999993,
          -1.2099999999999993,
          -1.1999999999999993,
          -1.1899999999999993,
          -1.1799999999999993,
          -1.1699999999999993,
          -1.1599999999999993,
          -1.1499999999999992,
          -1.1399999999999992,
          -1.1299999999999992,
          -1.1199999999999992,
          -1.1099999999999992,
          -1.0999999999999992,
          -1.0899999999999992,
          -1.0799999999999992,
          -1.0699999999999992,
          -1.0599999999999992,
          -1.0499999999999992,
          -1.0399999999999991,
          -1.0299999999999991,
          -1.0199999999999991,
          -1.0099999999999991,
          -0.9999999999999991,
          -0.9899999999999991,
          -0.9799999999999991,
          -0.9699999999999991,
          -0.9599999999999991,
          -0.9499999999999991,
          -0.9399999999999991,
          -0.929999999999999,
          -0.919999999999999,
          -0.909999999999999,
          -0.899999999999999,
          -0.889999999999999,
          -0.879999999999999,
          -0.869999999999999,
          -0.859999999999999,
          -0.849999999999999,
          -0.839999999999999,
          -0.829999999999999,
          -0.819999999999999,
          -0.8099999999999989,
          -0.7999999999999989,
          -0.7899999999999989,
          -0.7799999999999989,
          -0.7699999999999989,
          -0.7599999999999989,
          -0.7499999999999989,
          -0.7399999999999989,
          -0.7299999999999989,
          -0.7199999999999989,
          -0.7099999999999989,
          -0.6999999999999988,
          -0.6899999999999988,
          -0.6799999999999988,
          -0.6699999999999988,
          -0.6599999999999988,
          -0.6499999999999988,
          -0.6399999999999988,
          -0.6299999999999988,
          -0.6199999999999988,
          -0.6099999999999988,
          -0.5999999999999988,
          -0.5899999999999987,
          -0.5799999999999987,
          -0.5699999999999987,
          -0.5599999999999987,
          -0.5499999999999987,
          -0.5399999999999987,
          -0.5299999999999987,
          -0.5199999999999987,
          -0.5099999999999987,
          -0.49999999999999867,
          -0.48999999999999866,
          -0.47999999999999865,
          -0.46999999999999864,
          -0.45999999999999863,
          -0.4499999999999986,
          -0.4399999999999986,
          -0.4299999999999986,
          -0.4199999999999986,
          -0.4099999999999986,
          -0.3999999999999986,
          -0.38999999999999857,
          -0.37999999999999856,
          -0.36999999999999855,
          -0.35999999999999854,
          -0.34999999999999853,
          -0.3399999999999985,
          -0.3299999999999985,
          -0.3199999999999985,
          -0.3099999999999985,
          -0.2999999999999985,
          -0.2899999999999985,
          -0.2799999999999985,
          -0.26999999999999846,
          -0.25999999999999845,
          -0.24999999999999845,
          -0.23999999999999844,
          -0.22999999999999843,
          -0.21999999999999842,
          -0.2099999999999984,
          -0.1999999999999984,
          -0.1899999999999984,
          -0.17999999999999838,
          -0.16999999999999837,
          -0.15999999999999837,
          -0.14999999999999836,
          -0.13999999999999835,
          -0.12999999999999834,
          -0.11999999999999833,
          -0.10999999999999832,
          -0.09999999999999831,
          -0.0899999999999983,
          -0.0799999999999983,
          -0.06999999999999829,
          -0.05999999999999828,
          -0.04999999999999827,
          -0.03999999999999826,
          -0.02999999999999825,
          -0.01999999999999824,
          -0.009999999999998233,
          1.7763568394002505e-15,
          0.010000000000001563,
          0.020000000000001794,
          0.030000000000002025,
          0.04000000000000181,
          0.0500000000000016,
          0.06000000000000183,
          0.07000000000000206,
          0.08000000000000185,
          0.09000000000000163,
          0.10000000000000187,
          0.1100000000000021,
          0.12000000000000188,
          0.13000000000000167,
          0.1400000000000019,
          0.15000000000000213,
          0.16000000000000192,
          0.1700000000000017,
          0.18000000000000194,
          0.19000000000000217,
          0.20000000000000195,
          0.21000000000000174,
          0.22000000000000197,
          0.2300000000000022,
          0.240000000000002,
          0.2500000000000018,
          0.260000000000002,
          0.27000000000000224,
          0.280000000000002,
          0.2900000000000018,
          0.30000000000000204,
          0.3100000000000023,
          0.32000000000000206,
          0.33000000000000185,
          0.3400000000000021,
          0.3500000000000023,
          0.3600000000000021,
          0.3700000000000019,
          0.3800000000000021,
          0.39000000000000234,
          0.40000000000000213,
          0.4100000000000019,
          0.42000000000000215,
          0.4300000000000024,
          0.44000000000000217,
          0.45000000000000195,
          0.4600000000000022,
          0.4700000000000024,
          0.4800000000000022,
          0.490000000000002,
          0.5000000000000022,
          0.5100000000000025,
          0.5200000000000022,
          0.530000000000002,
          0.5400000000000023,
          0.5500000000000025,
          0.5600000000000023,
          0.5700000000000021,
          0.5800000000000023,
          0.5900000000000025,
          0.6000000000000023,
          0.6100000000000021,
          0.6200000000000023,
          0.6300000000000026,
          0.6400000000000023,
          0.6500000000000021,
          0.6600000000000024,
          0.6700000000000026,
          0.6800000000000024,
          0.6900000000000022,
          0.7000000000000024,
          0.7100000000000026,
          0.7200000000000024,
          0.7300000000000022,
          0.7400000000000024,
          0.7500000000000027,
          0.7600000000000025,
          0.7700000000000022,
          0.7800000000000025,
          0.7900000000000027,
          0.8000000000000025,
          0.8100000000000023,
          0.8200000000000025,
          0.8300000000000027,
          0.8400000000000025,
          0.8500000000000023,
          0.8600000000000025,
          0.8700000000000028,
          0.8800000000000026,
          0.8900000000000023,
          0.9000000000000026,
          0.9100000000000028,
          0.9200000000000026,
          0.9300000000000024,
          0.9400000000000026,
          0.9500000000000028,
          0.9600000000000026,
          0.9700000000000024,
          0.9800000000000026,
          0.9900000000000029,
          1.0000000000000027,
          1.0100000000000025,
          1.0200000000000027,
          1.030000000000003,
          1.0400000000000027,
          1.0500000000000025,
          1.0600000000000027,
          1.070000000000003,
          1.0800000000000027,
          1.0900000000000025,
          1.1000000000000028,
          1.110000000000003,
          1.1200000000000028,
          1.1300000000000026,
          1.1400000000000028,
          1.150000000000003,
          1.1600000000000028,
          1.1700000000000026,
          1.1800000000000028,
          1.190000000000003,
          1.2000000000000028,
          1.2100000000000026,
          1.2200000000000029,
          1.230000000000003,
          1.2400000000000029,
          1.2500000000000027,
          1.260000000000003,
          1.2700000000000031,
          1.280000000000003,
          1.2900000000000027,
          1.300000000000003,
          1.3100000000000032,
          1.320000000000003,
          1.3300000000000027,
          1.340000000000003,
          1.3500000000000032,
          1.360000000000003,
          1.3700000000000028,
          1.380000000000003,
          1.3900000000000032,
          1.400000000000003,
          1.4100000000000028,
          1.420000000000003,
          1.4300000000000033,
          1.440000000000003,
          1.4500000000000028,
          1.460000000000003,
          1.4700000000000033,
          1.480000000000003,
          1.4900000000000029,
          1.500000000000003,
          1.5100000000000033,
          1.5200000000000031,
          1.530000000000003,
          1.5400000000000031,
          1.5500000000000034,
          1.5600000000000032,
          1.570000000000003,
          1.5800000000000032,
          1.5900000000000034,
          1.6000000000000032,
          1.610000000000003,
          1.6200000000000032,
          1.6300000000000034,
          1.6400000000000032,
          1.650000000000003,
          1.6600000000000033,
          1.6700000000000035,
          1.6800000000000033,
          1.690000000000003,
          1.7000000000000033,
          1.7100000000000035,
          1.7200000000000033,
          1.730000000000003,
          1.7400000000000033,
          1.7500000000000036,
          1.7600000000000033,
          1.7700000000000031,
          1.7800000000000034,
          1.7900000000000036,
          1.8000000000000034,
          1.8100000000000032,
          1.8200000000000034,
          1.8300000000000036,
          1.8400000000000034,
          1.8500000000000032,
          1.8600000000000034,
          1.8700000000000037,
          1.8800000000000034,
          1.8900000000000032,
          1.9000000000000035,
          1.9100000000000037,
          1.9200000000000035,
          1.9300000000000033,
          1.9400000000000035,
          1.9500000000000037,
          1.9600000000000035,
          1.9700000000000033,
          1.9800000000000035,
          1.9900000000000038
         ],
         "y": [
          0,
          0.043276000000000044,
          0.08560800000000007,
          0.1270020000000001,
          0.16746400000000017,
          0.20700000000000018,
          0.2456160000000002,
          0.28331800000000024,
          0.32011200000000023,
          0.3560040000000003,
          0.3910000000000003,
          0.4251060000000003,
          0.45832800000000035,
          0.4906720000000004,
          0.5221440000000004,
          0.5527500000000004,
          0.5824960000000003,
          0.6113880000000005,
          0.6394320000000004,
          0.6666340000000004,
          0.6930000000000005,
          0.7185360000000005,
          0.7432480000000005,
          0.7671420000000004,
          0.7902240000000005,
          0.8125000000000004,
          0.8339760000000005,
          0.8546580000000005,
          0.8745520000000004,
          0.8936640000000006,
          0.9120000000000005,
          0.9295660000000004,
          0.9463680000000004,
          0.9624120000000005,
          0.9777040000000005,
          0.9922500000000003,
          1.0060560000000005,
          1.0191280000000005,
          1.0314720000000004,
          1.0430940000000002,
          1.0540000000000003,
          1.0641960000000004,
          1.0736880000000004,
          1.0824820000000002,
          1.0905840000000002,
          1.0980000000000003,
          1.1047360000000002,
          1.1107980000000002,
          1.1161920000000003,
          1.1209240000000003,
          1.1250000000000002,
          1.1284260000000002,
          1.1312080000000002,
          1.1333520000000001,
          1.134864,
          1.1357499999999998,
          1.136016,
          1.135668,
          1.134712,
          1.1331539999999998,
          1.131,
          1.128256,
          1.1249279999999997,
          1.1210219999999997,
          1.1165439999999998,
          1.1114999999999997,
          1.1058959999999995,
          1.0997379999999997,
          1.0930319999999996,
          1.0857839999999996,
          1.0779999999999994,
          1.0696859999999995,
          1.0608479999999993,
          1.0514919999999994,
          1.0416239999999994,
          1.0312499999999993,
          1.020375999999999,
          1.0090079999999992,
          0.9971519999999992,
          0.984813999999999,
          0.9719999999999991,
          0.958715999999999,
          0.9449679999999989,
          0.9307619999999989,
          0.9161039999999988,
          0.900999999999999,
          0.8854559999999988,
          0.8694779999999988,
          0.8530719999999987,
          0.8362439999999988,
          0.8189999999999985,
          0.8013459999999986,
          0.7832879999999985,
          0.7648319999999985,
          0.7459839999999984,
          0.7267499999999983,
          0.7071359999999983,
          0.6871479999999983,
          0.6667919999999982,
          0.646073999999998,
          0.6249999999999981,
          0.6035759999999981,
          0.581807999999998,
          0.5597019999999979,
          0.5372639999999979,
          0.514499999999998,
          0.4914159999999978,
          0.46801799999999777,
          0.4443119999999977,
          0.4203039999999977,
          0.39599999999999763,
          0.37140599999999757,
          0.3465279999999975,
          0.3213719999999975,
          0.29594399999999743,
          0.2702499999999973,
          0.24429599999999732,
          0.21808799999999728,
          0.19163199999999722,
          0.16493399999999714,
          0.13799999999999712,
          0.11083599999999708,
          0.08344799999999701,
          0.05584199999999697,
          0.028023999999996926,
          -3.1225022567582543e-15,
          -0.028224000000003167,
          -0.05664200000000321,
          -0.08524800000000327,
          -0.11403600000000333,
          -0.14300000000000337,
          -0.1721340000000034,
          -0.20143200000000344,
          -0.2308880000000035,
          -0.26049600000000356,
          -0.29025000000000356,
          -0.32014400000000365,
          -0.3501720000000037,
          -0.3803280000000037,
          -0.4106060000000037,
          -0.4410000000000038,
          -0.47150400000000386,
          -0.5021120000000039,
          -0.5328180000000039,
          -0.5636160000000039,
          -0.594500000000004,
          -0.625464000000004,
          -0.6565020000000039,
          -0.6876080000000041,
          -0.7187760000000043,
          -0.7500000000000041,
          -0.7812740000000041,
          -0.8125920000000043,
          -0.8439480000000043,
          -0.8753360000000043,
          -0.9067500000000043,
          -0.9381840000000043,
          -0.9696320000000044,
          -1.0010880000000044,
          -1.0325460000000044,
          -1.0640000000000045,
          -1.0954440000000045,
          -1.1268720000000045,
          -1.1582780000000046,
          -1.1896560000000045,
          -1.2210000000000045,
          -1.2523040000000045,
          -1.2835620000000045,
          -1.3147680000000046,
          -1.3459160000000048,
          -1.3770000000000047,
          -1.4080140000000048,
          -1.4389520000000047,
          -1.4698080000000047,
          -1.5005760000000048,
          -1.5312500000000047,
          -1.5618240000000048,
          -1.592292000000005,
          -1.6226480000000048,
          -1.6528860000000047,
          -1.683000000000005,
          -1.712984000000005,
          -1.7428320000000048,
          -1.7725380000000048,
          -1.8020960000000048,
          -1.8315000000000048,
          -1.8607440000000048,
          -1.889822000000005,
          -1.9187280000000047,
          -1.9474560000000047,
          -1.9760000000000049,
          -2.0043540000000046,
          -2.032512000000005,
          -2.060468000000005,
          -2.088216000000005,
          -2.1157500000000047,
          -2.1430640000000047,
          -2.1701520000000047,
          -2.1970080000000047,
          -2.2236260000000048,
          -2.2500000000000044,
          -2.276124000000004,
          -2.3019920000000047,
          -2.327598000000005,
          -2.3529360000000046,
          -2.378000000000004,
          -2.4027840000000045,
          -2.4272820000000053,
          -2.4514880000000043,
          -2.475396000000004,
          -2.499000000000004,
          -2.5222940000000045,
          -2.545272000000004,
          -2.5679280000000038,
          -2.590256000000004,
          -2.6122500000000044,
          -2.633904000000004,
          -2.6552120000000037,
          -2.676168000000004,
          -2.6967660000000047,
          -2.7170000000000036,
          -2.7368640000000033,
          -2.756352000000004,
          -2.775458000000004,
          -2.7941760000000038,
          -2.812500000000003,
          -2.8304240000000034,
          -2.847942000000004,
          -2.8650480000000034,
          -2.8817360000000027,
          -2.8980000000000032,
          -2.913834000000003,
          -2.9292320000000034,
          -2.9441880000000027,
          -2.9586960000000033,
          -2.972750000000003,
          -2.9863440000000026,
          -2.999472000000002,
          -3.012128000000003,
          -3.024306000000003,
          -3.0360000000000023,
          -3.047204000000002,
          -3.0579120000000026,
          -3.0681180000000023,
          -3.077816000000002,
          -3.0870000000000015,
          -3.0956640000000015,
          -3.103802000000002,
          -3.1114080000000017,
          -3.1184760000000016,
          -3.125000000000001,
          -3.130974000000001,
          -3.136392000000001,
          -3.141248000000001,
          -3.145536000000001,
          -3.1492500000000008,
          -3.1523840000000005,
          -3.1549320000000005,
          -3.1568880000000004,
          -3.158246,
          -3.159,
          -3.1591439999999995,
          -3.158672,
          -3.1575779999999996,
          -3.1558559999999996,
          -3.1534999999999993,
          -3.150503999999999,
          -3.1468619999999987,
          -3.142567999999999,
          -3.137615999999999,
          -3.1319999999999983,
          -3.125713999999998,
          -3.1187519999999984,
          -3.111107999999998,
          -3.102775999999998,
          -3.0937499999999973,
          -3.084023999999997,
          -3.073591999999998,
          -3.062447999999997,
          -3.0505859999999965,
          -3.0379999999999967,
          -3.024683999999997,
          -3.010631999999996,
          -2.995837999999996,
          -2.980295999999996,
          -2.963999999999996,
          -2.9469439999999953,
          -2.929121999999995,
          -2.9105279999999953,
          -2.891155999999995,
          -2.8709999999999947,
          -2.850053999999994,
          -2.828311999999994,
          -2.8057679999999947,
          -2.782415999999994,
          -2.758249999999993,
          -2.7332639999999935,
          -2.7074519999999938,
          -2.6808079999999928,
          -2.653325999999992,
          -2.6249999999999925,
          -2.595823999999993,
          -2.5657919999999916,
          -2.5348979999999908,
          -2.503135999999991,
          -2.470499999999992,
          -2.436983999999991,
          -2.40258199999999,
          -2.36728799999999,
          -2.3310959999999907,
          -2.29399999999999,
          -2.2559939999999883,
          -2.2170719999999893,
          -2.1772279999999897,
          -2.136455999999989,
          -2.0947499999999875,
          -2.052103999999988,
          -2.0085119999999885,
          -1.963967999999987,
          -1.918465999999986,
          -1.8719999999999866,
          -1.8245639999999874,
          -1.7761519999999862,
          -1.7267579999999847,
          -1.6763759999999852,
          -1.6249999999999862,
          -1.5726239999999847,
          -1.519241999999983,
          -1.4648479999999842,
          -1.4094359999999848,
          -1.3529999999999833,
          -1.2955339999999818,
          -1.2370319999999826,
          -1.1774879999999837,
          -1.116895999999982,
          -1.05524999999998,
          -0.9925439999999811,
          -0.9287719999999822,
          -0.8639279999999804,
          -0.7980059999999786,
          -0.7309999999999796,
          -0.6629039999999807,
          -0.5937119999999788,
          -0.5234179999999768,
          -0.45201599999997805,
          -0.3794999999999792,
          -0.3058639999999772,
          -0.2311019999999751,
          -0.15520799999997636,
          -0.07817599999997767,
          2.4480417692984755e-14,
          0.07932600000002668,
          0.15980800000002535,
          0.24145200000002395,
          0.3242640000000262,
          0.40825000000002853,
          0.4934160000000271,
          0.5797680000000256,
          0.667312000000028,
          0.7560540000000304,
          0.846000000000029,
          0.9371560000000274,
          1.0295280000000298,
          1.1231220000000326,
          1.217944000000031,
          1.3140000000000291,
          1.4112960000000319,
          1.5098380000000344,
          1.6096320000000328,
          1.710684000000031,
          1.813000000000034,
          1.9165860000000365,
          2.021448000000035,
          2.127592000000033,
          2.235024000000036,
          2.343750000000039,
          2.4537760000000373,
          2.565108000000035,
          2.6777520000000377,
          2.791714000000041,
          2.907000000000039,
          3.023616000000037,
          3.1415680000000403,
          3.2608620000000434,
          3.3815040000000414,
          3.5035000000000394,
          3.6268560000000423,
          3.751578000000046,
          3.8776720000000435,
          4.005144000000041,
          4.134000000000045,
          4.264246000000048,
          4.395888000000046,
          4.528932000000044,
          4.663384000000048,
          4.799250000000051,
          4.936536000000049,
          5.075248000000046,
          5.21539200000005,
          5.356974000000053
         ]
        },
        {
         "mode": "lines",
         "name": "f'(x)",
         "type": "scatter",
         "x": [
          -2,
          -1.99,
          -1.98,
          -1.97,
          -1.96,
          -1.95,
          -1.94,
          -1.93,
          -1.92,
          -1.91,
          -1.9,
          -1.89,
          -1.88,
          -1.8699999999999999,
          -1.8599999999999999,
          -1.8499999999999999,
          -1.8399999999999999,
          -1.8299999999999998,
          -1.8199999999999998,
          -1.8099999999999998,
          -1.7999999999999998,
          -1.7899999999999998,
          -1.7799999999999998,
          -1.7699999999999998,
          -1.7599999999999998,
          -1.7499999999999998,
          -1.7399999999999998,
          -1.7299999999999998,
          -1.7199999999999998,
          -1.7099999999999997,
          -1.6999999999999997,
          -1.6899999999999997,
          -1.6799999999999997,
          -1.6699999999999997,
          -1.6599999999999997,
          -1.6499999999999997,
          -1.6399999999999997,
          -1.6299999999999997,
          -1.6199999999999997,
          -1.6099999999999997,
          -1.5999999999999996,
          -1.5899999999999996,
          -1.5799999999999996,
          -1.5699999999999996,
          -1.5599999999999996,
          -1.5499999999999996,
          -1.5399999999999996,
          -1.5299999999999996,
          -1.5199999999999996,
          -1.5099999999999996,
          -1.4999999999999996,
          -1.4899999999999995,
          -1.4799999999999995,
          -1.4699999999999995,
          -1.4599999999999995,
          -1.4499999999999995,
          -1.4399999999999995,
          -1.4299999999999995,
          -1.4199999999999995,
          -1.4099999999999995,
          -1.3999999999999995,
          -1.3899999999999995,
          -1.3799999999999994,
          -1.3699999999999994,
          -1.3599999999999994,
          -1.3499999999999994,
          -1.3399999999999994,
          -1.3299999999999994,
          -1.3199999999999994,
          -1.3099999999999994,
          -1.2999999999999994,
          -1.2899999999999994,
          -1.2799999999999994,
          -1.2699999999999994,
          -1.2599999999999993,
          -1.2499999999999993,
          -1.2399999999999993,
          -1.2299999999999993,
          -1.2199999999999993,
          -1.2099999999999993,
          -1.1999999999999993,
          -1.1899999999999993,
          -1.1799999999999993,
          -1.1699999999999993,
          -1.1599999999999993,
          -1.1499999999999992,
          -1.1399999999999992,
          -1.1299999999999992,
          -1.1199999999999992,
          -1.1099999999999992,
          -1.0999999999999992,
          -1.0899999999999992,
          -1.0799999999999992,
          -1.0699999999999992,
          -1.0599999999999992,
          -1.0499999999999992,
          -1.0399999999999991,
          -1.0299999999999991,
          -1.0199999999999991,
          -1.0099999999999991,
          -0.9999999999999991,
          -0.9899999999999991,
          -0.9799999999999991,
          -0.9699999999999991,
          -0.9599999999999991,
          -0.9499999999999991,
          -0.9399999999999991,
          -0.929999999999999,
          -0.919999999999999,
          -0.909999999999999,
          -0.899999999999999,
          -0.889999999999999,
          -0.879999999999999,
          -0.869999999999999,
          -0.859999999999999,
          -0.849999999999999,
          -0.839999999999999,
          -0.829999999999999,
          -0.819999999999999,
          -0.8099999999999989,
          -0.7999999999999989,
          -0.7899999999999989,
          -0.7799999999999989,
          -0.7699999999999989,
          -0.7599999999999989,
          -0.7499999999999989,
          -0.7399999999999989,
          -0.7299999999999989,
          -0.7199999999999989,
          -0.7099999999999989,
          -0.6999999999999988,
          -0.6899999999999988,
          -0.6799999999999988,
          -0.6699999999999988,
          -0.6599999999999988,
          -0.6499999999999988,
          -0.6399999999999988,
          -0.6299999999999988,
          -0.6199999999999988,
          -0.6099999999999988,
          -0.5999999999999988,
          -0.5899999999999987,
          -0.5799999999999987,
          -0.5699999999999987,
          -0.5599999999999987,
          -0.5499999999999987,
          -0.5399999999999987,
          -0.5299999999999987,
          -0.5199999999999987,
          -0.5099999999999987,
          -0.49999999999999867,
          -0.48999999999999866,
          -0.47999999999999865,
          -0.46999999999999864,
          -0.45999999999999863,
          -0.4499999999999986,
          -0.4399999999999986,
          -0.4299999999999986,
          -0.4199999999999986,
          -0.4099999999999986,
          -0.3999999999999986,
          -0.38999999999999857,
          -0.37999999999999856,
          -0.36999999999999855,
          -0.35999999999999854,
          -0.34999999999999853,
          -0.3399999999999985,
          -0.3299999999999985,
          -0.3199999999999985,
          -0.3099999999999985,
          -0.2999999999999985,
          -0.2899999999999985,
          -0.2799999999999985,
          -0.26999999999999846,
          -0.25999999999999845,
          -0.24999999999999845,
          -0.23999999999999844,
          -0.22999999999999843,
          -0.21999999999999842,
          -0.2099999999999984,
          -0.1999999999999984,
          -0.1899999999999984,
          -0.17999999999999838,
          -0.16999999999999837,
          -0.15999999999999837,
          -0.14999999999999836,
          -0.13999999999999835,
          -0.12999999999999834,
          -0.11999999999999833,
          -0.10999999999999832,
          -0.09999999999999831,
          -0.0899999999999983,
          -0.0799999999999983,
          -0.06999999999999829,
          -0.05999999999999828,
          -0.04999999999999827,
          -0.03999999999999826,
          -0.02999999999999825,
          -0.01999999999999824,
          -0.009999999999998233,
          1.7763568394002505e-15,
          0.010000000000001563,
          0.020000000000001794,
          0.030000000000002025,
          0.04000000000000181,
          0.0500000000000016,
          0.06000000000000183,
          0.07000000000000206,
          0.08000000000000185,
          0.09000000000000163,
          0.10000000000000187,
          0.1100000000000021,
          0.12000000000000188,
          0.13000000000000167,
          0.1400000000000019,
          0.15000000000000213,
          0.16000000000000192,
          0.1700000000000017,
          0.18000000000000194,
          0.19000000000000217,
          0.20000000000000195,
          0.21000000000000174,
          0.22000000000000197,
          0.2300000000000022,
          0.240000000000002,
          0.2500000000000018,
          0.260000000000002,
          0.27000000000000224,
          0.280000000000002,
          0.2900000000000018,
          0.30000000000000204,
          0.3100000000000023,
          0.32000000000000206,
          0.33000000000000185,
          0.3400000000000021,
          0.3500000000000023,
          0.3600000000000021,
          0.3700000000000019,
          0.3800000000000021,
          0.39000000000000234,
          0.40000000000000213,
          0.4100000000000019,
          0.42000000000000215,
          0.4300000000000024,
          0.44000000000000217,
          0.45000000000000195,
          0.4600000000000022,
          0.4700000000000024,
          0.4800000000000022,
          0.490000000000002,
          0.5000000000000022,
          0.5100000000000025,
          0.5200000000000022,
          0.530000000000002,
          0.5400000000000023,
          0.5500000000000025,
          0.5600000000000023,
          0.5700000000000021,
          0.5800000000000023,
          0.5900000000000025,
          0.6000000000000023,
          0.6100000000000021,
          0.6200000000000023,
          0.6300000000000026,
          0.6400000000000023,
          0.6500000000000021,
          0.6600000000000024,
          0.6700000000000026,
          0.6800000000000024,
          0.6900000000000022,
          0.7000000000000024,
          0.7100000000000026,
          0.7200000000000024,
          0.7300000000000022,
          0.7400000000000024,
          0.7500000000000027,
          0.7600000000000025,
          0.7700000000000022,
          0.7800000000000025,
          0.7900000000000027,
          0.8000000000000025,
          0.8100000000000023,
          0.8200000000000025,
          0.8300000000000027,
          0.8400000000000025,
          0.8500000000000023,
          0.8600000000000025,
          0.8700000000000028,
          0.8800000000000026,
          0.8900000000000023,
          0.9000000000000026,
          0.9100000000000028,
          0.9200000000000026,
          0.9300000000000024,
          0.9400000000000026,
          0.9500000000000028,
          0.9600000000000026,
          0.9700000000000024,
          0.9800000000000026,
          0.9900000000000029,
          1.0000000000000027,
          1.0100000000000025,
          1.0200000000000027,
          1.030000000000003,
          1.0400000000000027,
          1.0500000000000025,
          1.0600000000000027,
          1.070000000000003,
          1.0800000000000027,
          1.0900000000000025,
          1.1000000000000028,
          1.110000000000003,
          1.1200000000000028,
          1.1300000000000026,
          1.1400000000000028,
          1.150000000000003,
          1.1600000000000028,
          1.1700000000000026,
          1.1800000000000028,
          1.190000000000003,
          1.2000000000000028,
          1.2100000000000026,
          1.2200000000000029,
          1.230000000000003,
          1.2400000000000029,
          1.2500000000000027,
          1.260000000000003,
          1.2700000000000031,
          1.280000000000003,
          1.2900000000000027,
          1.300000000000003,
          1.3100000000000032,
          1.320000000000003,
          1.3300000000000027,
          1.340000000000003,
          1.3500000000000032,
          1.360000000000003,
          1.3700000000000028,
          1.380000000000003,
          1.3900000000000032,
          1.400000000000003,
          1.4100000000000028,
          1.420000000000003,
          1.4300000000000033,
          1.440000000000003,
          1.4500000000000028,
          1.460000000000003,
          1.4700000000000033,
          1.480000000000003,
          1.4900000000000029,
          1.500000000000003,
          1.5100000000000033,
          1.5200000000000031,
          1.530000000000003,
          1.5400000000000031,
          1.5500000000000034,
          1.5600000000000032,
          1.570000000000003,
          1.5800000000000032,
          1.5900000000000034,
          1.6000000000000032,
          1.610000000000003,
          1.6200000000000032,
          1.6300000000000034,
          1.6400000000000032,
          1.650000000000003,
          1.6600000000000033,
          1.6700000000000035,
          1.6800000000000033,
          1.690000000000003,
          1.7000000000000033,
          1.7100000000000035,
          1.7200000000000033,
          1.730000000000003,
          1.7400000000000033,
          1.7500000000000036,
          1.7600000000000033,
          1.7700000000000031,
          1.7800000000000034,
          1.7900000000000036,
          1.8000000000000034,
          1.8100000000000032,
          1.8200000000000034,
          1.8300000000000036,
          1.8400000000000034,
          1.8500000000000032,
          1.8600000000000034,
          1.8700000000000037,
          1.8800000000000034,
          1.8900000000000032,
          1.9000000000000035,
          1.9100000000000037,
          1.9200000000000035,
          1.9300000000000033,
          1.9400000000000035,
          1.9500000000000037,
          1.9600000000000035,
          1.9700000000000033,
          1.9800000000000035,
          1.9900000000000038
         ],
         "y": [
          4.375,
          4.2803,
          4.186199999999999,
          4.0927,
          3.9997999999999987,
          3.907499999999999,
          3.8157999999999994,
          3.7246999999999995,
          3.6342000000000008,
          3.5443000000000007,
          3.455,
          3.3663000000000007,
          3.2782,
          3.1906999999999988,
          3.103799999999999,
          3.0174999999999983,
          2.9317999999999973,
          2.8466999999999985,
          2.7621999999999973,
          2.6782999999999992,
          2.594999999999999,
          2.512299999999998,
          2.4301999999999992,
          2.3486999999999982,
          2.2677999999999985,
          2.1874999999999973,
          2.1077999999999975,
          2.028699999999999,
          1.9501999999999988,
          1.8722999999999983,
          1.794999999999999,
          1.7182999999999975,
          1.642199999999999,
          1.566699999999999,
          1.491799999999997,
          1.4174999999999978,
          1.343799999999998,
          1.270699999999998,
          1.1981999999999973,
          1.1262999999999979,
          1.054999999999997,
          0.984299999999998,
          0.9141999999999966,
          0.8446999999999978,
          0.775799999999998,
          0.7074999999999978,
          0.6397999999999966,
          0.5726999999999971,
          0.5061999999999971,
          0.4402999999999966,
          0.37499999999999734,
          0.31029999999999713,
          0.24619999999999687,
          0.18269999999999698,
          0.11979999999999613,
          0.057499999999997,
          -0.004200000000003534,
          -0.06530000000000369,
          -0.12580000000000346,
          -0.1857000000000033,
          -0.24500000000000322,
          -0.30370000000000275,
          -0.36180000000000323,
          -0.4193000000000029,
          -0.47620000000000395,
          -0.5325000000000029,
          -0.5882000000000032,
          -0.6433000000000035,
          -0.6978000000000031,
          -0.7517000000000031,
          -0.8050000000000033,
          -0.8577000000000035,
          -0.9098000000000033,
          -0.9613000000000027,
          -1.0122000000000035,
          -1.0625000000000027,
          -1.1122000000000036,
          -1.1613000000000033,
          -1.209800000000003,
          -1.257700000000003,
          -1.3050000000000033,
          -1.3517000000000032,
          -1.3978000000000037,
          -1.4433000000000034,
          -1.488200000000003,
          -1.5325000000000033,
          -1.5762000000000027,
          -1.6193000000000035,
          -1.6618000000000035,
          -1.7037000000000035,
          -1.7450000000000037,
          -1.7857000000000034,
          -1.8258000000000032,
          -1.865300000000003,
          -1.904200000000003,
          -1.942500000000003,
          -1.9802000000000035,
          -2.0173000000000036,
          -2.0538000000000034,
          -2.089700000000003,
          -2.125000000000003,
          -2.1597000000000035,
          -2.1938000000000026,
          -2.227300000000003,
          -2.260200000000003,
          -2.292500000000003,
          -2.324200000000003,
          -2.355300000000003,
          -2.385800000000003,
          -2.415700000000003,
          -2.4450000000000025,
          -2.4737000000000027,
          -2.501800000000003,
          -2.5293000000000028,
          -2.556200000000003,
          -2.5825000000000027,
          -2.6082000000000027,
          -2.633300000000003,
          -2.657800000000002,
          -2.6817000000000024,
          -2.7050000000000023,
          -2.7277000000000022,
          -2.7498000000000022,
          -2.7713000000000023,
          -2.792200000000002,
          -2.812500000000002,
          -2.832200000000002,
          -2.851300000000002,
          -2.869800000000002,
          -2.8877000000000024,
          -2.905000000000002,
          -2.9217000000000017,
          -2.937800000000002,
          -2.953300000000002,
          -2.9682000000000017,
          -2.9825000000000017,
          -2.9962000000000018,
          -3.0093000000000014,
          -3.0218000000000016,
          -3.0337000000000014,
          -3.0450000000000017,
          -3.0557000000000016,
          -3.065800000000001,
          -3.0753000000000013,
          -3.084200000000001,
          -3.092500000000001,
          -3.100200000000001,
          -3.107300000000001,
          -3.113800000000001,
          -3.119700000000001,
          -3.125000000000001,
          -3.1297000000000006,
          -3.1338000000000004,
          -3.1373000000000006,
          -3.1402,
          -3.1425,
          -3.1442,
          -3.1453,
          -3.1458,
          -3.1456999999999997,
          -3.1449999999999996,
          -3.1437,
          -3.1418,
          -3.1392999999999995,
          -3.1361999999999997,
          -3.1324999999999994,
          -3.128199999999999,
          -3.123299999999999,
          -3.117799999999999,
          -3.111699999999999,
          -3.104999999999999,
          -3.097699999999999,
          -3.0897999999999985,
          -3.081299999999999,
          -3.0721999999999987,
          -3.0624999999999982,
          -3.0521999999999982,
          -3.0412999999999983,
          -3.029799999999998,
          -3.017699999999998,
          -3.004999999999998,
          -2.991699999999998,
          -2.9777999999999976,
          -2.9632999999999976,
          -2.9481999999999973,
          -2.9324999999999974,
          -2.9161999999999972,
          -2.899299999999997,
          -2.881799999999997,
          -2.863699999999997,
          -2.8449999999999966,
          -2.8256999999999968,
          -2.8057999999999965,
          -2.7852999999999963,
          -2.764199999999996,
          -2.742499999999996,
          -2.720199999999996,
          -2.697299999999996,
          -2.673799999999996,
          -2.6496999999999957,
          -2.6249999999999956,
          -2.599699999999996,
          -2.5737999999999954,
          -2.5472999999999946,
          -2.520199999999995,
          -2.4924999999999957,
          -2.4641999999999946,
          -2.435299999999994,
          -2.4057999999999944,
          -2.375699999999995,
          -2.3449999999999944,
          -2.313699999999993,
          -2.281799999999994,
          -2.2492999999999945,
          -2.2161999999999935,
          -2.182499999999993,
          -2.1481999999999934,
          -2.113299999999994,
          -2.077799999999993,
          -2.041699999999992,
          -2.004999999999993,
          -1.9676999999999936,
          -1.9297999999999924,
          -1.8912999999999913,
          -1.8521999999999923,
          -1.812499999999993,
          -1.7721999999999918,
          -1.7312999999999907,
          -1.6897999999999915,
          -1.6476999999999924,
          -1.604999999999991,
          -1.56169999999999,
          -1.517799999999991,
          -1.4732999999999916,
          -1.4281999999999906,
          -1.3824999999999894,
          -1.33619999999999,
          -1.289299999999991,
          -1.2417999999999898,
          -1.1936999999999887,
          -1.1449999999999896,
          -1.0956999999999906,
          -1.0457999999999892,
          -0.9952999999999879,
          -0.9441999999999888,
          -0.8924999999999899,
          -0.8401999999999885,
          -0.7872999999999872,
          -0.7337999999999882,
          -0.6796999999999893,
          -0.6249999999999876,
          -0.5696999999999863,
          -0.5137999999999874,
          -0.4572999999999885,
          -0.400199999999987,
          -0.3424999999999856,
          -0.2841999999999869,
          -0.22529999999998784,
          -0.16579999999998662,
          -0.10569999999998458,
          -0.04499999999998572,
          0.016300000000012638,
          0.07820000000001448,
          0.14070000000001626,
          0.20380000000001486,
          0.2675000000000134,
          0.3318000000000154,
          0.39670000000001693,
          0.4622000000000157,
          0.5283000000000144,
          0.5950000000000162,
          0.6623000000000179,
          0.7302000000000168,
          0.7987000000000153,
          0.8678000000000168,
          0.9375000000000187,
          1.0078000000000173,
          1.078700000000016,
          1.1502000000000177,
          1.2223000000000197,
          1.2950000000000181,
          1.3683000000000165,
          1.4422000000000184,
          1.5167000000000197,
          1.5918000000000188,
          1.6675000000000182,
          1.7438000000000198,
          1.8207000000000217,
          1.8982000000000205,
          1.976300000000018,
          2.05500000000002,
          2.1343000000000227,
          2.2142000000000213,
          2.2947000000000193,
          2.3758000000000212,
          2.4575000000000236,
          2.539800000000022,
          2.6227000000000205,
          2.706200000000022,
          2.790300000000025,
          2.875000000000023,
          2.9603000000000215,
          3.0462000000000238,
          3.1327000000000247,
          3.219800000000024,
          3.3075000000000214,
          3.3958000000000235,
          3.4847000000000268,
          3.5742000000000242,
          3.664300000000022,
          3.7550000000000248,
          3.846300000000028,
          3.938200000000025,
          4.0307000000000235,
          4.123800000000026,
          4.217500000000028,
          4.3118000000000265,
          4.406700000000024,
          4.502200000000028,
          4.598300000000029,
          4.695000000000028,
          4.792300000000026,
          4.890200000000028,
          4.988700000000032,
          5.087800000000028,
          5.187500000000027,
          5.287800000000029,
          5.388700000000032,
          5.49020000000003,
          5.592300000000028,
          5.6950000000000305,
          5.798300000000033,
          5.902200000000031,
          6.006700000000029,
          6.111800000000031,
          6.217500000000033,
          6.323800000000032,
          6.43070000000003,
          6.538200000000032,
          6.646300000000036,
          6.755000000000033,
          6.86430000000003,
          6.9742000000000335,
          7.084700000000037,
          7.195800000000034,
          7.307500000000031,
          7.419800000000034,
          7.5327000000000375,
          7.646200000000036,
          7.760300000000033,
          7.8750000000000355,
          7.99030000000004,
          8.106200000000037,
          8.222700000000035,
          8.339800000000036,
          8.45750000000004,
          8.575800000000038,
          8.694700000000037,
          8.814200000000039,
          8.934300000000041,
          9.055000000000039,
          9.176300000000037,
          9.298200000000039,
          9.420700000000043,
          9.54380000000004,
          9.667500000000036,
          9.791800000000041,
          9.916700000000041,
          10.042200000000042,
          10.168300000000038,
          10.29500000000004,
          10.422300000000046,
          10.550200000000041,
          10.67870000000004,
          10.807800000000043,
          10.937500000000046,
          11.067800000000044,
          11.198700000000041,
          11.330200000000044,
          11.462300000000047,
          11.595000000000045,
          11.728300000000042,
          11.862200000000044,
          11.99670000000005,
          12.131800000000046,
          12.267500000000044,
          12.403800000000047,
          12.54070000000005,
          12.678200000000048,
          12.816300000000044,
          12.955000000000048,
          13.094300000000052,
          13.234200000000047,
          13.374700000000047,
          13.515800000000048,
          13.657500000000052,
          13.799800000000051,
          13.942700000000045,
          14.086200000000051,
          14.230300000000053
         ]
        },
        {
         "mode": "lines",
         "name": "f''(x)",
         "type": "scatter",
         "x": [
          -2,
          -1.99,
          -1.98,
          -1.97,
          -1.96,
          -1.95,
          -1.94,
          -1.93,
          -1.92,
          -1.91,
          -1.9,
          -1.89,
          -1.88,
          -1.8699999999999999,
          -1.8599999999999999,
          -1.8499999999999999,
          -1.8399999999999999,
          -1.8299999999999998,
          -1.8199999999999998,
          -1.8099999999999998,
          -1.7999999999999998,
          -1.7899999999999998,
          -1.7799999999999998,
          -1.7699999999999998,
          -1.7599999999999998,
          -1.7499999999999998,
          -1.7399999999999998,
          -1.7299999999999998,
          -1.7199999999999998,
          -1.7099999999999997,
          -1.6999999999999997,
          -1.6899999999999997,
          -1.6799999999999997,
          -1.6699999999999997,
          -1.6599999999999997,
          -1.6499999999999997,
          -1.6399999999999997,
          -1.6299999999999997,
          -1.6199999999999997,
          -1.6099999999999997,
          -1.5999999999999996,
          -1.5899999999999996,
          -1.5799999999999996,
          -1.5699999999999996,
          -1.5599999999999996,
          -1.5499999999999996,
          -1.5399999999999996,
          -1.5299999999999996,
          -1.5199999999999996,
          -1.5099999999999996,
          -1.4999999999999996,
          -1.4899999999999995,
          -1.4799999999999995,
          -1.4699999999999995,
          -1.4599999999999995,
          -1.4499999999999995,
          -1.4399999999999995,
          -1.4299999999999995,
          -1.4199999999999995,
          -1.4099999999999995,
          -1.3999999999999995,
          -1.3899999999999995,
          -1.3799999999999994,
          -1.3699999999999994,
          -1.3599999999999994,
          -1.3499999999999994,
          -1.3399999999999994,
          -1.3299999999999994,
          -1.3199999999999994,
          -1.3099999999999994,
          -1.2999999999999994,
          -1.2899999999999994,
          -1.2799999999999994,
          -1.2699999999999994,
          -1.2599999999999993,
          -1.2499999999999993,
          -1.2399999999999993,
          -1.2299999999999993,
          -1.2199999999999993,
          -1.2099999999999993,
          -1.1999999999999993,
          -1.1899999999999993,
          -1.1799999999999993,
          -1.1699999999999993,
          -1.1599999999999993,
          -1.1499999999999992,
          -1.1399999999999992,
          -1.1299999999999992,
          -1.1199999999999992,
          -1.1099999999999992,
          -1.0999999999999992,
          -1.0899999999999992,
          -1.0799999999999992,
          -1.0699999999999992,
          -1.0599999999999992,
          -1.0499999999999992,
          -1.0399999999999991,
          -1.0299999999999991,
          -1.0199999999999991,
          -1.0099999999999991,
          -0.9999999999999991,
          -0.9899999999999991,
          -0.9799999999999991,
          -0.9699999999999991,
          -0.9599999999999991,
          -0.9499999999999991,
          -0.9399999999999991,
          -0.929999999999999,
          -0.919999999999999,
          -0.909999999999999,
          -0.899999999999999,
          -0.889999999999999,
          -0.879999999999999,
          -0.869999999999999,
          -0.859999999999999,
          -0.849999999999999,
          -0.839999999999999,
          -0.829999999999999,
          -0.819999999999999,
          -0.8099999999999989,
          -0.7999999999999989,
          -0.7899999999999989,
          -0.7799999999999989,
          -0.7699999999999989,
          -0.7599999999999989,
          -0.7499999999999989,
          -0.7399999999999989,
          -0.7299999999999989,
          -0.7199999999999989,
          -0.7099999999999989,
          -0.6999999999999988,
          -0.6899999999999988,
          -0.6799999999999988,
          -0.6699999999999988,
          -0.6599999999999988,
          -0.6499999999999988,
          -0.6399999999999988,
          -0.6299999999999988,
          -0.6199999999999988,
          -0.6099999999999988,
          -0.5999999999999988,
          -0.5899999999999987,
          -0.5799999999999987,
          -0.5699999999999987,
          -0.5599999999999987,
          -0.5499999999999987,
          -0.5399999999999987,
          -0.5299999999999987,
          -0.5199999999999987,
          -0.5099999999999987,
          -0.49999999999999867,
          -0.48999999999999866,
          -0.47999999999999865,
          -0.46999999999999864,
          -0.45999999999999863,
          -0.4499999999999986,
          -0.4399999999999986,
          -0.4299999999999986,
          -0.4199999999999986,
          -0.4099999999999986,
          -0.3999999999999986,
          -0.38999999999999857,
          -0.37999999999999856,
          -0.36999999999999855,
          -0.35999999999999854,
          -0.34999999999999853,
          -0.3399999999999985,
          -0.3299999999999985,
          -0.3199999999999985,
          -0.3099999999999985,
          -0.2999999999999985,
          -0.2899999999999985,
          -0.2799999999999985,
          -0.26999999999999846,
          -0.25999999999999845,
          -0.24999999999999845,
          -0.23999999999999844,
          -0.22999999999999843,
          -0.21999999999999842,
          -0.2099999999999984,
          -0.1999999999999984,
          -0.1899999999999984,
          -0.17999999999999838,
          -0.16999999999999837,
          -0.15999999999999837,
          -0.14999999999999836,
          -0.13999999999999835,
          -0.12999999999999834,
          -0.11999999999999833,
          -0.10999999999999832,
          -0.09999999999999831,
          -0.0899999999999983,
          -0.0799999999999983,
          -0.06999999999999829,
          -0.05999999999999828,
          -0.04999999999999827,
          -0.03999999999999826,
          -0.02999999999999825,
          -0.01999999999999824,
          -0.009999999999998233,
          1.7763568394002505e-15,
          0.010000000000001563,
          0.020000000000001794,
          0.030000000000002025,
          0.04000000000000181,
          0.0500000000000016,
          0.06000000000000183,
          0.07000000000000206,
          0.08000000000000185,
          0.09000000000000163,
          0.10000000000000187,
          0.1100000000000021,
          0.12000000000000188,
          0.13000000000000167,
          0.1400000000000019,
          0.15000000000000213,
          0.16000000000000192,
          0.1700000000000017,
          0.18000000000000194,
          0.19000000000000217,
          0.20000000000000195,
          0.21000000000000174,
          0.22000000000000197,
          0.2300000000000022,
          0.240000000000002,
          0.2500000000000018,
          0.260000000000002,
          0.27000000000000224,
          0.280000000000002,
          0.2900000000000018,
          0.30000000000000204,
          0.3100000000000023,
          0.32000000000000206,
          0.33000000000000185,
          0.3400000000000021,
          0.3500000000000023,
          0.3600000000000021,
          0.3700000000000019,
          0.3800000000000021,
          0.39000000000000234,
          0.40000000000000213,
          0.4100000000000019,
          0.42000000000000215,
          0.4300000000000024,
          0.44000000000000217,
          0.45000000000000195,
          0.4600000000000022,
          0.4700000000000024,
          0.4800000000000022,
          0.490000000000002,
          0.5000000000000022,
          0.5100000000000025,
          0.5200000000000022,
          0.530000000000002,
          0.5400000000000023,
          0.5500000000000025,
          0.5600000000000023,
          0.5700000000000021,
          0.5800000000000023,
          0.5900000000000025,
          0.6000000000000023,
          0.6100000000000021,
          0.6200000000000023,
          0.6300000000000026,
          0.6400000000000023,
          0.6500000000000021,
          0.6600000000000024,
          0.6700000000000026,
          0.6800000000000024,
          0.6900000000000022,
          0.7000000000000024,
          0.7100000000000026,
          0.7200000000000024,
          0.7300000000000022,
          0.7400000000000024,
          0.7500000000000027,
          0.7600000000000025,
          0.7700000000000022,
          0.7800000000000025,
          0.7900000000000027,
          0.8000000000000025,
          0.8100000000000023,
          0.8200000000000025,
          0.8300000000000027,
          0.8400000000000025,
          0.8500000000000023,
          0.8600000000000025,
          0.8700000000000028,
          0.8800000000000026,
          0.8900000000000023,
          0.9000000000000026,
          0.9100000000000028,
          0.9200000000000026,
          0.9300000000000024,
          0.9400000000000026,
          0.9500000000000028,
          0.9600000000000026,
          0.9700000000000024,
          0.9800000000000026,
          0.9900000000000029,
          1.0000000000000027,
          1.0100000000000025,
          1.0200000000000027,
          1.030000000000003,
          1.0400000000000027,
          1.0500000000000025,
          1.0600000000000027,
          1.070000000000003,
          1.0800000000000027,
          1.0900000000000025,
          1.1000000000000028,
          1.110000000000003,
          1.1200000000000028,
          1.1300000000000026,
          1.1400000000000028,
          1.150000000000003,
          1.1600000000000028,
          1.1700000000000026,
          1.1800000000000028,
          1.190000000000003,
          1.2000000000000028,
          1.2100000000000026,
          1.2200000000000029,
          1.230000000000003,
          1.2400000000000029,
          1.2500000000000027,
          1.260000000000003,
          1.2700000000000031,
          1.280000000000003,
          1.2900000000000027,
          1.300000000000003,
          1.3100000000000032,
          1.320000000000003,
          1.3300000000000027,
          1.340000000000003,
          1.3500000000000032,
          1.360000000000003,
          1.3700000000000028,
          1.380000000000003,
          1.3900000000000032,
          1.400000000000003,
          1.4100000000000028,
          1.420000000000003,
          1.4300000000000033,
          1.440000000000003,
          1.4500000000000028,
          1.460000000000003,
          1.4700000000000033,
          1.480000000000003,
          1.4900000000000029,
          1.500000000000003,
          1.5100000000000033,
          1.5200000000000031,
          1.530000000000003,
          1.5400000000000031,
          1.5500000000000034,
          1.5600000000000032,
          1.570000000000003,
          1.5800000000000032,
          1.5900000000000034,
          1.6000000000000032,
          1.610000000000003,
          1.6200000000000032,
          1.6300000000000034,
          1.6400000000000032,
          1.650000000000003,
          1.6600000000000033,
          1.6700000000000035,
          1.6800000000000033,
          1.690000000000003,
          1.7000000000000033,
          1.7100000000000035,
          1.7200000000000033,
          1.730000000000003,
          1.7400000000000033,
          1.7500000000000036,
          1.7600000000000033,
          1.7700000000000031,
          1.7800000000000034,
          1.7900000000000036,
          1.8000000000000034,
          1.8100000000000032,
          1.8200000000000034,
          1.8300000000000036,
          1.8400000000000034,
          1.8500000000000032,
          1.8600000000000034,
          1.8700000000000037,
          1.8800000000000034,
          1.8900000000000032,
          1.9000000000000035,
          1.9100000000000037,
          1.9200000000000035,
          1.9300000000000033,
          1.9400000000000035,
          1.9500000000000037,
          1.9600000000000035,
          1.9700000000000033,
          1.9800000000000035,
          1.9900000000000038
         ],
         "y": [
          -9.5,
          -9.44,
          -9.379999999999999,
          -9.32,
          -9.26,
          -9.2,
          -9.14,
          -9.08,
          -9.02,
          -8.959999999999999,
          -8.899999999999999,
          -8.84,
          -8.78,
          -8.719999999999999,
          -8.66,
          -8.6,
          -8.54,
          -8.479999999999999,
          -8.419999999999998,
          -8.36,
          -8.299999999999999,
          -8.239999999999998,
          -8.18,
          -8.12,
          -8.059999999999999,
          -7.999999999999998,
          -7.939999999999998,
          -7.879999999999999,
          -7.8199999999999985,
          -7.759999999999998,
          -7.699999999999999,
          -7.639999999999999,
          -7.579999999999998,
          -7.519999999999998,
          -7.459999999999997,
          -7.399999999999999,
          -7.339999999999998,
          -7.279999999999998,
          -7.219999999999999,
          -7.159999999999998,
          -7.099999999999998,
          -7.039999999999997,
          -6.979999999999997,
          -6.919999999999998,
          -6.859999999999998,
          -6.799999999999997,
          -6.739999999999998,
          -6.679999999999998,
          -6.619999999999997,
          -6.559999999999997,
          -6.4999999999999964,
          -6.439999999999998,
          -6.379999999999997,
          -6.319999999999997,
          -6.259999999999998,
          -6.1999999999999975,
          -6.139999999999997,
          -6.0799999999999965,
          -6.019999999999996,
          -5.959999999999997,
          -5.899999999999997,
          -5.839999999999996,
          -5.779999999999998,
          -5.719999999999997,
          -5.659999999999997,
          -5.599999999999996,
          -5.539999999999996,
          -5.479999999999997,
          -5.419999999999996,
          -5.359999999999996,
          -5.299999999999996,
          -5.239999999999997,
          -5.179999999999996,
          -5.119999999999996,
          -5.059999999999996,
          -4.9999999999999964,
          -4.939999999999996,
          -4.8799999999999955,
          -4.819999999999996,
          -4.759999999999996,
          -4.699999999999996,
          -4.639999999999995,
          -4.579999999999996,
          -4.519999999999996,
          -4.4599999999999955,
          -4.399999999999995,
          -4.339999999999995,
          -4.279999999999996,
          -4.219999999999995,
          -4.159999999999995,
          -4.099999999999995,
          -4.039999999999996,
          -3.979999999999995,
          -3.9199999999999946,
          -3.859999999999995,
          -3.7999999999999954,
          -3.739999999999995,
          -3.6799999999999944,
          -3.6199999999999948,
          -3.559999999999995,
          -3.4999999999999947,
          -3.439999999999994,
          -3.3799999999999946,
          -3.319999999999995,
          -3.2599999999999945,
          -3.199999999999994,
          -3.1399999999999944,
          -3.0799999999999947,
          -3.0199999999999942,
          -2.9599999999999937,
          -2.899999999999994,
          -2.8399999999999945,
          -2.779999999999994,
          -2.7199999999999935,
          -2.659999999999994,
          -2.5999999999999943,
          -2.539999999999994,
          -2.4799999999999933,
          -2.4199999999999937,
          -2.359999999999994,
          -2.2999999999999936,
          -2.239999999999993,
          -2.1799999999999935,
          -2.119999999999994,
          -2.0599999999999934,
          -1.999999999999993,
          -1.9399999999999933,
          -1.8799999999999937,
          -1.8199999999999932,
          -1.7599999999999927,
          -1.699999999999993,
          -1.6399999999999935,
          -1.579999999999993,
          -1.5199999999999925,
          -1.4599999999999929,
          -1.3999999999999928,
          -1.3399999999999928,
          -1.2799999999999927,
          -1.2199999999999926,
          -1.1599999999999926,
          -1.0999999999999925,
          -1.0399999999999925,
          -0.9799999999999924,
          -0.9199999999999924,
          -0.8599999999999923,
          -0.7999999999999923,
          -0.7399999999999922,
          -0.6799999999999922,
          -0.6199999999999921,
          -0.5599999999999921,
          -0.499999999999992,
          -0.43999999999999195,
          -0.3799999999999919,
          -0.31999999999999185,
          -0.2599999999999918,
          -0.19999999999999174,
          -0.1399999999999917,
          -0.07999999999999163,
          -0.01999999999999158,
          0.04000000000000847,
          0.10000000000000853,
          0.16000000000000858,
          0.22000000000000863,
          0.2800000000000087,
          0.34000000000000874,
          0.4000000000000088,
          0.46000000000000885,
          0.5200000000000089,
          0.580000000000009,
          0.640000000000009,
          0.7000000000000091,
          0.7600000000000091,
          0.8200000000000092,
          0.8800000000000092,
          0.9400000000000093,
          1.0000000000000093,
          1.0600000000000094,
          1.1200000000000094,
          1.1800000000000095,
          1.2400000000000095,
          1.3000000000000096,
          1.3600000000000096,
          1.4200000000000097,
          1.4800000000000098,
          1.5400000000000098,
          1.6000000000000099,
          1.66000000000001,
          1.72000000000001,
          1.78000000000001,
          1.84000000000001,
          1.9000000000000101,
          1.9600000000000102,
          2.0200000000000102,
          2.0800000000000103,
          2.1400000000000103,
          2.2000000000000104,
          2.2600000000000104,
          2.3200000000000105,
          2.3800000000000106,
          2.4400000000000106,
          2.5000000000000107,
          2.5600000000000094,
          2.6200000000000108,
          2.680000000000012,
          2.740000000000011,
          2.8000000000000096,
          2.860000000000011,
          2.9200000000000124,
          2.980000000000011,
          3.04000000000001,
          3.100000000000011,
          3.1600000000000126,
          3.2200000000000113,
          3.28000000000001,
          3.3400000000000114,
          3.400000000000013,
          3.4600000000000115,
          3.5200000000000102,
          3.5800000000000116,
          3.640000000000013,
          3.7000000000000117,
          3.7600000000000104,
          3.820000000000012,
          3.880000000000013,
          3.940000000000012,
          4.000000000000011,
          4.060000000000012,
          4.120000000000013,
          4.180000000000012,
          4.240000000000011,
          4.300000000000012,
          4.360000000000014,
          4.420000000000012,
          4.480000000000011,
          4.5400000000000125,
          4.600000000000014,
          4.660000000000013,
          4.720000000000011,
          4.780000000000013,
          4.840000000000014,
          4.900000000000013,
          4.9600000000000115,
          5.020000000000013,
          5.080000000000014,
          5.140000000000013,
          5.200000000000012,
          5.260000000000013,
          5.3200000000000145,
          5.380000000000013,
          5.440000000000012,
          5.500000000000013,
          5.560000000000015,
          5.620000000000013,
          5.680000000000012,
          5.7400000000000135,
          5.800000000000015,
          5.860000000000014,
          5.920000000000012,
          5.980000000000014,
          6.040000000000015,
          6.100000000000014,
          6.160000000000013,
          6.220000000000014,
          6.280000000000015,
          6.340000000000014,
          6.400000000000013,
          6.460000000000014,
          6.520000000000016,
          6.580000000000014,
          6.640000000000013,
          6.700000000000014,
          6.760000000000016,
          6.8200000000000145,
          6.880000000000013,
          6.940000000000015,
          7.000000000000016,
          7.060000000000015,
          7.120000000000013,
          7.180000000000015,
          7.240000000000016,
          7.300000000000015,
          7.360000000000014,
          7.420000000000015,
          7.480000000000016,
          7.540000000000015,
          7.600000000000014,
          7.660000000000015,
          7.720000000000017,
          7.780000000000015,
          7.840000000000014,
          7.9000000000000155,
          7.960000000000017,
          8.020000000000016,
          8.080000000000014,
          8.140000000000015,
          8.200000000000017,
          8.260000000000016,
          8.320000000000014,
          8.380000000000017,
          8.440000000000017,
          8.500000000000016,
          8.560000000000015,
          8.620000000000015,
          8.680000000000017,
          8.740000000000016,
          8.800000000000015,
          8.860000000000017,
          8.920000000000018,
          8.980000000000016,
          9.040000000000015,
          9.100000000000016,
          9.160000000000018,
          9.220000000000017,
          9.280000000000015,
          9.340000000000018,
          9.400000000000018,
          9.460000000000017,
          9.520000000000016,
          9.580000000000016,
          9.640000000000018,
          9.700000000000017,
          9.760000000000016,
          9.820000000000018,
          9.880000000000019,
          9.940000000000017,
          10.000000000000016,
          10.060000000000016,
          10.120000000000019,
          10.180000000000017,
          10.240000000000016,
          10.300000000000018,
          10.360000000000019,
          10.420000000000018,
          10.480000000000016,
          10.540000000000017,
          10.60000000000002,
          10.660000000000018,
          10.720000000000017,
          10.780000000000019,
          10.84000000000002,
          10.900000000000018,
          10.960000000000017,
          11.020000000000017,
          11.08000000000002,
          11.140000000000018,
          11.200000000000017,
          11.26000000000002,
          11.32000000000002,
          11.380000000000019,
          11.440000000000017,
          11.500000000000018,
          11.56000000000002,
          11.620000000000019,
          11.680000000000017,
          11.74000000000002,
          11.80000000000002,
          11.860000000000019,
          11.920000000000018,
          11.980000000000018,
          12.04000000000002,
          12.10000000000002,
          12.160000000000018,
          12.22000000000002,
          12.28000000000002,
          12.34000000000002,
          12.400000000000018,
          12.460000000000019,
          12.520000000000021,
          12.58000000000002,
          12.640000000000018,
          12.70000000000002,
          12.760000000000021,
          12.82000000000002,
          12.880000000000019,
          12.940000000000019,
          13.000000000000021,
          13.06000000000002,
          13.120000000000019,
          13.180000000000021,
          13.240000000000022,
          13.30000000000002,
          13.360000000000019,
          13.42000000000002,
          13.480000000000022,
          13.54000000000002,
          13.60000000000002,
          13.660000000000021,
          13.720000000000022,
          13.78000000000002,
          13.84000000000002,
          13.90000000000002,
          13.960000000000022,
          14.020000000000021,
          14.08000000000002,
          14.140000000000022,
          14.200000000000022,
          14.260000000000021,
          14.32000000000002,
          14.38000000000002,
          14.440000000000023
         ]
        }
       ],
       "layout": {
        "height": 600,
        "template": {
         "data": {
          "bar": [
           {
            "error_x": {
             "color": "#2a3f5f"
            },
            "error_y": {
             "color": "#2a3f5f"
            },
            "marker": {
             "line": {
              "color": "white",
              "width": 0.5
             },
             "pattern": {
              "fillmode": "overlay",
              "size": 10,
              "solidity": 0.2
             }
            },
            "type": "bar"
           }
          ],
          "barpolar": [
           {
            "marker": {
             "line": {
              "color": "white",
              "width": 0.5
             },
             "pattern": {
              "fillmode": "overlay",
              "size": 10,
              "solidity": 0.2
             }
            },
            "type": "barpolar"
           }
          ],
          "carpet": [
           {
            "aaxis": {
             "endlinecolor": "#2a3f5f",
             "gridcolor": "#C8D4E3",
             "linecolor": "#C8D4E3",
             "minorgridcolor": "#C8D4E3",
             "startlinecolor": "#2a3f5f"
            },
            "baxis": {
             "endlinecolor": "#2a3f5f",
             "gridcolor": "#C8D4E3",
             "linecolor": "#C8D4E3",
             "minorgridcolor": "#C8D4E3",
             "startlinecolor": "#2a3f5f"
            },
            "type": "carpet"
           }
          ],
          "choropleth": [
           {
            "colorbar": {
             "outlinewidth": 0,
             "ticks": ""
            },
            "type": "choropleth"
           }
          ],
          "contour": [
           {
            "colorbar": {
             "outlinewidth": 0,
             "ticks": ""
            },
            "colorscale": [
             [
              0,
              "#0d0887"
             ],
             [
              0.1111111111111111,
              "#46039f"
             ],
             [
              0.2222222222222222,
              "#7201a8"
             ],
             [
              0.3333333333333333,
              "#9c179e"
             ],
             [
              0.4444444444444444,
              "#bd3786"
             ],
             [
              0.5555555555555556,
              "#d8576b"
             ],
             [
              0.6666666666666666,
              "#ed7953"
             ],
             [
              0.7777777777777778,
              "#fb9f3a"
             ],
             [
              0.8888888888888888,
              "#fdca26"
             ],
             [
              1,
              "#f0f921"
             ]
            ],
            "type": "contour"
           }
          ],
          "contourcarpet": [
           {
            "colorbar": {
             "outlinewidth": 0,
             "ticks": ""
            },
            "type": "contourcarpet"
           }
          ],
          "heatmap": [
           {
            "colorbar": {
             "outlinewidth": 0,
             "ticks": ""
            },
            "colorscale": [
             [
              0,
              "#0d0887"
             ],
             [
              0.1111111111111111,
              "#46039f"
             ],
             [
              0.2222222222222222,
              "#7201a8"
             ],
             [
              0.3333333333333333,
              "#9c179e"
             ],
             [
              0.4444444444444444,
              "#bd3786"
             ],
             [
              0.5555555555555556,
              "#d8576b"
             ],
             [
              0.6666666666666666,
              "#ed7953"
             ],
             [
              0.7777777777777778,
              "#fb9f3a"
             ],
             [
              0.8888888888888888,
              "#fdca26"
             ],
             [
              1,
              "#f0f921"
             ]
            ],
            "type": "heatmap"
           }
          ],
          "heatmapgl": [
           {
            "colorbar": {
             "outlinewidth": 0,
             "ticks": ""
            },
            "colorscale": [
             [
              0,
              "#0d0887"
             ],
             [
              0.1111111111111111,
              "#46039f"
             ],
             [
              0.2222222222222222,
              "#7201a8"
             ],
             [
              0.3333333333333333,
              "#9c179e"
             ],
             [
              0.4444444444444444,
              "#bd3786"
             ],
             [
              0.5555555555555556,
              "#d8576b"
             ],
             [
              0.6666666666666666,
              "#ed7953"
             ],
             [
              0.7777777777777778,
              "#fb9f3a"
             ],
             [
              0.8888888888888888,
              "#fdca26"
             ],
             [
              1,
              "#f0f921"
             ]
            ],
            "type": "heatmapgl"
           }
          ],
          "histogram": [
           {
            "marker": {
             "pattern": {
              "fillmode": "overlay",
              "size": 10,
              "solidity": 0.2
             }
            },
            "type": "histogram"
           }
          ],
          "histogram2d": [
           {
            "colorbar": {
             "outlinewidth": 0,
             "ticks": ""
            },
            "colorscale": [
             [
              0,
              "#0d0887"
             ],
             [
              0.1111111111111111,
              "#46039f"
             ],
             [
              0.2222222222222222,
              "#7201a8"
             ],
             [
              0.3333333333333333,
              "#9c179e"
             ],
             [
              0.4444444444444444,
              "#bd3786"
             ],
             [
              0.5555555555555556,
              "#d8576b"
             ],
             [
              0.6666666666666666,
              "#ed7953"
             ],
             [
              0.7777777777777778,
              "#fb9f3a"
             ],
             [
              0.8888888888888888,
              "#fdca26"
             ],
             [
              1,
              "#f0f921"
             ]
            ],
            "type": "histogram2d"
           }
          ],
          "histogram2dcontour": [
           {
            "colorbar": {
             "outlinewidth": 0,
             "ticks": ""
            },
            "colorscale": [
             [
              0,
              "#0d0887"
             ],
             [
              0.1111111111111111,
              "#46039f"
             ],
             [
              0.2222222222222222,
              "#7201a8"
             ],
             [
              0.3333333333333333,
              "#9c179e"
             ],
             [
              0.4444444444444444,
              "#bd3786"
             ],
             [
              0.5555555555555556,
              "#d8576b"
             ],
             [
              0.6666666666666666,
              "#ed7953"
             ],
             [
              0.7777777777777778,
              "#fb9f3a"
             ],
             [
              0.8888888888888888,
              "#fdca26"
             ],
             [
              1,
              "#f0f921"
             ]
            ],
            "type": "histogram2dcontour"
           }
          ],
          "mesh3d": [
           {
            "colorbar": {
             "outlinewidth": 0,
             "ticks": ""
            },
            "type": "mesh3d"
           }
          ],
          "parcoords": [
           {
            "line": {
             "colorbar": {
              "outlinewidth": 0,
              "ticks": ""
             }
            },
            "type": "parcoords"
           }
          ],
          "pie": [
           {
            "automargin": true,
            "type": "pie"
           }
          ],
          "scatter": [
           {
            "fillpattern": {
             "fillmode": "overlay",
             "size": 10,
             "solidity": 0.2
            },
            "type": "scatter"
           }
          ],
          "scatter3d": [
           {
            "line": {
             "colorbar": {
              "outlinewidth": 0,
              "ticks": ""
             }
            },
            "marker": {
             "colorbar": {
              "outlinewidth": 0,
              "ticks": ""
             }
            },
            "type": "scatter3d"
           }
          ],
          "scattercarpet": [
           {
            "marker": {
             "colorbar": {
              "outlinewidth": 0,
              "ticks": ""
             }
            },
            "type": "scattercarpet"
           }
          ],
          "scattergeo": [
           {
            "marker": {
             "colorbar": {
              "outlinewidth": 0,
              "ticks": ""
             }
            },
            "type": "scattergeo"
           }
          ],
          "scattergl": [
           {
            "marker": {
             "colorbar": {
              "outlinewidth": 0,
              "ticks": ""
             }
            },
            "type": "scattergl"
           }
          ],
          "scattermapbox": [
           {
            "marker": {
             "colorbar": {
              "outlinewidth": 0,
              "ticks": ""
             }
            },
            "type": "scattermapbox"
           }
          ],
          "scatterpolar": [
           {
            "marker": {
             "colorbar": {
              "outlinewidth": 0,
              "ticks": ""
             }
            },
            "type": "scatterpolar"
           }
          ],
          "scatterpolargl": [
           {
            "marker": {
             "colorbar": {
              "outlinewidth": 0,
              "ticks": ""
             }
            },
            "type": "scatterpolargl"
           }
          ],
          "scatterternary": [
           {
            "marker": {
             "colorbar": {
              "outlinewidth": 0,
              "ticks": ""
             }
            },
            "type": "scatterternary"
           }
          ],
          "surface": [
           {
            "colorbar": {
             "outlinewidth": 0,
             "ticks": ""
            },
            "colorscale": [
             [
              0,
              "#0d0887"
             ],
             [
              0.1111111111111111,
              "#46039f"
             ],
             [
              0.2222222222222222,
              "#7201a8"
             ],
             [
              0.3333333333333333,
              "#9c179e"
             ],
             [
              0.4444444444444444,
              "#bd3786"
             ],
             [
              0.5555555555555556,
              "#d8576b"
             ],
             [
              0.6666666666666666,
              "#ed7953"
             ],
             [
              0.7777777777777778,
              "#fb9f3a"
             ],
             [
              0.8888888888888888,
              "#fdca26"
             ],
             [
              1,
              "#f0f921"
             ]
            ],
            "type": "surface"
           }
          ],
          "table": [
           {
            "cells": {
             "fill": {
              "color": "#EBF0F8"
             },
             "line": {
              "color": "white"
             }
            },
            "header": {
             "fill": {
              "color": "#C8D4E3"
             },
             "line": {
              "color": "white"
             }
            },
            "type": "table"
           }
          ]
         },
         "layout": {
          "annotationdefaults": {
           "arrowcolor": "#2a3f5f",
           "arrowhead": 0,
           "arrowwidth": 1
          },
          "autotypenumbers": "strict",
          "coloraxis": {
           "colorbar": {
            "outlinewidth": 0,
            "ticks": ""
           }
          },
          "colorscale": {
           "diverging": [
            [
             0,
             "#8e0152"
            ],
            [
             0.1,
             "#c51b7d"
            ],
            [
             0.2,
             "#de77ae"
            ],
            [
             0.3,
             "#f1b6da"
            ],
            [
             0.4,
             "#fde0ef"
            ],
            [
             0.5,
             "#f7f7f7"
            ],
            [
             0.6,
             "#e6f5d0"
            ],
            [
             0.7,
             "#b8e186"
            ],
            [
             0.8,
             "#7fbc41"
            ],
            [
             0.9,
             "#4d9221"
            ],
            [
             1,
             "#276419"
            ]
           ],
           "sequential": [
            [
             0,
             "#0d0887"
            ],
            [
             0.1111111111111111,
             "#46039f"
            ],
            [
             0.2222222222222222,
             "#7201a8"
            ],
            [
             0.3333333333333333,
             "#9c179e"
            ],
            [
             0.4444444444444444,
             "#bd3786"
            ],
            [
             0.5555555555555556,
             "#d8576b"
            ],
            [
             0.6666666666666666,
             "#ed7953"
            ],
            [
             0.7777777777777778,
             "#fb9f3a"
            ],
            [
             0.8888888888888888,
             "#fdca26"
            ],
            [
             1,
             "#f0f921"
            ]
           ],
           "sequentialminus": [
            [
             0,
             "#0d0887"
            ],
            [
             0.1111111111111111,
             "#46039f"
            ],
            [
             0.2222222222222222,
             "#7201a8"
            ],
            [
             0.3333333333333333,
             "#9c179e"
            ],
            [
             0.4444444444444444,
             "#bd3786"
            ],
            [
             0.5555555555555556,
             "#d8576b"
            ],
            [
             0.6666666666666666,
             "#ed7953"
            ],
            [
             0.7777777777777778,
             "#fb9f3a"
            ],
            [
             0.8888888888888888,
             "#fdca26"
            ],
            [
             1,
             "#f0f921"
            ]
           ]
          },
          "colorway": [
           "#636efa",
           "#EF553B",
           "#00cc96",
           "#ab63fa",
           "#FFA15A",
           "#19d3f3",
           "#FF6692",
           "#B6E880",
           "#FF97FF",
           "#FECB52"
          ],
          "font": {
           "color": "#2a3f5f"
          },
          "geo": {
           "bgcolor": "white",
           "lakecolor": "white",
           "landcolor": "white",
           "showlakes": true,
           "showland": true,
           "subunitcolor": "#C8D4E3"
          },
          "hoverlabel": {
           "align": "left"
          },
          "hovermode": "closest",
          "mapbox": {
           "style": "light"
          },
          "paper_bgcolor": "white",
          "plot_bgcolor": "white",
          "polar": {
           "angularaxis": {
            "gridcolor": "#EBF0F8",
            "linecolor": "#EBF0F8",
            "ticks": ""
           },
           "bgcolor": "white",
           "radialaxis": {
            "gridcolor": "#EBF0F8",
            "linecolor": "#EBF0F8",
            "ticks": ""
           }
          },
          "scene": {
           "xaxis": {
            "backgroundcolor": "white",
            "gridcolor": "#DFE8F3",
            "gridwidth": 2,
            "linecolor": "#EBF0F8",
            "showbackground": true,
            "ticks": "",
            "zerolinecolor": "#EBF0F8"
           },
           "yaxis": {
            "backgroundcolor": "white",
            "gridcolor": "#DFE8F3",
            "gridwidth": 2,
            "linecolor": "#EBF0F8",
            "showbackground": true,
            "ticks": "",
            "zerolinecolor": "#EBF0F8"
           },
           "zaxis": {
            "backgroundcolor": "white",
            "gridcolor": "#DFE8F3",
            "gridwidth": 2,
            "linecolor": "#EBF0F8",
            "showbackground": true,
            "ticks": "",
            "zerolinecolor": "#EBF0F8"
           }
          },
          "shapedefaults": {
           "line": {
            "color": "#2a3f5f"
           }
          },
          "ternary": {
           "aaxis": {
            "gridcolor": "#DFE8F3",
            "linecolor": "#A2B1C6",
            "ticks": ""
           },
           "baxis": {
            "gridcolor": "#DFE8F3",
            "linecolor": "#A2B1C6",
            "ticks": ""
           },
           "bgcolor": "white",
           "caxis": {
            "gridcolor": "#DFE8F3",
            "linecolor": "#A2B1C6",
            "ticks": ""
           }
          },
          "title": {
           "x": 0.05
          },
          "xaxis": {
           "automargin": true,
           "gridcolor": "#EBF0F8",
           "linecolor": "#EBF0F8",
           "ticks": "",
           "title": {
            "standoff": 15
           },
           "zerolinecolor": "#EBF0F8",
           "zerolinewidth": 2
          },
          "yaxis": {
           "automargin": true,
           "gridcolor": "#EBF0F8",
           "linecolor": "#EBF0F8",
           "ticks": "",
           "title": {
            "standoff": 15
           },
           "zerolinecolor": "#EBF0F8",
           "zerolinewidth": 2
          }
         }
        },
        "width": 600
       }
      }
     },
     "metadata": {},
     "output_type": "display_data"
    }
   ],
   "source": [
    "\n",
    "x = np.arange(-2, 2, 0.01)\n",
    "\n",
    "def f(x): \n",
    "    return (x+2)*(x-1.5)*(x+0.75)\n",
    "y = f(x)\n",
    "\n",
    "def f_foc(x): \n",
    "    return 3*x**2 + 2.5*x - 2.625\n",
    "y_foc = f_foc(x)\n",
    "\n",
    "def f_soc(x): \n",
    "    return 6*x + 2.5\n",
    "y_soc = f_soc(x)\n",
    "\n",
    "\n",
    "# find the values for x where f'(x) = 0 and f''(x) = 0\n",
    "df = pd.DataFrame({'x':x, 'f_base':y, \"f_foc\":y_foc, \"f_soc\":y_soc})\n",
    "\n",
    "# select the two rows where f'(x) switches sign\n",
    "foc_prev_sign_neg = (df['f_foc'] >=0 ) & (df['f_foc'].shift(-1) <= 0) \n",
    "foc_prev_sign_pos = (df['f_foc'] <= 0 ) & (df['f_foc'].shift(-1) >= 0)\n",
    "print(f'range for x where FOC = 0')\n",
    "print(df.loc[foc_prev_sign_neg | foc_prev_sign_neg.shift(1) | foc_prev_sign_pos | foc_prev_sign_pos.shift(1)])\n",
    "\n",
    "# select the two rows where f''(x) switches sign\n",
    "soc_prev_sign_neg = (df['f_soc'] >=0 ) & (df['f_soc'].shift(-1) <= 0)\n",
    "soc_prev_sign_pos = (df['f_soc'] <= 0 ) & (df['f_soc'].shift(-1) >= 0)\n",
    "print(f'\\n\\nrange for x where SOC = 0, ')\n",
    "print(df.loc[soc_prev_sign_neg | soc_prev_sign_neg.shift(1) | soc_prev_sign_pos | soc_prev_sign_pos.shift(1)])\n",
    "\n",
    "# visualize function\n",
    "fig = go.Figure()\n",
    "fig.add_trace(go.Scatter(x=x, y=y, mode='lines', name='f(x)'))\n",
    "fig.add_trace(go.Scatter(x=x, y=y_foc, mode='lines', name=\"f'(x)\"))\n",
    "fig.add_trace(go.Scatter(x=x, y=y_soc, mode='lines', name=\"f''(x)\"))\n",
    "\n",
    "fig.update_layout(width=600,height=600, template = 'plotly_white')\n",
    "fig.show()\n",
    "\n"
   ]
  },
  {
   "cell_type": "markdown",
   "id": "7c231a78",
   "metadata": {},
   "source": [
    "## Introduction Numeric Modelling"
   ]
  },
  {
   "cell_type": "markdown",
   "id": "dd597204",
   "metadata": {},
   "source": [
    "### 2 Optimal Depletion Problem\n",
    "Let's consider a cobalt mine \"RareMin\". The mine operator wants to maximize the net benefits by extracting $q_t$ units of cobalt from the total resource availability of $R_0$ units in the mine over $T$ years ($T = 0, ...,t,... T$), where $T$ is the last year with a positive extraction. The benefit function is given as $\\pi_t$ and discount rate as $r$. Assume that all costs of extraction are already included in $\\pi$ and any reserves at the end of the period will have a value of zero. \n",
    "\\begin{align*}\n",
    "    \\pi_t = ln(1+q_t); \\quad  R_t - q_{t} = R_{t+1}; \\quad \\sum_0^{T} q_t = R_0; \\quad \\rho^t = \\frac{1}{(1+r)^t}\n",
    "\\end{align*}\n"
   ]
  },
  {
   "cell_type": "markdown",
   "id": "044d504c",
   "metadata": {},
   "source": [
    "**2a)**\\\n",
    " Before we dive into how we can solve this question, first take a moment to analyze the different aspects of the problem. How are the individual components defined and what's their range? Use the table below to define all the optimization problem's components.\n",
    "\n",
    "| **Description**        | **Variable**   | **Range**                  |\n",
    "|------------------------|----------------|----------------------------|\n",
    "| Time Indicator / Set   |                |                            |\n",
    "| Parameter              |                |                            |\n",
    "| Decision variable      |                |                            |\n",
    "| State variable         |                |                            |\n",
    "|-                       |-               |-                            |\n",
    "| Objective function     |                |                            |\n",
    "| Constraints            |                |                            |\n",
    "\n",
    "\n"
   ]
  },
  {
   "cell_type": "markdown",
   "id": "883c968f",
   "metadata": {},
   "source": [
    "\n",
    "| **Description**        | **Variable**   | **Range**                  |\n",
    "|------------------------|----------------|----------------------------|\n",
    "| Time Indicator / Set   | $t$                  | $[0, ..., T]$                     |\n",
    "| Parameter              | $r / \\rho$           | (constant, $r > -1$)              |\n",
    "| Decision variable      | $q_t$                | $0 \\leq q_t \\leq R_t \\leq R_0$    |\n",
    "| State variable         | $R_t$                | $0 \\leq R_t \\leq R_0$             |\n",
    "|                        | $\\pi_t$              | (non-neg., $0 \\leq q_t$)          |\n",
    "| -                      | -                    | -                                 |\n",
    "| Objective function     | $\\sum_t^T \\pi_t$     | (non-neg., $0 \\leq q_t$)          |\n",
    "| Constraints            | $\\sum_t^T q_t = / \\leq R_0$ | -                                 |\n"
   ]
  },
  {
   "cell_type": "markdown",
   "id": "62d3ca40",
   "metadata": {},
   "source": [
    "**2b)**\\\n",
    "Now, build an optimization model using [https://scipy.org/](https://scipy.org/) to find the optimal depletion schedule for $q_t$ over $T = 10$ years, with $r = 5\\%$ and $R_0 = 100$. Start by\n",
    "- First defining the set and parameters, \n",
    "- Next, use a function to define state variables\n",
    "- Define the objective function (as it's own function), the array for the decision variable(s) and the decison variable's bounds. \n",
    "- Set the constraints of the model (using functions) \n",
    "- Run the optimization model and extract the results\n",
    "\n",
    "What is the sum of all extracted material $\\sum(q_t)$ and what is the net present value of the profit over the entire extraction period $\\sum_{t=0}^{T} \\pi_t  \\rho_t$?"
   ]
  },
  {
   "cell_type": "code",
   "execution_count": 5,
   "id": "2318550e",
   "metadata": {},
   "outputs": [
    {
     "name": "stdout",
     "output_type": "stream",
     "text": [
      "     t      q_opt       R_opt    profit  NPV_profit\n",
      "0    0  11.704474  100.000000  2.541954    2.541954\n",
      "1    1  11.113133   88.295526  2.494290    2.375515\n",
      "2    2  10.546396   77.182393  2.446373    2.218933\n",
      "3    3  10.003354   66.635997  2.398200    2.071655\n",
      "4    4   9.483131   56.632643  2.349767    1.933159\n",
      "5    5   8.984901   47.149512  2.301074    1.802952\n",
      "6    6   8.507865   38.164611  2.252119    1.680566\n",
      "7    7   8.051178   29.656746  2.202895    1.565556\n",
      "8    8   7.614081   21.605568  2.153398    1.457505\n",
      "9    9   7.195828   13.991487  2.103625    1.356016\n",
      "10  10   6.795659    6.795659  2.053567    1.260712\n",
      "\n",
      "sum: q=100.00, \t profit=25.30 \t NPV_profit=20.26\n"
     ]
    }
   ],
   "source": [
    "# Sets & Parameters --------------------------------\n",
    "T = 10      # indicator, how many periods\n",
    "r = 0.05    # parameter, constant over time\n",
    "R0 = 100    # state variabel, initial value \n",
    "\n",
    "# defining an array of discount factors for the entire set of periods\n",
    "rho = 1/(1+r)**np.arange(T+1)\n",
    "# rho2 = np.array([(1/(1+r))**t for t in range(T+1)]), # various ways to define the same array\n",
    "\n",
    "# State Variables -----------------------------------\n",
    "def f_R(i_q):\n",
    "    R = np.zeros(T+1)\n",
    "    R[0] = R0\n",
    "    for t in range(1, T+1):\n",
    "        R[t] = R[t-1] - i_q[t-1]\n",
    "    return R\n",
    "\n",
    "# Objective Function -------------------------------\n",
    "# define the objective function as its own function\n",
    "def f_obj(i_q):\n",
    "    obj_value = sum([rho[t]* np.log(1+i_q[t]) for t in range(T+1)])\n",
    "    return -1* obj_value\n",
    "\n",
    "# Decision Variables -------------------------------\n",
    "# define an array of values for the decision variable and its bounds\n",
    "q = np.full(T+1, 1)\n",
    "bnds = [(0, R0) for t in range(T+1)]\n",
    "\n",
    "# Constraints --------------------------------------\n",
    "# define the constraints of the optimization problem, again as a function itself for every constraint\n",
    "# hint: the constraints should return a value that must either be zero or not zero, dependent on the constraint definition\n",
    "def c_total_extr(i_q):\n",
    "    return R0 - sum([i_q[t] for t in range(T+1)])\n",
    "\n",
    "\n",
    "# here you now define if \n",
    "#   > a constraint function must be equal to zero ('eq') \n",
    "#   > or a constraint should be greater or equal to zero ('ineq')\n",
    "constr = [\n",
    "    {'type': 'eq', 'fun': c_total_extr},\n",
    "]\n",
    "\n",
    "# Run the Optimization -----------------------------\n",
    "results = opt.minimize(f_obj, q, bounds=bnds, constraints=constr,)\n",
    "\n",
    "# Export results and derive other variables (from decision variable) -----------------------------\n",
    "q_opt = results.x\n",
    "R_opt = f_R(q_opt)\n",
    "\n",
    "df = pd.DataFrame({\n",
    "    't': range(T+1),\n",
    "    'q_opt': q_opt,\n",
    "    'R_opt': R_opt\n",
    "})\n",
    "\n",
    "df['profit'] = df.apply(lambda row: np.log(1+row['q_opt']) , axis=1)\n",
    "df['NPV_profit'] = df['profit'] * rho\n",
    "print(df)\n",
    "print(f'\\nsum: q={sum(df[\"q_opt\"]):.2f}, \\t profit={sum(df[\"profit\"]):.2f} \\t NPV_profit={sum(df[\"NPV_profit\"]):.2f}')\n",
    "\n"
   ]
  },
  {
   "cell_type": "markdown",
   "id": "85b1f763",
   "metadata": {},
   "source": [
    "**2c)**\\\n",
    "Now imagine that in each period, the mine operator can only extract $q_t^{max} = 8$. How can you adjust your model to satisfy this requirement? How did the extraction path change? Are all constraint met?"
   ]
  },
  {
   "cell_type": "code",
   "execution_count": 6,
   "id": "ac951b63",
   "metadata": {},
   "outputs": [
    {
     "name": "stdout",
     "output_type": "stream",
     "text": [
      "     t  q_opt  R_opt    profit  NPV_profit\n",
      "0    0    8.0  100.0  2.197225    2.197225\n",
      "1    1    8.0   92.0  2.197225    2.092595\n",
      "2    2    8.0   84.0  2.197225    1.992947\n",
      "3    3    8.0   76.0  2.197225    1.898045\n",
      "4    4    8.0   68.0  2.197225    1.807662\n",
      "5    5    8.0   60.0  2.197225    1.721583\n",
      "6    6    8.0   52.0  2.197225    1.639603\n",
      "7    7    8.0   44.0  2.197225    1.561526\n",
      "8    8    8.0   36.0  2.197225    1.487168\n",
      "9    9    8.0   28.0  2.197225    1.416351\n",
      "10  10    8.0   20.0  2.197225    1.348905\n",
      "\n",
      "sum: q=88.00, \t profit=24.17 \t NPV_profit=19.16\n"
     ]
    }
   ],
   "source": [
    "# Sets & Parameters --------------------------------\n",
    "T = 10      # indicator, how many periods\n",
    "r = 0.05    # parameter, constant over time\n",
    "R0 = 100    # state variabel, initial value \n",
    "\n",
    "# defining an array of discount factors for the entire set of periods\n",
    "rho = 1/(1+r)**np.arange(T+1)\n",
    "\n",
    "# State Variables -----------------------------------\n",
    "def f_R(i_q):\n",
    "    R = np.zeros(T+1)\n",
    "    R[0] = R0\n",
    "    for t in range(1, T+1):\n",
    "        R[t] = R[t-1] - i_q[t-1]\n",
    "    return R\n",
    "\n",
    "# Objective Function -------------------------------\n",
    "def f_obj(i_q):\n",
    "    obj_value = sum([rho[t]* np.log(1+i_q[t]) for t in range(T+1)])\n",
    "    return -1* obj_value\n",
    "\n",
    "# Decision Variables -------------------------------\n",
    "q = np.full(T+1, 1)\n",
    "bnds = [(0, 8) for t in range(T+1)]  # <-----------Changed upper bound to 8\n",
    "\n",
    "# Constraints --------------------------------------\n",
    "def c_total_extr(i_q):\n",
    "    return R0 - sum([i_q[t] for t in range(T+1)])\n",
    "\n",
    "\n",
    "\n",
    "constr = [\n",
    "    {'type': 'ineq', 'fun': c_total_extr},\n",
    "]\n",
    "\n",
    "# Run the Optimization -----------------------------\n",
    "results = opt.minimize(f_obj, q, bounds=bnds, constraints=constr, )\n",
    "\n",
    "# Export results and derive other variables (from decision variable) -----------------------------\n",
    "q_opt = results.x\n",
    "R_opt = f_R(q_opt)\n",
    "\n",
    "df = pd.DataFrame({\n",
    "    't': range(T+1),\n",
    "    'q_opt': q_opt,\n",
    "    'R_opt': R_opt\n",
    "})\n",
    "\n",
    "df['profit'] = df.apply(lambda row: np.log(1+row['q_opt']) , axis=1)\n",
    "df['NPV_profit'] = df['profit'] * rho\n",
    "print(df)\n",
    "print(f'\\nsum: q={sum(df[\"q_opt\"]):.2f}, \\t profit={sum(df[\"profit\"]):.2f} \\t NPV_profit={sum(df[\"NPV_profit\"]):.2f}')\n"
   ]
  },
  {
   "cell_type": "markdown",
   "id": "33759809",
   "metadata": {},
   "source": [
    "**2d)**\\\n",
    "The local government asks the mine operator to choose a extraction schedule that after $T=10$ years, there are still 27 units of cobalt left in the mine (with no annual extraction limit from before). How can you adjust your model to the requirements?"
   ]
  },
  {
   "cell_type": "code",
   "execution_count": 9,
   "id": "e0dbd74b",
   "metadata": {},
   "outputs": [
    {
     "name": "stdout",
     "output_type": "stream",
     "text": [
      "     t     q_opt       R_opt    profit  NPV_profit\n",
      "0    0  8.606685  100.000000  2.262459    2.262459\n",
      "1    1  8.163519   91.393315  2.215230    2.109743\n",
      "2    2  7.737821   83.229796  2.167661    1.966132\n",
      "3    3  7.329041   75.491975  2.119748    1.831118\n",
      "4    4  6.936616   68.162933  2.071487    1.704218\n",
      "5    5  6.559985   61.226317  2.022869    1.584971\n",
      "6    6  6.198604   54.666332  1.973887    1.472945\n",
      "7    7  5.851971   48.467729  1.924536    1.367732\n",
      "8    8  5.519559   42.615757  1.874807    1.268943\n",
      "9    9  5.200846   37.096198  1.824686    1.176209\n",
      "10  10  4.895352   31.895352  1.774164    1.089183\n",
      "\n",
      "sum: q=73.00, \t profit=22.23 \t NPV_profit=17.83\n"
     ]
    }
   ],
   "source": [
    "# Sets & Parameters --------------------------------\n",
    "T = 10      # indicator, how many periods\n",
    "r = 0.05    # parameter, constant over time\n",
    "R0 = 100    # state variabel, initial value \n",
    "RT = 27     # state variabel, remains after T periods\n",
    "\n",
    "# defining an array of discount factors for the entire set of periods\n",
    "rho = 1/(1+r)**np.arange(T+1)\n",
    "\n",
    "# State Variables -----------------------------------\n",
    "def f_R(i_q):\n",
    "    R = np.zeros(T+1)\n",
    "    R[0] = R0\n",
    "    for t in range(1, T+1):\n",
    "        R[t] = R[t-1] - i_q[t-1]\n",
    "    return R\n",
    "\n",
    "# Objective Function -------------------------------\n",
    "def f_obj(i_q):\n",
    "    obj_value = sum([rho[t]* np.log(1+i_q[t]) for t in range(T+1)])\n",
    "    return -1* obj_value\n",
    "\n",
    "# Decision Variables -------------------------------\n",
    "q = np.full(T+1, 1)\n",
    "bnds = [(0, R0) for t in range(T+1)]\n",
    "\n",
    "# Constraints --------------------------------------\n",
    "def c_total_extr(i_q):\n",
    "    return R0 - sum([i_q[t] for t in range(T+1)]) - RT\n",
    "\n",
    "\n",
    "constr = [\n",
    "    {'type': 'eq', 'fun': c_total_extr},\n",
    "]\n",
    "\n",
    "# Run the Optimization -----------------------------\n",
    "results = opt.minimize(f_obj, q, bounds=bnds, constraints=constr, )\n",
    "\n",
    "# Export results and derive other variables (from decision variable) -----------------------------\n",
    "q_opt = results.x\n",
    "R_opt = f_R(q_opt)\n",
    "\n",
    "df = pd.DataFrame({\n",
    "    't': range(T+1),\n",
    "    'q_opt': q_opt,\n",
    "    'R_opt': R_opt\n",
    "})\n",
    "\n",
    "df['profit'] = df.apply(lambda row: np.log(1+row['q_opt']) , axis=1)\n",
    "df['NPV_profit'] = df['profit'] * rho\n",
    "print(df)\n",
    "print(f'\\nsum: q={sum(df[\"q_opt\"]):.2f}, \\t profit={sum(df[\"profit\"]):.2f} \\t NPV_profit={sum(df[\"NPV_profit\"]):.2f}')\n"
   ]
  },
  {
   "cell_type": "markdown",
   "id": "1cafdf34",
   "metadata": {},
   "source": [
    "**2e)**\\\n",
    "A colleague of yours has also been working on the same project came up with an identical model, but added an additional constraint, making sure the quantity of extraction $q_t$ does not exceed the total amount of available reserves $R_0$. \n",
    "```\n",
    "def c_max_extr_pperiod(i_q):\n",
    "    R = f_R(i_q)\n",
    "    return R - i_q\n",
    "```\n",
    "\n",
    "You would assume this constraint is non-binding anyway given your model setup and adding it to the model will not change the extraction schedule for $q_t$. Is that correct?"
   ]
  },
  {
   "cell_type": "code",
   "execution_count": 11,
   "id": "17b647d5",
   "metadata": {},
   "outputs": [
    {
     "name": "stdout",
     "output_type": "stream",
     "text": [
      "     t     q_opt       R_opt    profit  NPV_profit\n",
      "0    0  9.981119  100.000000  2.396177    2.396177\n",
      "1    1  9.779258   90.018881  2.377624    2.264404\n",
      "2    2  9.585951   80.239624  2.359528    2.140161\n",
      "3    3  9.400888   70.653673  2.341891    2.023014\n",
      "4    4  9.223751   61.252785  2.324714    1.912548\n",
      "5    5  9.054234   52.029034  2.307994    1.808374\n",
      "6    6  8.892032   42.974800  2.291730    1.710124\n",
      "7    7  8.736869   34.082768  2.275920    1.617454\n",
      "8    8  8.588468   25.345898  2.260561    1.530037\n",
      "9    9  8.446552   16.757430  2.245650    1.447566\n",
      "10  10  8.310878    8.310878  2.231183    1.369753\n",
      "\n",
      "sum: q=100.00, \t profit=25.41 \t NPV_profit=20.22\n"
     ]
    }
   ],
   "source": [
    "# Sets & Parameters --------------------------------\n",
    "T = 10      # indicator, how many periods\n",
    "r = 0.05    # parameter, constant over time\n",
    "R0 = 100    # state variabel, initial value \n",
    "\n",
    "# defining an array of discount factors for the entire set of periods\n",
    "rho = 1/(1+r)**np.arange(T+1)\n",
    "\n",
    "# State Variables -----------------------------------\n",
    "def f_R(i_q):\n",
    "    R = np.zeros(T+1)\n",
    "    R[0] = R0\n",
    "    for t in range(1, T+1):\n",
    "        R[t] = R[t-1] - i_q[t-1]\n",
    "    return R\n",
    "\n",
    "# Objective Function -------------------------------\n",
    "def f_obj(i_q):\n",
    "    obj_value = sum([rho[t]* np.log(1+i_q[t]) for t in range(T+1)])\n",
    "    return -1* obj_value\n",
    "\n",
    "# Decision Variables -------------------------------\n",
    "q = np.full(T+1, 1)\n",
    "bnds = [(0, R0) for t in range(T+1)]\n",
    "\n",
    "# Constraints --------------------------------------\n",
    "def c_total_extr(i_q):\n",
    "    return R0 - sum([i_q[t] for t in range(T+1)])\n",
    "\n",
    "def c_max_extr_pperiod(i_q):\n",
    "    R = f_R(i_q)\n",
    "    return R - i_q\n",
    "\n",
    "constr = [\n",
    "    {'type': 'eq', 'fun': c_total_extr},\n",
    "    {'type': 'ineq', 'fun': c_max_extr_pperiod}\n",
    "]\n",
    "\n",
    "# Run the Optimization -----------------------------\n",
    "results = opt.minimize(f_obj, q, bounds=bnds, constraints=constr, )\n",
    "\n",
    "# Export results and derive other variables (from decision variable) -----------------------------\n",
    "q_opt = results.x\n",
    "R_opt = f_R(q_opt)\n",
    "\n",
    "df = pd.DataFrame({\n",
    "    't': range(T+1),\n",
    "    'q_opt': q_opt,\n",
    "    'R_opt': R_opt\n",
    "})\n",
    "\n",
    "df['profit'] = df.apply(lambda row: np.log(1+row['q_opt']) , axis=1)\n",
    "df['NPV_profit'] = df['profit'] * rho\n",
    "print(df)\n",
    "print(f'\\nsum: q={sum(df[\"q_opt\"]):.2f}, \\t profit={sum(df[\"profit\"]):.2f} \\t NPV_profit={sum(df[\"NPV_profit\"]):.2f}')\n"
   ]
  },
  {
   "cell_type": "markdown",
   "id": "e48f0578",
   "metadata": {},
   "source": [
    "### 3 Bond Example from Refreshing Optimization \n",
    "\n",
    "In the first part of the Exercise Refreshing Optimization, I introduced a example of a familiar bond calculation (at least for business and econ students). Remember this is the structure of the bond: nominal value $n$, coupon $c%$, interest rate $r$ and a maturity $T$. The present value is given as \n",
    "$$\n",
    "        PV = \\sum_{t=0}^{T-1} \\frac{c}{(1+r)^t} + \\frac{c+N}{(1+r)^T} \n",
    "$$\n"
   ]
  },
  {
   "cell_type": "markdown",
   "id": "41807754",
   "metadata": {},
   "source": [
    "**3a)**\\\n",
    "The bond with features $n = 20000, c = 3.25\\%, T = 10$ is priced at $PV = 18305.1$. Calculate the interest rate / yield for this bond. "
   ]
  },
  {
   "cell_type": "code",
   "execution_count": 20,
   "id": "e8844791",
   "metadata": {},
   "outputs": [
    {
     "name": "stdout",
     "output_type": "stream",
     "text": [
      "Optimal interest rate / yield: 4.58908%\n",
      "     t       cf       disc_cf\n",
      "0    0    650.0    650.000000\n",
      "1    1    650.0    621.479797\n",
      "2    2    650.0    594.210981\n",
      "3    3    650.0    568.138646\n",
      "4    4    650.0    543.210292\n",
      "5    5    650.0    519.375726\n",
      "6    6    650.0    496.586955\n",
      "7    7    650.0    474.798092\n",
      "8    8    650.0    453.965264\n",
      "9    9    650.0    434.046523\n",
      "10  10  20650.0  13184.286720\n",
      "\n",
      "sum: cf=27150.00, \t disc_cf=18540.10\n"
     ]
    }
   ],
   "source": [
    "# parameters \n",
    "n = 20000\n",
    "c = 0.0325\n",
    "T = 10\n",
    "PV = 18305.1\n",
    "\n",
    "\n",
    "# define the function evaluating the present value of the bond, dependent on the interest rate / yield\n",
    "def pv_bond(y):\n",
    "    pv_calc = sum([c*n/(1+y)**t for t in range(1,T+1)]) + ((c*n) + n )/(1+y)**T\n",
    "    return pv_calc\n",
    "\n",
    "# define objective function\n",
    "def f_obj(y):\n",
    "    return abs(pv_bond(y) - PV)\n",
    "\n",
    "# set decision variable and bounds\n",
    "y_start = 0\n",
    "bnds = [(0, 1)]\n",
    "\n",
    "# run optimization\n",
    "results = opt.minimize(f_obj, y_start, bounds=bnds)\n",
    "\n",
    "y_opt = results.x[0]\n",
    "\n",
    "# compute DF and disc CF\n",
    "cf_val = np.array([c*n for t in range(1,T+1)] + [c*n + n])\n",
    "npv_val = np.array([cf_val[t]/(1+y_opt)**t for t in range(T+1)])\n",
    "\n",
    "df = pd.DataFrame({\n",
    "    't': range(T+1),\n",
    "    'cf': cf_val,\n",
    "    'disc_cf': npv_val\n",
    "})\n",
    "print(f'Optimal interest rate / yield: {round(y_opt*100,5)}%')\n",
    "print(df)\n",
    "print(f'\\nsum: cf={sum(df[\"cf\"]):.2f}, \\t disc_cf={sum(df[\"disc_cf\"]):.2f}')"
   ]
  },
  {
   "cell_type": "markdown",
   "id": "95ff2638",
   "metadata": {},
   "source": [
    "### 4) Optimal Depletion Problem (using Pyomo)"
   ]
  },
  {
   "cell_type": "markdown",
   "id": "dd5e9817",
   "metadata": {},
   "source": [
    "So far, we have only used *scipiy.optimize* to run our small optimization models. However there are a large number of other packages and methods out there (also in Python) that you can use. Just to show you also another way, have a look at the solutions for the optimal depletion probelm for task 1, this time using [Pyomo](http://www.pyomo.org/). Here is a short [youtube-tutorial](https://www.youtube.com/watch?v=pxCogCylmKs) which uses Gurobi (a different solver engine). I suggest using ipopt as a solver in the exercise instead of gurobi. \n",
    "Especially in the beginning, Pyomo can appear more strucutred and following the definition of optimization components set at the very beginning (parameters, state variables, decision variables etc.). Before you start modelling, make sure you have\n",
    "- run the cell below (enabling ipopt as a solver).\n",
    "- installed pyomo as a package (maybe not necessary and package directly callable on GoogleColab)\n"
   ]
  },
  {
   "cell_type": "code",
   "execution_count": null,
   "id": "b0e0bd22",
   "metadata": {},
   "outputs": [
    {
     "name": "stderr",
     "output_type": "stream",
     "text": [
      "UsageError: Line magic function `%%capture` not found.\n"
     ]
    }
   ],
   "source": [
    "# ENABLE SOLVERS ON GOOGLE COLAB\n",
    "# > to be able to run the optimization problems on Google Colab, make sure you run this cell first. This enables the use of the ipopt solver, later applied by the pyomo package.\n",
    "%%capture\n",
    "import sys\n",
    "import os\n",
    "\n",
    "if 'google.colab' in sys.modules:\n",
    "    !pip install idaes-pse --pre\n",
    "    !idaes get-extensions --to ./bin \n",
    "    os.environ['PATH'] += ':bin'"
   ]
  },
  {
   "cell_type": "markdown",
   "id": "2a3e8ace",
   "metadata": {},
   "source": [
    "**4b)**\\\n",
    "Rebuild 2b) using pyomo"
   ]
  },
  {
   "cell_type": "code",
   "execution_count": 21,
   "id": "63b30e32",
   "metadata": {},
   "outputs": [
    {
     "name": "stdout",
     "output_type": "stream",
     "text": [
      "     t             q             R        profit    NPV_profit\n",
      "0    0  1.873403e+01  1.500000e+02  2.982345e+00  2.982345e+00\n",
      "1    1  1.779431e+01  1.312660e+02  2.933554e+00  2.793861e+00\n",
      "2    2  1.689935e+01  1.134717e+02  2.884764e+00  2.616566e+00\n",
      "3    3  1.604700e+01  9.657231e+01  2.835974e+00  2.449821e+00\n",
      "4    4  1.523524e+01  8.052531e+01  2.787184e+00  2.293023e+00\n",
      "5    5  1.446213e+01  6.529007e+01  2.738394e+00  2.145603e+00\n",
      "6    6  1.372584e+01  5.082795e+01  2.689604e+00  2.007024e+00\n",
      "7    7  1.302461e+01  3.710211e+01  2.640813e+00  1.876777e+00\n",
      "8    8  1.235677e+01  2.407750e+01  2.592023e+00  1.754383e+00\n",
      "9    9  1.172073e+01  1.172073e+01  2.543233e+00  1.639391e+00\n",
      "10  10  7.546266e-07  4.315797e-08  7.546263e-07  4.632751e-07\n",
      "\n",
      "sum: q=150.00, \t profit=27.63 \t NPV_profit=22.56\n"
     ]
    }
   ],
   "source": [
    "import pyomo.environ as pyo\n",
    "from pyomo.environ import *\n",
    "\n",
    "# Initial parameters ----------------------------------------------------\n",
    "r = 0.05\n",
    "R0 = 150\n",
    "\n",
    "# Create a model - the rest comes after\n",
    "model = ConcreteModel()\n",
    "\n",
    "# Define the SETs ----------------------------------------------------\n",
    "# the subscripts in your Lagrangian, here indicating the time steps\n",
    "model.t = RangeSet(0, 10)\n",
    "\n",
    "# Define the PARAMETERS ----------------------------------------------------\n",
    "# the parts of your optimization problem that change over time but in a CONSTANT manner\n",
    "model.rho_t = Param(model.t, initialize=lambda model, t: (1/(1+r))**t, within=NonNegativeReals)\n",
    "\n",
    "# Define the VARIABLES ----------------------------------------------------\n",
    "# your decision variables which you can alter to optimze \n",
    "model.q = Var(model.t, domain=NonNegativeReals)\n",
    "# the parts of your model which changes over time but in a NON-CONSTANT manner (different than in Excel)\n",
    "model.R = Var(model.t, domain=NonNegativeReals)\n",
    "\n",
    "# Define the CONSTRAINTS ----------------------------------------------------\n",
    "\n",
    "# first, the \"actual\" constraints\n",
    "def total_extraction_constraint(model):\n",
    "    return sum(model.q[t] for t in model.t) <= R0\n",
    "model.total_extraction_constraint = Constraint(rule=total_extraction_constraint)\n",
    "\n",
    "# second, the constraints for Variables that are not actively altered by you, but change in a non-constant manner\n",
    "def resource_constraint_rule(model, t):\n",
    "    if t == 0:\n",
    "        return model.R[t] == R0 \n",
    "    else:\n",
    "        return model.R[t] == model.R[t-1] - model.q[t-1]\n",
    "model.resource_constraint = Constraint(model.t, rule=resource_constraint_rule)\n",
    "\n",
    "\n",
    "# Define the OBJECTIVE FUNCTION ----------------------------------------------------\n",
    "def obj_expression(model):\n",
    "    return sum(model.rho_t[t]*log(1+model.q[t]) if t < 10 else 0  # this \"else 0\" statement is required as syntax by pyomo\n",
    "               for t in model.t)\n",
    "model.OBJ = Objective(rule=obj_expression, sense=maximize)\n",
    "\n",
    "# SOLVE the model ----------------------------------------------------\n",
    "solver = SolverFactory('ipopt')\n",
    "results = solver.solve(model)\n",
    "\n",
    "# report your extraction values from q such that you can compare them to the Excel model. still not nice to look at\n",
    "# print(model.q.get_values())\n",
    "\n",
    "# EXPORT more readable results ----------------------------------------------------\n",
    "# use a data frame to report the results in a more readable manner\n",
    "t_val = list(model.t)\n",
    "q_val = [model.q[t].value for t in t_val]\n",
    "R_val = [model.R[t].value for t in t_val]\n",
    "profit_val = [log(1+model.q[t].value) for t in t_val]\n",
    "NPV_profit_val = [model.rho_t[t]*log(1+model.q[t].value) for t in t_val]\n",
    "\n",
    "\n",
    "df = pd.DataFrame({'t': t_val, 'q': q_val, 'R': R_val, 'profit': profit_val, 'NPV_profit': NPV_profit_val})\n",
    "\n",
    "print(df)\n",
    "print(f'\\nsum: q={sum(df[\"q\"]):.2f}, \\t profit={sum(df[\"profit\"]):.2f} \\t NPV_profit={sum(df[\"NPV_profit\"]):.2f}')\n"
   ]
  },
  {
   "cell_type": "markdown",
   "id": "a7ff9c9d",
   "metadata": {},
   "source": [
    "**4c)**\\\n",
    "Rebuild 2c) using pyomo"
   ]
  },
  {
   "cell_type": "code",
   "execution_count": 22,
   "id": "d20d2806",
   "metadata": {},
   "outputs": [
    {
     "name": "stdout",
     "output_type": "stream",
     "text": [
      "     t         q           R    profit  NPV_profit\n",
      "0    0  8.000000  100.000000  2.197225    2.197225\n",
      "1    1  8.000000   92.000000  2.197225    2.092595\n",
      "2    2  8.000000   84.000000  2.197225    1.992947\n",
      "3    3  8.000000   76.000000  2.197225    1.898045\n",
      "4    4  8.000000   68.000000  2.197225    1.807662\n",
      "5    5  8.000000   60.000000  2.197225    1.721583\n",
      "6    6  8.000000   52.000000  2.197225    1.639603\n",
      "7    7  8.000000   44.000000  2.197225    1.561526\n",
      "8    8  8.000000   36.000000  2.197225    1.487168\n",
      "9    9  8.000000   28.000000  2.197225    1.416351\n",
      "10  10  1.298697   19.999999  0.832343    0.510986\n",
      "\n",
      "sum: q=81.30, \t profit=22.80 \t NPV_profit=18.33\n"
     ]
    }
   ],
   "source": [
    "import pyomo.environ as pyo\n",
    "from pyomo.environ import *\n",
    "\n",
    "# Initial parameters ----------------------------------------------------\n",
    "r = 0.05\n",
    "R0 = 100\n",
    "\n",
    "# Create a model - the rest comes after\n",
    "model = ConcreteModel()\n",
    "\n",
    "# Define the SETs ----------------------------------------------------\n",
    "# the subscripts in your Lagrangian, here indicating the time steps\n",
    "model.t = RangeSet(0, 10)\n",
    "\n",
    "# Define the PARAMETERS ----------------------------------------------------\n",
    "# the parts of your optimization problem that change over time but in a CONSTANT manner\n",
    "model.rho_t = Param(model.t, initialize=lambda model, t: (1/(1+r))**t, within=NonNegativeReals)\n",
    "\n",
    "# Define the VARIABLES ----------------------------------------------------\n",
    "# your decision variables which you can alter to optimze \n",
    "model.q = Var(model.t, domain=NonNegativeReals)\n",
    "# the parts of your model which changes over time but in a NON-CONSTANT manner (different than in Excel)\n",
    "model.R = Var(model.t, domain=NonNegativeReals)\n",
    "\n",
    "# Define the CONSTRAINTS ----------------------------------------------------\n",
    "\n",
    "# first, the \"actual\" constraints\n",
    "def total_extraction_constraint(model):\n",
    "    return sum(model.q[t] for t in model.t) <= R0\n",
    "model.total_extraction_constraint = Constraint(rule=total_extraction_constraint)\n",
    "\n",
    "# second, the constraints for Variables that are not actively altered by you, but change in a non-constant manner\n",
    "def resource_constraint_rule(model, t):\n",
    "    if t == 0:\n",
    "        return model.R[t] == R0 \n",
    "    else:\n",
    "        return model.R[t] == model.R[t-1] - model.q[t-1]\n",
    "model.resource_constraint = Constraint(model.t, rule=resource_constraint_rule)\n",
    "\n",
    "\n",
    "# ADDITIONAL specific constraint for this problem <-----------------------------------\n",
    "def max_q_capacity(model,t): \n",
    "    return model.q[t] <= 8\n",
    "model.max_q_capacity = Constraint(model.t, rule=max_q_capacity)\n",
    "\n",
    "\n",
    "# Define the OBJECTIVE FUNCTION ----------------------------------------------------\n",
    "def obj_expression(model):\n",
    "    return sum(model.rho_t[t]*log(1+model.q[t]) if t < 10 else 0  # this \"else 0\" statement is required as syntax by pyomo\n",
    "               for t in model.t)\n",
    "model.OBJ = Objective(rule=obj_expression, sense=maximize)\n",
    "\n",
    "# SOLVE the model ----------------------------------------------------\n",
    "solver = SolverFactory('ipopt')\n",
    "results = solver.solve(model)\n",
    "\n",
    "# report your extraction values from q such that you can compare them to the Excel model. still not nice to look at\n",
    "# print(model.q.get_values())\n",
    "\n",
    "# EXPORT more readable results ----------------------------------------------------\n",
    "# use a data frame to report the results in a more readable manner\n",
    "t_val = list(model.t)\n",
    "q_val = [model.q[t].value for t in t_val]\n",
    "R_val = [model.R[t].value for t in t_val]\n",
    "profit_val = [log(1+model.q[t].value) for t in t_val]\n",
    "NPV_profit_val = [model.rho_t[t]*log(1+model.q[t].value) for t in t_val]\n",
    "\n",
    "\n",
    "df = pd.DataFrame({'t': t_val, 'q': q_val, 'R': R_val, 'profit': profit_val, 'NPV_profit': NPV_profit_val})\n",
    "\n",
    "print(df)\n",
    "print(f'\\nsum: q={sum(df[\"q\"]):.2f}, \\t profit={sum(df[\"profit\"]):.2f} \\t NPV_profit={sum(df[\"NPV_profit\"]):.2f}')\n"
   ]
  },
  {
   "cell_type": "markdown",
   "id": "e0fd98d5",
   "metadata": {},
   "source": [
    "**4d)**\\\n",
    "Rebuild 2d) using pyomo"
   ]
  },
  {
   "cell_type": "code",
   "execution_count": 23,
   "id": "97e67709",
   "metadata": {},
   "outputs": [
    {
     "name": "stdout",
     "output_type": "stream",
     "text": [
      "     t             q           R        profit    NPV_profit\n",
      "0    0  9.237028e+00  100.000000  2.326011e+00  2.326011e+00\n",
      "1    1  8.749551e+00   90.762972  2.277221e+00  2.168782e+00\n",
      "2    2  8.285287e+00   82.013421  2.228431e+00  2.021253e+00\n",
      "3    3  7.843130e+00   73.728134  2.179641e+00  1.882856e+00\n",
      "4    4  7.422029e+00   65.885004  2.130851e+00  1.753056e+00\n",
      "5    5  7.020980e+00   58.462976  2.082061e+00  1.631349e+00\n",
      "6    6  6.639028e+00   51.441996  2.033270e+00  1.517258e+00\n",
      "7    7  6.275265e+00   44.802968  1.984480e+00  1.410333e+00\n",
      "8    8  5.928824e+00   38.527703  1.935690e+00  1.310151e+00\n",
      "9    9  5.598880e+00   32.598879  1.886900e+00  1.216313e+00\n",
      "10  10  1.565150e-08   26.999999  1.565150e-08  9.608664e-09\n",
      "\n",
      "sum: q=73.00, \t profit=21.06 \t NPV_profit=17.24\n"
     ]
    }
   ],
   "source": [
    "import pyomo.environ as pyo\n",
    "from pyomo.environ import *\n",
    "\n",
    "# Initial parameters ----------------------------------------------------\n",
    "r = 0.05\n",
    "R0 = 100\n",
    "RT = 27\n",
    "\n",
    "# Create a model - the rest comes after\n",
    "model = ConcreteModel()\n",
    "\n",
    "# Define the SETs ----------------------------------------------------\n",
    "# the subscripts in your Lagrangian, here indicating the time steps\n",
    "model.t = RangeSet(0, 10)\n",
    "\n",
    "# Define the PARAMETERS ----------------------------------------------------\n",
    "# the parts of your optimization problem that change over time but in a CONSTANT manner\n",
    "model.rho_t = Param(model.t, initialize=lambda model, t: (1/(1+r))**t, within=NonNegativeReals)\n",
    "\n",
    "# Define the VARIABLES ----------------------------------------------------\n",
    "# your decision variables which you can alter to optimze \n",
    "model.q = Var(model.t, domain=NonNegativeReals)\n",
    "# the parts of your model which changes over time but in a NON-CONSTANT manner (different than in Excel)\n",
    "model.R = Var(model.t, domain=NonNegativeReals)\n",
    "\n",
    "# Define the CONSTRAINTS ----------------------------------------------------\n",
    "\n",
    "# first, the \"actual\" constraints\n",
    "def total_extraction_constraint(model):\n",
    "    return sum(model.q[t] for t in model.t) <= R0 - RT\n",
    "model.total_extraction_constraint = Constraint(rule=total_extraction_constraint)\n",
    "\n",
    "# second, the constraints for Variables that are not actively altered by you, but change in a non-constant manner\n",
    "def resource_constraint_rule(model, t):\n",
    "    if t == 0:\n",
    "        return model.R[t] == R0 \n",
    "    else:\n",
    "        return model.R[t] == model.R[t-1] - model.q[t-1]\n",
    "model.resource_constraint = Constraint(model.t, rule=resource_constraint_rule)\n",
    "\n",
    "\n",
    "# Define the OBJECTIVE FUNCTION ----------------------------------------------------\n",
    "def obj_expression(model):\n",
    "    return sum(model.rho_t[t]*log(1+model.q[t]) if t < 10 else 0  # this \"else 0\" statement is required as syntax by pyomo\n",
    "               for t in model.t)\n",
    "model.OBJ = Objective(rule=obj_expression, sense=maximize)\n",
    "\n",
    "# SOLVE the model ----------------------------------------------------\n",
    "solver = SolverFactory('ipopt')\n",
    "results = solver.solve(model)\n",
    "\n",
    "# report your extraction values from q such that you can compare them to the Excel model. still not nice to look at\n",
    "# print(model.q.get_values())\n",
    "\n",
    "# EXPORT more readable results ----------------------------------------------------\n",
    "# use a data frame to report the results in a more readable manner\n",
    "t_val = list(model.t)\n",
    "q_val = [model.q[t].value for t in t_val]\n",
    "R_val = [model.R[t].value for t in t_val]\n",
    "profit_val = [log(1+model.q[t].value) for t in t_val]\n",
    "NPV_profit_val = [model.rho_t[t]*log(1+model.q[t].value) for t in t_val]\n",
    "\n",
    "\n",
    "df = pd.DataFrame({'t': t_val, 'q': q_val, 'R': R_val, 'profit': profit_val, 'NPV_profit': NPV_profit_val})\n",
    "\n",
    "print(df)\n",
    "print(f'\\nsum: q={sum(df[\"q\"]):.2f}, \\t profit={sum(df[\"profit\"]):.2f} \\t NPV_profit={sum(df[\"NPV_profit\"]):.2f}')\n"
   ]
  },
  {
   "cell_type": "markdown",
   "id": "d1040569",
   "metadata": {},
   "source": []
  }
 ],
 "metadata": {
  "kernelspec": {
   "display_name": ".venv_resecon_master",
   "language": "python",
   "name": "python3"
  },
  "language_info": {
   "codemirror_mode": {
    "name": "ipython",
    "version": 3
   },
   "file_extension": ".py",
   "mimetype": "text/x-python",
   "name": "python",
   "nbconvert_exporter": "python",
   "pygments_lexer": "ipython3",
   "version": "3.11.11"
  }
 },
 "nbformat": 4,
 "nbformat_minor": 5
}
